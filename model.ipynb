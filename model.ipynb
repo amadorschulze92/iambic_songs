{
 "cells": [
  {
   "cell_type": "code",
   "execution_count": 232,
   "metadata": {},
   "outputs": [],
   "source": [
    "import string\n",
    "import numpy as np\n",
    "import pandas as pd\n",
    "\n",
    "from sklearn.linear_model import LogisticRegression\n",
    "from sklearn.model_selection import cross_val_score\n",
    "from sklearn import metrics\n",
    "from patsy import dmatrices\n",
    "\n",
    "from sklearn.metrics import roc_curve, auc, classification_report\n",
    "from sklearn.model_selection import train_test_split\n",
    "from sklearn.preprocessing import label_binarize\n",
    "\n",
    "from scipy import interp\n",
    "from scipy.stats import chi2_contingency, chi2\n",
    "\n",
    "import seaborn as sns\n",
    "import matplotlib.pyplot as plt\n",
    "\n",
    "%matplotlib inline"
   ]
  },
  {
   "cell_type": "markdown",
   "metadata": {},
   "source": [
    "# Import data"
   ]
  },
  {
   "cell_type": "code",
   "execution_count": 179,
   "metadata": {},
   "outputs": [
    {
     "data": {
      "text/html": [
       "<div>\n",
       "<style scoped>\n",
       "    .dataframe tbody tr th:only-of-type {\n",
       "        vertical-align: middle;\n",
       "    }\n",
       "\n",
       "    .dataframe tbody tr th {\n",
       "        vertical-align: top;\n",
       "    }\n",
       "\n",
       "    .dataframe thead th {\n",
       "        text-align: right;\n",
       "    }\n",
       "</style>\n",
       "<table border=\"1\" class=\"dataframe\">\n",
       "  <thead>\n",
       "    <tr style=\"text-align: right;\">\n",
       "      <th></th>\n",
       "      <th>sonnet_index</th>\n",
       "      <th>syllables</th>\n",
       "      <th>s1</th>\n",
       "      <th>s2</th>\n",
       "      <th>s3</th>\n",
       "      <th>s4</th>\n",
       "      <th>s5</th>\n",
       "      <th>s6</th>\n",
       "      <th>s7</th>\n",
       "      <th>s8</th>\n",
       "      <th>s9</th>\n",
       "      <th>s10</th>\n",
       "      <th>s11</th>\n",
       "      <th>s12</th>\n",
       "      <th>word_list</th>\n",
       "      <th>sonnet_num</th>\n",
       "      <th>author</th>\n",
       "      <th>polarity</th>\n",
       "      <th>subjectivity</th>\n",
       "      <th>sonnet</th>\n",
       "    </tr>\n",
       "  </thead>\n",
       "  <tbody>\n",
       "    <tr>\n",
       "      <th>0</th>\n",
       "      <td>1</td>\n",
       "      <td>11</td>\n",
       "      <td>stress</td>\n",
       "      <td>stress</td>\n",
       "      <td>stress</td>\n",
       "      <td>stress</td>\n",
       "      <td>stress</td>\n",
       "      <td>unstress</td>\n",
       "      <td>stress</td>\n",
       "      <td>stress</td>\n",
       "      <td>stress</td>\n",
       "      <td>stress</td>\n",
       "      <td>unstress</td>\n",
       "      <td>missing</td>\n",
       "      <td>['And', 'I', 'was', 'right', 'there', 'beside'...</td>\n",
       "      <td>1</td>\n",
       "      <td>taylor_swift</td>\n",
       "      <td>0.285714</td>\n",
       "      <td>0.535714</td>\n",
       "      <td>0</td>\n",
       "    </tr>\n",
       "    <tr>\n",
       "      <th>1</th>\n",
       "      <td>22</td>\n",
       "      <td>11</td>\n",
       "      <td>stress</td>\n",
       "      <td>stress</td>\n",
       "      <td>stress</td>\n",
       "      <td>stress</td>\n",
       "      <td>stress</td>\n",
       "      <td>stress</td>\n",
       "      <td>stress</td>\n",
       "      <td>stress</td>\n",
       "      <td>unstress</td>\n",
       "      <td>stress</td>\n",
       "      <td>unstress</td>\n",
       "      <td>missing</td>\n",
       "      <td>['So', 'go', 'and', 'tell', 'your', 'friends',...</td>\n",
       "      <td>22</td>\n",
       "      <td>taylor_swift</td>\n",
       "      <td>0.000000</td>\n",
       "      <td>0.000000</td>\n",
       "      <td>0</td>\n",
       "    </tr>\n",
       "    <tr>\n",
       "      <th>2</th>\n",
       "      <td>26</td>\n",
       "      <td>11</td>\n",
       "      <td>stress</td>\n",
       "      <td>stress</td>\n",
       "      <td>stress</td>\n",
       "      <td>stress</td>\n",
       "      <td>unstress</td>\n",
       "      <td>stress</td>\n",
       "      <td>stress</td>\n",
       "      <td>unstress</td>\n",
       "      <td>stress</td>\n",
       "      <td>unstress</td>\n",
       "      <td>stress</td>\n",
       "      <td>missing</td>\n",
       "      <td>['And', 'if', 'you', 'come', 'around', 'saying...</td>\n",
       "      <td>26</td>\n",
       "      <td>taylor_swift</td>\n",
       "      <td>-0.500000</td>\n",
       "      <td>1.000000</td>\n",
       "      <td>0</td>\n",
       "    </tr>\n",
       "    <tr>\n",
       "      <th>3</th>\n",
       "      <td>35</td>\n",
       "      <td>11</td>\n",
       "      <td>stress</td>\n",
       "      <td>stress</td>\n",
       "      <td>stress</td>\n",
       "      <td>stress</td>\n",
       "      <td>stress</td>\n",
       "      <td>stress</td>\n",
       "      <td>stress</td>\n",
       "      <td>stress</td>\n",
       "      <td>unstress</td>\n",
       "      <td>unstress</td>\n",
       "      <td>stress</td>\n",
       "      <td>missing</td>\n",
       "      <td>['He', 'says', 'he', 'so', 'in', 'love', 'he',...</td>\n",
       "      <td>35</td>\n",
       "      <td>taylor_swift</td>\n",
       "      <td>0.250000</td>\n",
       "      <td>0.800000</td>\n",
       "      <td>0</td>\n",
       "    </tr>\n",
       "    <tr>\n",
       "      <th>4</th>\n",
       "      <td>46</td>\n",
       "      <td>11</td>\n",
       "      <td>stress</td>\n",
       "      <td>stress</td>\n",
       "      <td>stress</td>\n",
       "      <td>stress</td>\n",
       "      <td>unstress</td>\n",
       "      <td>stress</td>\n",
       "      <td>stress</td>\n",
       "      <td>stress</td>\n",
       "      <td>stress</td>\n",
       "      <td>stress</td>\n",
       "      <td>stress</td>\n",
       "      <td>missing</td>\n",
       "      <td>['So', 'I', 'drive', 'home', 'alone', 'as', 'I...</td>\n",
       "      <td>46</td>\n",
       "      <td>taylor_swift</td>\n",
       "      <td>0.000000</td>\n",
       "      <td>0.000000</td>\n",
       "      <td>0</td>\n",
       "    </tr>\n",
       "  </tbody>\n",
       "</table>\n",
       "</div>"
      ],
      "text/plain": [
       "   sonnet_index  syllables      s1      s2      s3      s4        s5  \\\n",
       "0             1         11  stress  stress  stress  stress    stress   \n",
       "1            22         11  stress  stress  stress  stress    stress   \n",
       "2            26         11  stress  stress  stress  stress  unstress   \n",
       "3            35         11  stress  stress  stress  stress    stress   \n",
       "4            46         11  stress  stress  stress  stress  unstress   \n",
       "\n",
       "         s6      s7        s8        s9       s10       s11      s12  \\\n",
       "0  unstress  stress    stress    stress    stress  unstress  missing   \n",
       "1    stress  stress    stress  unstress    stress  unstress  missing   \n",
       "2    stress  stress  unstress    stress  unstress    stress  missing   \n",
       "3    stress  stress    stress  unstress  unstress    stress  missing   \n",
       "4    stress  stress    stress    stress    stress    stress  missing   \n",
       "\n",
       "                                           word_list  sonnet_num  \\\n",
       "0  ['And', 'I', 'was', 'right', 'there', 'beside'...           1   \n",
       "1  ['So', 'go', 'and', 'tell', 'your', 'friends',...          22   \n",
       "2  ['And', 'if', 'you', 'come', 'around', 'saying...          26   \n",
       "3  ['He', 'says', 'he', 'so', 'in', 'love', 'he',...          35   \n",
       "4  ['So', 'I', 'drive', 'home', 'alone', 'as', 'I...          46   \n",
       "\n",
       "         author  polarity  subjectivity  sonnet  \n",
       "0  taylor_swift  0.285714      0.535714       0  \n",
       "1  taylor_swift  0.000000      0.000000       0  \n",
       "2  taylor_swift -0.500000      1.000000       0  \n",
       "3  taylor_swift  0.250000      0.800000       0  \n",
       "4  taylor_swift  0.000000      0.000000       0  "
      ]
     },
     "execution_count": 179,
     "metadata": {},
     "output_type": "execute_result"
    }
   ],
   "source": [
    "# Create Taylor Swift Dataframe\n",
    "taylor_df = pd.read_csv('./taylor_swift_IP.csv')\n",
    "taylor_df.columns = ['unnamed', 'sonnet_index', 'syllables', 's1', 's2', 's3',\n",
    "       's4', 's5', 's6', 's7', 's8', 's9', 's10', 's11', 's12',\n",
    "       'word_list', 'sonnet_num', 'author', 'polarity', 'subjectivity']\n",
    "\n",
    "taylor_df['sonnet'] = taylor_df.apply(lambda x: 0, axis=1)\n",
    "\n",
    "# unnecessary columns\n",
    "\n",
    "taylor_df = taylor_df.drop('unnamed', axis=1)\n",
    "\n",
    "taylor_df.head()"
   ]
  },
  {
   "cell_type": "code",
   "execution_count": 180,
   "metadata": {},
   "outputs": [
    {
     "name": "stdout",
     "output_type": "stream",
     "text": [
      "<class 'pandas.core.frame.DataFrame'>\n",
      "RangeIndex: 470 entries, 0 to 469\n",
      "Data columns (total 20 columns):\n",
      "sonnet_index    470 non-null int64\n",
      "syllables       470 non-null int64\n",
      "s1              470 non-null object\n",
      "s2              470 non-null object\n",
      "s3              470 non-null object\n",
      "s4              470 non-null object\n",
      "s5              470 non-null object\n",
      "s6              470 non-null object\n",
      "s7              470 non-null object\n",
      "s8              470 non-null object\n",
      "s9              470 non-null object\n",
      "s10             470 non-null object\n",
      "s11             470 non-null object\n",
      "s12             470 non-null object\n",
      "word_list       470 non-null object\n",
      "sonnet_num      470 non-null int64\n",
      "author          470 non-null object\n",
      "polarity        470 non-null float64\n",
      "subjectivity    470 non-null float64\n",
      "sonnet          470 non-null int64\n",
      "dtypes: float64(2), int64(4), object(14)\n",
      "memory usage: 73.5+ KB\n"
     ]
    }
   ],
   "source": [
    "taylor_df.info()"
   ]
  },
  {
   "cell_type": "code",
   "execution_count": 181,
   "metadata": {},
   "outputs": [
    {
     "data": {
      "text/html": [
       "<div>\n",
       "<style scoped>\n",
       "    .dataframe tbody tr th:only-of-type {\n",
       "        vertical-align: middle;\n",
       "    }\n",
       "\n",
       "    .dataframe tbody tr th {\n",
       "        vertical-align: top;\n",
       "    }\n",
       "\n",
       "    .dataframe thead th {\n",
       "        text-align: right;\n",
       "    }\n",
       "</style>\n",
       "<table border=\"1\" class=\"dataframe\">\n",
       "  <thead>\n",
       "    <tr style=\"text-align: right;\">\n",
       "      <th></th>\n",
       "      <th>sonnet_index</th>\n",
       "      <th>syllables</th>\n",
       "      <th>s1</th>\n",
       "      <th>s2</th>\n",
       "      <th>s3</th>\n",
       "      <th>s4</th>\n",
       "      <th>s5</th>\n",
       "      <th>s6</th>\n",
       "      <th>s7</th>\n",
       "      <th>s8</th>\n",
       "      <th>s9</th>\n",
       "      <th>s10</th>\n",
       "      <th>s11</th>\n",
       "      <th>s12</th>\n",
       "      <th>word_list</th>\n",
       "      <th>sonnet_num</th>\n",
       "      <th>author</th>\n",
       "      <th>polarity</th>\n",
       "      <th>subjectivity</th>\n",
       "      <th>sonnet</th>\n",
       "    </tr>\n",
       "  </thead>\n",
       "  <tbody>\n",
       "    <tr>\n",
       "      <th>0</th>\n",
       "      <td>0</td>\n",
       "      <td>11</td>\n",
       "      <td>stress</td>\n",
       "      <td>stress</td>\n",
       "      <td>stress</td>\n",
       "      <td>unstress</td>\n",
       "      <td>stress</td>\n",
       "      <td>unstress</td>\n",
       "      <td>unstress</td>\n",
       "      <td>stress</td>\n",
       "      <td>stress</td>\n",
       "      <td>stress</td>\n",
       "      <td>stress</td>\n",
       "      <td>missing</td>\n",
       "      <td>['Your', 'ten', 'thousand', 'promises', 'That'...</td>\n",
       "      <td>0</td>\n",
       "      <td>bsb</td>\n",
       "      <td>0.0</td>\n",
       "      <td>0.0</td>\n",
       "      <td>0</td>\n",
       "    </tr>\n",
       "    <tr>\n",
       "      <th>1</th>\n",
       "      <td>8</td>\n",
       "      <td>11</td>\n",
       "      <td>stress</td>\n",
       "      <td>stress</td>\n",
       "      <td>unstress</td>\n",
       "      <td>stress</td>\n",
       "      <td>stress</td>\n",
       "      <td>stress</td>\n",
       "      <td>stress</td>\n",
       "      <td>unstress</td>\n",
       "      <td>stress</td>\n",
       "      <td>stress</td>\n",
       "      <td>stress</td>\n",
       "      <td>missing</td>\n",
       "      <td>['Who', 'wasted', 'my', 'time', 'and', 'money'...</td>\n",
       "      <td>8</td>\n",
       "      <td>bsb</td>\n",
       "      <td>-0.2</td>\n",
       "      <td>0.0</td>\n",
       "      <td>0</td>\n",
       "    </tr>\n",
       "    <tr>\n",
       "      <th>2</th>\n",
       "      <td>24</td>\n",
       "      <td>11</td>\n",
       "      <td>stress</td>\n",
       "      <td>stress</td>\n",
       "      <td>stress</td>\n",
       "      <td>unstress</td>\n",
       "      <td>stress</td>\n",
       "      <td>unstress</td>\n",
       "      <td>unstress</td>\n",
       "      <td>stress</td>\n",
       "      <td>stress</td>\n",
       "      <td>stress</td>\n",
       "      <td>stress</td>\n",
       "      <td>missing</td>\n",
       "      <td>['Your', 'ten', 'thousand', 'promises', 'That'...</td>\n",
       "      <td>24</td>\n",
       "      <td>bsb</td>\n",
       "      <td>0.0</td>\n",
       "      <td>0.0</td>\n",
       "      <td>0</td>\n",
       "    </tr>\n",
       "    <tr>\n",
       "      <th>3</th>\n",
       "      <td>27</td>\n",
       "      <td>11</td>\n",
       "      <td>stress</td>\n",
       "      <td>stress</td>\n",
       "      <td>stress</td>\n",
       "      <td>unstress</td>\n",
       "      <td>stress</td>\n",
       "      <td>unstress</td>\n",
       "      <td>unstress</td>\n",
       "      <td>stress</td>\n",
       "      <td>stress</td>\n",
       "      <td>stress</td>\n",
       "      <td>stress</td>\n",
       "      <td>missing</td>\n",
       "      <td>['Your', 'ten', 'thousand', 'promises', 'That'...</td>\n",
       "      <td>27</td>\n",
       "      <td>bsb</td>\n",
       "      <td>0.0</td>\n",
       "      <td>0.0</td>\n",
       "      <td>0</td>\n",
       "    </tr>\n",
       "    <tr>\n",
       "      <th>4</th>\n",
       "      <td>28</td>\n",
       "      <td>11</td>\n",
       "      <td>stress</td>\n",
       "      <td>stress</td>\n",
       "      <td>stress</td>\n",
       "      <td>missing</td>\n",
       "      <td>stress</td>\n",
       "      <td>missing</td>\n",
       "      <td>stress</td>\n",
       "      <td>stress</td>\n",
       "      <td>stress</td>\n",
       "      <td>missing</td>\n",
       "      <td>stress</td>\n",
       "      <td>missing</td>\n",
       "      <td>['What', 'a', 'lie', '(what', 'a', 'lie)', 'Yo...</td>\n",
       "      <td>28</td>\n",
       "      <td>bsb</td>\n",
       "      <td>0.0</td>\n",
       "      <td>0.0</td>\n",
       "      <td>0</td>\n",
       "    </tr>\n",
       "  </tbody>\n",
       "</table>\n",
       "</div>"
      ],
      "text/plain": [
       "   sonnet_index  syllables      s1      s2        s3        s4      s5  \\\n",
       "0             0         11  stress  stress    stress  unstress  stress   \n",
       "1             8         11  stress  stress  unstress    stress  stress   \n",
       "2            24         11  stress  stress    stress  unstress  stress   \n",
       "3            27         11  stress  stress    stress  unstress  stress   \n",
       "4            28         11  stress  stress    stress   missing  stress   \n",
       "\n",
       "         s6        s7        s8      s9      s10     s11      s12  \\\n",
       "0  unstress  unstress    stress  stress   stress  stress  missing   \n",
       "1    stress    stress  unstress  stress   stress  stress  missing   \n",
       "2  unstress  unstress    stress  stress   stress  stress  missing   \n",
       "3  unstress  unstress    stress  stress   stress  stress  missing   \n",
       "4   missing    stress    stress  stress  missing  stress  missing   \n",
       "\n",
       "                                           word_list  sonnet_num author  \\\n",
       "0  ['Your', 'ten', 'thousand', 'promises', 'That'...           0    bsb   \n",
       "1  ['Who', 'wasted', 'my', 'time', 'and', 'money'...           8    bsb   \n",
       "2  ['Your', 'ten', 'thousand', 'promises', 'That'...          24    bsb   \n",
       "3  ['Your', 'ten', 'thousand', 'promises', 'That'...          27    bsb   \n",
       "4  ['What', 'a', 'lie', '(what', 'a', 'lie)', 'Yo...          28    bsb   \n",
       "\n",
       "   polarity  subjectivity  sonnet  \n",
       "0       0.0           0.0       0  \n",
       "1      -0.2           0.0       0  \n",
       "2       0.0           0.0       0  \n",
       "3       0.0           0.0       0  \n",
       "4       0.0           0.0       0  "
      ]
     },
     "execution_count": 181,
     "metadata": {},
     "output_type": "execute_result"
    }
   ],
   "source": [
    "# Create BSB Dataframe\n",
    "bsb_df = pd.read_csv('./bsb_IP.csv')\n",
    "bsb_df.columns = ['unnamed', 'sonnet_index', 'syllables', 's1', 's2', 's3',\n",
    "       's4', 's5', 's6', 's7', 's8', 's9', 's10', 's11', 's12',\n",
    "       'word_list', 'sonnet_num', 'author', 'polarity', 'subjectivity']\n",
    "\n",
    "bsb_df['sonnet'] = bsb_df.apply(lambda x: 0, axis=1)\n",
    "\n",
    "# unnecessary columns\n",
    "\n",
    "bsb_df = bsb_df.drop('unnamed', axis=1)\n",
    "\n",
    "bsb_df.head()"
   ]
  },
  {
   "cell_type": "code",
   "execution_count": 182,
   "metadata": {},
   "outputs": [
    {
     "name": "stdout",
     "output_type": "stream",
     "text": [
      "<class 'pandas.core.frame.DataFrame'>\n",
      "RangeIndex: 1235 entries, 0 to 1234\n",
      "Data columns (total 20 columns):\n",
      "sonnet_index    1235 non-null int64\n",
      "syllables       1235 non-null int64\n",
      "s1              1235 non-null object\n",
      "s2              1235 non-null object\n",
      "s3              1235 non-null object\n",
      "s4              1235 non-null object\n",
      "s5              1235 non-null object\n",
      "s6              1235 non-null object\n",
      "s7              1235 non-null object\n",
      "s8              1235 non-null object\n",
      "s9              1235 non-null object\n",
      "s10             1235 non-null object\n",
      "s11             1235 non-null object\n",
      "s12             1235 non-null object\n",
      "word_list       1235 non-null object\n",
      "sonnet_num      1235 non-null int64\n",
      "author          1235 non-null object\n",
      "polarity        1235 non-null float64\n",
      "subjectivity    1235 non-null float64\n",
      "sonnet          1235 non-null int64\n",
      "dtypes: float64(2), int64(4), object(14)\n",
      "memory usage: 193.0+ KB\n"
     ]
    }
   ],
   "source": [
    "bsb_df.info()"
   ]
  },
  {
   "cell_type": "code",
   "execution_count": 183,
   "metadata": {},
   "outputs": [
    {
     "data": {
      "text/html": [
       "<div>\n",
       "<style scoped>\n",
       "    .dataframe tbody tr th:only-of-type {\n",
       "        vertical-align: middle;\n",
       "    }\n",
       "\n",
       "    .dataframe tbody tr th {\n",
       "        vertical-align: top;\n",
       "    }\n",
       "\n",
       "    .dataframe thead th {\n",
       "        text-align: right;\n",
       "    }\n",
       "</style>\n",
       "<table border=\"1\" class=\"dataframe\">\n",
       "  <thead>\n",
       "    <tr style=\"text-align: right;\">\n",
       "      <th></th>\n",
       "      <th>sonnet_index</th>\n",
       "      <th>syllables</th>\n",
       "      <th>s1</th>\n",
       "      <th>s2</th>\n",
       "      <th>s3</th>\n",
       "      <th>s4</th>\n",
       "      <th>s5</th>\n",
       "      <th>s6</th>\n",
       "      <th>s7</th>\n",
       "      <th>s8</th>\n",
       "      <th>s9</th>\n",
       "      <th>s10</th>\n",
       "      <th>s11</th>\n",
       "      <th>s12</th>\n",
       "      <th>word_list</th>\n",
       "      <th>sonnet_num</th>\n",
       "      <th>author</th>\n",
       "      <th>polarity</th>\n",
       "      <th>subjectivity</th>\n",
       "      <th>sonnet</th>\n",
       "    </tr>\n",
       "  </thead>\n",
       "  <tbody>\n",
       "    <tr>\n",
       "      <th>0</th>\n",
       "      <td>2</td>\n",
       "      <td>10</td>\n",
       "      <td>unstress</td>\n",
       "      <td>stress</td>\n",
       "      <td>unstress</td>\n",
       "      <td>stress</td>\n",
       "      <td>unstress</td>\n",
       "      <td>stress</td>\n",
       "      <td>unstress</td>\n",
       "      <td>stress</td>\n",
       "      <td>unstress</td>\n",
       "      <td>stress</td>\n",
       "      <td>missing</td>\n",
       "      <td>missing</td>\n",
       "      <td>['From', 'fairest', 'creatures', 'we', 'desire...</td>\n",
       "      <td>1</td>\n",
       "      <td>Shakespeare</td>\n",
       "      <td>0.00</td>\n",
       "      <td>0.00</td>\n",
       "      <td>1</td>\n",
       "    </tr>\n",
       "    <tr>\n",
       "      <th>1</th>\n",
       "      <td>3</td>\n",
       "      <td>11</td>\n",
       "      <td>unstress</td>\n",
       "      <td>stress</td>\n",
       "      <td>stress</td>\n",
       "      <td>stress</td>\n",
       "      <td>unstress</td>\n",
       "      <td>stress</td>\n",
       "      <td>stress</td>\n",
       "      <td>stress</td>\n",
       "      <td>unstress</td>\n",
       "      <td>stress</td>\n",
       "      <td>missing</td>\n",
       "      <td>missing</td>\n",
       "      <td>['That', 'thereby', 'beauty', 'rose', 'might',...</td>\n",
       "      <td>1</td>\n",
       "      <td>Shakespeare</td>\n",
       "      <td>0.60</td>\n",
       "      <td>0.95</td>\n",
       "      <td>1</td>\n",
       "    </tr>\n",
       "    <tr>\n",
       "      <th>2</th>\n",
       "      <td>4</td>\n",
       "      <td>10</td>\n",
       "      <td>stress</td>\n",
       "      <td>stress</td>\n",
       "      <td>unstress</td>\n",
       "      <td>missing</td>\n",
       "      <td>missing</td>\n",
       "      <td>stress</td>\n",
       "      <td>stress</td>\n",
       "      <td>stress</td>\n",
       "      <td>unstress</td>\n",
       "      <td>stress</td>\n",
       "      <td>missing</td>\n",
       "      <td>missing</td>\n",
       "      <td>['But', 'as', 'the', 'riper', 'should', 'by', ...</td>\n",
       "      <td>1</td>\n",
       "      <td>Shakespeare</td>\n",
       "      <td>0.00</td>\n",
       "      <td>0.00</td>\n",
       "      <td>1</td>\n",
       "    </tr>\n",
       "    <tr>\n",
       "      <th>3</th>\n",
       "      <td>5</td>\n",
       "      <td>10</td>\n",
       "      <td>unstress</td>\n",
       "      <td>stress</td>\n",
       "      <td>unstress</td>\n",
       "      <td>stress</td>\n",
       "      <td>stress</td>\n",
       "      <td>stress</td>\n",
       "      <td>unstress</td>\n",
       "      <td>stress</td>\n",
       "      <td>unstress</td>\n",
       "      <td>unstress</td>\n",
       "      <td>missing</td>\n",
       "      <td>missing</td>\n",
       "      <td>['His', 'tender', 'heir', 'might', 'bear', 'hi...</td>\n",
       "      <td>1</td>\n",
       "      <td>Shakespeare</td>\n",
       "      <td>0.00</td>\n",
       "      <td>0.00</td>\n",
       "      <td>1</td>\n",
       "    </tr>\n",
       "    <tr>\n",
       "      <th>4</th>\n",
       "      <td>6</td>\n",
       "      <td>10</td>\n",
       "      <td>stress</td>\n",
       "      <td>stress</td>\n",
       "      <td>stress</td>\n",
       "      <td>unstress</td>\n",
       "      <td>unstress</td>\n",
       "      <td>stress</td>\n",
       "      <td>stress</td>\n",
       "      <td>stress</td>\n",
       "      <td>stress</td>\n",
       "      <td>stress</td>\n",
       "      <td>missing</td>\n",
       "      <td>missing</td>\n",
       "      <td>['But', 'thou', 'contracted', 'to', 'thine', '...</td>\n",
       "      <td>1</td>\n",
       "      <td>Shakespeare</td>\n",
       "      <td>0.65</td>\n",
       "      <td>0.90</td>\n",
       "      <td>1</td>\n",
       "    </tr>\n",
       "  </tbody>\n",
       "</table>\n",
       "</div>"
      ],
      "text/plain": [
       "   sonnet_index  syllables        s1      s2        s3        s4        s5  \\\n",
       "0             2         10  unstress  stress  unstress    stress  unstress   \n",
       "1             3         11  unstress  stress    stress    stress  unstress   \n",
       "2             4         10    stress  stress  unstress   missing   missing   \n",
       "3             5         10  unstress  stress  unstress    stress    stress   \n",
       "4             6         10    stress  stress    stress  unstress  unstress   \n",
       "\n",
       "       s6        s7      s8        s9       s10      s11      s12  \\\n",
       "0  stress  unstress  stress  unstress    stress  missing  missing   \n",
       "1  stress    stress  stress  unstress    stress  missing  missing   \n",
       "2  stress    stress  stress  unstress    stress  missing  missing   \n",
       "3  stress  unstress  stress  unstress  unstress  missing  missing   \n",
       "4  stress    stress  stress    stress    stress  missing  missing   \n",
       "\n",
       "                                           word_list  sonnet_num       author  \\\n",
       "0  ['From', 'fairest', 'creatures', 'we', 'desire...           1  Shakespeare   \n",
       "1  ['That', 'thereby', 'beauty', 'rose', 'might',...           1  Shakespeare   \n",
       "2  ['But', 'as', 'the', 'riper', 'should', 'by', ...           1  Shakespeare   \n",
       "3  ['His', 'tender', 'heir', 'might', 'bear', 'hi...           1  Shakespeare   \n",
       "4  ['But', 'thou', 'contracted', 'to', 'thine', '...           1  Shakespeare   \n",
       "\n",
       "   polarity  subjectivity  sonnet  \n",
       "0      0.00          0.00       1  \n",
       "1      0.60          0.95       1  \n",
       "2      0.00          0.00       1  \n",
       "3      0.00          0.00       1  \n",
       "4      0.65          0.90       1  "
      ]
     },
     "execution_count": 183,
     "metadata": {},
     "output_type": "execute_result"
    }
   ],
   "source": [
    "# Create full_sonnet Dataframe\n",
    "poems_df = pd.read_csv('./full_sonnet_df.csv')\n",
    "poems_df.head()\n",
    "poems_df.columns = ['unnamed0','unnamed1', 'sonnet_index', 'syllables', 's1', 's2', 's3',\n",
    "       's4', 's5', 's6', 's7', 's8', 's9', 's10', 's11', 's12',\n",
    "       'word_list', 'sonnet_num', 'author', 'polarity', 'subjectivity','sonnet']\n",
    "\n",
    "# drop unnecessary columns\n",
    "\n",
    "poems_df = poems_df.drop('unnamed0', axis=1)\n",
    "poems_df = poems_df.drop('unnamed1', axis=1)\n",
    "\n",
    "poems_df.head()"
   ]
  },
  {
   "cell_type": "code",
   "execution_count": 184,
   "metadata": {},
   "outputs": [],
   "source": [
    "# Randomly take subset of the full sonnets data\n",
    "poems_df = poems_df.drop(poems_df.sample(frac=.65).index)"
   ]
  },
  {
   "cell_type": "code",
   "execution_count": 185,
   "metadata": {},
   "outputs": [
    {
     "name": "stdout",
     "output_type": "stream",
     "text": [
      "<class 'pandas.core.frame.DataFrame'>\n",
      "Int64Index: 1792 entries, 0 to 5118\n",
      "Data columns (total 20 columns):\n",
      "sonnet_index    1792 non-null int64\n",
      "syllables       1792 non-null int64\n",
      "s1              1792 non-null object\n",
      "s2              1792 non-null object\n",
      "s3              1792 non-null object\n",
      "s4              1792 non-null object\n",
      "s5              1792 non-null object\n",
      "s6              1792 non-null object\n",
      "s7              1792 non-null object\n",
      "s8              1792 non-null object\n",
      "s9              1792 non-null object\n",
      "s10             1792 non-null object\n",
      "s11             1792 non-null object\n",
      "s12             1792 non-null object\n",
      "word_list       1792 non-null object\n",
      "sonnet_num      1792 non-null int64\n",
      "author          1762 non-null object\n",
      "polarity        1792 non-null float64\n",
      "subjectivity    1792 non-null float64\n",
      "sonnet          1792 non-null int64\n",
      "dtypes: float64(2), int64(4), object(14)\n",
      "memory usage: 294.0+ KB\n"
     ]
    }
   ],
   "source": [
    "poems_df.info()"
   ]
  },
  {
   "cell_type": "code",
   "execution_count": 186,
   "metadata": {},
   "outputs": [],
   "source": [
    "# Stacking the Taylor Swift, BSB, and Poems dataframes\n",
    "\n",
    "final_df = pd.concat([taylor_df, bsb_df, poems_df])\n",
    "final_df.head()\n",
    "final_df.to_csv('final_df.csv')"
   ]
  },
  {
   "cell_type": "code",
   "execution_count": 187,
   "metadata": {},
   "outputs": [
    {
     "data": {
      "text/plain": [
       "(3497, 20)"
      ]
     },
     "execution_count": 187,
     "metadata": {},
     "output_type": "execute_result"
    }
   ],
   "source": [
    "final_df.shape"
   ]
  },
  {
   "cell_type": "markdown",
   "metadata": {},
   "source": [
    "# Check correlation"
   ]
  },
  {
   "cell_type": "code",
   "execution_count": 188,
   "metadata": {},
   "outputs": [
    {
     "data": {
      "text/html": [
       "<div>\n",
       "<style scoped>\n",
       "    .dataframe tbody tr th:only-of-type {\n",
       "        vertical-align: middle;\n",
       "    }\n",
       "\n",
       "    .dataframe tbody tr th {\n",
       "        vertical-align: top;\n",
       "    }\n",
       "\n",
       "    .dataframe thead th {\n",
       "        text-align: right;\n",
       "    }\n",
       "</style>\n",
       "<table border=\"1\" class=\"dataframe\">\n",
       "  <thead>\n",
       "    <tr style=\"text-align: right;\">\n",
       "      <th></th>\n",
       "      <th>syllables</th>\n",
       "      <th>sonnet_num</th>\n",
       "      <th>polarity</th>\n",
       "      <th>subjectivity</th>\n",
       "      <th>sonnet</th>\n",
       "    </tr>\n",
       "  </thead>\n",
       "  <tbody>\n",
       "    <tr>\n",
       "      <th>syllables</th>\n",
       "      <td>1.000000</td>\n",
       "      <td>0.448321</td>\n",
       "      <td>-0.049101</td>\n",
       "      <td>-0.064106</td>\n",
       "      <td>-0.621846</td>\n",
       "    </tr>\n",
       "    <tr>\n",
       "      <th>sonnet_num</th>\n",
       "      <td>0.448321</td>\n",
       "      <td>1.000000</td>\n",
       "      <td>-0.066798</td>\n",
       "      <td>-0.073531</td>\n",
       "      <td>-0.727169</td>\n",
       "    </tr>\n",
       "    <tr>\n",
       "      <th>polarity</th>\n",
       "      <td>-0.049101</td>\n",
       "      <td>-0.066798</td>\n",
       "      <td>1.000000</td>\n",
       "      <td>0.202040</td>\n",
       "      <td>0.065399</td>\n",
       "    </tr>\n",
       "    <tr>\n",
       "      <th>subjectivity</th>\n",
       "      <td>-0.064106</td>\n",
       "      <td>-0.073531</td>\n",
       "      <td>0.202040</td>\n",
       "      <td>1.000000</td>\n",
       "      <td>0.113212</td>\n",
       "    </tr>\n",
       "    <tr>\n",
       "      <th>sonnet</th>\n",
       "      <td>-0.621846</td>\n",
       "      <td>-0.727169</td>\n",
       "      <td>0.065399</td>\n",
       "      <td>0.113212</td>\n",
       "      <td>1.000000</td>\n",
       "    </tr>\n",
       "  </tbody>\n",
       "</table>\n",
       "</div>"
      ],
      "text/plain": [
       "              syllables  sonnet_num  polarity  subjectivity    sonnet\n",
       "syllables      1.000000    0.448321 -0.049101     -0.064106 -0.621846\n",
       "sonnet_num     0.448321    1.000000 -0.066798     -0.073531 -0.727169\n",
       "polarity      -0.049101   -0.066798  1.000000      0.202040  0.065399\n",
       "subjectivity  -0.064106   -0.073531  0.202040      1.000000  0.113212\n",
       "sonnet        -0.621846   -0.727169  0.065399      0.113212  1.000000"
      ]
     },
     "execution_count": 188,
     "metadata": {},
     "output_type": "execute_result"
    }
   ],
   "source": [
    "final_df.drop(\"sonnet_index\",axis=1).corr()"
   ]
  },
  {
   "cell_type": "markdown",
   "metadata": {},
   "source": [
    "# Baseline"
   ]
  },
  {
   "cell_type": "code",
   "execution_count": 189,
   "metadata": {},
   "outputs": [
    {
     "name": "stdout",
     "output_type": "stream",
     "text": [
      "0.5124392336288247\n"
     ]
    }
   ],
   "source": [
    "print(np.mean(final_df.sonnet))"
   ]
  },
  {
   "cell_type": "markdown",
   "metadata": {},
   "source": [
    "# Logistic Regression"
   ]
  },
  {
   "cell_type": "code",
   "execution_count": 190,
   "metadata": {},
   "outputs": [],
   "source": [
    "logreg = LogisticRegression()\n",
    "\n",
    "formula = 'sonnet ~ syllables + C(s1) + C(s2) + C(s3) + C(s4) + C(s5) + C(s6) + C(s7) + C(s8) + C(s9) + C(s10) + C(s11) + C(s12) + polarity + subjectivity -1'\n",
    "Y, X = dmatrices(formula, data=final_df)"
   ]
  },
  {
   "cell_type": "code",
   "execution_count": 191,
   "metadata": {},
   "outputs": [],
   "source": [
    "#Prediction values\n",
    "# ypred = logreg.predict(X)\n",
    "# mistakes_df['algorithm'] = ypred"
   ]
  },
  {
   "cell_type": "code",
   "execution_count": 192,
   "metadata": {},
   "outputs": [],
   "source": [
    "interaction_formula = ''' sonnet ~ syllables + (C(s1) + C(s2) + C(s3) + C(s4) + C(s5) + C(s6) + C(s7) + C(s8) + \n",
    "C(s9) + C(s10) + C(s11) + C(s12))**2 + polarity + subjectivity -1'''\n",
    "Yint, Xint = dmatrices(interaction_formula, data=final_df, return_type='dataframe')\n",
    "Xint = (Xint - Xint.mean()) / Xint.std()\n",
    "Xint.dropna(axis=1, inplace=True)"
   ]
  },
  {
   "cell_type": "code",
   "execution_count": 193,
   "metadata": {},
   "outputs": [
    {
     "data": {
      "text/plain": [
       "((3497, 1), (3497, 286))"
      ]
     },
     "execution_count": 193,
     "metadata": {},
     "output_type": "execute_result"
    }
   ],
   "source": [
    "Yint.shape, Xint.shape"
   ]
  },
  {
   "cell_type": "code",
   "execution_count": 194,
   "metadata": {},
   "outputs": [
    {
     "data": {
      "text/plain": [
       "((3497, 1), (3497, 28))"
      ]
     },
     "execution_count": 194,
     "metadata": {},
     "output_type": "execute_result"
    }
   ],
   "source": [
    "Y.shape, X.shape"
   ]
  },
  {
   "cell_type": "code",
   "execution_count": 195,
   "metadata": {},
   "outputs": [
    {
     "data": {
      "text/plain": [
       "array(0.51243923)"
      ]
     },
     "execution_count": 195,
     "metadata": {},
     "output_type": "execute_result"
    }
   ],
   "source": [
    "np.mean(Y)"
   ]
  },
  {
   "cell_type": "markdown",
   "metadata": {},
   "source": [
    "# Inspect Model 1"
   ]
  },
  {
   "cell_type": "markdown",
   "metadata": {},
   "source": [
    "## Summary"
   ]
  },
  {
   "cell_type": "code",
   "execution_count": 196,
   "metadata": {},
   "outputs": [
    {
     "name": "stdout",
     "output_type": "stream",
     "text": [
      "Warning: Maximum number of iterations has been exceeded.\n",
      "         Current function value: 0.105862\n",
      "         Iterations: 35\n",
      "                           Logit Regression Results                           \n",
      "==============================================================================\n",
      "Dep. Variable:                 sonnet   No. Observations:                 3497\n",
      "Model:                          Logit   Df Residuals:                     3469\n",
      "Method:                           MLE   Df Model:                           27\n",
      "Date:                Sat, 12 Oct 2019   Pseudo R-squ.:                  0.8472\n",
      "Time:                        11:36:52   Log-Likelihood:                -370.20\n",
      "converged:                      False   LL-Null:                       -2422.9\n",
      "                                        LLR p-value:                     0.000\n",
      "======================================================================================\n",
      "                         coef    std err          z      P>|z|      [0.025      0.975]\n",
      "--------------------------------------------------------------------------------------\n",
      "C(s1)[missing]        27.7628      3.087      8.993      0.000      21.712      33.814\n",
      "C(s1)[stress]         27.6406      3.075      8.988      0.000      21.613      33.668\n",
      "C(s1)[unstress]       30.6649      3.120      9.827      0.000      24.549      36.781\n",
      "C(s2)[T.stress]       -2.0924      0.523     -4.002      0.000      -3.117      -1.068\n",
      "C(s2)[T.unstress]     -2.0497      0.623     -3.288      0.001      -3.271      -0.828\n",
      "C(s3)[T.stress]       -0.3150      0.510     -0.617      0.537      -1.315       0.685\n",
      "C(s3)[T.unstress]      1.9631      0.541      3.631      0.000       0.903       3.023\n",
      "C(s4)[T.stress]       -1.0644      0.492     -2.163      0.031      -2.029      -0.100\n",
      "C(s4)[T.unstress]     -2.4119      0.636     -3.791      0.000      -3.659      -1.165\n",
      "C(s5)[T.stress]       -2.4048      0.509     -4.728      0.000      -3.402      -1.408\n",
      "C(s5)[T.unstress]     -1.1761      0.526     -2.237      0.025      -2.207      -0.146\n",
      "C(s6)[T.stress]       -0.8017      0.433     -1.851      0.064      -1.650       0.047\n",
      "C(s6)[T.unstress]     -0.1029      0.510     -0.202      0.840      -1.103       0.897\n",
      "C(s7)[T.stress]       -0.9358      0.475     -1.969      0.049      -1.867      -0.004\n",
      "C(s7)[T.unstress]      0.9851      0.507      1.945      0.052      -0.008       1.978\n",
      "C(s8)[T.stress]       -0.8596      0.541     -1.590      0.112      -1.919       0.200\n",
      "C(s8)[T.unstress]     -0.3817      0.614     -0.622      0.534      -1.585       0.822\n",
      "C(s9)[T.stress]       -1.6730      0.523     -3.199      0.001      -2.698      -0.648\n",
      "C(s9)[T.unstress]     -0.4324      0.542     -0.798      0.425      -1.494       0.629\n",
      "C(s10)[T.stress]      -0.5399      0.393     -1.373      0.170      -1.311       0.231\n",
      "C(s10)[T.unstress]     0.8561      0.462      1.853      0.064      -0.049       1.762\n",
      "C(s11)[T.stress]      -5.1948      0.302    -17.200      0.000      -5.787      -4.603\n",
      "C(s11)[T.unstress]    -3.6317      0.354    -10.270      0.000      -4.325      -2.939\n",
      "C(s12)[T.stress]      22.0323   3745.020      0.006      0.995   -7318.072    7362.137\n",
      "C(s12)[T.unstress]    25.3448   1.75e+04      0.001      0.999   -3.43e+04    3.43e+04\n",
      "syllables             -1.6462      0.263     -6.260      0.000      -2.162      -1.131\n",
      "polarity               0.4561      0.355      1.284      0.199      -0.240       1.152\n",
      "subjectivity           1.0813      0.295      3.662      0.000       0.503       1.660\n",
      "======================================================================================\n",
      "\n",
      "Possibly complete quasi-separation: A fraction 0.11 of observations can be\n",
      "perfectly predicted. This might indicate that there is complete\n",
      "quasi-separation. In this case some parameters will not be identified.\n"
     ]
    },
    {
     "name": "stderr",
     "output_type": "stream",
     "text": [
      "/anaconda3/lib/python3.6/site-packages/statsmodels/base/model.py:508: ConvergenceWarning: Maximum Likelihood optimization failed to converge. Check mle_retvals\n",
      "  \"Check mle_retvals\", ConvergenceWarning)\n"
     ]
    }
   ],
   "source": [
    "import statsmodels.api as sm\n",
    "\n",
    "logit_model1=sm.Logit(Y,X)\n",
    "result1=logit_model1.fit()\n",
    "print(result1.summary())"
   ]
  },
  {
   "cell_type": "code",
   "execution_count": 197,
   "metadata": {},
   "outputs": [
    {
     "name": "stdout",
     "output_type": "stream",
     "text": [
      "                               Results: Logit\n",
      "============================================================================\n",
      "Model:                   Logit                Pseudo R-squared:     0.847   \n",
      "Dependent Variable:      sonnet               AIC:                  796.3982\n",
      "Date:                    2019-10-12 11:36     BIC:                  968.8687\n",
      "No. Observations:        3497                 Log-Likelihood:       -370.20 \n",
      "Df Model:                27                   LL-Null:              -2422.9 \n",
      "Df Residuals:            3469                 LLR p-value:          0.0000  \n",
      "Converged:               0.0000               Scale:                1.0000  \n",
      "No. Iterations:          35.0000                                            \n",
      "----------------------------------------------------------------------------\n",
      "                    Coef.   Std.Err.     z     P>|z|     [0.025     0.975]  \n",
      "----------------------------------------------------------------------------\n",
      "C(s1)[missing]     27.7628     3.0871   8.9930 0.0000     21.7121    33.8135\n",
      "C(s1)[stress]      27.6406     3.0753   8.9878 0.0000     21.6131    33.6682\n",
      "C(s1)[unstress]    30.6649     3.1205   9.8269 0.0000     24.5489    36.7810\n",
      "C(s2)[T.stress]    -2.0924     0.5229  -4.0018 0.0001     -3.1172    -1.0676\n",
      "C(s2)[T.unstress]  -2.0497     0.6234  -3.2880 0.0010     -3.2715    -0.8279\n",
      "C(s3)[T.stress]    -0.3150     0.5103  -0.6173 0.5370     -1.3152     0.6852\n",
      "C(s3)[T.unstress]   1.9631     0.5406   3.6312 0.0003      0.9035     3.0226\n",
      "C(s4)[T.stress]    -1.0644     0.4922  -2.1626 0.0306     -2.0290    -0.0998\n",
      "C(s4)[T.unstress]  -2.4119     0.6363  -3.7907 0.0002     -3.6590    -1.1649\n",
      "C(s5)[T.stress]    -2.4048     0.5086  -4.7278 0.0000     -3.4017    -1.4079\n",
      "C(s5)[T.unstress]  -1.1761     0.5257  -2.2371 0.0253     -2.2066    -0.1457\n",
      "C(s6)[T.stress]    -0.8017     0.4330  -1.8514 0.0641     -1.6504     0.0470\n",
      "C(s6)[T.unstress]  -0.1029     0.5101  -0.2017 0.8402     -1.1027     0.8969\n",
      "C(s7)[T.stress]    -0.9358     0.4752  -1.9693 0.0489     -1.8671    -0.0044\n",
      "C(s7)[T.unstress]   0.9851     0.5065   1.9447 0.0518     -0.0077     1.9779\n",
      "C(s8)[T.stress]    -0.8596     0.5406  -1.5900 0.1118     -1.9191     0.2000\n",
      "C(s8)[T.unstress]  -0.3817     0.6142  -0.6216 0.5342     -1.5855     0.8220\n",
      "C(s9)[T.stress]    -1.6730     0.5230  -3.1990 0.0014     -2.6980    -0.6480\n",
      "C(s9)[T.unstress]  -0.4324     0.5415  -0.7985 0.4246     -1.4938     0.6290\n",
      "C(s10)[T.stress]   -0.5399     0.3932  -1.3730 0.1698     -1.3106     0.2308\n",
      "C(s10)[T.unstress]  0.8561     0.4620   1.8532 0.0639     -0.0493     1.7616\n",
      "C(s11)[T.stress]   -5.1948     0.3020 -17.2000 0.0000     -5.7867    -4.6028\n",
      "C(s11)[T.unstress] -3.6317     0.3536 -10.2699 0.0000     -4.3248    -2.9386\n",
      "C(s12)[T.stress]   22.0323  3745.0202   0.0059 0.9953  -7318.0724  7362.1370\n",
      "C(s12)[T.unstress] 25.3448 17496.7590   0.0014 0.9988 -34267.6727 34318.3623\n",
      "syllables          -1.6462     0.2630  -6.2597 0.0000     -2.1616    -1.1308\n",
      "polarity            0.4561     0.3552   1.2842 0.1991     -0.2400     1.1522\n",
      "subjectivity        1.0813     0.2953   3.6622 0.0003      0.5026     1.6601\n",
      "============================================================================\n",
      "\n"
     ]
    }
   ],
   "source": [
    "print(result1.summary2())"
   ]
  },
  {
   "cell_type": "code",
   "execution_count": 198,
   "metadata": {},
   "outputs": [
    {
     "name": "stdout",
     "output_type": "stream",
     "text": [
      "                 Generalized Linear Model Regression Results                  \n",
      "==============================================================================\n",
      "Dep. Variable:                 sonnet   No. Observations:                 3497\n",
      "Model:                            GLM   Df Residuals:                     3469\n",
      "Model Family:                Binomial   Df Model:                           27\n",
      "Link Function:                  logit   Scale:                          1.0000\n",
      "Method:                          IRLS   Log-Likelihood:                -370.20\n",
      "Date:                Sat, 12 Oct 2019   Deviance:                       740.40\n",
      "Time:                        11:36:52   Pearson chi2:                 5.07e+03\n",
      "No. Iterations:                    22   Covariance Type:             nonrobust\n",
      "======================================================================================\n",
      "                         coef    std err          z      P>|z|      [0.025      0.975]\n",
      "--------------------------------------------------------------------------------------\n",
      "C(s1)[missing]        27.7628      3.087      8.993      0.000      21.712      33.814\n",
      "C(s1)[stress]         27.6406      3.075      8.988      0.000      21.613      33.668\n",
      "C(s1)[unstress]       30.6649      3.120      9.827      0.000      24.549      36.781\n",
      "C(s2)[T.stress]       -2.0924      0.523     -4.002      0.000      -3.117      -1.068\n",
      "C(s2)[T.unstress]     -2.0497      0.623     -3.288      0.001      -3.271      -0.828\n",
      "C(s3)[T.stress]       -0.3150      0.510     -0.617      0.537      -1.315       0.685\n",
      "C(s3)[T.unstress]      1.9631      0.541      3.631      0.000       0.903       3.023\n",
      "C(s4)[T.stress]       -1.0644      0.492     -2.163      0.031      -2.029      -0.100\n",
      "C(s4)[T.unstress]     -2.4119      0.636     -3.791      0.000      -3.659      -1.165\n",
      "C(s5)[T.stress]       -2.4048      0.509     -4.728      0.000      -3.402      -1.408\n",
      "C(s5)[T.unstress]     -1.1761      0.526     -2.237      0.025      -2.207      -0.146\n",
      "C(s6)[T.stress]       -0.8017      0.433     -1.851      0.064      -1.650       0.047\n",
      "C(s6)[T.unstress]     -0.1029      0.510     -0.202      0.840      -1.103       0.897\n",
      "C(s7)[T.stress]       -0.9358      0.475     -1.969      0.049      -1.867      -0.004\n",
      "C(s7)[T.unstress]      0.9851      0.507      1.945      0.052      -0.008       1.978\n",
      "C(s8)[T.stress]       -0.8596      0.541     -1.590      0.112      -1.919       0.200\n",
      "C(s8)[T.unstress]     -0.3817      0.614     -0.622      0.534      -1.585       0.822\n",
      "C(s9)[T.stress]       -1.6730      0.523     -3.199      0.001      -2.698      -0.648\n",
      "C(s9)[T.unstress]     -0.4324      0.542     -0.798      0.425      -1.494       0.629\n",
      "C(s10)[T.stress]      -0.5399      0.393     -1.373      0.170      -1.311       0.231\n",
      "C(s10)[T.unstress]     0.8561      0.462      1.853      0.064      -0.049       1.762\n",
      "C(s11)[T.stress]      -5.1948      0.302    -17.200      0.000      -5.787      -4.603\n",
      "C(s11)[T.unstress]    -3.6317      0.354    -10.270      0.000      -4.325      -2.939\n",
      "C(s12)[T.stress]      25.7765   1.48e+04      0.002      0.999   -2.89e+04     2.9e+04\n",
      "C(s12)[T.unstress]    28.3609   4.79e+04      0.001      1.000   -9.39e+04     9.4e+04\n",
      "syllables             -1.6462      0.263     -6.260      0.000      -2.162      -1.131\n",
      "polarity               0.4561      0.355      1.284      0.199      -0.240       1.152\n",
      "subjectivity           1.0813      0.295      3.662      0.000       0.503       1.660\n",
      "======================================================================================\n"
     ]
    }
   ],
   "source": [
    "import statsmodels.formula.api as smf\n",
    "\n",
    "model1 = smf.glm(formula = formula, data=final_df, family=sm.families.Binomial())\n",
    "my_model1 = model1.fit()\n",
    "print(my_model1.summary())"
   ]
  },
  {
   "cell_type": "markdown",
   "metadata": {},
   "source": [
    "## step-wise selection"
   ]
  },
  {
   "cell_type": "code",
   "execution_count": 199,
   "metadata": {},
   "outputs": [],
   "source": [
    "def step_wise_forward_selected(data, predictors, response, AIC=True):\n",
    "    \"\"\"Logistic model designed by forward selection.\n",
    "    Parameters:\n",
    "    -----------\n",
    "    data : pandas DataFrame with all possible predictors and response\n",
    "    response: string, name of response column in data\n",
    "    Returns:\n",
    "    --------\n",
    "    model: an \"optimal\" fitted statsmodels linear model\n",
    "           with an intercept\n",
    "           selected by forward selection\n",
    "           evaluated by AIC\n",
    "\n",
    "    inspiration provided by https://planspace.org/20150423-forward_selection_with_statsmodels/\n",
    "    \"\"\"\n",
    "    print(\"remaining = \", predictors)\n",
    "    print(\"response = \", response)\n",
    "    selected = []\n",
    "    current_score, best_new_score = 99999, 99999  # set starting scores high so we get lower score\n",
    "    \n",
    "    while predictors and current_score == best_new_score:\n",
    "#         print(\"new round\")\n",
    "#         print(\"current_score = \", current_score)\n",
    "        scores_with_candidates = []\n",
    "#         print(\"scores with candidates = \", scores_with_candidates)\n",
    "        for candidate in predictors:\n",
    "#             print(\"candidate = \", candidate)\n",
    "            formula = \"{} ~ {} + 1\".format(response,' + '.join(selected + [candidate]))\n",
    "#             print(\"candidate formula = \", formula)\n",
    "            if AIC:\n",
    "                score = smf.glm(formula=formula, data=data, family=sm.families.Binomial()).fit().aic\n",
    "            else:\n",
    "                score = smf.glm(formula=formula, data=data, family=sm.families.Binomial()).fit().bic\n",
    "#             print(\"score = \", score)\n",
    "            scores_with_candidates.append((score, candidate))\n",
    "        scores_with_candidates.sort(reverse=True)\n",
    "#         print(\"scores with candidates = \", scores_with_candidates)\n",
    "        best_new_score, best_candidate = scores_with_candidates.pop()\n",
    "#         print(\"best new score = \", best_new_score)\n",
    "#         print(\"best candidate = \", best_candidate)\n",
    "        if current_score > best_new_score:\n",
    "            predictors.remove(best_candidate)\n",
    "            selected.append(best_candidate)\n",
    "#             print(\"selected = \", selected)\n",
    "            current_score = best_new_score\n",
    "    \n",
    "    formula = \"{} ~ {} + 1\".format(response,' + '.join(selected))\n",
    "    return formula"
   ]
  },
  {
   "cell_type": "markdown",
   "metadata": {},
   "source": [
    "### AIC"
   ]
  },
  {
   "cell_type": "code",
   "execution_count": 200,
   "metadata": {},
   "outputs": [
    {
     "name": "stdout",
     "output_type": "stream",
     "text": [
      "remaining =  ['syllables', 'C(s1)', 'C(s2)', 'C(s3)', 'C(s4)', 'C(s5)', 'C(s6)', 'C(s7)', 'C(s8)', 'C(s9)', 'C(s10)', 'C(s11)', 'C(s12)', 'polarity', 'subjectivity']\n",
      "response =  sonnet\n",
      "sonnet ~ C(s11) + C(s1) + C(s7) + C(s3) + C(s5) + C(s9) + C(s12) + syllables + C(s10) + C(s2) + C(s4) + subjectivity + C(s6) + C(s8) + 1\n"
     ]
    }
   ],
   "source": [
    "my_pred = [\"syllables\",\"C(s1)\",\"C(s2)\",\"C(s3)\",\"C(s4)\",\"C(s5)\",\"C(s6)\",\"C(s7)\",\"C(s8)\",\"C(s9)\",\"C(s10)\",\"C(s11)\",\"C(s12)\",\"polarity\",\"subjectivity\"]\n",
    "aic_step_formula = step_wise_forward_selected(final_df, my_pred, \"sonnet\", True)\n",
    "print(aic_step_formula)"
   ]
  },
  {
   "cell_type": "code",
   "execution_count": 201,
   "metadata": {},
   "outputs": [],
   "source": [
    "Ya, Xa = dmatrices(aic_step_formula, data=final_df)"
   ]
  },
  {
   "cell_type": "code",
   "execution_count": 202,
   "metadata": {},
   "outputs": [
    {
     "name": "stdout",
     "output_type": "stream",
     "text": [
      "                 Generalized Linear Model Regression Results                  \n",
      "==============================================================================\n",
      "Dep. Variable:                 sonnet   No. Observations:                 3497\n",
      "Model:                            GLM   Df Residuals:                     3470\n",
      "Model Family:                Binomial   Df Model:                           26\n",
      "Link Function:                  logit   Scale:                          1.0000\n",
      "Method:                          IRLS   Log-Likelihood:                -371.02\n",
      "Date:                Sat, 12 Oct 2019   Deviance:                       742.04\n",
      "Time:                        11:37:04   Pearson chi2:                 4.91e+03\n",
      "No. Iterations:                    22   Covariance Type:             nonrobust\n",
      "======================================================================================\n",
      "                         coef    std err          z      P>|z|      [0.025      0.975]\n",
      "--------------------------------------------------------------------------------------\n",
      "Intercept             27.9275      3.113      8.972      0.000      21.826      34.028\n",
      "C(s11)[T.stress]      -5.1951      0.302    -17.224      0.000      -5.786      -4.604\n",
      "C(s11)[T.unstress]    -3.6616      0.353    -10.376      0.000      -4.353      -2.970\n",
      "C(s1)[T.stress]       -0.1069      0.552     -0.194      0.846      -1.189       0.976\n",
      "C(s1)[T.unstress]      2.8906      0.617      4.684      0.000       1.681       4.100\n",
      "C(s7)[T.stress]       -0.9144      0.475     -1.926      0.054      -1.845       0.016\n",
      "C(s7)[T.unstress]      0.9989      0.506      1.973      0.048       0.007       1.991\n",
      "C(s3)[T.stress]       -0.3487      0.507     -0.687      0.492      -1.343       0.645\n",
      "C(s3)[T.unstress]      1.9090      0.536      3.562      0.000       0.859       2.959\n",
      "C(s5)[T.stress]       -2.3898      0.506     -4.726      0.000      -3.381      -1.399\n",
      "C(s5)[T.unstress]     -1.1568      0.523     -2.212      0.027      -2.182      -0.132\n",
      "C(s9)[T.stress]       -1.6966      0.521     -3.257      0.001      -2.717      -0.676\n",
      "C(s9)[T.unstress]     -0.4461      0.540     -0.826      0.409      -1.505       0.612\n",
      "C(s12)[T.stress]      25.7554   1.49e+04      0.002      0.999   -2.92e+04    2.92e+04\n",
      "C(s12)[T.unstress]    28.4588   4.77e+04      0.001      1.000   -9.35e+04    9.36e+04\n",
      "C(s10)[T.stress]      -0.5432      0.394     -1.379      0.168      -1.315       0.229\n",
      "C(s10)[T.unstress]     0.8611      0.462      1.864      0.062      -0.044       1.766\n",
      "C(s2)[T.stress]       -2.0732      0.523     -3.967      0.000      -3.098      -1.049\n",
      "C(s2)[T.unstress]     -2.0204      0.622     -3.248      0.001      -3.240      -0.801\n",
      "C(s4)[T.stress]       -1.0313      0.491     -2.101      0.036      -1.993      -0.069\n",
      "C(s4)[T.unstress]     -2.3759      0.636     -3.738      0.000      -3.622      -1.130\n",
      "C(s6)[T.stress]       -0.8032      0.433     -1.853      0.064      -1.653       0.046\n",
      "C(s6)[T.unstress]     -0.1252      0.509     -0.246      0.806      -1.124       0.873\n",
      "C(s8)[T.stress]       -0.8478      0.539     -1.573      0.116      -1.904       0.209\n",
      "C(s8)[T.unstress]     -0.3717      0.613     -0.606      0.544      -1.574       0.830\n",
      "syllables             -1.6630      0.265     -6.271      0.000      -2.183      -1.143\n",
      "subjectivity           1.1132      0.293      3.804      0.000       0.540       1.687\n",
      "======================================================================================\n"
     ]
    }
   ],
   "source": [
    "modela = smf.glm(formula = aic_step_formula, data=final_df, family=sm.families.Binomial())\n",
    "my_modela = modela.fit()\n",
    "print(my_modela.summary())"
   ]
  },
  {
   "cell_type": "markdown",
   "metadata": {},
   "source": [
    "### BIC"
   ]
  },
  {
   "cell_type": "code",
   "execution_count": 203,
   "metadata": {},
   "outputs": [
    {
     "name": "stdout",
     "output_type": "stream",
     "text": [
      "remaining =  ['syllables', 'C(s1)', 'C(s2)', 'C(s3)', 'C(s4)', 'C(s5)', 'C(s6)', 'C(s7)', 'C(s8)', 'C(s9)', 'C(s10)', 'C(s11)', 'C(s12)', 'polarity', 'subjectivity']\n",
      "response =  sonnet\n",
      "sonnet ~ C(s11) + C(s1) + C(s7) + C(s3) + C(s5) + C(s9) + syllables + C(s12) + C(s10) + C(s2) + subjectivity + C(s4) + 1\n"
     ]
    }
   ],
   "source": [
    "my_pred = [\"syllables\",\"C(s1)\",\"C(s2)\",\"C(s3)\",\"C(s4)\",\"C(s5)\",\"C(s6)\",\"C(s7)\",\"C(s8)\",\"C(s9)\",\"C(s10)\",\"C(s11)\",\"C(s12)\",\"polarity\",\"subjectivity\"]\n",
    "bic_step_formula = step_wise_forward_selected(final_df, my_pred, \"sonnet\", False)\n",
    "print(bic_step_formula)"
   ]
  },
  {
   "cell_type": "code",
   "execution_count": 204,
   "metadata": {},
   "outputs": [],
   "source": [
    "Yb, Xb = dmatrices(bic_step_formula, data=final_df)"
   ]
  },
  {
   "cell_type": "code",
   "execution_count": 205,
   "metadata": {},
   "outputs": [
    {
     "name": "stdout",
     "output_type": "stream",
     "text": [
      "                 Generalized Linear Model Regression Results                  \n",
      "==============================================================================\n",
      "Dep. Variable:                 sonnet   No. Observations:                 3497\n",
      "Model:                            GLM   Df Residuals:                     3474\n",
      "Model Family:                Binomial   Df Model:                           22\n",
      "Link Function:                  logit   Scale:                          1.0000\n",
      "Method:                          IRLS   Log-Likelihood:                -376.85\n",
      "Date:                Sat, 12 Oct 2019   Deviance:                       753.70\n",
      "Time:                        11:37:15   Pearson chi2:                 5.28e+03\n",
      "No. Iterations:                    22   Covariance Type:             nonrobust\n",
      "======================================================================================\n",
      "                         coef    std err          z      P>|z|      [0.025      0.975]\n",
      "--------------------------------------------------------------------------------------\n",
      "Intercept             26.5920      3.029      8.780      0.000      20.656      32.528\n",
      "C(s11)[T.stress]      -5.1830      0.299    -17.350      0.000      -5.769      -4.597\n",
      "C(s11)[T.unstress]    -3.6989      0.351    -10.552      0.000      -4.386      -3.012\n",
      "C(s1)[T.stress]       -0.0386      0.540     -0.071      0.943      -1.097       1.020\n",
      "C(s1)[T.unstress]      3.0398      0.604      5.030      0.000       1.855       4.224\n",
      "C(s7)[T.stress]       -1.2652      0.413     -3.065      0.002      -2.074      -0.456\n",
      "C(s7)[T.unstress]      0.6555      0.442      1.482      0.138      -0.211       1.522\n",
      "C(s3)[T.stress]       -0.2352      0.493     -0.478      0.633      -1.201       0.730\n",
      "C(s3)[T.unstress]      1.9826      0.525      3.780      0.000       0.955       3.011\n",
      "C(s5)[T.stress]       -2.4575      0.477     -5.155      0.000      -3.392      -1.523\n",
      "C(s5)[T.unstress]     -1.2332      0.493     -2.503      0.012      -2.199      -0.267\n",
      "C(s9)[T.stress]       -1.8723      0.465     -4.029      0.000      -2.783      -0.961\n",
      "C(s9)[T.unstress]     -0.6767      0.485     -1.395      0.163      -1.627       0.274\n",
      "C(s12)[T.stress]      25.8487   1.48e+04      0.002      0.999    -2.9e+04    2.91e+04\n",
      "C(s12)[T.unstress]    27.9796   4.87e+04      0.001      1.000   -9.54e+04    9.54e+04\n",
      "C(s10)[T.stress]      -0.6827      0.377     -1.812      0.070      -1.421       0.056\n",
      "C(s10)[T.unstress]     0.7650      0.445      1.721      0.085      -0.106       1.636\n",
      "C(s2)[T.stress]       -2.3478      0.488     -4.814      0.000      -3.304      -1.392\n",
      "C(s2)[T.unstress]     -2.0740      0.584     -3.550      0.000      -3.219      -0.929\n",
      "C(s4)[T.stress]       -1.1236      0.499     -2.251      0.024      -2.102      -0.145\n",
      "C(s4)[T.unstress]     -2.3715      0.627     -3.779      0.000      -3.601      -1.142\n",
      "syllables             -1.5922      0.261     -6.111      0.000      -2.103      -1.082\n",
      "subjectivity           1.1128      0.290      3.835      0.000       0.544       1.681\n",
      "======================================================================================\n"
     ]
    }
   ],
   "source": [
    "modelb = smf.glm(formula = bic_step_formula, data=final_df, family=sm.families.Binomial())\n",
    "my_modelb = modelb.fit()\n",
    "print(my_modelb.summary())"
   ]
  },
  {
   "cell_type": "markdown",
   "metadata": {},
   "source": [
    "## Cross Val Scores"
   ]
  },
  {
   "cell_type": "code",
   "execution_count": 206,
   "metadata": {},
   "outputs": [
    {
     "name": "stdout",
     "output_type": "stream",
     "text": [
      "[0.97428571 0.95571429 0.95565093 0.94706724 0.95135908]\n",
      "0.9568154506437768\n"
     ]
    },
    {
     "name": "stderr",
     "output_type": "stream",
     "text": [
      "/anaconda3/lib/python3.6/site-packages/sklearn/linear_model/logistic.py:432: FutureWarning: Default solver will be changed to 'lbfgs' in 0.22. Specify a solver to silence this warning.\n",
      "  FutureWarning)\n",
      "/anaconda3/lib/python3.6/site-packages/sklearn/linear_model/logistic.py:432: FutureWarning: Default solver will be changed to 'lbfgs' in 0.22. Specify a solver to silence this warning.\n",
      "  FutureWarning)\n",
      "/anaconda3/lib/python3.6/site-packages/sklearn/linear_model/logistic.py:432: FutureWarning: Default solver will be changed to 'lbfgs' in 0.22. Specify a solver to silence this warning.\n",
      "  FutureWarning)\n",
      "/anaconda3/lib/python3.6/site-packages/sklearn/linear_model/logistic.py:432: FutureWarning: Default solver will be changed to 'lbfgs' in 0.22. Specify a solver to silence this warning.\n",
      "  FutureWarning)\n",
      "/anaconda3/lib/python3.6/site-packages/sklearn/linear_model/logistic.py:432: FutureWarning: Default solver will be changed to 'lbfgs' in 0.22. Specify a solver to silence this warning.\n",
      "  FutureWarning)\n"
     ]
    }
   ],
   "source": [
    "scores1 = cross_val_score(logreg, X, np.ravel(Y), cv=5)\n",
    "print(scores1)\n",
    "print(np.mean(scores1))"
   ]
  },
  {
   "cell_type": "code",
   "execution_count": 207,
   "metadata": {},
   "outputs": [
    {
     "name": "stdout",
     "output_type": "stream",
     "text": [
      "[0.97571429 0.96       0.95565093 0.94420601 0.95708155]\n",
      "0.9585305538524423\n"
     ]
    },
    {
     "name": "stderr",
     "output_type": "stream",
     "text": [
      "/anaconda3/lib/python3.6/site-packages/sklearn/linear_model/logistic.py:432: FutureWarning: Default solver will be changed to 'lbfgs' in 0.22. Specify a solver to silence this warning.\n",
      "  FutureWarning)\n",
      "/anaconda3/lib/python3.6/site-packages/sklearn/linear_model/logistic.py:432: FutureWarning: Default solver will be changed to 'lbfgs' in 0.22. Specify a solver to silence this warning.\n",
      "  FutureWarning)\n",
      "/anaconda3/lib/python3.6/site-packages/sklearn/linear_model/logistic.py:432: FutureWarning: Default solver will be changed to 'lbfgs' in 0.22. Specify a solver to silence this warning.\n",
      "  FutureWarning)\n",
      "/anaconda3/lib/python3.6/site-packages/sklearn/linear_model/logistic.py:432: FutureWarning: Default solver will be changed to 'lbfgs' in 0.22. Specify a solver to silence this warning.\n",
      "  FutureWarning)\n",
      "/anaconda3/lib/python3.6/site-packages/sklearn/linear_model/logistic.py:432: FutureWarning: Default solver will be changed to 'lbfgs' in 0.22. Specify a solver to silence this warning.\n",
      "  FutureWarning)\n"
     ]
    }
   ],
   "source": [
    "scoresa = cross_val_score(logreg, Xa, np.ravel(Ya), cv=5)\n",
    "print(scoresa)\n",
    "print(np.mean(scoresa))"
   ]
  },
  {
   "cell_type": "code",
   "execution_count": 208,
   "metadata": {},
   "outputs": [
    {
     "name": "stderr",
     "output_type": "stream",
     "text": [
      "/anaconda3/lib/python3.6/site-packages/sklearn/linear_model/logistic.py:432: FutureWarning: Default solver will be changed to 'lbfgs' in 0.22. Specify a solver to silence this warning.\n",
      "  FutureWarning)\n",
      "/anaconda3/lib/python3.6/site-packages/sklearn/linear_model/logistic.py:432: FutureWarning: Default solver will be changed to 'lbfgs' in 0.22. Specify a solver to silence this warning.\n",
      "  FutureWarning)\n",
      "/anaconda3/lib/python3.6/site-packages/sklearn/linear_model/logistic.py:432: FutureWarning: Default solver will be changed to 'lbfgs' in 0.22. Specify a solver to silence this warning.\n",
      "  FutureWarning)\n"
     ]
    },
    {
     "name": "stdout",
     "output_type": "stream",
     "text": [
      "[0.97571429 0.95857143 0.95565093 0.94420601 0.94849785]\n",
      "0.9565281013693031\n"
     ]
    },
    {
     "name": "stderr",
     "output_type": "stream",
     "text": [
      "/anaconda3/lib/python3.6/site-packages/sklearn/linear_model/logistic.py:432: FutureWarning: Default solver will be changed to 'lbfgs' in 0.22. Specify a solver to silence this warning.\n",
      "  FutureWarning)\n",
      "/anaconda3/lib/python3.6/site-packages/sklearn/linear_model/logistic.py:432: FutureWarning: Default solver will be changed to 'lbfgs' in 0.22. Specify a solver to silence this warning.\n",
      "  FutureWarning)\n"
     ]
    }
   ],
   "source": [
    "scoresb = cross_val_score(logreg, Xb, np.ravel(Yb), cv=5)\n",
    "print(scoresb)\n",
    "print(np.mean(scoresb))"
   ]
  },
  {
   "cell_type": "code",
   "execution_count": 209,
   "metadata": {},
   "outputs": [
    {
     "name": "stderr",
     "output_type": "stream",
     "text": [
      "/anaconda3/lib/python3.6/site-packages/sklearn/linear_model/logistic.py:432: FutureWarning: Default solver will be changed to 'lbfgs' in 0.22. Specify a solver to silence this warning.\n",
      "  FutureWarning)\n"
     ]
    },
    {
     "data": {
      "text/plain": [
       "(28, 28)"
      ]
     },
     "execution_count": 209,
     "metadata": {},
     "output_type": "execute_result"
    }
   ],
   "source": [
    "logreg.fit(X,np.ravel(Y))\n",
    "pp = logreg.predict_proba(X)\n",
    "y_pred_50pct = logreg.predict(X)\n",
    "\n",
    "model_features = ['syllables', 's1', 's2', 's3', 's4', 's5', 's6', 's7', 's8', 's9', 's10', 's11', 's12', 'polarity', 'subjectivity']\n",
    "\n",
    "# zip(model_features, logreg.coef_)\n",
    "\n",
    "len(model_features), len(logreg.coef_[0])\n",
    "len(X.design_info.column_names), len(logreg.coef_[0])"
   ]
  },
  {
   "cell_type": "markdown",
   "metadata": {},
   "source": [
    "# ROC curve"
   ]
  },
  {
   "cell_type": "code",
   "execution_count": 210,
   "metadata": {},
   "outputs": [
    {
     "data": {
      "image/png": "[encoded data removed]",
      "text/plain": [
       "<Figure size 792x648 with 1 Axes>"
      ]
     },
     "metadata": {
      "needs_background": "light"
     },
     "output_type": "display_data"
    }
   ],
   "source": [
    "Ytrue = pd.Series(np.ravel(Y))\n",
    "Y_score = logreg.decision_function(X)\n",
    "\n",
    "FPR = dict()\n",
    "TPR = dict()\n",
    "ROC_AUC = dict()\n",
    "\n",
    "# For class 1, find the area under the curve\n",
    "FPR[1], TPR[1], _ = roc_curve(Ytrue, Y_score)\n",
    "ROC_AUC[1] = auc(FPR[1], TPR[1])\n",
    "\n",
    "# Plot of a ROC curve for class 1 (has_cancer)\n",
    "plt.figure(figsize=[11,9])\n",
    "plt.plot(FPR[1], TPR[1], label='ROC curve (area = %0.2f)' % ROC_AUC[1], linewidth=4)\n",
    "plt.plot([0, 1], [0, 1], 'k--', linewidth=4)\n",
    "plt.xlim([0.0, 1.0])\n",
    "plt.ylim([0.0, 1.05])\n",
    "plt.xlabel('False Positive Rate', fontsize=18)\n",
    "plt.ylabel('True Positive Rate', fontsize=18)\n",
    "plt.title('Identifying Iambic Pentameter: Logistic', fontsize=18)\n",
    "plt.legend(loc=\"lower right\")\n",
    "plt.show()"
   ]
  },
  {
   "cell_type": "markdown",
   "metadata": {},
   "source": [
    "# Confusion Matrix"
   ]
  },
  {
   "cell_type": "code",
   "execution_count": 211,
   "metadata": {},
   "outputs": [
    {
     "data": {
      "text/html": [
       "<div>\n",
       "<style scoped>\n",
       "    .dataframe tbody tr th:only-of-type {\n",
       "        vertical-align: middle;\n",
       "    }\n",
       "\n",
       "    .dataframe tbody tr th {\n",
       "        vertical-align: top;\n",
       "    }\n",
       "\n",
       "    .dataframe thead th {\n",
       "        text-align: right;\n",
       "    }\n",
       "</style>\n",
       "<table border=\"1\" class=\"dataframe\">\n",
       "  <thead>\n",
       "    <tr style=\"text-align: right;\">\n",
       "      <th>Predicted</th>\n",
       "      <th>0.0</th>\n",
       "      <th>1.0</th>\n",
       "      <th>All</th>\n",
       "    </tr>\n",
       "    <tr>\n",
       "      <th>True</th>\n",
       "      <th></th>\n",
       "      <th></th>\n",
       "      <th></th>\n",
       "    </tr>\n",
       "  </thead>\n",
       "  <tbody>\n",
       "    <tr>\n",
       "      <th>0.0</th>\n",
       "      <td>1649</td>\n",
       "      <td>56</td>\n",
       "      <td>1705</td>\n",
       "    </tr>\n",
       "    <tr>\n",
       "      <th>1.0</th>\n",
       "      <td>79</td>\n",
       "      <td>1713</td>\n",
       "      <td>1792</td>\n",
       "    </tr>\n",
       "    <tr>\n",
       "      <th>All</th>\n",
       "      <td>1728</td>\n",
       "      <td>1769</td>\n",
       "      <td>3497</td>\n",
       "    </tr>\n",
       "  </tbody>\n",
       "</table>\n",
       "</div>"
      ],
      "text/plain": [
       "Predicted   0.0   1.0   All\n",
       "True                       \n",
       "0.0        1649    56  1705\n",
       "1.0          79  1713  1792\n",
       "All        1728  1769  3497"
      ]
     },
     "execution_count": 211,
     "metadata": {},
     "output_type": "execute_result"
    }
   ],
   "source": [
    "Ytrue = pd.Series(np.ravel(Y))\n",
    "Ypred50 = pd.Series(y_pred_50pct)\n",
    "pd.crosstab(Ytrue, Ypred50, rownames = ['True'], colnames = ['Predicted'], margins = True)"
   ]
  },
  {
   "cell_type": "markdown",
   "metadata": {},
   "source": [
    "# Model Evaluation:"
   ]
  },
  {
   "cell_type": "markdown",
   "metadata": {},
   "source": [
    "### Deviance Chi-Squared Test"
   ]
  },
  {
   "cell_type": "code",
   "execution_count": 235,
   "metadata": {},
   "outputs": [
    {
     "name": "stdout",
     "output_type": "stream",
     "text": [
      "13.301122101709439\n",
      "33.92443847144379\n"
     ]
    }
   ],
   "source": [
    "# Comparing Reduced vs. Full Model\n",
    "\n",
    "g_full_model = my_model1.deviance     # values from summary tables above\n",
    "g_reduced_model = my_modelb.deviance\n",
    "\n",
    "delta_G_squared = g_reduced_model - g_full_model\n",
    "print(delta_G_squared)\n",
    "\n",
    "chi_val = chi2.isf(0.05, 22, loc=0, scale=1) # where df is from reduced model\n",
    "print(chi_val)"
   ]
  },
  {
   "cell_type": "markdown",
   "metadata": {},
   "source": [
    "Thus, since our delta G-squared value is smaller than our chi-squared value, we fail to reject the null hypothesis in favor of the alternative which is our reduced model."
   ]
  },
  {
   "cell_type": "markdown",
   "metadata": {},
   "source": [
    "### Wald's Test"
   ]
  },
  {
   "cell_type": "code",
   "execution_count": null,
   "metadata": {},
   "outputs": [],
   "source": [
    "# Testing for the significance of individual regression coefficients\n",
    "# Assume Ho: Bi=0 vs Ha: Bi!=0"
   ]
  }
 ],
 "metadata": {
  "kernelspec": {
   "display_name": "Python 3",
   "language": "python",
   "name": "python3"
  },
  "language_info": {
   "codemirror_mode": {
    "name": "ipython",
    "version": 3
   },
   "file_extension": ".py",
   "mimetype": "text/x-python",
   "name": "python",
   "nbconvert_exporter": "python",
   "pygments_lexer": "ipython3",
   "version": "3.6.9"
  }
 },
 "nbformat": 4,
 "nbformat_minor": 2
}

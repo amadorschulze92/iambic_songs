{
 "cells": [
  {
   "cell_type": "code",
   "execution_count": 1,
   "metadata": {},
   "outputs": [],
   "source": [
    "import string\n",
    "import numpy as np\n",
    "import pandas as pd\n",
    "\n",
    "from sklearn.linear_model import LogisticRegression\n",
    "from sklearn.model_selection import cross_val_score\n",
    "from sklearn import metrics\n",
    "from patsy import dmatrices\n",
    "\n",
    "from sklearn.metrics import roc_curve, auc, classification_report\n",
    "from sklearn.model_selection import train_test_split\n",
    "from sklearn.preprocessing import label_binarize\n",
    "from scipy import interp\n",
    "\n",
    "import seaborn as sns\n",
    "import matplotlib.pyplot as plt\n",
    "\n",
    "%matplotlib inline"
   ]
  },
  {
   "cell_type": "markdown",
   "metadata": {},
   "source": [
    "# Import data"
   ]
  },
  {
   "cell_type": "code",
   "execution_count": 2,
   "metadata": {},
   "outputs": [
    {
     "data": {
      "text/html": [
       "<div>\n",
       "<style scoped>\n",
       "    .dataframe tbody tr th:only-of-type {\n",
       "        vertical-align: middle;\n",
       "    }\n",
       "\n",
       "    .dataframe tbody tr th {\n",
       "        vertical-align: top;\n",
       "    }\n",
       "\n",
       "    .dataframe thead th {\n",
       "        text-align: right;\n",
       "    }\n",
       "</style>\n",
       "<table border=\"1\" class=\"dataframe\">\n",
       "  <thead>\n",
       "    <tr style=\"text-align: right;\">\n",
       "      <th></th>\n",
       "      <th>sonnet_index</th>\n",
       "      <th>syllables</th>\n",
       "      <th>s1</th>\n",
       "      <th>s2</th>\n",
       "      <th>s3</th>\n",
       "      <th>s4</th>\n",
       "      <th>s5</th>\n",
       "      <th>s6</th>\n",
       "      <th>s7</th>\n",
       "      <th>s8</th>\n",
       "      <th>s9</th>\n",
       "      <th>s10</th>\n",
       "      <th>s11</th>\n",
       "      <th>s12</th>\n",
       "      <th>word_list</th>\n",
       "      <th>sonnet_num</th>\n",
       "      <th>author</th>\n",
       "      <th>polarity</th>\n",
       "      <th>subjectivity</th>\n",
       "      <th>sonnet</th>\n",
       "    </tr>\n",
       "  </thead>\n",
       "  <tbody>\n",
       "    <tr>\n",
       "      <th>0</th>\n",
       "      <td>1</td>\n",
       "      <td>11</td>\n",
       "      <td>stress</td>\n",
       "      <td>stress</td>\n",
       "      <td>stress</td>\n",
       "      <td>stress</td>\n",
       "      <td>stress</td>\n",
       "      <td>unstress</td>\n",
       "      <td>stress</td>\n",
       "      <td>stress</td>\n",
       "      <td>stress</td>\n",
       "      <td>stress</td>\n",
       "      <td>unstress</td>\n",
       "      <td>missing</td>\n",
       "      <td>['And', 'I', 'was', 'right', 'there', 'beside'...</td>\n",
       "      <td>1</td>\n",
       "      <td>taylor_swift</td>\n",
       "      <td>0.285714</td>\n",
       "      <td>0.535714</td>\n",
       "      <td>0</td>\n",
       "    </tr>\n",
       "    <tr>\n",
       "      <th>1</th>\n",
       "      <td>22</td>\n",
       "      <td>11</td>\n",
       "      <td>stress</td>\n",
       "      <td>stress</td>\n",
       "      <td>stress</td>\n",
       "      <td>stress</td>\n",
       "      <td>stress</td>\n",
       "      <td>stress</td>\n",
       "      <td>stress</td>\n",
       "      <td>stress</td>\n",
       "      <td>unstress</td>\n",
       "      <td>stress</td>\n",
       "      <td>unstress</td>\n",
       "      <td>missing</td>\n",
       "      <td>['So', 'go', 'and', 'tell', 'your', 'friends',...</td>\n",
       "      <td>22</td>\n",
       "      <td>taylor_swift</td>\n",
       "      <td>0.000000</td>\n",
       "      <td>0.000000</td>\n",
       "      <td>0</td>\n",
       "    </tr>\n",
       "    <tr>\n",
       "      <th>2</th>\n",
       "      <td>26</td>\n",
       "      <td>11</td>\n",
       "      <td>stress</td>\n",
       "      <td>stress</td>\n",
       "      <td>stress</td>\n",
       "      <td>stress</td>\n",
       "      <td>unstress</td>\n",
       "      <td>stress</td>\n",
       "      <td>stress</td>\n",
       "      <td>unstress</td>\n",
       "      <td>stress</td>\n",
       "      <td>unstress</td>\n",
       "      <td>stress</td>\n",
       "      <td>missing</td>\n",
       "      <td>['And', 'if', 'you', 'come', 'around', 'saying...</td>\n",
       "      <td>26</td>\n",
       "      <td>taylor_swift</td>\n",
       "      <td>-0.500000</td>\n",
       "      <td>1.000000</td>\n",
       "      <td>0</td>\n",
       "    </tr>\n",
       "    <tr>\n",
       "      <th>3</th>\n",
       "      <td>35</td>\n",
       "      <td>11</td>\n",
       "      <td>stress</td>\n",
       "      <td>stress</td>\n",
       "      <td>stress</td>\n",
       "      <td>stress</td>\n",
       "      <td>stress</td>\n",
       "      <td>stress</td>\n",
       "      <td>stress</td>\n",
       "      <td>stress</td>\n",
       "      <td>unstress</td>\n",
       "      <td>unstress</td>\n",
       "      <td>stress</td>\n",
       "      <td>missing</td>\n",
       "      <td>['He', 'says', 'he', 'so', 'in', 'love', 'he',...</td>\n",
       "      <td>35</td>\n",
       "      <td>taylor_swift</td>\n",
       "      <td>0.250000</td>\n",
       "      <td>0.800000</td>\n",
       "      <td>0</td>\n",
       "    </tr>\n",
       "    <tr>\n",
       "      <th>4</th>\n",
       "      <td>46</td>\n",
       "      <td>11</td>\n",
       "      <td>stress</td>\n",
       "      <td>stress</td>\n",
       "      <td>stress</td>\n",
       "      <td>stress</td>\n",
       "      <td>unstress</td>\n",
       "      <td>stress</td>\n",
       "      <td>stress</td>\n",
       "      <td>stress</td>\n",
       "      <td>stress</td>\n",
       "      <td>stress</td>\n",
       "      <td>stress</td>\n",
       "      <td>missing</td>\n",
       "      <td>['So', 'I', 'drive', 'home', 'alone', 'as', 'I...</td>\n",
       "      <td>46</td>\n",
       "      <td>taylor_swift</td>\n",
       "      <td>0.000000</td>\n",
       "      <td>0.000000</td>\n",
       "      <td>0</td>\n",
       "    </tr>\n",
       "  </tbody>\n",
       "</table>\n",
       "</div>"
      ],
      "text/plain": [
       "   sonnet_index  syllables      s1      s2      s3      s4        s5  \\\n",
       "0             1         11  stress  stress  stress  stress    stress   \n",
       "1            22         11  stress  stress  stress  stress    stress   \n",
       "2            26         11  stress  stress  stress  stress  unstress   \n",
       "3            35         11  stress  stress  stress  stress    stress   \n",
       "4            46         11  stress  stress  stress  stress  unstress   \n",
       "\n",
       "         s6      s7        s8        s9       s10       s11      s12  \\\n",
       "0  unstress  stress    stress    stress    stress  unstress  missing   \n",
       "1    stress  stress    stress  unstress    stress  unstress  missing   \n",
       "2    stress  stress  unstress    stress  unstress    stress  missing   \n",
       "3    stress  stress    stress  unstress  unstress    stress  missing   \n",
       "4    stress  stress    stress    stress    stress    stress  missing   \n",
       "\n",
       "                                           word_list  sonnet_num  \\\n",
       "0  ['And', 'I', 'was', 'right', 'there', 'beside'...           1   \n",
       "1  ['So', 'go', 'and', 'tell', 'your', 'friends',...          22   \n",
       "2  ['And', 'if', 'you', 'come', 'around', 'saying...          26   \n",
       "3  ['He', 'says', 'he', 'so', 'in', 'love', 'he',...          35   \n",
       "4  ['So', 'I', 'drive', 'home', 'alone', 'as', 'I...          46   \n",
       "\n",
       "         author  polarity  subjectivity  sonnet  \n",
       "0  taylor_swift  0.285714      0.535714       0  \n",
       "1  taylor_swift  0.000000      0.000000       0  \n",
       "2  taylor_swift -0.500000      1.000000       0  \n",
       "3  taylor_swift  0.250000      0.800000       0  \n",
       "4  taylor_swift  0.000000      0.000000       0  "
      ]
     },
     "execution_count": 2,
     "metadata": {},
     "output_type": "execute_result"
    }
   ],
   "source": [
    "# Create Taylor Swift Dataframe\n",
    "taylor_df = pd.read_csv('./taylor_swift_IP.csv')\n",
    "taylor_df.columns = ['unnamed', 'sonnet_index', 'syllables', 's1', 's2', 's3',\n",
    "       's4', 's5', 's6', 's7', 's8', 's9', 's10', 's11', 's12',\n",
    "       'word_list', 'sonnet_num', 'author', 'polarity', 'subjectivity']\n",
    "\n",
    "taylor_df['sonnet'] = taylor_df.apply(lambda x: 0, axis=1)\n",
    "\n",
    "# unnecessary columns\n",
    "\n",
    "taylor_df = taylor_df.drop('unnamed', axis=1)\n",
    "\n",
    "taylor_df.head()"
   ]
  },
  {
   "cell_type": "code",
   "execution_count": 3,
   "metadata": {},
   "outputs": [
    {
     "name": "stdout",
     "output_type": "stream",
     "text": [
      "<class 'pandas.core.frame.DataFrame'>\n",
      "RangeIndex: 470 entries, 0 to 469\n",
      "Data columns (total 20 columns):\n",
      "sonnet_index    470 non-null int64\n",
      "syllables       470 non-null int64\n",
      "s1              470 non-null object\n",
      "s2              470 non-null object\n",
      "s3              470 non-null object\n",
      "s4              470 non-null object\n",
      "s5              470 non-null object\n",
      "s6              470 non-null object\n",
      "s7              470 non-null object\n",
      "s8              470 non-null object\n",
      "s9              470 non-null object\n",
      "s10             470 non-null object\n",
      "s11             470 non-null object\n",
      "s12             470 non-null object\n",
      "word_list       470 non-null object\n",
      "sonnet_num      470 non-null int64\n",
      "author          470 non-null object\n",
      "polarity        470 non-null float64\n",
      "subjectivity    470 non-null float64\n",
      "sonnet          470 non-null int64\n",
      "dtypes: float64(2), int64(4), object(14)\n",
      "memory usage: 73.5+ KB\n"
     ]
    }
   ],
   "source": [
    "taylor_df.info()"
   ]
  },
  {
   "cell_type": "code",
   "execution_count": 4,
   "metadata": {},
   "outputs": [
    {
     "data": {
      "text/html": [
       "<div>\n",
       "<style scoped>\n",
       "    .dataframe tbody tr th:only-of-type {\n",
       "        vertical-align: middle;\n",
       "    }\n",
       "\n",
       "    .dataframe tbody tr th {\n",
       "        vertical-align: top;\n",
       "    }\n",
       "\n",
       "    .dataframe thead th {\n",
       "        text-align: right;\n",
       "    }\n",
       "</style>\n",
       "<table border=\"1\" class=\"dataframe\">\n",
       "  <thead>\n",
       "    <tr style=\"text-align: right;\">\n",
       "      <th></th>\n",
       "      <th>sonnet_index</th>\n",
       "      <th>syllables</th>\n",
       "      <th>s1</th>\n",
       "      <th>s2</th>\n",
       "      <th>s3</th>\n",
       "      <th>s4</th>\n",
       "      <th>s5</th>\n",
       "      <th>s6</th>\n",
       "      <th>s7</th>\n",
       "      <th>s8</th>\n",
       "      <th>s9</th>\n",
       "      <th>s10</th>\n",
       "      <th>s11</th>\n",
       "      <th>s12</th>\n",
       "      <th>word_list</th>\n",
       "      <th>sonnet_num</th>\n",
       "      <th>author</th>\n",
       "      <th>polarity</th>\n",
       "      <th>subjectivity</th>\n",
       "      <th>sonnet</th>\n",
       "    </tr>\n",
       "  </thead>\n",
       "  <tbody>\n",
       "    <tr>\n",
       "      <th>0</th>\n",
       "      <td>0</td>\n",
       "      <td>11</td>\n",
       "      <td>stress</td>\n",
       "      <td>stress</td>\n",
       "      <td>stress</td>\n",
       "      <td>unstress</td>\n",
       "      <td>stress</td>\n",
       "      <td>unstress</td>\n",
       "      <td>unstress</td>\n",
       "      <td>stress</td>\n",
       "      <td>stress</td>\n",
       "      <td>stress</td>\n",
       "      <td>stress</td>\n",
       "      <td>missing</td>\n",
       "      <td>['Your', 'ten', 'thousand', 'promises', 'That'...</td>\n",
       "      <td>0</td>\n",
       "      <td>bsb</td>\n",
       "      <td>0.0</td>\n",
       "      <td>0.0</td>\n",
       "      <td>0</td>\n",
       "    </tr>\n",
       "    <tr>\n",
       "      <th>1</th>\n",
       "      <td>8</td>\n",
       "      <td>11</td>\n",
       "      <td>stress</td>\n",
       "      <td>stress</td>\n",
       "      <td>unstress</td>\n",
       "      <td>stress</td>\n",
       "      <td>stress</td>\n",
       "      <td>stress</td>\n",
       "      <td>stress</td>\n",
       "      <td>unstress</td>\n",
       "      <td>stress</td>\n",
       "      <td>stress</td>\n",
       "      <td>stress</td>\n",
       "      <td>missing</td>\n",
       "      <td>['Who', 'wasted', 'my', 'time', 'and', 'money'...</td>\n",
       "      <td>8</td>\n",
       "      <td>bsb</td>\n",
       "      <td>-0.2</td>\n",
       "      <td>0.0</td>\n",
       "      <td>0</td>\n",
       "    </tr>\n",
       "    <tr>\n",
       "      <th>2</th>\n",
       "      <td>24</td>\n",
       "      <td>11</td>\n",
       "      <td>stress</td>\n",
       "      <td>stress</td>\n",
       "      <td>stress</td>\n",
       "      <td>unstress</td>\n",
       "      <td>stress</td>\n",
       "      <td>unstress</td>\n",
       "      <td>unstress</td>\n",
       "      <td>stress</td>\n",
       "      <td>stress</td>\n",
       "      <td>stress</td>\n",
       "      <td>stress</td>\n",
       "      <td>missing</td>\n",
       "      <td>['Your', 'ten', 'thousand', 'promises', 'That'...</td>\n",
       "      <td>24</td>\n",
       "      <td>bsb</td>\n",
       "      <td>0.0</td>\n",
       "      <td>0.0</td>\n",
       "      <td>0</td>\n",
       "    </tr>\n",
       "    <tr>\n",
       "      <th>3</th>\n",
       "      <td>27</td>\n",
       "      <td>11</td>\n",
       "      <td>stress</td>\n",
       "      <td>stress</td>\n",
       "      <td>stress</td>\n",
       "      <td>unstress</td>\n",
       "      <td>stress</td>\n",
       "      <td>unstress</td>\n",
       "      <td>unstress</td>\n",
       "      <td>stress</td>\n",
       "      <td>stress</td>\n",
       "      <td>stress</td>\n",
       "      <td>stress</td>\n",
       "      <td>missing</td>\n",
       "      <td>['Your', 'ten', 'thousand', 'promises', 'That'...</td>\n",
       "      <td>27</td>\n",
       "      <td>bsb</td>\n",
       "      <td>0.0</td>\n",
       "      <td>0.0</td>\n",
       "      <td>0</td>\n",
       "    </tr>\n",
       "    <tr>\n",
       "      <th>4</th>\n",
       "      <td>28</td>\n",
       "      <td>11</td>\n",
       "      <td>stress</td>\n",
       "      <td>stress</td>\n",
       "      <td>stress</td>\n",
       "      <td>missing</td>\n",
       "      <td>stress</td>\n",
       "      <td>missing</td>\n",
       "      <td>stress</td>\n",
       "      <td>stress</td>\n",
       "      <td>stress</td>\n",
       "      <td>missing</td>\n",
       "      <td>stress</td>\n",
       "      <td>missing</td>\n",
       "      <td>['What', 'a', 'lie', '(what', 'a', 'lie)', 'Yo...</td>\n",
       "      <td>28</td>\n",
       "      <td>bsb</td>\n",
       "      <td>0.0</td>\n",
       "      <td>0.0</td>\n",
       "      <td>0</td>\n",
       "    </tr>\n",
       "  </tbody>\n",
       "</table>\n",
       "</div>"
      ],
      "text/plain": [
       "   sonnet_index  syllables      s1      s2        s3        s4      s5  \\\n",
       "0             0         11  stress  stress    stress  unstress  stress   \n",
       "1             8         11  stress  stress  unstress    stress  stress   \n",
       "2            24         11  stress  stress    stress  unstress  stress   \n",
       "3            27         11  stress  stress    stress  unstress  stress   \n",
       "4            28         11  stress  stress    stress   missing  stress   \n",
       "\n",
       "         s6        s7        s8      s9      s10     s11      s12  \\\n",
       "0  unstress  unstress    stress  stress   stress  stress  missing   \n",
       "1    stress    stress  unstress  stress   stress  stress  missing   \n",
       "2  unstress  unstress    stress  stress   stress  stress  missing   \n",
       "3  unstress  unstress    stress  stress   stress  stress  missing   \n",
       "4   missing    stress    stress  stress  missing  stress  missing   \n",
       "\n",
       "                                           word_list  sonnet_num author  \\\n",
       "0  ['Your', 'ten', 'thousand', 'promises', 'That'...           0    bsb   \n",
       "1  ['Who', 'wasted', 'my', 'time', 'and', 'money'...           8    bsb   \n",
       "2  ['Your', 'ten', 'thousand', 'promises', 'That'...          24    bsb   \n",
       "3  ['Your', 'ten', 'thousand', 'promises', 'That'...          27    bsb   \n",
       "4  ['What', 'a', 'lie', '(what', 'a', 'lie)', 'Yo...          28    bsb   \n",
       "\n",
       "   polarity  subjectivity  sonnet  \n",
       "0       0.0           0.0       0  \n",
       "1      -0.2           0.0       0  \n",
       "2       0.0           0.0       0  \n",
       "3       0.0           0.0       0  \n",
       "4       0.0           0.0       0  "
      ]
     },
     "execution_count": 4,
     "metadata": {},
     "output_type": "execute_result"
    }
   ],
   "source": [
    "# Create BSB Dataframe\n",
    "bsb_df = pd.read_csv('./bsb_IP.csv')\n",
    "bsb_df.columns = ['unnamed', 'sonnet_index', 'syllables', 's1', 's2', 's3',\n",
    "       's4', 's5', 's6', 's7', 's8', 's9', 's10', 's11', 's12',\n",
    "       'word_list', 'sonnet_num', 'author', 'polarity', 'subjectivity']\n",
    "\n",
    "bsb_df['sonnet'] = bsb_df.apply(lambda x: 0, axis=1)\n",
    "\n",
    "# unnecessary columns\n",
    "\n",
    "bsb_df = bsb_df.drop('unnamed', axis=1)\n",
    "\n",
    "bsb_df.head()"
   ]
  },
  {
   "cell_type": "code",
   "execution_count": 5,
   "metadata": {},
   "outputs": [
    {
     "name": "stdout",
     "output_type": "stream",
     "text": [
      "<class 'pandas.core.frame.DataFrame'>\n",
      "RangeIndex: 1235 entries, 0 to 1234\n",
      "Data columns (total 20 columns):\n",
      "sonnet_index    1235 non-null int64\n",
      "syllables       1235 non-null int64\n",
      "s1              1235 non-null object\n",
      "s2              1235 non-null object\n",
      "s3              1235 non-null object\n",
      "s4              1235 non-null object\n",
      "s5              1235 non-null object\n",
      "s6              1235 non-null object\n",
      "s7              1235 non-null object\n",
      "s8              1235 non-null object\n",
      "s9              1235 non-null object\n",
      "s10             1235 non-null object\n",
      "s11             1235 non-null object\n",
      "s12             1235 non-null object\n",
      "word_list       1235 non-null object\n",
      "sonnet_num      1235 non-null int64\n",
      "author          1235 non-null object\n",
      "polarity        1235 non-null float64\n",
      "subjectivity    1235 non-null float64\n",
      "sonnet          1235 non-null int64\n",
      "dtypes: float64(2), int64(4), object(14)\n",
      "memory usage: 193.0+ KB\n"
     ]
    }
   ],
   "source": [
    "bsb_df.info()"
   ]
  },
  {
   "cell_type": "code",
   "execution_count": 6,
   "metadata": {},
   "outputs": [
    {
     "data": {
      "text/html": [
       "<div>\n",
       "<style scoped>\n",
       "    .dataframe tbody tr th:only-of-type {\n",
       "        vertical-align: middle;\n",
       "    }\n",
       "\n",
       "    .dataframe tbody tr th {\n",
       "        vertical-align: top;\n",
       "    }\n",
       "\n",
       "    .dataframe thead th {\n",
       "        text-align: right;\n",
       "    }\n",
       "</style>\n",
       "<table border=\"1\" class=\"dataframe\">\n",
       "  <thead>\n",
       "    <tr style=\"text-align: right;\">\n",
       "      <th></th>\n",
       "      <th>sonnet_index</th>\n",
       "      <th>syllables</th>\n",
       "      <th>s1</th>\n",
       "      <th>s2</th>\n",
       "      <th>s3</th>\n",
       "      <th>s4</th>\n",
       "      <th>s5</th>\n",
       "      <th>s6</th>\n",
       "      <th>s7</th>\n",
       "      <th>s8</th>\n",
       "      <th>s9</th>\n",
       "      <th>s10</th>\n",
       "      <th>s11</th>\n",
       "      <th>s12</th>\n",
       "      <th>word_list</th>\n",
       "      <th>sonnet_num</th>\n",
       "      <th>author</th>\n",
       "      <th>polarity</th>\n",
       "      <th>subjectivity</th>\n",
       "      <th>sonnet</th>\n",
       "    </tr>\n",
       "  </thead>\n",
       "  <tbody>\n",
       "    <tr>\n",
       "      <th>0</th>\n",
       "      <td>2</td>\n",
       "      <td>10</td>\n",
       "      <td>unstress</td>\n",
       "      <td>stress</td>\n",
       "      <td>unstress</td>\n",
       "      <td>stress</td>\n",
       "      <td>unstress</td>\n",
       "      <td>stress</td>\n",
       "      <td>unstress</td>\n",
       "      <td>stress</td>\n",
       "      <td>unstress</td>\n",
       "      <td>stress</td>\n",
       "      <td>missing</td>\n",
       "      <td>missing</td>\n",
       "      <td>['From', 'fairest', 'creatures', 'we', 'desire...</td>\n",
       "      <td>1</td>\n",
       "      <td>Shakespeare</td>\n",
       "      <td>0.00</td>\n",
       "      <td>0.00</td>\n",
       "      <td>1</td>\n",
       "    </tr>\n",
       "    <tr>\n",
       "      <th>1</th>\n",
       "      <td>3</td>\n",
       "      <td>11</td>\n",
       "      <td>unstress</td>\n",
       "      <td>stress</td>\n",
       "      <td>stress</td>\n",
       "      <td>stress</td>\n",
       "      <td>unstress</td>\n",
       "      <td>stress</td>\n",
       "      <td>stress</td>\n",
       "      <td>stress</td>\n",
       "      <td>unstress</td>\n",
       "      <td>stress</td>\n",
       "      <td>missing</td>\n",
       "      <td>missing</td>\n",
       "      <td>['That', 'thereby', 'beauty', 'rose', 'might',...</td>\n",
       "      <td>1</td>\n",
       "      <td>Shakespeare</td>\n",
       "      <td>0.60</td>\n",
       "      <td>0.95</td>\n",
       "      <td>1</td>\n",
       "    </tr>\n",
       "    <tr>\n",
       "      <th>2</th>\n",
       "      <td>4</td>\n",
       "      <td>10</td>\n",
       "      <td>stress</td>\n",
       "      <td>stress</td>\n",
       "      <td>unstress</td>\n",
       "      <td>missing</td>\n",
       "      <td>missing</td>\n",
       "      <td>stress</td>\n",
       "      <td>stress</td>\n",
       "      <td>stress</td>\n",
       "      <td>unstress</td>\n",
       "      <td>stress</td>\n",
       "      <td>missing</td>\n",
       "      <td>missing</td>\n",
       "      <td>['But', 'as', 'the', 'riper', 'should', 'by', ...</td>\n",
       "      <td>1</td>\n",
       "      <td>Shakespeare</td>\n",
       "      <td>0.00</td>\n",
       "      <td>0.00</td>\n",
       "      <td>1</td>\n",
       "    </tr>\n",
       "    <tr>\n",
       "      <th>3</th>\n",
       "      <td>5</td>\n",
       "      <td>10</td>\n",
       "      <td>unstress</td>\n",
       "      <td>stress</td>\n",
       "      <td>unstress</td>\n",
       "      <td>stress</td>\n",
       "      <td>stress</td>\n",
       "      <td>stress</td>\n",
       "      <td>unstress</td>\n",
       "      <td>stress</td>\n",
       "      <td>unstress</td>\n",
       "      <td>unstress</td>\n",
       "      <td>missing</td>\n",
       "      <td>missing</td>\n",
       "      <td>['His', 'tender', 'heir', 'might', 'bear', 'hi...</td>\n",
       "      <td>1</td>\n",
       "      <td>Shakespeare</td>\n",
       "      <td>0.00</td>\n",
       "      <td>0.00</td>\n",
       "      <td>1</td>\n",
       "    </tr>\n",
       "    <tr>\n",
       "      <th>4</th>\n",
       "      <td>6</td>\n",
       "      <td>10</td>\n",
       "      <td>stress</td>\n",
       "      <td>stress</td>\n",
       "      <td>stress</td>\n",
       "      <td>unstress</td>\n",
       "      <td>unstress</td>\n",
       "      <td>stress</td>\n",
       "      <td>stress</td>\n",
       "      <td>stress</td>\n",
       "      <td>stress</td>\n",
       "      <td>stress</td>\n",
       "      <td>missing</td>\n",
       "      <td>missing</td>\n",
       "      <td>['But', 'thou', 'contracted', 'to', 'thine', '...</td>\n",
       "      <td>1</td>\n",
       "      <td>Shakespeare</td>\n",
       "      <td>0.65</td>\n",
       "      <td>0.90</td>\n",
       "      <td>1</td>\n",
       "    </tr>\n",
       "  </tbody>\n",
       "</table>\n",
       "</div>"
      ],
      "text/plain": [
       "   sonnet_index  syllables        s1      s2        s3        s4        s5  \\\n",
       "0             2         10  unstress  stress  unstress    stress  unstress   \n",
       "1             3         11  unstress  stress    stress    stress  unstress   \n",
       "2             4         10    stress  stress  unstress   missing   missing   \n",
       "3             5         10  unstress  stress  unstress    stress    stress   \n",
       "4             6         10    stress  stress    stress  unstress  unstress   \n",
       "\n",
       "       s6        s7      s8        s9       s10      s11      s12  \\\n",
       "0  stress  unstress  stress  unstress    stress  missing  missing   \n",
       "1  stress    stress  stress  unstress    stress  missing  missing   \n",
       "2  stress    stress  stress  unstress    stress  missing  missing   \n",
       "3  stress  unstress  stress  unstress  unstress  missing  missing   \n",
       "4  stress    stress  stress    stress    stress  missing  missing   \n",
       "\n",
       "                                           word_list  sonnet_num       author  \\\n",
       "0  ['From', 'fairest', 'creatures', 'we', 'desire...           1  Shakespeare   \n",
       "1  ['That', 'thereby', 'beauty', 'rose', 'might',...           1  Shakespeare   \n",
       "2  ['But', 'as', 'the', 'riper', 'should', 'by', ...           1  Shakespeare   \n",
       "3  ['His', 'tender', 'heir', 'might', 'bear', 'hi...           1  Shakespeare   \n",
       "4  ['But', 'thou', 'contracted', 'to', 'thine', '...           1  Shakespeare   \n",
       "\n",
       "   polarity  subjectivity  sonnet  \n",
       "0      0.00          0.00       1  \n",
       "1      0.60          0.95       1  \n",
       "2      0.00          0.00       1  \n",
       "3      0.00          0.00       1  \n",
       "4      0.65          0.90       1  "
      ]
     },
     "execution_count": 6,
     "metadata": {},
     "output_type": "execute_result"
    }
   ],
   "source": [
    "# Create full_sonnet Dataframe\n",
    "poems_df = pd.read_csv('./full_sonnet_df.csv')\n",
    "poems_df.head()\n",
    "poems_df.columns = ['unnamed0','unnamed1', 'sonnet_index', 'syllables', 's1', 's2', 's3',\n",
    "       's4', 's5', 's6', 's7', 's8', 's9', 's10', 's11', 's12',\n",
    "       'word_list', 'sonnet_num', 'author', 'polarity', 'subjectivity','sonnet']\n",
    "\n",
    "# drop unnecessary columns\n",
    "\n",
    "poems_df = poems_df.drop('unnamed0', axis=1)\n",
    "poems_df = poems_df.drop('unnamed1', axis=1)\n",
    "\n",
    "poems_df.head()"
   ]
  },
  {
   "cell_type": "code",
   "execution_count": 7,
   "metadata": {},
   "outputs": [],
   "source": [
    "# Randomly take subset of the full sonnets data\n",
    "poems_df = poems_df.drop(poems_df.sample(frac=.65).index)"
   ]
  },
  {
   "cell_type": "code",
   "execution_count": 8,
   "metadata": {},
   "outputs": [
    {
     "name": "stdout",
     "output_type": "stream",
     "text": [
      "<class 'pandas.core.frame.DataFrame'>\n",
      "Int64Index: 1792 entries, 1 to 5115\n",
      "Data columns (total 20 columns):\n",
      "sonnet_index    1792 non-null int64\n",
      "syllables       1792 non-null int64\n",
      "s1              1792 non-null object\n",
      "s2              1792 non-null object\n",
      "s3              1792 non-null object\n",
      "s4              1792 non-null object\n",
      "s5              1792 non-null object\n",
      "s6              1792 non-null object\n",
      "s7              1792 non-null object\n",
      "s8              1792 non-null object\n",
      "s9              1792 non-null object\n",
      "s10             1792 non-null object\n",
      "s11             1792 non-null object\n",
      "s12             1792 non-null object\n",
      "word_list       1792 non-null object\n",
      "sonnet_num      1792 non-null int64\n",
      "author          1768 non-null object\n",
      "polarity        1792 non-null float64\n",
      "subjectivity    1792 non-null float64\n",
      "sonnet          1792 non-null int64\n",
      "dtypes: float64(2), int64(4), object(14)\n",
      "memory usage: 294.0+ KB\n"
     ]
    }
   ],
   "source": [
    "poems_df.info()"
   ]
  },
  {
   "cell_type": "code",
   "execution_count": 9,
   "metadata": {},
   "outputs": [],
   "source": [
    "# Stacking the Taylor Swift, BSB, and Poems dataframes\n",
    "\n",
    "final_df = pd.concat([taylor_df, bsb_df, poems_df])\n",
    "final_df.head()\n",
    "final_df.to_csv('final_df.csv')"
   ]
  },
  {
   "cell_type": "code",
   "execution_count": 10,
   "metadata": {},
   "outputs": [
    {
     "data": {
      "text/plain": [
       "(3497, 20)"
      ]
     },
     "execution_count": 10,
     "metadata": {},
     "output_type": "execute_result"
    }
   ],
   "source": [
    "final_df.shape"
   ]
  },
  {
   "cell_type": "markdown",
   "metadata": {},
   "source": [
    "# Check correlation"
   ]
  },
  {
   "cell_type": "code",
   "execution_count": 11,
   "metadata": {},
   "outputs": [
    {
     "data": {
      "text/html": [
       "<div>\n",
       "<style scoped>\n",
       "    .dataframe tbody tr th:only-of-type {\n",
       "        vertical-align: middle;\n",
       "    }\n",
       "\n",
       "    .dataframe tbody tr th {\n",
       "        vertical-align: top;\n",
       "    }\n",
       "\n",
       "    .dataframe thead th {\n",
       "        text-align: right;\n",
       "    }\n",
       "</style>\n",
       "<table border=\"1\" class=\"dataframe\">\n",
       "  <thead>\n",
       "    <tr style=\"text-align: right;\">\n",
       "      <th></th>\n",
       "      <th>syllables</th>\n",
       "      <th>sonnet_num</th>\n",
       "      <th>polarity</th>\n",
       "      <th>subjectivity</th>\n",
       "      <th>sonnet</th>\n",
       "    </tr>\n",
       "  </thead>\n",
       "  <tbody>\n",
       "    <tr>\n",
       "      <th>syllables</th>\n",
       "      <td>1.000000</td>\n",
       "      <td>0.439825</td>\n",
       "      <td>-0.043094</td>\n",
       "      <td>-0.061983</td>\n",
       "      <td>-0.611566</td>\n",
       "    </tr>\n",
       "    <tr>\n",
       "      <th>sonnet_num</th>\n",
       "      <td>0.439825</td>\n",
       "      <td>1.000000</td>\n",
       "      <td>-0.077097</td>\n",
       "      <td>-0.064887</td>\n",
       "      <td>-0.727103</td>\n",
       "    </tr>\n",
       "    <tr>\n",
       "      <th>polarity</th>\n",
       "      <td>-0.043094</td>\n",
       "      <td>-0.077097</td>\n",
       "      <td>1.000000</td>\n",
       "      <td>0.218598</td>\n",
       "      <td>0.080197</td>\n",
       "    </tr>\n",
       "    <tr>\n",
       "      <th>subjectivity</th>\n",
       "      <td>-0.061983</td>\n",
       "      <td>-0.064887</td>\n",
       "      <td>0.218598</td>\n",
       "      <td>1.000000</td>\n",
       "      <td>0.103596</td>\n",
       "    </tr>\n",
       "    <tr>\n",
       "      <th>sonnet</th>\n",
       "      <td>-0.611566</td>\n",
       "      <td>-0.727103</td>\n",
       "      <td>0.080197</td>\n",
       "      <td>0.103596</td>\n",
       "      <td>1.000000</td>\n",
       "    </tr>\n",
       "  </tbody>\n",
       "</table>\n",
       "</div>"
      ],
      "text/plain": [
       "              syllables  sonnet_num  polarity  subjectivity    sonnet\n",
       "syllables      1.000000    0.439825 -0.043094     -0.061983 -0.611566\n",
       "sonnet_num     0.439825    1.000000 -0.077097     -0.064887 -0.727103\n",
       "polarity      -0.043094   -0.077097  1.000000      0.218598  0.080197\n",
       "subjectivity  -0.061983   -0.064887  0.218598      1.000000  0.103596\n",
       "sonnet        -0.611566   -0.727103  0.080197      0.103596  1.000000"
      ]
     },
     "execution_count": 11,
     "metadata": {},
     "output_type": "execute_result"
    }
   ],
   "source": [
    "final_df.drop(\"sonnet_index\",axis=1).corr()"
   ]
  },
  {
   "cell_type": "markdown",
   "metadata": {},
   "source": [
    "# Baseline"
   ]
  },
  {
   "cell_type": "code",
   "execution_count": 12,
   "metadata": {},
   "outputs": [
    {
     "name": "stdout",
     "output_type": "stream",
     "text": [
      "0.5124392336288247\n"
     ]
    }
   ],
   "source": [
    "print(np.mean(final_df.sonnet))"
   ]
  },
  {
   "cell_type": "markdown",
   "metadata": {},
   "source": [
    "# Logistic Regression"
   ]
  },
  {
   "cell_type": "code",
   "execution_count": 13,
   "metadata": {},
   "outputs": [],
   "source": [
    "logreg = LogisticRegression()\n",
    "\n",
    "formula = 'sonnet ~ syllables + C(s1) + C(s2) + C(s3) + C(s4) + C(s5) + C(s6) + C(s7) + C(s8) + C(s9) + C(s10) + C(s11) + C(s12) + polarity + subjectivity -1'\n",
    "Y, X = dmatrices(formula, data=final_df)"
   ]
  },
  {
   "cell_type": "code",
   "execution_count": 14,
   "metadata": {},
   "outputs": [],
   "source": [
    "#Prediction values\n",
    "# ypred = logreg.predict(X)\n",
    "# mistakes_df['algorithm'] = ypred"
   ]
  },
  {
   "cell_type": "code",
   "execution_count": 15,
   "metadata": {},
   "outputs": [],
   "source": [
    "interaction_formula = ''' sonnet ~ syllables + (C(s1) + C(s2) + C(s3) + C(s4) + C(s5) + C(s6) + C(s7) + C(s8) + \n",
    "C(s9) + C(s10) + C(s11) + C(s12))**2 + polarity + subjectivity -1'''\n",
    "Yint, Xint = dmatrices(interaction_formula, data=final_df, return_type='dataframe')\n",
    "Xint = (Xint - Xint.mean()) / Xint.std()\n",
    "Xint.dropna(axis=1, inplace=True)"
   ]
  },
  {
   "cell_type": "code",
   "execution_count": 16,
   "metadata": {},
   "outputs": [
    {
     "data": {
      "text/plain": [
       "((3497, 1), (3497, 280))"
      ]
     },
     "execution_count": 16,
     "metadata": {},
     "output_type": "execute_result"
    }
   ],
   "source": [
    "Yint.shape, Xint.shape"
   ]
  },
  {
   "cell_type": "code",
   "execution_count": 17,
   "metadata": {},
   "outputs": [
    {
     "data": {
      "text/plain": [
       "((3497, 1), (3497, 28))"
      ]
     },
     "execution_count": 17,
     "metadata": {},
     "output_type": "execute_result"
    }
   ],
   "source": [
    "Y.shape, X.shape"
   ]
  },
  {
   "cell_type": "code",
   "execution_count": 18,
   "metadata": {},
   "outputs": [
    {
     "data": {
      "text/plain": [
       "array(0.51243923)"
      ]
     },
     "execution_count": 18,
     "metadata": {},
     "output_type": "execute_result"
    }
   ],
   "source": [
    "np.mean(Y)"
   ]
  },
  {
   "cell_type": "markdown",
   "metadata": {},
   "source": [
    "# Inspect Model 1"
   ]
  },
  {
   "cell_type": "markdown",
   "metadata": {},
   "source": [
    "## Summary"
   ]
  },
  {
   "cell_type": "code",
   "execution_count": 19,
   "metadata": {},
   "outputs": [
    {
     "name": "stdout",
     "output_type": "stream",
     "text": [
      "Warning: Maximum number of iterations has been exceeded.\n",
      "         Current function value: 0.096847\n",
      "         Iterations: 35\n",
      "                           Logit Regression Results                           \n",
      "==============================================================================\n",
      "Dep. Variable:                 sonnet   No. Observations:                 3497\n",
      "Model:                          Logit   Df Residuals:                     3469\n",
      "Method:                           MLE   Df Model:                           27\n",
      "Date:                Sat, 12 Oct 2019   Pseudo R-squ.:                  0.8602\n",
      "Time:                        12:27:07   Log-Likelihood:                -338.67\n",
      "converged:                      False   LL-Null:                       -2422.9\n",
      "Covariance Type:            nonrobust   LLR p-value:                     0.000\n",
      "======================================================================================\n",
      "                         coef    std err          z      P>|z|      [0.025      0.975]\n",
      "--------------------------------------------------------------------------------------\n",
      "C(s1)[missing]        31.0639      3.459      8.981      0.000      24.285      37.843\n",
      "C(s1)[stress]         30.3015      3.392      8.934      0.000      23.654      36.949\n",
      "C(s1)[unstress]       33.1038      3.424      9.668      0.000      26.393      39.815\n",
      "C(s2)[T.stress]       -2.2255      0.530     -4.202      0.000      -3.264      -1.187\n",
      "C(s2)[T.unstress]     -2.7619      0.656     -4.212      0.000      -4.047      -1.477\n",
      "C(s3)[T.stress]       -0.5121      0.542     -0.945      0.345      -1.575       0.551\n",
      "C(s3)[T.unstress]      2.1318      0.572      3.727      0.000       1.011       3.253\n",
      "C(s4)[T.stress]       -1.1952      0.530     -2.254      0.024      -2.235      -0.156\n",
      "C(s4)[T.unstress]     -2.3776      0.668     -3.560      0.000      -3.687      -1.068\n",
      "C(s5)[T.stress]       -2.7893      0.540     -5.170      0.000      -3.847      -1.732\n",
      "C(s5)[T.unstress]     -1.1299      0.553     -2.044      0.041      -2.213      -0.047\n",
      "C(s6)[T.stress]       -0.5516      0.487     -1.132      0.258      -1.507       0.403\n",
      "C(s6)[T.unstress]      0.2513      0.565      0.445      0.657      -0.856       1.359\n",
      "C(s7)[T.stress]       -1.4336      0.491     -2.922      0.003      -2.395      -0.472\n",
      "C(s7)[T.unstress]      0.5885      0.523      1.126      0.260      -0.436       1.613\n",
      "C(s8)[T.stress]       -1.2834      0.516     -2.487      0.013      -2.295      -0.272\n",
      "C(s8)[T.unstress]     -0.3177      0.587     -0.541      0.588      -1.468       0.833\n",
      "C(s9)[T.stress]       -1.4862      0.546     -2.724      0.006      -2.555      -0.417\n",
      "C(s9)[T.unstress]     -0.2265      0.571     -0.397      0.692      -1.345       0.892\n",
      "C(s10)[T.stress]      -1.0804      0.404     -2.674      0.007      -1.872      -0.289\n",
      "C(s10)[T.unstress]     0.0699      0.470      0.149      0.882      -0.851       0.991\n",
      "C(s11)[T.stress]      -5.3209      0.328    -16.216      0.000      -5.964      -4.678\n",
      "C(s11)[T.unstress]    -3.6940      0.375     -9.849      0.000      -4.429      -2.959\n",
      "C(s12)[T.stress]      23.6095    1.1e+04      0.002      0.998   -2.16e+04    2.16e+04\n",
      "C(s12)[T.unstress]    25.4158   9306.169      0.003      0.998   -1.82e+04    1.83e+04\n",
      "syllables             -1.7626      0.292     -6.043      0.000      -2.334      -1.191\n",
      "polarity               1.1221      0.402      2.791      0.005       0.334       1.910\n",
      "subjectivity           1.0576      0.326      3.247      0.001       0.419       1.696\n",
      "======================================================================================\n",
      "\n",
      "Possibly complete quasi-separation: A fraction 0.14 of observations can be\n",
      "perfectly predicted. This might indicate that there is complete\n",
      "quasi-separation. In this case some parameters will not be identified.\n"
     ]
    },
    {
     "name": "stderr",
     "output_type": "stream",
     "text": [
      "/Users/mschulze/anaconda3/envs/dsi/lib/python3.7/site-packages/statsmodels/base/model.py:512: ConvergenceWarning: Maximum Likelihood optimization failed to converge. Check mle_retvals\n",
      "  \"Check mle_retvals\", ConvergenceWarning)\n"
     ]
    }
   ],
   "source": [
    "import statsmodels.api as sm\n",
    "\n",
    "logit_model1=sm.Logit(Y,X)\n",
    "result1=logit_model1.fit()\n",
    "print(result1.summary())"
   ]
  },
  {
   "cell_type": "code",
   "execution_count": 20,
   "metadata": {},
   "outputs": [
    {
     "name": "stdout",
     "output_type": "stream",
     "text": [
      "                               Results: Logit\n",
      "============================================================================\n",
      "Model:                   Logit                Pseudo R-squared:     0.860   \n",
      "Dependent Variable:      sonnet               AIC:                  733.3447\n",
      "Date:                    2019-10-12 12:27     BIC:                  905.8152\n",
      "No. Observations:        3497                 Log-Likelihood:       -338.67 \n",
      "Df Model:                27                   LL-Null:              -2422.9 \n",
      "Df Residuals:            3469                 LLR p-value:          0.0000  \n",
      "Converged:               0.0000               Scale:                1.0000  \n",
      "No. Iterations:          35.0000                                            \n",
      "----------------------------------------------------------------------------\n",
      "                    Coef.   Std.Err.     z     P>|z|     [0.025     0.975]  \n",
      "----------------------------------------------------------------------------\n",
      "C(s1)[missing]     31.0639     3.4589   8.9808 0.0000     24.2845    37.8433\n",
      "C(s1)[stress]      30.3015     3.3917   8.9341 0.0000     23.6540    36.9491\n",
      "C(s1)[unstress]    33.1038     3.4239   9.6684 0.0000     26.3931    39.8146\n",
      "C(s2)[T.stress]    -2.2255     0.5297  -4.2018 0.0000     -3.2637    -1.1874\n",
      "C(s2)[T.unstress]  -2.7619     0.6557  -4.2124 0.0000     -4.0469    -1.4768\n",
      "C(s3)[T.stress]    -0.5121     0.5422  -0.9446 0.3449     -1.5747     0.5505\n",
      "C(s3)[T.unstress]   2.1318     0.5719   3.7274 0.0002      1.0109     3.2527\n",
      "C(s4)[T.stress]    -1.1952     0.5303  -2.2538 0.0242     -2.2345    -0.1558\n",
      "C(s4)[T.unstress]  -2.3776     0.6679  -3.5598 0.0004     -3.6866    -1.0685\n",
      "C(s5)[T.stress]    -2.7893     0.5396  -5.1696 0.0000     -3.8469    -1.7318\n",
      "C(s5)[T.unstress]  -1.1299     0.5527  -2.0443 0.0409     -2.2133    -0.0466\n",
      "C(s6)[T.stress]    -0.5516     0.4873  -1.1321 0.2576     -1.5067     0.4034\n",
      "C(s6)[T.unstress]   0.2513     0.5651   0.4446 0.6566     -0.8563     1.3589\n",
      "C(s7)[T.stress]    -1.4336     0.4906  -2.9222 0.0035     -2.3951    -0.4721\n",
      "C(s7)[T.unstress]   0.5885     0.5229   1.1256 0.2603     -0.4363     1.6133\n",
      "C(s8)[T.stress]    -1.2834     0.5161  -2.4868 0.0129     -2.2949    -0.2719\n",
      "C(s8)[T.unstress]  -0.3177     0.5869  -0.5414 0.5882     -1.4680     0.8325\n",
      "C(s9)[T.stress]    -1.4862     0.5455  -2.7242 0.0064     -2.5554    -0.4169\n",
      "C(s9)[T.unstress]  -0.2265     0.5709  -0.3967 0.6916     -1.3454     0.8925\n",
      "C(s10)[T.stress]   -1.0804     0.4040  -2.6743 0.0075     -1.8722    -0.2886\n",
      "C(s10)[T.unstress]  0.0699     0.4699   0.1488 0.8817     -0.8511     0.9909\n",
      "C(s11)[T.stress]   -5.3209     0.3281 -16.2156 0.0000     -5.9640    -4.6778\n",
      "C(s11)[T.unstress] -3.6940     0.3750  -9.8494 0.0000     -4.4291    -2.9589\n",
      "C(s12)[T.stress]   23.6095 11034.0254   0.0021 0.9983 -21602.6828 21649.9018\n",
      "C(s12)[T.unstress] 25.4158  9306.1688   0.0027 0.9978 -18214.3399 18265.1715\n",
      "syllables          -1.7626     0.2917  -6.0428 0.0000     -2.3342    -1.1909\n",
      "polarity            1.1221     0.4020   2.7913 0.0053      0.3342     1.9100\n",
      "subjectivity        1.0576     0.3257   3.2469 0.0012      0.4192     1.6960\n",
      "============================================================================\n",
      "\n"
     ]
    }
   ],
   "source": [
    "print(result1.summary2())"
   ]
  },
  {
   "cell_type": "code",
   "execution_count": 21,
   "metadata": {},
   "outputs": [
    {
     "name": "stdout",
     "output_type": "stream",
     "text": [
      "                 Generalized Linear Model Regression Results                  \n",
      "==============================================================================\n",
      "Dep. Variable:                 sonnet   No. Observations:                 3497\n",
      "Model:                            GLM   Df Residuals:                     3469\n",
      "Model Family:                Binomial   Df Model:                           27\n",
      "Link Function:                  logit   Scale:                          1.0000\n",
      "Method:                          IRLS   Log-Likelihood:                -338.67\n",
      "Date:                Sat, 12 Oct 2019   Deviance:                       677.34\n",
      "Time:                        12:27:07   Pearson chi2:                 6.57e+03\n",
      "No. Iterations:                    22                                         \n",
      "Covariance Type:            nonrobust                                         \n",
      "======================================================================================\n",
      "                         coef    std err          z      P>|z|      [0.025      0.975]\n",
      "--------------------------------------------------------------------------------------\n",
      "C(s1)[missing]        31.0639      3.459      8.981      0.000      24.285      37.843\n",
      "C(s1)[stress]         30.3015      3.392      8.934      0.000      23.654      36.949\n",
      "C(s1)[unstress]       33.1038      3.424      9.668      0.000      26.393      39.815\n",
      "C(s2)[T.stress]       -2.2255      0.530     -4.202      0.000      -3.264      -1.187\n",
      "C(s2)[T.unstress]     -2.7619      0.656     -4.212      0.000      -4.047      -1.477\n",
      "C(s3)[T.stress]       -0.5121      0.542     -0.945      0.345      -1.575       0.551\n",
      "C(s3)[T.unstress]      2.1318      0.572      3.727      0.000       1.011       3.253\n",
      "C(s4)[T.stress]       -1.1952      0.530     -2.254      0.024      -2.235      -0.156\n",
      "C(s4)[T.unstress]     -2.3776      0.668     -3.560      0.000      -3.687      -1.068\n",
      "C(s5)[T.stress]       -2.7893      0.540     -5.170      0.000      -3.847      -1.732\n",
      "C(s5)[T.unstress]     -1.1299      0.553     -2.044      0.041      -2.213      -0.047\n",
      "C(s6)[T.stress]       -0.5516      0.487     -1.132      0.258      -1.507       0.403\n",
      "C(s6)[T.unstress]      0.2513      0.565      0.445      0.657      -0.856       1.359\n",
      "C(s7)[T.stress]       -1.4336      0.491     -2.922      0.003      -2.395      -0.472\n",
      "C(s7)[T.unstress]      0.5885      0.523      1.126      0.260      -0.436       1.613\n",
      "C(s8)[T.stress]       -1.2834      0.516     -2.487      0.013      -2.295      -0.272\n",
      "C(s8)[T.unstress]     -0.3177      0.587     -0.541      0.588      -1.468       0.833\n",
      "C(s9)[T.stress]       -1.4862      0.546     -2.724      0.006      -2.555      -0.417\n",
      "C(s9)[T.unstress]     -0.2265      0.571     -0.397      0.692      -1.345       0.892\n",
      "C(s10)[T.stress]      -1.0804      0.404     -2.674      0.007      -1.872      -0.289\n",
      "C(s10)[T.unstress]     0.0699      0.470      0.149      0.882      -0.851       0.991\n",
      "C(s11)[T.stress]      -5.3209      0.328    -16.216      0.000      -5.964      -4.678\n",
      "C(s11)[T.unstress]    -3.6940      0.375     -9.849      0.000      -4.429      -2.959\n",
      "C(s12)[T.stress]      25.1195   1.42e+04      0.002      0.999   -2.79e+04    2.79e+04\n",
      "C(s12)[T.unstress]    30.7050   7.95e+04      0.000      1.000   -1.56e+05    1.56e+05\n",
      "syllables             -1.7626      0.292     -6.043      0.000      -2.334      -1.191\n",
      "polarity               1.1221      0.402      2.791      0.005       0.334       1.910\n",
      "subjectivity           1.0576      0.326      3.247      0.001       0.419       1.696\n",
      "======================================================================================\n"
     ]
    }
   ],
   "source": [
    "import statsmodels.formula.api as smf\n",
    "\n",
    "model1 = smf.glm(formula = formula, data=final_df, family=sm.families.Binomial())\n",
    "my_model1 = model1.fit()\n",
    "print(my_model1.summary())"
   ]
  },
  {
   "cell_type": "markdown",
   "metadata": {},
   "source": [
    "## step-wise selection"
   ]
  },
  {
   "cell_type": "code",
   "execution_count": 22,
   "metadata": {},
   "outputs": [],
   "source": [
    "def step_wise_forward_selected(data, predictors, response, AIC=True):\n",
    "    \"\"\"Logistic model designed by forward selection.\n",
    "    Parameters:\n",
    "    -----------\n",
    "    data : pandas DataFrame with all possible predictors and response\n",
    "    response: string, name of response column in data\n",
    "    Returns:\n",
    "    --------\n",
    "    model: an \"optimal\" fitted statsmodels linear model\n",
    "           with an intercept\n",
    "           selected by forward selection\n",
    "           evaluated by AIC\n",
    "\n",
    "    inspiration provided by https://planspace.org/20150423-forward_selection_with_statsmodels/\n",
    "    \"\"\"\n",
    "    print(\"remaining = \", predictors)\n",
    "    print(\"response = \", response)\n",
    "    selected = []\n",
    "    current_score, best_new_score = 99999, 99999  # set starting scores high so we get lower score\n",
    "    \n",
    "    while predictors and current_score == best_new_score:\n",
    "#         print(\"new round\")\n",
    "#         print(\"current_score = \", current_score)\n",
    "        scores_with_candidates = []\n",
    "#         print(\"scores with candidates = \", scores_with_candidates)\n",
    "        for candidate in predictors:\n",
    "#             print(\"candidate = \", candidate)\n",
    "            formula = \"{} ~ {} + 1\".format(response,' + '.join(selected + [candidate]))\n",
    "#             print(\"candidate formula = \", formula)\n",
    "            if AIC:\n",
    "                score = smf.glm(formula=formula, data=data, family=sm.families.Binomial()).fit().aic\n",
    "            else:\n",
    "                score = smf.glm(formula=formula, data=data, family=sm.families.Binomial()).fit().bic\n",
    "#             print(\"score = \", score)\n",
    "            scores_with_candidates.append((score, candidate))\n",
    "        scores_with_candidates.sort(reverse=True)\n",
    "#         print(\"scores with candidates = \", scores_with_candidates)\n",
    "        best_new_score, best_candidate = scores_with_candidates.pop()\n",
    "#         print(\"best new score = \", best_new_score)\n",
    "#         print(\"best candidate = \", best_candidate)\n",
    "        if current_score > best_new_score:\n",
    "            predictors.remove(best_candidate)\n",
    "            selected.append(best_candidate)\n",
    "#             print(\"selected = \", selected)\n",
    "            current_score = best_new_score\n",
    "    \n",
    "    formula = \"{} ~ {} + 1\".format(response,' + '.join(selected))\n",
    "    return formula"
   ]
  },
  {
   "cell_type": "markdown",
   "metadata": {},
   "source": [
    "### AIC"
   ]
  },
  {
   "cell_type": "code",
   "execution_count": 23,
   "metadata": {},
   "outputs": [
    {
     "name": "stdout",
     "output_type": "stream",
     "text": [
      "remaining =  ['syllables', 'C(s1)', 'C(s2)', 'C(s3)', 'C(s4)', 'C(s5)', 'C(s6)', 'C(s7)', 'C(s8)', 'C(s9)', 'C(s10)', 'C(s11)', 'C(s12)', 'polarity', 'subjectivity']\n",
      "response =  sonnet\n",
      "sonnet ~ C(s11) + C(s1) + C(s3) + C(s5) + C(s7) + C(s9) + C(s10) + syllables + C(s12) + C(s2) + subjectivity + C(s8) + C(s4) + polarity + C(s6) + 1\n"
     ]
    }
   ],
   "source": [
    "my_pred = [\"syllables\",\"C(s1)\",\"C(s2)\",\"C(s3)\",\"C(s4)\",\"C(s5)\",\"C(s6)\",\"C(s7)\",\"C(s8)\",\"C(s9)\",\"C(s10)\",\"C(s11)\",\"C(s12)\",\"polarity\",\"subjectivity\"]\n",
    "aic_step_formula = step_wise_forward_selected(final_df, my_pred, \"sonnet\", True)\n",
    "print(aic_step_formula)"
   ]
  },
  {
   "cell_type": "code",
   "execution_count": 24,
   "metadata": {},
   "outputs": [],
   "source": [
    "Ya, Xa = dmatrices(aic_step_formula, data=final_df)"
   ]
  },
  {
   "cell_type": "code",
   "execution_count": 25,
   "metadata": {},
   "outputs": [
    {
     "name": "stdout",
     "output_type": "stream",
     "text": [
      "                 Generalized Linear Model Regression Results                  \n",
      "==============================================================================\n",
      "Dep. Variable:                 sonnet   No. Observations:                 3497\n",
      "Model:                            GLM   Df Residuals:                     3469\n",
      "Model Family:                Binomial   Df Model:                           27\n",
      "Link Function:                  logit   Scale:                          1.0000\n",
      "Method:                          IRLS   Log-Likelihood:                -338.67\n",
      "Date:                Sat, 12 Oct 2019   Deviance:                       677.34\n",
      "Time:                        12:27:15   Pearson chi2:                 6.57e+03\n",
      "No. Iterations:                    22                                         \n",
      "Covariance Type:            nonrobust                                         \n",
      "======================================================================================\n",
      "                         coef    std err          z      P>|z|      [0.025      0.975]\n",
      "--------------------------------------------------------------------------------------\n",
      "Intercept             31.0639      3.459      8.981      0.000      24.285      37.843\n",
      "C(s11)[T.stress]      -5.3209      0.328    -16.216      0.000      -5.964      -4.678\n",
      "C(s11)[T.unstress]    -3.6940      0.375     -9.849      0.000      -4.429      -2.959\n",
      "C(s1)[T.stress]       -0.7624      0.550     -1.385      0.166      -1.841       0.316\n",
      "C(s1)[T.unstress]      2.0399      0.609      3.348      0.001       0.846       3.234\n",
      "C(s3)[T.stress]       -0.5121      0.542     -0.945      0.345      -1.575       0.551\n",
      "C(s3)[T.unstress]      2.1318      0.572      3.727      0.000       1.011       3.253\n",
      "C(s5)[T.stress]       -2.7893      0.540     -5.170      0.000      -3.847      -1.732\n",
      "C(s5)[T.unstress]     -1.1299      0.553     -2.044      0.041      -2.213      -0.047\n",
      "C(s7)[T.stress]       -1.4336      0.491     -2.922      0.003      -2.395      -0.472\n",
      "C(s7)[T.unstress]      0.5885      0.523      1.126      0.260      -0.436       1.613\n",
      "C(s9)[T.stress]       -1.4862      0.546     -2.724      0.006      -2.555      -0.417\n",
      "C(s9)[T.unstress]     -0.2265      0.571     -0.397      0.692      -1.345       0.892\n",
      "C(s10)[T.stress]      -1.0804      0.404     -2.674      0.007      -1.872      -0.289\n",
      "C(s10)[T.unstress]     0.0699      0.470      0.149      0.882      -0.851       0.991\n",
      "C(s12)[T.stress]      25.1195   1.42e+04      0.002      0.999   -2.79e+04    2.79e+04\n",
      "C(s12)[T.unstress]    30.7050   7.95e+04      0.000      1.000   -1.56e+05    1.56e+05\n",
      "C(s2)[T.stress]       -2.2255      0.530     -4.202      0.000      -3.264      -1.187\n",
      "C(s2)[T.unstress]     -2.7619      0.656     -4.212      0.000      -4.047      -1.477\n",
      "C(s8)[T.stress]       -1.2834      0.516     -2.487      0.013      -2.295      -0.272\n",
      "C(s8)[T.unstress]     -0.3177      0.587     -0.541      0.588      -1.468       0.833\n",
      "C(s4)[T.stress]       -1.1952      0.530     -2.254      0.024      -2.235      -0.156\n",
      "C(s4)[T.unstress]     -2.3776      0.668     -3.560      0.000      -3.687      -1.068\n",
      "C(s6)[T.stress]       -0.5516      0.487     -1.132      0.258      -1.507       0.403\n",
      "C(s6)[T.unstress]      0.2513      0.565      0.445      0.657      -0.856       1.359\n",
      "syllables             -1.7626      0.292     -6.043      0.000      -2.334      -1.191\n",
      "subjectivity           1.0576      0.326      3.247      0.001       0.419       1.696\n",
      "polarity               1.1221      0.402      2.791      0.005       0.334       1.910\n",
      "======================================================================================\n"
     ]
    }
   ],
   "source": [
    "modela = smf.glm(formula = aic_step_formula, data=final_df, family=sm.families.Binomial())\n",
    "my_modela = modela.fit()\n",
    "print(my_modela.summary())"
   ]
  },
  {
   "cell_type": "markdown",
   "metadata": {},
   "source": [
    "### BIC"
   ]
  },
  {
   "cell_type": "code",
   "execution_count": 26,
   "metadata": {},
   "outputs": [
    {
     "name": "stdout",
     "output_type": "stream",
     "text": [
      "remaining =  ['syllables', 'C(s1)', 'C(s2)', 'C(s3)', 'C(s4)', 'C(s5)', 'C(s6)', 'C(s7)', 'C(s8)', 'C(s9)', 'C(s10)', 'C(s11)', 'C(s12)', 'polarity', 'subjectivity']\n",
      "response =  sonnet\n",
      "sonnet ~ C(s11) + C(s1) + C(s3) + C(s5) + C(s7) + C(s9) + syllables + C(s12) + C(s2) + C(s10) + subjectivity + 1\n"
     ]
    }
   ],
   "source": [
    "my_pred = [\"syllables\",\"C(s1)\",\"C(s2)\",\"C(s3)\",\"C(s4)\",\"C(s5)\",\"C(s6)\",\"C(s7)\",\"C(s8)\",\"C(s9)\",\"C(s10)\",\"C(s11)\",\"C(s12)\",\"polarity\",\"subjectivity\"]\n",
    "bic_step_formula = step_wise_forward_selected(final_df, my_pred, \"sonnet\", False)\n",
    "print(bic_step_formula)"
   ]
  },
  {
   "cell_type": "code",
   "execution_count": 27,
   "metadata": {},
   "outputs": [],
   "source": [
    "Yb, Xb = dmatrices(bic_step_formula, data=final_df)"
   ]
  },
  {
   "cell_type": "code",
   "execution_count": 28,
   "metadata": {},
   "outputs": [
    {
     "name": "stdout",
     "output_type": "stream",
     "text": [
      "                 Generalized Linear Model Regression Results                  \n",
      "==============================================================================\n",
      "Dep. Variable:                 sonnet   No. Observations:                 3497\n",
      "Model:                            GLM   Df Residuals:                     3476\n",
      "Model Family:                Binomial   Df Model:                           20\n",
      "Link Function:                  logit   Scale:                          1.0000\n",
      "Method:                          IRLS   Log-Likelihood:                -359.30\n",
      "Date:                Sat, 12 Oct 2019   Deviance:                       718.60\n",
      "Time:                        12:27:22   Pearson chi2:                 4.54e+03\n",
      "No. Iterations:                    22                                         \n",
      "Covariance Type:            nonrobust                                         \n",
      "======================================================================================\n",
      "                         coef    std err          z      P>|z|      [0.025      0.975]\n",
      "--------------------------------------------------------------------------------------\n",
      "Intercept             28.4441      3.293      8.639      0.000      21.991      34.898\n",
      "C(s11)[T.stress]      -5.4292      0.323    -16.791      0.000      -6.063      -4.795\n",
      "C(s11)[T.unstress]    -3.8408      0.358    -10.725      0.000      -4.543      -3.139\n",
      "C(s1)[T.stress]       -0.4556      0.509     -0.895      0.371      -1.453       0.542\n",
      "C(s1)[T.unstress]      2.4171      0.573      4.218      0.000       1.294       3.540\n",
      "C(s3)[T.stress]       -0.8039      0.466     -1.724      0.085      -1.718       0.110\n",
      "C(s3)[T.unstress]      1.8638      0.501      3.717      0.000       0.881       2.846\n",
      "C(s5)[T.stress]       -3.1063      0.474     -6.554      0.000      -4.035      -2.177\n",
      "C(s5)[T.unstress]     -1.4889      0.481     -3.095      0.002      -2.432      -0.546\n",
      "C(s7)[T.stress]       -1.5376      0.429     -3.585      0.000      -2.378      -0.697\n",
      "C(s7)[T.unstress]      0.3875      0.459      0.845      0.398      -0.511       1.286\n",
      "C(s9)[T.stress]       -1.9130      0.477     -4.010      0.000      -2.848      -0.978\n",
      "C(s9)[T.unstress]     -0.6874      0.499     -1.377      0.169      -1.666       0.291\n",
      "C(s12)[T.stress]      24.3353   1.48e+04      0.002      0.999   -2.89e+04    2.89e+04\n",
      "C(s12)[T.unstress]    30.3832   7.95e+04      0.000      1.000   -1.56e+05    1.56e+05\n",
      "C(s2)[T.stress]       -2.6527      0.466     -5.697      0.000      -3.565      -1.740\n",
      "C(s2)[T.unstress]     -3.0407      0.601     -5.056      0.000      -4.219      -1.862\n",
      "C(s10)[T.stress]      -1.1533      0.377     -3.056      0.002      -1.893      -0.414\n",
      "C(s10)[T.unstress]     0.1105      0.443      0.250      0.803      -0.758       0.979\n",
      "syllables             -1.6456      0.281     -5.858      0.000      -2.196      -1.095\n",
      "subjectivity           1.2033      0.301      4.000      0.000       0.614       1.793\n",
      "======================================================================================\n"
     ]
    }
   ],
   "source": [
    "modelb = smf.glm(formula = bic_step_formula, data=final_df, family=sm.families.Binomial())\n",
    "my_modelb = modelb.fit()\n",
    "print(my_modelb.summary())"
   ]
  },
  {
   "cell_type": "markdown",
   "metadata": {},
   "source": [
    "## Cross Val Scores"
   ]
  },
  {
   "cell_type": "code",
   "execution_count": 29,
   "metadata": {},
   "outputs": [
    {
     "name": "stdout",
     "output_type": "stream",
     "text": [
      "[0.97571429 0.96       0.94849785 0.95135908 0.96709585]\n",
      "0.9605334150827712\n"
     ]
    }
   ],
   "source": [
    "scores1 = cross_val_score(logreg, X, np.ravel(Y), cv=5)\n",
    "print(scores1)\n",
    "print(np.mean(scores1))"
   ]
  },
  {
   "cell_type": "code",
   "execution_count": 30,
   "metadata": {},
   "outputs": [
    {
     "name": "stdout",
     "output_type": "stream",
     "text": [
      "[0.97428571 0.96428571 0.94849785 0.9527897  0.96852647]\n",
      "0.9616770897200082\n"
     ]
    }
   ],
   "source": [
    "scoresa = cross_val_score(logreg, Xa, np.ravel(Ya), cv=5)\n",
    "print(scoresa)\n",
    "print(np.mean(scoresa))"
   ]
  },
  {
   "cell_type": "code",
   "execution_count": 31,
   "metadata": {},
   "outputs": [
    {
     "name": "stdout",
     "output_type": "stream",
     "text": [
      "[0.97       0.96285714 0.94277539 0.95708155 0.96280401]\n",
      "0.9591036174126304\n"
     ]
    }
   ],
   "source": [
    "scoresb = cross_val_score(logreg, Xb, np.ravel(Yb), cv=5)\n",
    "print(scoresb)\n",
    "print(np.mean(scoresb))"
   ]
  },
  {
   "cell_type": "markdown",
   "metadata": {},
   "source": [
    "## Influencial Points"
   ]
  },
  {
   "cell_type": "code",
   "execution_count": 46,
   "metadata": {},
   "outputs": [
    {
     "name": "stdout",
     "output_type": "stream",
     "text": [
      "50\n",
      "242\n",
      "305\n"
     ]
    },
    {
     "name": "stderr",
     "output_type": "stream",
     "text": [
      "/Users/mschulze/anaconda3/envs/dsi/lib/python3.7/site-packages/statsmodels/stats/outliers_influence.py:1233: RuntimeWarning: invalid value encountered in sqrt\n",
      "  return self.resid / np.sqrt(self.scale * (1 - hii))\n",
      "/Users/mschulze/anaconda3/envs/dsi/lib/python3.7/site-packages/scipy/stats/_distn_infrastructure.py:879: RuntimeWarning: invalid value encountered in greater\n",
      "  return (self.a < x) & (x < self.b)\n",
      "/Users/mschulze/anaconda3/envs/dsi/lib/python3.7/site-packages/scipy/stats/_distn_infrastructure.py:879: RuntimeWarning: invalid value encountered in less\n",
      "  return (self.a < x) & (x < self.b)\n",
      "/Users/mschulze/anaconda3/envs/dsi/lib/python3.7/site-packages/scipy/stats/_distn_infrastructure.py:1821: RuntimeWarning: invalid value encountered in less_equal\n",
      "  cond2 = cond0 & (x <= self.a)\n",
      "/Users/mschulze/anaconda3/envs/dsi/lib/python3.7/site-packages/statsmodels/stats/outliers_influence.py:1215: RuntimeWarning: invalid value encountered in sqrt\n",
      "  beta_i /= np.sqrt(1 - self.hat_matrix_diag)\n"
     ]
    }
   ],
   "source": [
    "n=3497\n",
    "p_a=15\n",
    "influence_a = my_modela.get_influence()\n",
    "infl_df_a = influence_a.summary_frame()\n",
    "\n",
    "resid_df = infl_df_a.sort_values('standard_resid', ascending=False)\n",
    "resid_df_a = resid_df.loc[abs(resid_df.standard_resid) > 3]\n",
    "print(len(resid_df_a))\n",
    "\n",
    "cook_df = infl_df.sort_values('cooks_d', ascending=False)\n",
    "Di = 4/(n-p_a)\n",
    "cook_df_a = cook_df.loc[abs(cook_df.cooks_d) > Di]\n",
    "print(len(cook_df_a))\n",
    "\n",
    "dffit_df = infl_df.sort_values('dffits_internal', ascending=False)\n",
    "dff = 2*((p_a+1)/(n-p_a-1))**0.5\n",
    "dffit_df_a = dffit_df.loc[abs(dffit_df.dffits_internal) > dff]\n",
    "print(len(dffit_df_a))"
   ]
  },
  {
   "cell_type": "code",
   "execution_count": 47,
   "metadata": {},
   "outputs": [
    {
     "name": "stdout",
     "output_type": "stream",
     "text": [
      "54\n",
      "277\n",
      "320\n"
     ]
    }
   ],
   "source": [
    "n=3497\n",
    "p_b=12\n",
    "influence_b = my_modelb.get_influence()\n",
    "infl_df = influence_b.summary_frame()\n",
    "\n",
    "resid_df = infl_df.sort_values('standard_resid', ascending=False)\n",
    "resid_df_b = resid_df.loc[abs(resid_df.standard_resid) > 3]\n",
    "print(len(resid_df_b))\n",
    "\n",
    "cook_df = infl_df.sort_values('cooks_d', ascending=False)\n",
    "Di = 4/(n-p_b)\n",
    "cook_df_b = cook_df.loc[abs(cook_df.cooks_d) > Di]\n",
    "print(len(cook_df_b))\n",
    "\n",
    "dffit_df = infl_df.sort_values('dffits_internal', ascending=False)\n",
    "dff = 2*((p_b+1)/(n-p_b-1))**0.5\n",
    "dffit_df_b = dffit_df.loc[abs(dffit_df.dffits_internal) > dff]\n",
    "print(len(dffit_df_b))"
   ]
  },
  {
   "cell_type": "code",
   "execution_count": null,
   "metadata": {},
   "outputs": [],
   "source": []
  },
  {
   "cell_type": "code",
   "execution_count": 33,
   "metadata": {},
   "outputs": [
    {
     "data": {
      "text/plain": [
       "(28, 28)"
      ]
     },
     "execution_count": 33,
     "metadata": {},
     "output_type": "execute_result"
    }
   ],
   "source": [
    "logreg.fit(X,np.ravel(Y))\n",
    "pp = logreg.predict_proba(X)\n",
    "y_pred_50pct = logreg.predict(X)\n",
    "\n",
    "model_features = ['syllables', 's1', 's2', 's3', 's4', 's5', 's6', 's7', 's8', 's9', 's10', 's11', 's12', 'polarity', 'subjectivity']\n",
    "\n",
    "# zip(model_features, logreg.coef_)\n",
    "\n",
    "len(model_features), len(logreg.coef_[0])\n",
    "len(X.design_info.column_names), len(logreg.coef_[0])"
   ]
  },
  {
   "cell_type": "markdown",
   "metadata": {},
   "source": [
    "# ROC curve"
   ]
  },
  {
   "cell_type": "code",
   "execution_count": 34,
   "metadata": {},
   "outputs": [
    {
     "data": {
      "image/png": "[encoded data removed]",
      "text/plain": [
       "<Figure size 792x648 with 1 Axes>"
      ]
     },
     "metadata": {
      "needs_background": "light"
     },
     "output_type": "display_data"
    }
   ],
   "source": [
    "Ytrue = pd.Series(np.ravel(Y))\n",
    "Y_score = logreg.decision_function(X)\n",
    "\n",
    "FPR = dict()\n",
    "TPR = dict()\n",
    "ROC_AUC = dict()\n",
    "\n",
    "# For class 1, find the area under the curve\n",
    "FPR[1], TPR[1], _ = roc_curve(Ytrue, Y_score)\n",
    "ROC_AUC[1] = auc(FPR[1], TPR[1])\n",
    "\n",
    "# Plot of a ROC curve for class 1 (has_cancer)\n",
    "plt.figure(figsize=[11,9])\n",
    "plt.plot(FPR[1], TPR[1], label='ROC curve (area = %0.2f)' % ROC_AUC[1], linewidth=4)\n",
    "plt.plot([0, 1], [0, 1], 'k--', linewidth=4)\n",
    "plt.xlim([0.0, 1.0])\n",
    "plt.ylim([0.0, 1.05])\n",
    "plt.xlabel('False Positive Rate', fontsize=18)\n",
    "plt.ylabel('True Positive Rate', fontsize=18)\n",
    "plt.title('Identifying Iambic Pentameter: Logistic', fontsize=18)\n",
    "plt.legend(loc=\"lower right\")\n",
    "plt.show()"
   ]
  },
  {
   "cell_type": "markdown",
   "metadata": {},
   "source": [
    "# Confusion Matrix"
   ]
  },
  {
   "cell_type": "code",
   "execution_count": 35,
   "metadata": {},
   "outputs": [
    {
     "data": {
      "text/html": [
       "<div>\n",
       "<style scoped>\n",
       "    .dataframe tbody tr th:only-of-type {\n",
       "        vertical-align: middle;\n",
       "    }\n",
       "\n",
       "    .dataframe tbody tr th {\n",
       "        vertical-align: top;\n",
       "    }\n",
       "\n",
       "    .dataframe thead th {\n",
       "        text-align: right;\n",
       "    }\n",
       "</style>\n",
       "<table border=\"1\" class=\"dataframe\">\n",
       "  <thead>\n",
       "    <tr style=\"text-align: right;\">\n",
       "      <th>Predicted</th>\n",
       "      <th>0.0</th>\n",
       "      <th>1.0</th>\n",
       "      <th>All</th>\n",
       "    </tr>\n",
       "    <tr>\n",
       "      <th>True</th>\n",
       "      <th></th>\n",
       "      <th></th>\n",
       "      <th></th>\n",
       "    </tr>\n",
       "  </thead>\n",
       "  <tbody>\n",
       "    <tr>\n",
       "      <th>0.0</th>\n",
       "      <td>1654</td>\n",
       "      <td>51</td>\n",
       "      <td>1705</td>\n",
       "    </tr>\n",
       "    <tr>\n",
       "      <th>1.0</th>\n",
       "      <td>68</td>\n",
       "      <td>1724</td>\n",
       "      <td>1792</td>\n",
       "    </tr>\n",
       "    <tr>\n",
       "      <th>All</th>\n",
       "      <td>1722</td>\n",
       "      <td>1775</td>\n",
       "      <td>3497</td>\n",
       "    </tr>\n",
       "  </tbody>\n",
       "</table>\n",
       "</div>"
      ],
      "text/plain": [
       "Predicted   0.0   1.0   All\n",
       "True                       \n",
       "0.0        1654    51  1705\n",
       "1.0          68  1724  1792\n",
       "All        1722  1775  3497"
      ]
     },
     "execution_count": 35,
     "metadata": {},
     "output_type": "execute_result"
    }
   ],
   "source": [
    "Ytrue = pd.Series(np.ravel(Y))\n",
    "Ypred50 = pd.Series(y_pred_50pct)\n",
    "pd.crosstab(Ytrue, Ypred50, rownames = ['True'], colnames = ['Predicted'], margins = True)"
   ]
  },
  {
   "cell_type": "code",
   "execution_count": null,
   "metadata": {},
   "outputs": [],
   "source": []
  }
 ],
 "metadata": {
  "kernelspec": {
   "display_name": "Python 3",
   "language": "python",
   "name": "python3"
  },
  "language_info": {
   "codemirror_mode": {
    "name": "ipython",
    "version": 3
   },
   "file_extension": ".py",
   "mimetype": "text/x-python",
   "name": "python",
   "nbconvert_exporter": "python",
   "pygments_lexer": "ipython3",
   "version": "3.7.0"
  }
 },
 "nbformat": 4,
 "nbformat_minor": 2
}

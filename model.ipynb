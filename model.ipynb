{
 "cells": [
  {
   "cell_type": "code",
   "execution_count": 1,
   "metadata": {},
   "outputs": [],
   "source": [
    "import string\n",
    "import numpy as np\n",
    "import pandas as pd\n",
    "\n",
    "from sklearn.linear_model import LogisticRegression\n",
    "from sklearn.model_selection import cross_val_score\n",
    "from sklearn import metrics\n",
    "from patsy import dmatrices\n",
    "import patsy\n",
    "\n",
    "from sklearn.metrics import roc_curve, auc, classification_report\n",
    "from sklearn.model_selection import train_test_split\n",
    "from sklearn.preprocessing import label_binarize\n",
    "\n",
    "from scipy import interp\n",
    "from scipy.stats import chi2_contingency, chi2\n",
    "\n",
    "import seaborn as sns\n",
    "import matplotlib.pyplot as plt\n",
    "\n",
    "%matplotlib inline"
   ]
  },
  {
   "cell_type": "markdown",
   "metadata": {},
   "source": [
    "# Import data"
   ]
  },
  {
   "cell_type": "code",
   "execution_count": 2,
   "metadata": {},
   "outputs": [
    {
     "data": {
      "text/html": [
       "<div>\n",
       "<style scoped>\n",
       "    .dataframe tbody tr th:only-of-type {\n",
       "        vertical-align: middle;\n",
       "    }\n",
       "\n",
       "    .dataframe tbody tr th {\n",
       "        vertical-align: top;\n",
       "    }\n",
       "\n",
       "    .dataframe thead th {\n",
       "        text-align: right;\n",
       "    }\n",
       "</style>\n",
       "<table border=\"1\" class=\"dataframe\">\n",
       "  <thead>\n",
       "    <tr style=\"text-align: right;\">\n",
       "      <th></th>\n",
       "      <th>sonnet_index</th>\n",
       "      <th>syllables</th>\n",
       "      <th>s1</th>\n",
       "      <th>s2</th>\n",
       "      <th>s3</th>\n",
       "      <th>s4</th>\n",
       "      <th>s5</th>\n",
       "      <th>s6</th>\n",
       "      <th>s7</th>\n",
       "      <th>s8</th>\n",
       "      <th>s9</th>\n",
       "      <th>s10</th>\n",
       "      <th>s11</th>\n",
       "      <th>s12</th>\n",
       "      <th>word_list</th>\n",
       "      <th>sonnet_num</th>\n",
       "      <th>author</th>\n",
       "      <th>polarity</th>\n",
       "      <th>subjectivity</th>\n",
       "      <th>sonnet</th>\n",
       "    </tr>\n",
       "  </thead>\n",
       "  <tbody>\n",
       "    <tr>\n",
       "      <th>0</th>\n",
       "      <td>1</td>\n",
       "      <td>11</td>\n",
       "      <td>stress</td>\n",
       "      <td>stress</td>\n",
       "      <td>stress</td>\n",
       "      <td>stress</td>\n",
       "      <td>stress</td>\n",
       "      <td>unstress</td>\n",
       "      <td>stress</td>\n",
       "      <td>stress</td>\n",
       "      <td>stress</td>\n",
       "      <td>stress</td>\n",
       "      <td>unstress</td>\n",
       "      <td>missing</td>\n",
       "      <td>['And', 'I', 'was', 'right', 'there', 'beside'...</td>\n",
       "      <td>1</td>\n",
       "      <td>taylor_swift</td>\n",
       "      <td>0.285714</td>\n",
       "      <td>0.535714</td>\n",
       "      <td>0</td>\n",
       "    </tr>\n",
       "    <tr>\n",
       "      <th>1</th>\n",
       "      <td>22</td>\n",
       "      <td>11</td>\n",
       "      <td>stress</td>\n",
       "      <td>stress</td>\n",
       "      <td>stress</td>\n",
       "      <td>stress</td>\n",
       "      <td>stress</td>\n",
       "      <td>stress</td>\n",
       "      <td>stress</td>\n",
       "      <td>stress</td>\n",
       "      <td>unstress</td>\n",
       "      <td>stress</td>\n",
       "      <td>unstress</td>\n",
       "      <td>missing</td>\n",
       "      <td>['So', 'go', 'and', 'tell', 'your', 'friends',...</td>\n",
       "      <td>22</td>\n",
       "      <td>taylor_swift</td>\n",
       "      <td>0.000000</td>\n",
       "      <td>0.000000</td>\n",
       "      <td>0</td>\n",
       "    </tr>\n",
       "    <tr>\n",
       "      <th>2</th>\n",
       "      <td>26</td>\n",
       "      <td>11</td>\n",
       "      <td>stress</td>\n",
       "      <td>stress</td>\n",
       "      <td>stress</td>\n",
       "      <td>stress</td>\n",
       "      <td>unstress</td>\n",
       "      <td>stress</td>\n",
       "      <td>stress</td>\n",
       "      <td>unstress</td>\n",
       "      <td>stress</td>\n",
       "      <td>unstress</td>\n",
       "      <td>stress</td>\n",
       "      <td>missing</td>\n",
       "      <td>['And', 'if', 'you', 'come', 'around', 'saying...</td>\n",
       "      <td>26</td>\n",
       "      <td>taylor_swift</td>\n",
       "      <td>-0.500000</td>\n",
       "      <td>1.000000</td>\n",
       "      <td>0</td>\n",
       "    </tr>\n",
       "    <tr>\n",
       "      <th>3</th>\n",
       "      <td>35</td>\n",
       "      <td>11</td>\n",
       "      <td>stress</td>\n",
       "      <td>stress</td>\n",
       "      <td>stress</td>\n",
       "      <td>stress</td>\n",
       "      <td>stress</td>\n",
       "      <td>stress</td>\n",
       "      <td>stress</td>\n",
       "      <td>stress</td>\n",
       "      <td>unstress</td>\n",
       "      <td>unstress</td>\n",
       "      <td>stress</td>\n",
       "      <td>missing</td>\n",
       "      <td>['He', 'says', 'he', 'so', 'in', 'love', 'he',...</td>\n",
       "      <td>35</td>\n",
       "      <td>taylor_swift</td>\n",
       "      <td>0.250000</td>\n",
       "      <td>0.800000</td>\n",
       "      <td>0</td>\n",
       "    </tr>\n",
       "    <tr>\n",
       "      <th>4</th>\n",
       "      <td>46</td>\n",
       "      <td>11</td>\n",
       "      <td>stress</td>\n",
       "      <td>stress</td>\n",
       "      <td>stress</td>\n",
       "      <td>stress</td>\n",
       "      <td>unstress</td>\n",
       "      <td>stress</td>\n",
       "      <td>stress</td>\n",
       "      <td>stress</td>\n",
       "      <td>stress</td>\n",
       "      <td>stress</td>\n",
       "      <td>stress</td>\n",
       "      <td>missing</td>\n",
       "      <td>['So', 'I', 'drive', 'home', 'alone', 'as', 'I...</td>\n",
       "      <td>46</td>\n",
       "      <td>taylor_swift</td>\n",
       "      <td>0.000000</td>\n",
       "      <td>0.000000</td>\n",
       "      <td>0</td>\n",
       "    </tr>\n",
       "  </tbody>\n",
       "</table>\n",
       "</div>"
      ],
      "text/plain": [
       "   sonnet_index  syllables      s1      s2      s3      s4        s5  \\\n",
       "0             1         11  stress  stress  stress  stress    stress   \n",
       "1            22         11  stress  stress  stress  stress    stress   \n",
       "2            26         11  stress  stress  stress  stress  unstress   \n",
       "3            35         11  stress  stress  stress  stress    stress   \n",
       "4            46         11  stress  stress  stress  stress  unstress   \n",
       "\n",
       "         s6      s7        s8        s9       s10       s11      s12  \\\n",
       "0  unstress  stress    stress    stress    stress  unstress  missing   \n",
       "1    stress  stress    stress  unstress    stress  unstress  missing   \n",
       "2    stress  stress  unstress    stress  unstress    stress  missing   \n",
       "3    stress  stress    stress  unstress  unstress    stress  missing   \n",
       "4    stress  stress    stress    stress    stress    stress  missing   \n",
       "\n",
       "                                           word_list  sonnet_num  \\\n",
       "0  ['And', 'I', 'was', 'right', 'there', 'beside'...           1   \n",
       "1  ['So', 'go', 'and', 'tell', 'your', 'friends',...          22   \n",
       "2  ['And', 'if', 'you', 'come', 'around', 'saying...          26   \n",
       "3  ['He', 'says', 'he', 'so', 'in', 'love', 'he',...          35   \n",
       "4  ['So', 'I', 'drive', 'home', 'alone', 'as', 'I...          46   \n",
       "\n",
       "         author  polarity  subjectivity  sonnet  \n",
       "0  taylor_swift  0.285714      0.535714       0  \n",
       "1  taylor_swift  0.000000      0.000000       0  \n",
       "2  taylor_swift -0.500000      1.000000       0  \n",
       "3  taylor_swift  0.250000      0.800000       0  \n",
       "4  taylor_swift  0.000000      0.000000       0  "
      ]
     },
     "execution_count": 2,
     "metadata": {},
     "output_type": "execute_result"
    }
   ],
   "source": [
    "# Create Taylor Swift Dataframe\n",
    "taylor_df = pd.read_csv('./taylor_swift_IP.csv')\n",
    "taylor_df.columns = ['unnamed', 'sonnet_index', 'syllables', 's1', 's2', 's3',\n",
    "       's4', 's5', 's6', 's7', 's8', 's9', 's10', 's11', 's12',\n",
    "       'word_list', 'sonnet_num', 'author', 'polarity', 'subjectivity']\n",
    "\n",
    "taylor_df['sonnet'] = taylor_df.apply(lambda x: 0, axis=1)\n",
    "\n",
    "# unnecessary columns\n",
    "\n",
    "taylor_df = taylor_df.drop('unnamed', axis=1)\n",
    "\n",
    "taylor_df.head()"
   ]
  },
  {
   "cell_type": "code",
   "execution_count": 3,
   "metadata": {},
   "outputs": [
    {
     "name": "stdout",
     "output_type": "stream",
     "text": [
      "<class 'pandas.core.frame.DataFrame'>\n",
      "RangeIndex: 470 entries, 0 to 469\n",
      "Data columns (total 20 columns):\n",
      "sonnet_index    470 non-null int64\n",
      "syllables       470 non-null int64\n",
      "s1              470 non-null object\n",
      "s2              470 non-null object\n",
      "s3              470 non-null object\n",
      "s4              470 non-null object\n",
      "s5              470 non-null object\n",
      "s6              470 non-null object\n",
      "s7              470 non-null object\n",
      "s8              470 non-null object\n",
      "s9              470 non-null object\n",
      "s10             470 non-null object\n",
      "s11             470 non-null object\n",
      "s12             470 non-null object\n",
      "word_list       470 non-null object\n",
      "sonnet_num      470 non-null int64\n",
      "author          470 non-null object\n",
      "polarity        470 non-null float64\n",
      "subjectivity    470 non-null float64\n",
      "sonnet          470 non-null int64\n",
      "dtypes: float64(2), int64(4), object(14)\n",
      "memory usage: 73.5+ KB\n"
     ]
    }
   ],
   "source": [
    "taylor_df.info()"
   ]
  },
  {
   "cell_type": "code",
   "execution_count": 4,
   "metadata": {},
   "outputs": [
    {
     "data": {
      "text/html": [
       "<div>\n",
       "<style scoped>\n",
       "    .dataframe tbody tr th:only-of-type {\n",
       "        vertical-align: middle;\n",
       "    }\n",
       "\n",
       "    .dataframe tbody tr th {\n",
       "        vertical-align: top;\n",
       "    }\n",
       "\n",
       "    .dataframe thead th {\n",
       "        text-align: right;\n",
       "    }\n",
       "</style>\n",
       "<table border=\"1\" class=\"dataframe\">\n",
       "  <thead>\n",
       "    <tr style=\"text-align: right;\">\n",
       "      <th></th>\n",
       "      <th>sonnet_index</th>\n",
       "      <th>syllables</th>\n",
       "      <th>s1</th>\n",
       "      <th>s2</th>\n",
       "      <th>s3</th>\n",
       "      <th>s4</th>\n",
       "      <th>s5</th>\n",
       "      <th>s6</th>\n",
       "      <th>s7</th>\n",
       "      <th>s8</th>\n",
       "      <th>s9</th>\n",
       "      <th>s10</th>\n",
       "      <th>s11</th>\n",
       "      <th>s12</th>\n",
       "      <th>word_list</th>\n",
       "      <th>sonnet_num</th>\n",
       "      <th>author</th>\n",
       "      <th>polarity</th>\n",
       "      <th>subjectivity</th>\n",
       "      <th>sonnet</th>\n",
       "    </tr>\n",
       "  </thead>\n",
       "  <tbody>\n",
       "    <tr>\n",
       "      <th>0</th>\n",
       "      <td>0</td>\n",
       "      <td>11</td>\n",
       "      <td>stress</td>\n",
       "      <td>stress</td>\n",
       "      <td>stress</td>\n",
       "      <td>unstress</td>\n",
       "      <td>stress</td>\n",
       "      <td>unstress</td>\n",
       "      <td>unstress</td>\n",
       "      <td>stress</td>\n",
       "      <td>stress</td>\n",
       "      <td>stress</td>\n",
       "      <td>stress</td>\n",
       "      <td>missing</td>\n",
       "      <td>['Your', 'ten', 'thousand', 'promises', 'That'...</td>\n",
       "      <td>0</td>\n",
       "      <td>bsb</td>\n",
       "      <td>0.0</td>\n",
       "      <td>0.0</td>\n",
       "      <td>0</td>\n",
       "    </tr>\n",
       "    <tr>\n",
       "      <th>1</th>\n",
       "      <td>8</td>\n",
       "      <td>11</td>\n",
       "      <td>stress</td>\n",
       "      <td>stress</td>\n",
       "      <td>unstress</td>\n",
       "      <td>stress</td>\n",
       "      <td>stress</td>\n",
       "      <td>stress</td>\n",
       "      <td>stress</td>\n",
       "      <td>unstress</td>\n",
       "      <td>stress</td>\n",
       "      <td>stress</td>\n",
       "      <td>stress</td>\n",
       "      <td>missing</td>\n",
       "      <td>['Who', 'wasted', 'my', 'time', 'and', 'money'...</td>\n",
       "      <td>8</td>\n",
       "      <td>bsb</td>\n",
       "      <td>-0.2</td>\n",
       "      <td>0.0</td>\n",
       "      <td>0</td>\n",
       "    </tr>\n",
       "    <tr>\n",
       "      <th>2</th>\n",
       "      <td>24</td>\n",
       "      <td>11</td>\n",
       "      <td>stress</td>\n",
       "      <td>stress</td>\n",
       "      <td>stress</td>\n",
       "      <td>unstress</td>\n",
       "      <td>stress</td>\n",
       "      <td>unstress</td>\n",
       "      <td>unstress</td>\n",
       "      <td>stress</td>\n",
       "      <td>stress</td>\n",
       "      <td>stress</td>\n",
       "      <td>stress</td>\n",
       "      <td>missing</td>\n",
       "      <td>['Your', 'ten', 'thousand', 'promises', 'That'...</td>\n",
       "      <td>24</td>\n",
       "      <td>bsb</td>\n",
       "      <td>0.0</td>\n",
       "      <td>0.0</td>\n",
       "      <td>0</td>\n",
       "    </tr>\n",
       "    <tr>\n",
       "      <th>3</th>\n",
       "      <td>27</td>\n",
       "      <td>11</td>\n",
       "      <td>stress</td>\n",
       "      <td>stress</td>\n",
       "      <td>stress</td>\n",
       "      <td>unstress</td>\n",
       "      <td>stress</td>\n",
       "      <td>unstress</td>\n",
       "      <td>unstress</td>\n",
       "      <td>stress</td>\n",
       "      <td>stress</td>\n",
       "      <td>stress</td>\n",
       "      <td>stress</td>\n",
       "      <td>missing</td>\n",
       "      <td>['Your', 'ten', 'thousand', 'promises', 'That'...</td>\n",
       "      <td>27</td>\n",
       "      <td>bsb</td>\n",
       "      <td>0.0</td>\n",
       "      <td>0.0</td>\n",
       "      <td>0</td>\n",
       "    </tr>\n",
       "    <tr>\n",
       "      <th>4</th>\n",
       "      <td>28</td>\n",
       "      <td>11</td>\n",
       "      <td>stress</td>\n",
       "      <td>stress</td>\n",
       "      <td>stress</td>\n",
       "      <td>missing</td>\n",
       "      <td>stress</td>\n",
       "      <td>missing</td>\n",
       "      <td>stress</td>\n",
       "      <td>stress</td>\n",
       "      <td>stress</td>\n",
       "      <td>missing</td>\n",
       "      <td>stress</td>\n",
       "      <td>missing</td>\n",
       "      <td>['What', 'a', 'lie', '(what', 'a', 'lie)', 'Yo...</td>\n",
       "      <td>28</td>\n",
       "      <td>bsb</td>\n",
       "      <td>0.0</td>\n",
       "      <td>0.0</td>\n",
       "      <td>0</td>\n",
       "    </tr>\n",
       "  </tbody>\n",
       "</table>\n",
       "</div>"
      ],
      "text/plain": [
       "   sonnet_index  syllables      s1      s2        s3        s4      s5  \\\n",
       "0             0         11  stress  stress    stress  unstress  stress   \n",
       "1             8         11  stress  stress  unstress    stress  stress   \n",
       "2            24         11  stress  stress    stress  unstress  stress   \n",
       "3            27         11  stress  stress    stress  unstress  stress   \n",
       "4            28         11  stress  stress    stress   missing  stress   \n",
       "\n",
       "         s6        s7        s8      s9      s10     s11      s12  \\\n",
       "0  unstress  unstress    stress  stress   stress  stress  missing   \n",
       "1    stress    stress  unstress  stress   stress  stress  missing   \n",
       "2  unstress  unstress    stress  stress   stress  stress  missing   \n",
       "3  unstress  unstress    stress  stress   stress  stress  missing   \n",
       "4   missing    stress    stress  stress  missing  stress  missing   \n",
       "\n",
       "                                           word_list  sonnet_num author  \\\n",
       "0  ['Your', 'ten', 'thousand', 'promises', 'That'...           0    bsb   \n",
       "1  ['Who', 'wasted', 'my', 'time', 'and', 'money'...           8    bsb   \n",
       "2  ['Your', 'ten', 'thousand', 'promises', 'That'...          24    bsb   \n",
       "3  ['Your', 'ten', 'thousand', 'promises', 'That'...          27    bsb   \n",
       "4  ['What', 'a', 'lie', '(what', 'a', 'lie)', 'Yo...          28    bsb   \n",
       "\n",
       "   polarity  subjectivity  sonnet  \n",
       "0       0.0           0.0       0  \n",
       "1      -0.2           0.0       0  \n",
       "2       0.0           0.0       0  \n",
       "3       0.0           0.0       0  \n",
       "4       0.0           0.0       0  "
      ]
     },
     "execution_count": 4,
     "metadata": {},
     "output_type": "execute_result"
    }
   ],
   "source": [
    "# Create BSB Dataframe\n",
    "bsb_df = pd.read_csv('./bsb_IP.csv')\n",
    "bsb_df.columns = ['unnamed', 'sonnet_index', 'syllables', 's1', 's2', 's3',\n",
    "       's4', 's5', 's6', 's7', 's8', 's9', 's10', 's11', 's12',\n",
    "       'word_list', 'sonnet_num', 'author', 'polarity', 'subjectivity']\n",
    "\n",
    "bsb_df['sonnet'] = bsb_df.apply(lambda x: 0, axis=1)\n",
    "\n",
    "# unnecessary columns\n",
    "\n",
    "bsb_df = bsb_df.drop('unnamed', axis=1)\n",
    "\n",
    "bsb_df.head()"
   ]
  },
  {
   "cell_type": "code",
   "execution_count": 5,
   "metadata": {},
   "outputs": [
    {
     "name": "stdout",
     "output_type": "stream",
     "text": [
      "<class 'pandas.core.frame.DataFrame'>\n",
      "RangeIndex: 1235 entries, 0 to 1234\n",
      "Data columns (total 20 columns):\n",
      "sonnet_index    1235 non-null int64\n",
      "syllables       1235 non-null int64\n",
      "s1              1235 non-null object\n",
      "s2              1235 non-null object\n",
      "s3              1235 non-null object\n",
      "s4              1235 non-null object\n",
      "s5              1235 non-null object\n",
      "s6              1235 non-null object\n",
      "s7              1235 non-null object\n",
      "s8              1235 non-null object\n",
      "s9              1235 non-null object\n",
      "s10             1235 non-null object\n",
      "s11             1235 non-null object\n",
      "s12             1235 non-null object\n",
      "word_list       1235 non-null object\n",
      "sonnet_num      1235 non-null int64\n",
      "author          1235 non-null object\n",
      "polarity        1235 non-null float64\n",
      "subjectivity    1235 non-null float64\n",
      "sonnet          1235 non-null int64\n",
      "dtypes: float64(2), int64(4), object(14)\n",
      "memory usage: 193.0+ KB\n"
     ]
    }
   ],
   "source": [
    "bsb_df.info()"
   ]
  },
  {
   "cell_type": "code",
   "execution_count": 6,
   "metadata": {},
   "outputs": [
    {
     "data": {
      "text/html": [
       "<div>\n",
       "<style scoped>\n",
       "    .dataframe tbody tr th:only-of-type {\n",
       "        vertical-align: middle;\n",
       "    }\n",
       "\n",
       "    .dataframe tbody tr th {\n",
       "        vertical-align: top;\n",
       "    }\n",
       "\n",
       "    .dataframe thead th {\n",
       "        text-align: right;\n",
       "    }\n",
       "</style>\n",
       "<table border=\"1\" class=\"dataframe\">\n",
       "  <thead>\n",
       "    <tr style=\"text-align: right;\">\n",
       "      <th></th>\n",
       "      <th>sonnet_index</th>\n",
       "      <th>syllables</th>\n",
       "      <th>s1</th>\n",
       "      <th>s2</th>\n",
       "      <th>s3</th>\n",
       "      <th>s4</th>\n",
       "      <th>s5</th>\n",
       "      <th>s6</th>\n",
       "      <th>s7</th>\n",
       "      <th>s8</th>\n",
       "      <th>s9</th>\n",
       "      <th>s10</th>\n",
       "      <th>s11</th>\n",
       "      <th>s12</th>\n",
       "      <th>word_list</th>\n",
       "      <th>sonnet_num</th>\n",
       "      <th>author</th>\n",
       "      <th>polarity</th>\n",
       "      <th>subjectivity</th>\n",
       "      <th>sonnet</th>\n",
       "    </tr>\n",
       "  </thead>\n",
       "  <tbody>\n",
       "    <tr>\n",
       "      <th>0</th>\n",
       "      <td>2</td>\n",
       "      <td>10</td>\n",
       "      <td>unstress</td>\n",
       "      <td>stress</td>\n",
       "      <td>unstress</td>\n",
       "      <td>stress</td>\n",
       "      <td>unstress</td>\n",
       "      <td>stress</td>\n",
       "      <td>unstress</td>\n",
       "      <td>stress</td>\n",
       "      <td>unstress</td>\n",
       "      <td>stress</td>\n",
       "      <td>missing</td>\n",
       "      <td>missing</td>\n",
       "      <td>['From', 'fairest', 'creatures', 'we', 'desire...</td>\n",
       "      <td>1</td>\n",
       "      <td>Shakespeare</td>\n",
       "      <td>0.00</td>\n",
       "      <td>0.00</td>\n",
       "      <td>1</td>\n",
       "    </tr>\n",
       "    <tr>\n",
       "      <th>1</th>\n",
       "      <td>3</td>\n",
       "      <td>11</td>\n",
       "      <td>unstress</td>\n",
       "      <td>stress</td>\n",
       "      <td>stress</td>\n",
       "      <td>stress</td>\n",
       "      <td>unstress</td>\n",
       "      <td>stress</td>\n",
       "      <td>stress</td>\n",
       "      <td>stress</td>\n",
       "      <td>unstress</td>\n",
       "      <td>stress</td>\n",
       "      <td>missing</td>\n",
       "      <td>missing</td>\n",
       "      <td>['That', 'thereby', 'beauty', 'rose', 'might',...</td>\n",
       "      <td>1</td>\n",
       "      <td>Shakespeare</td>\n",
       "      <td>0.60</td>\n",
       "      <td>0.95</td>\n",
       "      <td>1</td>\n",
       "    </tr>\n",
       "    <tr>\n",
       "      <th>2</th>\n",
       "      <td>4</td>\n",
       "      <td>10</td>\n",
       "      <td>stress</td>\n",
       "      <td>stress</td>\n",
       "      <td>unstress</td>\n",
       "      <td>missing</td>\n",
       "      <td>missing</td>\n",
       "      <td>stress</td>\n",
       "      <td>stress</td>\n",
       "      <td>stress</td>\n",
       "      <td>unstress</td>\n",
       "      <td>stress</td>\n",
       "      <td>missing</td>\n",
       "      <td>missing</td>\n",
       "      <td>['But', 'as', 'the', 'riper', 'should', 'by', ...</td>\n",
       "      <td>1</td>\n",
       "      <td>Shakespeare</td>\n",
       "      <td>0.00</td>\n",
       "      <td>0.00</td>\n",
       "      <td>1</td>\n",
       "    </tr>\n",
       "    <tr>\n",
       "      <th>3</th>\n",
       "      <td>5</td>\n",
       "      <td>10</td>\n",
       "      <td>unstress</td>\n",
       "      <td>stress</td>\n",
       "      <td>unstress</td>\n",
       "      <td>stress</td>\n",
       "      <td>stress</td>\n",
       "      <td>stress</td>\n",
       "      <td>unstress</td>\n",
       "      <td>stress</td>\n",
       "      <td>unstress</td>\n",
       "      <td>unstress</td>\n",
       "      <td>missing</td>\n",
       "      <td>missing</td>\n",
       "      <td>['His', 'tender', 'heir', 'might', 'bear', 'hi...</td>\n",
       "      <td>1</td>\n",
       "      <td>Shakespeare</td>\n",
       "      <td>0.00</td>\n",
       "      <td>0.00</td>\n",
       "      <td>1</td>\n",
       "    </tr>\n",
       "    <tr>\n",
       "      <th>4</th>\n",
       "      <td>6</td>\n",
       "      <td>10</td>\n",
       "      <td>stress</td>\n",
       "      <td>stress</td>\n",
       "      <td>stress</td>\n",
       "      <td>unstress</td>\n",
       "      <td>unstress</td>\n",
       "      <td>stress</td>\n",
       "      <td>stress</td>\n",
       "      <td>stress</td>\n",
       "      <td>stress</td>\n",
       "      <td>stress</td>\n",
       "      <td>missing</td>\n",
       "      <td>missing</td>\n",
       "      <td>['But', 'thou', 'contracted', 'to', 'thine', '...</td>\n",
       "      <td>1</td>\n",
       "      <td>Shakespeare</td>\n",
       "      <td>0.65</td>\n",
       "      <td>0.90</td>\n",
       "      <td>1</td>\n",
       "    </tr>\n",
       "  </tbody>\n",
       "</table>\n",
       "</div>"
      ],
      "text/plain": [
       "   sonnet_index  syllables        s1      s2        s3        s4        s5  \\\n",
       "0             2         10  unstress  stress  unstress    stress  unstress   \n",
       "1             3         11  unstress  stress    stress    stress  unstress   \n",
       "2             4         10    stress  stress  unstress   missing   missing   \n",
       "3             5         10  unstress  stress  unstress    stress    stress   \n",
       "4             6         10    stress  stress    stress  unstress  unstress   \n",
       "\n",
       "       s6        s7      s8        s9       s10      s11      s12  \\\n",
       "0  stress  unstress  stress  unstress    stress  missing  missing   \n",
       "1  stress    stress  stress  unstress    stress  missing  missing   \n",
       "2  stress    stress  stress  unstress    stress  missing  missing   \n",
       "3  stress  unstress  stress  unstress  unstress  missing  missing   \n",
       "4  stress    stress  stress    stress    stress  missing  missing   \n",
       "\n",
       "                                           word_list  sonnet_num       author  \\\n",
       "0  ['From', 'fairest', 'creatures', 'we', 'desire...           1  Shakespeare   \n",
       "1  ['That', 'thereby', 'beauty', 'rose', 'might',...           1  Shakespeare   \n",
       "2  ['But', 'as', 'the', 'riper', 'should', 'by', ...           1  Shakespeare   \n",
       "3  ['His', 'tender', 'heir', 'might', 'bear', 'hi...           1  Shakespeare   \n",
       "4  ['But', 'thou', 'contracted', 'to', 'thine', '...           1  Shakespeare   \n",
       "\n",
       "   polarity  subjectivity  sonnet  \n",
       "0      0.00          0.00       1  \n",
       "1      0.60          0.95       1  \n",
       "2      0.00          0.00       1  \n",
       "3      0.00          0.00       1  \n",
       "4      0.65          0.90       1  "
      ]
     },
     "execution_count": 6,
     "metadata": {},
     "output_type": "execute_result"
    }
   ],
   "source": [
    "# Create full_sonnet Dataframe\n",
    "poems_df = pd.read_csv('./full_sonnet_df.csv')\n",
    "poems_df.head()\n",
    "poems_df.columns = ['unnamed0','unnamed1', 'sonnet_index', 'syllables', 's1', 's2', 's3',\n",
    "       's4', 's5', 's6', 's7', 's8', 's9', 's10', 's11', 's12',\n",
    "       'word_list', 'sonnet_num', 'author', 'polarity', 'subjectivity','sonnet']\n",
    "\n",
    "# drop unnecessary columns\n",
    "\n",
    "poems_df = poems_df.drop('unnamed0', axis=1)\n",
    "poems_df = poems_df.drop('unnamed1', axis=1)\n",
    "\n",
    "poems_df.head()"
   ]
  },
  {
   "cell_type": "code",
   "execution_count": 7,
   "metadata": {},
   "outputs": [],
   "source": [
    "# Randomly take subset of the full sonnets data\n",
    "poems_df = poems_df.drop(poems_df.sample(frac=.65).index)"
   ]
  },
  {
   "cell_type": "code",
   "execution_count": 8,
   "metadata": {},
   "outputs": [
    {
     "name": "stdout",
     "output_type": "stream",
     "text": [
      "<class 'pandas.core.frame.DataFrame'>\n",
      "Int64Index: 1792 entries, 2 to 5116\n",
      "Data columns (total 20 columns):\n",
      "sonnet_index    1792 non-null int64\n",
      "syllables       1792 non-null int64\n",
      "s1              1792 non-null object\n",
      "s2              1792 non-null object\n",
      "s3              1792 non-null object\n",
      "s4              1792 non-null object\n",
      "s5              1792 non-null object\n",
      "s6              1792 non-null object\n",
      "s7              1792 non-null object\n",
      "s8              1792 non-null object\n",
      "s9              1792 non-null object\n",
      "s10             1792 non-null object\n",
      "s11             1792 non-null object\n",
      "s12             1792 non-null object\n",
      "word_list       1792 non-null object\n",
      "sonnet_num      1792 non-null int64\n",
      "author          1757 non-null object\n",
      "polarity        1792 non-null float64\n",
      "subjectivity    1792 non-null float64\n",
      "sonnet          1792 non-null int64\n",
      "dtypes: float64(2), int64(4), object(14)\n",
      "memory usage: 294.0+ KB\n"
     ]
    }
   ],
   "source": [
    "poems_df.info()"
   ]
  },
  {
   "cell_type": "code",
   "execution_count": 9,
   "metadata": {},
   "outputs": [],
   "source": [
    "# Stacking the Taylor Swift, BSB, and Poems dataframes\n",
    "\n",
    "final_df = pd.concat([taylor_df, bsb_df, poems_df])\n",
    "final_df.head()\n",
    "final_df.to_csv('final_df.csv')"
   ]
  },
  {
   "cell_type": "code",
   "execution_count": 10,
   "metadata": {},
   "outputs": [
    {
     "data": {
      "text/plain": [
       "(3497, 20)"
      ]
     },
     "execution_count": 10,
     "metadata": {},
     "output_type": "execute_result"
    }
   ],
   "source": [
    "final_df.shape"
   ]
  },
  {
   "cell_type": "markdown",
   "metadata": {},
   "source": [
    "# Baseline"
   ]
  },
  {
   "cell_type": "code",
   "execution_count": 11,
   "metadata": {},
   "outputs": [
    {
     "name": "stdout",
     "output_type": "stream",
     "text": [
      "0.5124392336288247\n"
     ]
    }
   ],
   "source": [
    "print(np.mean(final_df.sonnet))"
   ]
  },
  {
   "cell_type": "markdown",
   "metadata": {},
   "source": [
    "# Logistic Regression"
   ]
  },
  {
   "cell_type": "code",
   "execution_count": 12,
   "metadata": {},
   "outputs": [],
   "source": [
    "logreg = LogisticRegression()\n",
    "\n",
    "formula = 'sonnet ~ syllables + C(s1) + C(s2) + C(s3) + C(s4) + C(s5) + C(s6) + C(s7) + C(s8) + C(s9) + C(s10) + C(s11) + C(s12) + polarity + subjectivity -1'\n",
    "Y, X = dmatrices(formula, data=final_df)"
   ]
  },
  {
   "cell_type": "code",
   "execution_count": 13,
   "metadata": {},
   "outputs": [],
   "source": [
    "#Prediction values\n",
    "# ypred = logreg.predict(X)\n",
    "# mistakes_df['algorithm'] = ypred"
   ]
  },
  {
   "cell_type": "code",
   "execution_count": 14,
   "metadata": {},
   "outputs": [],
   "source": [
    "interaction_formula = ''' sonnet ~ syllables + (C(s1) + C(s2) + C(s3) + C(s4) + C(s5) + C(s6) + C(s7) + C(s8) + \n",
    "C(s9) + C(s10) + C(s11) + C(s12))**2 + polarity + subjectivity -1'''\n",
    "Yint, Xint = dmatrices(interaction_formula, data=final_df, return_type='dataframe')\n",
    "Xint = (Xint - Xint.mean()) / Xint.std()\n",
    "Xint.dropna(axis=1, inplace=True)"
   ]
  },
  {
   "cell_type": "code",
   "execution_count": 15,
   "metadata": {},
   "outputs": [
    {
     "data": {
      "text/plain": [
       "((3497, 1), (3497, 286))"
      ]
     },
     "execution_count": 15,
     "metadata": {},
     "output_type": "execute_result"
    }
   ],
   "source": [
    "Yint.shape, Xint.shape"
   ]
  },
  {
   "cell_type": "code",
   "execution_count": 16,
   "metadata": {},
   "outputs": [
    {
     "data": {
      "text/plain": [
       "((3497, 1), (3497, 28))"
      ]
     },
     "execution_count": 16,
     "metadata": {},
     "output_type": "execute_result"
    }
   ],
   "source": [
    "Y.shape, X.shape"
   ]
  },
  {
   "cell_type": "code",
   "execution_count": 17,
   "metadata": {},
   "outputs": [
    {
     "data": {
      "text/plain": [
       "array(0.51243923)"
      ]
     },
     "execution_count": 17,
     "metadata": {},
     "output_type": "execute_result"
    }
   ],
   "source": [
    "np.mean(Y)"
   ]
  },
  {
   "cell_type": "markdown",
   "metadata": {},
   "source": [
    "# Inspect Model 1"
   ]
  },
  {
   "cell_type": "markdown",
   "metadata": {},
   "source": [
    "## Summary"
   ]
  },
  {
   "cell_type": "code",
   "execution_count": 18,
   "metadata": {},
   "outputs": [
    {
     "name": "stdout",
     "output_type": "stream",
     "text": [
      "                 Generalized Linear Model Regression Results                  \n",
      "==============================================================================\n",
      "Dep. Variable:                 sonnet   No. Observations:                 3497\n",
      "Model:                            GLM   Df Residuals:                     3469\n",
      "Model Family:                Binomial   Df Model:                           27\n",
      "Link Function:                  logit   Scale:                          1.0000\n",
      "Method:                          IRLS   Log-Likelihood:                -355.80\n",
      "Date:                Sat, 12 Oct 2019   Deviance:                       711.60\n",
      "Time:                        15:49:14   Pearson chi2:                 1.86e+04\n",
      "No. Iterations:                    22                                         \n",
      "Covariance Type:            nonrobust                                         \n",
      "======================================================================================\n",
      "                         coef    std err          z      P>|z|      [0.025      0.975]\n",
      "--------------------------------------------------------------------------------------\n",
      "C(s1)[missing]        33.0420      3.509      9.416      0.000      26.164      39.920\n",
      "C(s1)[stress]         33.1081      3.443      9.617      0.000      26.361      39.856\n",
      "C(s1)[unstress]       36.2113      3.489     10.378      0.000      29.372      43.050\n",
      "C(s2)[T.stress]       -2.1285      0.517     -4.118      0.000      -3.141      -1.116\n",
      "C(s2)[T.unstress]     -2.5133      0.642     -3.916      0.000      -3.771      -1.255\n",
      "C(s3)[T.stress]       -0.9494      0.495     -1.917      0.055      -1.920       0.021\n",
      "C(s3)[T.unstress]      1.4583      0.521      2.797      0.005       0.436       2.480\n",
      "C(s4)[T.stress]       -1.0609      0.478     -2.220      0.026      -1.997      -0.124\n",
      "C(s4)[T.unstress]     -2.2623      0.624     -3.626      0.000      -3.485      -1.040\n",
      "C(s5)[T.stress]       -2.8588      0.481     -5.947      0.000      -3.801      -1.917\n",
      "C(s5)[T.unstress]     -1.6095      0.504     -3.191      0.001      -2.598      -0.621\n",
      "C(s6)[T.stress]       -0.4311      0.469     -0.919      0.358      -1.351       0.489\n",
      "C(s6)[T.unstress]      0.3146      0.541      0.582      0.561      -0.745       1.374\n",
      "C(s7)[T.stress]       -1.2021      0.491     -2.446      0.014      -2.165      -0.239\n",
      "C(s7)[T.unstress]      0.5334      0.525      1.016      0.310      -0.495       1.562\n",
      "C(s8)[T.stress]       -1.2639      0.511     -2.473      0.013      -2.266      -0.262\n",
      "C(s8)[T.unstress]     -0.3180      0.577     -0.551      0.581      -1.448       0.812\n",
      "C(s9)[T.stress]       -1.8621      0.501     -3.718      0.000      -2.844      -0.881\n",
      "C(s9)[T.unstress]     -0.3617      0.521     -0.694      0.488      -1.383       0.659\n",
      "C(s10)[T.stress]      -0.7322      0.396     -1.847      0.065      -1.509       0.045\n",
      "C(s10)[T.unstress]     0.4163      0.467      0.892      0.372      -0.498       1.331\n",
      "C(s11)[T.stress]      -4.9841      0.312    -15.983      0.000      -5.595      -4.373\n",
      "C(s11)[T.unstress]    -3.5575      0.371     -9.584      0.000      -4.285      -2.830\n",
      "C(s12)[T.stress]      26.7527   1.32e+04      0.002      0.998   -2.58e+04    2.58e+04\n",
      "C(s12)[T.unstress]    29.2291   3.82e+04      0.001      0.999   -7.49e+04     7.5e+04\n",
      "syllables             -2.0074      0.296     -6.781      0.000      -2.588      -1.427\n",
      "polarity               0.6026      0.381      1.581      0.114      -0.144       1.350\n",
      "subjectivity           0.6797      0.306      2.221      0.026       0.080       1.280\n",
      "======================================================================================\n"
     ]
    }
   ],
   "source": [
    "import statsmodels.formula.api as smf\n",
    "import statsmodels.api as sm\n",
    "\n",
    "model1 = smf.glm(formula = formula, data=final_df, family=sm.families.Binomial())\n",
    "my_model1 = model1.fit()\n",
    "print(my_model1.summary())"
   ]
  },
  {
   "cell_type": "markdown",
   "metadata": {},
   "source": [
    "## step-wise selection"
   ]
  },
  {
   "cell_type": "code",
   "execution_count": 19,
   "metadata": {},
   "outputs": [],
   "source": [
    "def step_wise_forward_selected(data, predictors, response, AIC=True):\n",
    "    \"\"\"Logistic model designed by forward selection.\n",
    "    Parameters:\n",
    "    -----------\n",
    "    data : pandas DataFrame with all possible predictors and response\n",
    "    response: string, name of response column in data\n",
    "    Returns:\n",
    "    --------\n",
    "    model: an \"optimal\" fitted statsmodels linear model\n",
    "           with an intercept\n",
    "           selected by forward selection\n",
    "           evaluated by AIC\n",
    "\n",
    "    inspiration provided by https://planspace.org/20150423-forward_selection_with_statsmodels/\n",
    "    \"\"\"\n",
    "    print(\"remaining = \", predictors)\n",
    "    print(\"response = \", response)\n",
    "    selected = []\n",
    "    current_score, best_new_score = 99999, 99999  # set starting scores high so we get lower score\n",
    "    \n",
    "    while predictors and current_score == best_new_score:\n",
    "#         print(\"new round\")\n",
    "#         print(\"current_score = \", current_score)\n",
    "        scores_with_candidates = []\n",
    "#         print(\"scores with candidates = \", scores_with_candidates)\n",
    "        for candidate in predictors:\n",
    "#             print(\"candidate = \", candidate)\n",
    "            formula = \"{} ~ {} + 1\".format(response,' + '.join(selected + [candidate]))\n",
    "#             print(\"candidate formula = \", formula)\n",
    "            if AIC:\n",
    "                score = smf.glm(formula=formula, data=data, family=sm.families.Binomial()).fit().aic\n",
    "            else:\n",
    "                score = smf.glm(formula=formula, data=data, family=sm.families.Binomial()).fit().bic\n",
    "#             print(\"score = \", score)\n",
    "            scores_with_candidates.append((score, candidate))\n",
    "        scores_with_candidates.sort(reverse=True)\n",
    "#         print(\"scores with candidates = \", scores_with_candidates)\n",
    "        best_new_score, best_candidate = scores_with_candidates.pop()\n",
    "#         print(\"best new score = \", best_new_score)\n",
    "#         print(\"best candidate = \", best_candidate)\n",
    "        if current_score > best_new_score:\n",
    "            predictors.remove(best_candidate)\n",
    "            selected.append(best_candidate)\n",
    "#             print(\"selected = \", selected)\n",
    "            current_score = best_new_score\n",
    "    \n",
    "    formula = \"{} ~ {} + 1\".format(response,' + '.join(selected))\n",
    "    return formula"
   ]
  },
  {
   "cell_type": "markdown",
   "metadata": {},
   "source": [
    "### AIC"
   ]
  },
  {
   "cell_type": "code",
   "execution_count": null,
   "metadata": {},
   "outputs": [
    {
     "name": "stdout",
     "output_type": "stream",
     "text": [
      "remaining =  ['syllables', 'C(s1)', 'C(s2)', 'C(s3)', 'C(s4)', 'C(s5)', 'C(s6)', 'C(s7)', 'C(s8)', 'C(s9)', 'C(s10)', 'C(s11)', 'C(s12)', 'polarity', 'subjectivity']\n",
      "response =  sonnet\n"
     ]
    }
   ],
   "source": [
    "my_pred = [\"syllables\",\"C(s1)\",\"C(s2)\",\"C(s3)\",\"C(s4)\",\"C(s5)\",\"C(s6)\",\"C(s7)\",\"C(s8)\",\"C(s9)\",\"C(s10)\",\"C(s11)\",\"C(s12)\",\"polarity\",\"subjectivity\"]\n",
    "aic_step_formula = step_wise_forward_selected(final_df, my_pred, \"sonnet\", True)\n",
    "print(aic_step_formula)"
   ]
  },
  {
   "cell_type": "code",
   "execution_count": null,
   "metadata": {},
   "outputs": [],
   "source": [
    "Ya, Xa = dmatrices(aic_step_formula, data=final_df)"
   ]
  },
  {
   "cell_type": "code",
   "execution_count": null,
   "metadata": {},
   "outputs": [],
   "source": [
    "modela = smf.glm(formula = aic_step_formula, data=final_df, family=sm.families.Binomial())\n",
    "my_modela = modela.fit()\n",
    "print(my_modela.summary())"
   ]
  },
  {
   "cell_type": "markdown",
   "metadata": {},
   "source": [
    "### BIC"
   ]
  },
  {
   "cell_type": "code",
   "execution_count": null,
   "metadata": {},
   "outputs": [],
   "source": [
    "my_pred = [\"syllables\",\"C(s1)\",\"C(s2)\",\"C(s3)\",\"C(s4)\",\"C(s5)\",\"C(s6)\",\"C(s7)\",\"C(s8)\",\"C(s9)\",\"C(s10)\",\"C(s11)\",\"C(s12)\",\"polarity\",\"subjectivity\"]\n",
    "bic_step_formula = step_wise_forward_selected(final_df, my_pred, \"sonnet\", False)\n",
    "print(bic_step_formula)"
   ]
  },
  {
   "cell_type": "code",
   "execution_count": null,
   "metadata": {},
   "outputs": [],
   "source": [
    "Yb, Xb = dmatrices(bic_step_formula, data=final_df)"
   ]
  },
  {
   "cell_type": "code",
   "execution_count": null,
   "metadata": {},
   "outputs": [],
   "source": [
    "modelb = smf.glm(formula = bic_step_formula, data=final_df, family=sm.families.Binomial())\n",
    "my_modelb = modelb.fit()\n",
    "print(my_modelb.summary())"
   ]
  },
  {
   "cell_type": "markdown",
   "metadata": {},
   "source": [
    "## Cross Val Scores"
   ]
  },
  {
   "cell_type": "code",
   "execution_count": null,
   "metadata": {},
   "outputs": [],
   "source": [
    "scores1 = cross_val_score(logreg, X, np.ravel(Y), cv=5)\n",
    "print(scores1)\n",
    "print(np.mean(scores1))"
   ]
  },
  {
   "cell_type": "code",
   "execution_count": null,
   "metadata": {},
   "outputs": [],
   "source": [
    "scoresa = cross_val_score(logreg, Xa, np.ravel(Ya), cv=5)\n",
    "print(scoresa)\n",
    "print(np.mean(scoresa))"
   ]
  },
  {
   "cell_type": "code",
   "execution_count": null,
   "metadata": {},
   "outputs": [],
   "source": [
    "scoresb = cross_val_score(logreg, Xb, np.ravel(Yb), cv=5)\n",
    "print(scoresb)\n",
    "print(np.mean(scoresb))"
   ]
  },
  {
   "cell_type": "code",
   "execution_count": null,
   "metadata": {},
   "outputs": [],
   "source": [
    "model_features = ['syllables', 's1', 's2', 's3', 's4', 's5', 's6', 's7', 's8', 's9', 's10', 's11', 's12', 'polarity', 'subjectivity']\n",
    "\n",
    "# zip(model_features, logreg.coef_)\n",
    "\n",
    "# len(model_features), len(logreg.coef_[0])\n",
    "# len(X.design_info.column_names), len(logreg.coef_[0])"
   ]
  },
  {
   "cell_type": "markdown",
   "metadata": {},
   "source": [
    "## Influencial Points"
   ]
  },
  {
   "cell_type": "code",
   "execution_count": null,
   "metadata": {},
   "outputs": [],
   "source": [
    "n=3497\n",
    "p_a=15\n",
    "influence_a = my_modela.get_influence()\n",
    "infl_df_a = influence_a.summary_frame()\n",
    "\n",
    "resid_df = infl_df_a.sort_values('standard_resid', ascending=False)\n",
    "resid_df_a = resid_df.loc[abs(resid_df.standard_resid) > 3]\n",
    "print(len(resid_df_a))\n",
    "\n",
    "cook_df = infl_df_a.sort_values('cooks_d', ascending=False)\n",
    "Di = 4/(n-p_a)\n",
    "cook_df_a = cook_df.loc[abs(cook_df.cooks_d) > Di]\n",
    "print(len(cook_df_a))\n",
    "\n",
    "dffit_df = infl_df_a.sort_values('dffits_internal', ascending=False)\n",
    "dff = 2*((p_a+1)/(n-p_a-1))**0.5\n",
    "dffit_df_a = dffit_df.loc[abs(dffit_df.dffits_internal) > dff]\n",
    "print(len(dffit_df_a))"
   ]
  },
  {
   "cell_type": "code",
   "execution_count": null,
   "metadata": {},
   "outputs": [],
   "source": [
    "n=3497\n",
    "p_b=12\n",
    "influence_b = my_modelb.get_influence()\n",
    "infl_df_b = influence_b.summary_frame()\n",
    "\n",
    "resid_df = infl_df_b.sort_values('standard_resid', ascending=False)\n",
    "resid_df_b = resid_df.loc[abs(resid_df.standard_resid) > 3]\n",
    "print(len(resid_df_b))\n",
    "\n",
    "cook_df = infl_df_b.sort_values('cooks_d', ascending=False)\n",
    "Di = 4/(n-p_b)\n",
    "cook_df_b = cook_df.loc[abs(cook_df.cooks_d) > Di]\n",
    "print(len(cook_df_b))\n",
    "\n",
    "dffit_df = infl_df_b.sort_values('dffits_internal', ascending=False)\n",
    "dff = 2*((p_b+1)/(n-p_b-1))**0.5\n",
    "dffit_df_b = dffit_df.loc[abs(dffit_df.dffits_internal) > dff]\n",
    "print(len(dffit_df_b))"
   ]
  },
  {
   "cell_type": "markdown",
   "metadata": {},
   "source": [
    "# Predict"
   ]
  },
  {
   "cell_type": "code",
   "execution_count": null,
   "metadata": {},
   "outputs": [],
   "source": [
    "logreg.fit(X,np.ravel(Y))\n",
    "pp = logreg.predict_proba(X)\n",
    "y_pred_50pct = logreg.predict(X)"
   ]
  },
  {
   "cell_type": "markdown",
   "metadata": {},
   "source": [
    "# ROC curve"
   ]
  },
  {
   "cell_type": "code",
   "execution_count": null,
   "metadata": {},
   "outputs": [],
   "source": [
    "Ytrue = pd.Series(np.ravel(Y))\n",
    "Y_score = logreg.decision_function(X)\n",
    "\n",
    "FPR = dict()\n",
    "TPR = dict()\n",
    "ROC_AUC = dict()\n",
    "\n",
    "# For class 1, find the area under the curve\n",
    "FPR[1], TPR[1], _ = roc_curve(Ytrue, Y_score)\n",
    "ROC_AUC[1] = auc(FPR[1], TPR[1])\n",
    "\n",
    "# Plot of a ROC curve for class 1 (has_cancer)\n",
    "plt.figure(figsize=[11,9])\n",
    "plt.plot(FPR[1], TPR[1], label='ROC curve (area = %0.2f)' % ROC_AUC[1], linewidth=4)\n",
    "plt.plot([0, 1], [0, 1], 'k--', linewidth=4)\n",
    "plt.xlim([0.0, 1.0])\n",
    "plt.ylim([0.0, 1.05])\n",
    "plt.xlabel('False Positive Rate', fontsize=18)\n",
    "plt.ylabel('True Positive Rate', fontsize=18)\n",
    "plt.title('Identifying Iambic Pentameter: Logistic', fontsize=18)\n",
    "plt.legend(loc=\"lower right\")\n",
    "plt.show()"
   ]
  },
  {
   "cell_type": "markdown",
   "metadata": {},
   "source": [
    "# Confusion Matrix"
   ]
  },
  {
   "cell_type": "code",
   "execution_count": null,
   "metadata": {},
   "outputs": [],
   "source": [
    "Ytrue = pd.Series(np.ravel(Y))\n",
    "Ypred50 = pd.Series(y_pred_50pct)\n",
    "pd.crosstab(Ytrue, Ypred50, rownames = ['True'], colnames = ['Predicted'], margins = True)"
   ]
  },
  {
   "cell_type": "markdown",
   "metadata": {},
   "source": [
    "# Model Evaluation:"
   ]
  },
  {
   "cell_type": "markdown",
   "metadata": {},
   "source": [
    "### Wald's Test"
   ]
  },
  {
   "cell_type": "code",
   "execution_count": null,
   "metadata": {},
   "outputs": [],
   "source": [
    "# Testing for the significance of individual regression coefficients\n",
    "# Assume Ho: Bi=0 vs Ha: Bi!=0\n",
    "\n",
    "print(my_model1.pvalues < 0.025) # Use rejection rule Z_s > Z_a/2"
   ]
  },
  {
   "cell_type": "markdown",
   "metadata": {},
   "source": [
    "From the model1 summary above we can see that our significant predictors are S1, S2, S4, S11, and subjectivity. "
   ]
  },
  {
   "cell_type": "markdown",
   "metadata": {},
   "source": [
    "### Deviance Chi-Squared Test"
   ]
  },
  {
   "cell_type": "code",
   "execution_count": null,
   "metadata": {},
   "outputs": [],
   "source": [
    "# Comparing Reduced vs. Full Model\n",
    "\n",
    "g_full_model = my_model1.deviance     # values from summary tables above\n",
    "g_reduced_model = my_modelb.deviance\n",
    "print(f'Deviance of Full Model: {g_full_model}')\n",
    "print(f'Deviance of Reduced Model: {g_reduced_model}')\n",
    "\n",
    "delta_G_squared = g_reduced_model - g_full_model\n",
    "print(f'Delta G-Squared: {delta_G_squared}')\n",
    "\n",
    "chi_val = chi2.isf(0.05, 22, loc=0, scale=1) # where df=22 is from reduced model\n",
    "print(f'Chi-Squared Value: {chi_val}')"
   ]
  },
  {
   "cell_type": "markdown",
   "metadata": {},
   "source": [
    "Thus, since our delta G-squared value is smaller than our chi-squared value, we fail to reject the null hypothesis in favor of the alternative which is our reduced model."
   ]
  },
  {
   "cell_type": "markdown",
   "metadata": {},
   "source": [
    "### Pseudo-R-Squared"
   ]
  },
  {
   "cell_type": "code",
   "execution_count": null,
   "metadata": {},
   "outputs": [],
   "source": [
    "# Goodness-of-Fit\n",
    "import statsmodels.api as sm\n",
    "\n",
    "new_bic = \"sonnet ~ C(s11) + C(s1) + C(s7) + C(s3) + C(s5) + syllables + C(s9) + C(s10) + 1\"\n",
    "Y, X = patsy.dmatrices(new_bic, data=final_df)\n",
    "\n",
    "logit_model=sm.Logit(Y,X)\n",
    "result=logit_model.fit()\n",
    "print(result.summary())"
   ]
  },
  {
   "cell_type": "code",
   "execution_count": null,
   "metadata": {},
   "outputs": [],
   "source": []
  },
  {
   "cell_type": "markdown",
   "metadata": {},
   "source": [
    "## Multicolinearity"
   ]
  },
  {
   "cell_type": "code",
   "execution_count": null,
   "metadata": {},
   "outputs": [],
   "source": [
    "new_aic = \"sonnet ~ C(s11) + C(s1) + C(s7) + C(s3) + C(s5) + C(s9) + syllables + C(s10) + C(s2) + subjectivity + C(s4) + C(s8) + C(s6) + 1\"\n",
    "\n",
    "Y, X = patsy.dmatrices(new_aic, data=final_df)\n",
    "\n",
    "logit_model=sm.Logit(Y,X)\n",
    "result=logit_model.fit()"
   ]
  },
  {
   "cell_type": "code",
   "execution_count": null,
   "metadata": {},
   "outputs": [],
   "source": [
    "from statsmodels.stats.outliers_influence import variance_inflation_factor\n",
    "\n",
    "vif = pd.DataFrame()\n",
    "vif[\"VIF Factor\"] = [variance_inflation_factor(X, i) for i in range(X.shape[1])]\n",
    "vif[\"coefficients\"] = result.params\n",
    "vif[\"features\"] = [\"Intercept\",\"C(s11)[T.stress]\",\"C(s11)[T.unstress]\",\"C(s1)[T.stress]\",\"C(s1)[T.unstress]\",\"C(s7)[T.stress]\",\n",
    "                    \"C(s7)[T.unstress]\",\"C(s3)[T.stress]\",\"C(s3)[T.unstress]\",\"C(s5)[T.stress]\",\"C(s5)[T.unstress]\",\"C(s9)[T.stress]\",\n",
    "                    \"C(s9)[T.unstress]\",\"C(s10)[T.stress]\",\"C(s10)[T.unstress]\",\"C(s2)[T.stress]\",\"C(s2)[T.unstress]\",\"C(s4)[T.stress]\",\n",
    "                    \"C(s4)[T.unstress]\",\"C(s8)[T.stress]\",\"C(s8)[T.unstress]\",\"C(s6)[T.stress]\",\"C(s6)[T.unstress]\",\"syllables\",\"subjectivity\"]"
   ]
  },
  {
   "cell_type": "code",
   "execution_count": null,
   "metadata": {},
   "outputs": [],
   "source": [
    "print(vif)"
   ]
  },
  {
   "cell_type": "code",
   "execution_count": null,
   "metadata": {},
   "outputs": [],
   "source": [
    "new_bic = \"sonnet ~ C(s11) + C(s1) + C(s3) + C(s5) + C(s7) + C(s9) + syllables + C(s6) + C(s2) + C(s8) + polarity + C(s4) + 1\"\n",
    "\n",
    "Y, X = patsy.dmatrices(new_bic, data=final_df)\n",
    "\n",
    "logit_model=sm.Logit(Y,X)\n",
    "result=logit_model.fit()"
   ]
  },
  {
   "cell_type": "code",
   "execution_count": null,
   "metadata": {},
   "outputs": [],
   "source": [
    "vif = pd.DataFrame()\n",
    "vif[\"VIF Factor\"] = [variance_inflation_factor(X, i) for i in range(X.shape[1])]\n",
    "vif[\"coefficients\"] = result.params\n",
    "vif[\"features\"] = [\"Intercept\",\"C(s11)[T.stress]\",\"C(s11)[T.unstress]\",\"C(s1)[T.stress]\",\"C(s1)[T.unstress]\",\"C(s3)[T.stress]\",\n",
    "                    \"C(s3)[T.unstress]\",\"C(s5)[T.stress]\",\"C(s5)[T.unstress]\",\"C(s7)[T.stress]\",\"C(s7)[T.unstress]\",\"C(s9)[T.stress]\",\n",
    "                    \"C(s9)[T.unstress]\",\"C(s6)[T.stress]\",\"C(s6)[T.unstress]\",\"C(s2)[T.stress]\",\"C(s2)[T.unstress]\",\"C(s8)[T.stress]\",\n",
    "                    \"C(s8)[T.unstress]\",\"C(s4)[T.stress]\",\"C(s4)[T.unstress]\",\"syllables\",\"polarity\"]\n",
    "print(vif)"
   ]
  }
 ],
 "metadata": {
  "kernelspec": {
   "display_name": "Python 3",
   "language": "python",
   "name": "python3"
  },
  "language_info": {
   "codemirror_mode": {
    "name": "ipython",
    "version": 3
   },
   "file_extension": ".py",
   "mimetype": "text/x-python",
   "name": "python",
   "nbconvert_exporter": "python",
   "pygments_lexer": "ipython3",
   "version": "3.7.0"
  }
 },
 "nbformat": 4,
 "nbformat_minor": 2
}

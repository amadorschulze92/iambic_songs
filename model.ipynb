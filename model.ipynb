{
 "cells": [
  {
   "cell_type": "code",
   "execution_count": 232,
   "metadata": {},
   "outputs": [],
   "source": [
    "import string\n",
    "import numpy as np\n",
    "import pandas as pd\n",
    "\n",
    "from sklearn.linear_model import LogisticRegression\n",
    "from sklearn.model_selection import cross_val_score\n",
    "from sklearn import metrics\n",
    "from patsy import dmatrices\n",
    "\n",
    "from sklearn.metrics import roc_curve, auc, classification_report\n",
    "from sklearn.model_selection import train_test_split\n",
    "from sklearn.preprocessing import label_binarize\n",
    "\n",
    "from scipy import interp\n",
    "from scipy.stats import chi2_contingency, chi2\n",
    "\n",
    "import seaborn as sns\n",
    "import matplotlib.pyplot as plt\n",
    "\n",
    "%matplotlib inline"
   ]
  },
  {
   "cell_type": "markdown",
   "metadata": {},
   "source": [
    "# Import data"
   ]
  },
  {
   "cell_type": "code",
   "execution_count": 179,
   "metadata": {},
   "outputs": [
    {
     "data": {
      "text/html": [
       "<div>\n",
       "<style scoped>\n",
       "    .dataframe tbody tr th:only-of-type {\n",
       "        vertical-align: middle;\n",
       "    }\n",
       "\n",
       "    .dataframe tbody tr th {\n",
       "        vertical-align: top;\n",
       "    }\n",
       "\n",
       "    .dataframe thead th {\n",
       "        text-align: right;\n",
       "    }\n",
       "</style>\n",
       "<table border=\"1\" class=\"dataframe\">\n",
       "  <thead>\n",
       "    <tr style=\"text-align: right;\">\n",
       "      <th></th>\n",
       "      <th>sonnet_index</th>\n",
       "      <th>syllables</th>\n",
       "      <th>s1</th>\n",
       "      <th>s2</th>\n",
       "      <th>s3</th>\n",
       "      <th>s4</th>\n",
       "      <th>s5</th>\n",
       "      <th>s6</th>\n",
       "      <th>s7</th>\n",
       "      <th>s8</th>\n",
       "      <th>s9</th>\n",
       "      <th>s10</th>\n",
       "      <th>s11</th>\n",
       "      <th>s12</th>\n",
       "      <th>word_list</th>\n",
       "      <th>sonnet_num</th>\n",
       "      <th>author</th>\n",
       "      <th>polarity</th>\n",
       "      <th>subjectivity</th>\n",
       "      <th>sonnet</th>\n",
       "    </tr>\n",
       "  </thead>\n",
       "  <tbody>\n",
       "    <tr>\n",
       "      <th>0</th>\n",
       "      <td>1</td>\n",
       "      <td>11</td>\n",
       "      <td>stress</td>\n",
       "      <td>stress</td>\n",
       "      <td>stress</td>\n",
       "      <td>stress</td>\n",
       "      <td>stress</td>\n",
       "      <td>unstress</td>\n",
       "      <td>stress</td>\n",
       "      <td>stress</td>\n",
       "      <td>stress</td>\n",
       "      <td>stress</td>\n",
       "      <td>unstress</td>\n",
       "      <td>missing</td>\n",
       "      <td>['And', 'I', 'was', 'right', 'there', 'beside'...</td>\n",
       "      <td>1</td>\n",
       "      <td>taylor_swift</td>\n",
       "      <td>0.285714</td>\n",
       "      <td>0.535714</td>\n",
       "      <td>0</td>\n",
       "    </tr>\n",
       "    <tr>\n",
       "      <th>1</th>\n",
       "      <td>22</td>\n",
       "      <td>11</td>\n",
       "      <td>stress</td>\n",
       "      <td>stress</td>\n",
       "      <td>stress</td>\n",
       "      <td>stress</td>\n",
       "      <td>stress</td>\n",
       "      <td>stress</td>\n",
       "      <td>stress</td>\n",
       "      <td>stress</td>\n",
       "      <td>unstress</td>\n",
       "      <td>stress</td>\n",
       "      <td>unstress</td>\n",
       "      <td>missing</td>\n",
       "      <td>['So', 'go', 'and', 'tell', 'your', 'friends',...</td>\n",
       "      <td>22</td>\n",
       "      <td>taylor_swift</td>\n",
       "      <td>0.000000</td>\n",
       "      <td>0.000000</td>\n",
       "      <td>0</td>\n",
       "    </tr>\n",
       "    <tr>\n",
       "      <th>2</th>\n",
       "      <td>26</td>\n",
       "      <td>11</td>\n",
       "      <td>stress</td>\n",
       "      <td>stress</td>\n",
       "      <td>stress</td>\n",
       "      <td>stress</td>\n",
       "      <td>unstress</td>\n",
       "      <td>stress</td>\n",
       "      <td>stress</td>\n",
       "      <td>unstress</td>\n",
       "      <td>stress</td>\n",
       "      <td>unstress</td>\n",
       "      <td>stress</td>\n",
       "      <td>missing</td>\n",
       "      <td>['And', 'if', 'you', 'come', 'around', 'saying...</td>\n",
       "      <td>26</td>\n",
       "      <td>taylor_swift</td>\n",
       "      <td>-0.500000</td>\n",
       "      <td>1.000000</td>\n",
       "      <td>0</td>\n",
       "    </tr>\n",
       "    <tr>\n",
       "      <th>3</th>\n",
       "      <td>35</td>\n",
       "      <td>11</td>\n",
       "      <td>stress</td>\n",
       "      <td>stress</td>\n",
       "      <td>stress</td>\n",
       "      <td>stress</td>\n",
       "      <td>stress</td>\n",
       "      <td>stress</td>\n",
       "      <td>stress</td>\n",
       "      <td>stress</td>\n",
       "      <td>unstress</td>\n",
       "      <td>unstress</td>\n",
       "      <td>stress</td>\n",
       "      <td>missing</td>\n",
       "      <td>['He', 'says', 'he', 'so', 'in', 'love', 'he',...</td>\n",
       "      <td>35</td>\n",
       "      <td>taylor_swift</td>\n",
       "      <td>0.250000</td>\n",
       "      <td>0.800000</td>\n",
       "      <td>0</td>\n",
       "    </tr>\n",
       "    <tr>\n",
       "      <th>4</th>\n",
       "      <td>46</td>\n",
       "      <td>11</td>\n",
       "      <td>stress</td>\n",
       "      <td>stress</td>\n",
       "      <td>stress</td>\n",
       "      <td>stress</td>\n",
       "      <td>unstress</td>\n",
       "      <td>stress</td>\n",
       "      <td>stress</td>\n",
       "      <td>stress</td>\n",
       "      <td>stress</td>\n",
       "      <td>stress</td>\n",
       "      <td>stress</td>\n",
       "      <td>missing</td>\n",
       "      <td>['So', 'I', 'drive', 'home', 'alone', 'as', 'I...</td>\n",
       "      <td>46</td>\n",
       "      <td>taylor_swift</td>\n",
       "      <td>0.000000</td>\n",
       "      <td>0.000000</td>\n",
       "      <td>0</td>\n",
       "    </tr>\n",
       "  </tbody>\n",
       "</table>\n",
       "</div>"
      ],
      "text/plain": [
       "   sonnet_index  syllables      s1      s2      s3      s4        s5  \\\n",
       "0             1         11  stress  stress  stress  stress    stress   \n",
       "1            22         11  stress  stress  stress  stress    stress   \n",
       "2            26         11  stress  stress  stress  stress  unstress   \n",
       "3            35         11  stress  stress  stress  stress    stress   \n",
       "4            46         11  stress  stress  stress  stress  unstress   \n",
       "\n",
       "         s6      s7        s8        s9       s10       s11      s12  \\\n",
       "0  unstress  stress    stress    stress    stress  unstress  missing   \n",
       "1    stress  stress    stress  unstress    stress  unstress  missing   \n",
       "2    stress  stress  unstress    stress  unstress    stress  missing   \n",
       "3    stress  stress    stress  unstress  unstress    stress  missing   \n",
       "4    stress  stress    stress    stress    stress    stress  missing   \n",
       "\n",
       "                                           word_list  sonnet_num  \\\n",
       "0  ['And', 'I', 'was', 'right', 'there', 'beside'...           1   \n",
       "1  ['So', 'go', 'and', 'tell', 'your', 'friends',...          22   \n",
       "2  ['And', 'if', 'you', 'come', 'around', 'saying...          26   \n",
       "3  ['He', 'says', 'he', 'so', 'in', 'love', 'he',...          35   \n",
       "4  ['So', 'I', 'drive', 'home', 'alone', 'as', 'I...          46   \n",
       "\n",
       "         author  polarity  subjectivity  sonnet  \n",
       "0  taylor_swift  0.285714      0.535714       0  \n",
       "1  taylor_swift  0.000000      0.000000       0  \n",
       "2  taylor_swift -0.500000      1.000000       0  \n",
       "3  taylor_swift  0.250000      0.800000       0  \n",
       "4  taylor_swift  0.000000      0.000000       0  "
      ]
     },
     "execution_count": 179,
     "metadata": {},
     "output_type": "execute_result"
    }
   ],
   "source": [
    "# Create Taylor Swift Dataframe\n",
    "taylor_df = pd.read_csv('./taylor_swift_IP.csv')\n",
    "taylor_df.columns = ['unnamed', 'sonnet_index', 'syllables', 's1', 's2', 's3',\n",
    "       's4', 's5', 's6', 's7', 's8', 's9', 's10', 's11', 's12',\n",
    "       'word_list', 'sonnet_num', 'author', 'polarity', 'subjectivity']\n",
    "\n",
    "taylor_df['sonnet'] = taylor_df.apply(lambda x: 0, axis=1)\n",
    "\n",
    "# unnecessary columns\n",
    "\n",
    "taylor_df = taylor_df.drop('unnamed', axis=1)\n",
    "\n",
    "taylor_df.head()"
   ]
  },
  {
   "cell_type": "code",
   "execution_count": 180,
   "metadata": {},
   "outputs": [
    {
     "name": "stdout",
     "output_type": "stream",
     "text": [
      "<class 'pandas.core.frame.DataFrame'>\n",
      "RangeIndex: 470 entries, 0 to 469\n",
      "Data columns (total 20 columns):\n",
      "sonnet_index    470 non-null int64\n",
      "syllables       470 non-null int64\n",
      "s1              470 non-null object\n",
      "s2              470 non-null object\n",
      "s3              470 non-null object\n",
      "s4              470 non-null object\n",
      "s5              470 non-null object\n",
      "s6              470 non-null object\n",
      "s7              470 non-null object\n",
      "s8              470 non-null object\n",
      "s9              470 non-null object\n",
      "s10             470 non-null object\n",
      "s11             470 non-null object\n",
      "s12             470 non-null object\n",
      "word_list       470 non-null object\n",
      "sonnet_num      470 non-null int64\n",
      "author          470 non-null object\n",
      "polarity        470 non-null float64\n",
      "subjectivity    470 non-null float64\n",
      "sonnet          470 non-null int64\n",
      "dtypes: float64(2), int64(4), object(14)\n",
      "memory usage: 73.5+ KB\n"
     ]
    }
   ],
   "source": [
    "taylor_df.info()"
   ]
  },
  {
   "cell_type": "code",
   "execution_count": 181,
   "metadata": {},
   "outputs": [
    {
     "data": {
      "text/html": [
       "<div>\n",
       "<style scoped>\n",
       "    .dataframe tbody tr th:only-of-type {\n",
       "        vertical-align: middle;\n",
       "    }\n",
       "\n",
       "    .dataframe tbody tr th {\n",
       "        vertical-align: top;\n",
       "    }\n",
       "\n",
       "    .dataframe thead th {\n",
       "        text-align: right;\n",
       "    }\n",
       "</style>\n",
       "<table border=\"1\" class=\"dataframe\">\n",
       "  <thead>\n",
       "    <tr style=\"text-align: right;\">\n",
       "      <th></th>\n",
       "      <th>sonnet_index</th>\n",
       "      <th>syllables</th>\n",
       "      <th>s1</th>\n",
       "      <th>s2</th>\n",
       "      <th>s3</th>\n",
       "      <th>s4</th>\n",
       "      <th>s5</th>\n",
       "      <th>s6</th>\n",
       "      <th>s7</th>\n",
       "      <th>s8</th>\n",
       "      <th>s9</th>\n",
       "      <th>s10</th>\n",
       "      <th>s11</th>\n",
       "      <th>s12</th>\n",
       "      <th>word_list</th>\n",
       "      <th>sonnet_num</th>\n",
       "      <th>author</th>\n",
       "      <th>polarity</th>\n",
       "      <th>subjectivity</th>\n",
       "      <th>sonnet</th>\n",
       "    </tr>\n",
       "  </thead>\n",
       "  <tbody>\n",
       "    <tr>\n",
       "      <th>0</th>\n",
       "      <td>0</td>\n",
       "      <td>11</td>\n",
       "      <td>stress</td>\n",
       "      <td>stress</td>\n",
       "      <td>stress</td>\n",
       "      <td>unstress</td>\n",
       "      <td>stress</td>\n",
       "      <td>unstress</td>\n",
       "      <td>unstress</td>\n",
       "      <td>stress</td>\n",
       "      <td>stress</td>\n",
       "      <td>stress</td>\n",
       "      <td>stress</td>\n",
       "      <td>missing</td>\n",
       "      <td>['Your', 'ten', 'thousand', 'promises', 'That'...</td>\n",
       "      <td>0</td>\n",
       "      <td>bsb</td>\n",
       "      <td>0.0</td>\n",
       "      <td>0.0</td>\n",
       "      <td>0</td>\n",
       "    </tr>\n",
       "    <tr>\n",
       "      <th>1</th>\n",
       "      <td>8</td>\n",
       "      <td>11</td>\n",
       "      <td>stress</td>\n",
       "      <td>stress</td>\n",
       "      <td>unstress</td>\n",
       "      <td>stress</td>\n",
       "      <td>stress</td>\n",
       "      <td>stress</td>\n",
       "      <td>stress</td>\n",
       "      <td>unstress</td>\n",
       "      <td>stress</td>\n",
       "      <td>stress</td>\n",
       "      <td>stress</td>\n",
       "      <td>missing</td>\n",
       "      <td>['Who', 'wasted', 'my', 'time', 'and', 'money'...</td>\n",
       "      <td>8</td>\n",
       "      <td>bsb</td>\n",
       "      <td>-0.2</td>\n",
       "      <td>0.0</td>\n",
       "      <td>0</td>\n",
       "    </tr>\n",
       "    <tr>\n",
       "      <th>2</th>\n",
       "      <td>24</td>\n",
       "      <td>11</td>\n",
       "      <td>stress</td>\n",
       "      <td>stress</td>\n",
       "      <td>stress</td>\n",
       "      <td>unstress</td>\n",
       "      <td>stress</td>\n",
       "      <td>unstress</td>\n",
       "      <td>unstress</td>\n",
       "      <td>stress</td>\n",
       "      <td>stress</td>\n",
       "      <td>stress</td>\n",
       "      <td>stress</td>\n",
       "      <td>missing</td>\n",
       "      <td>['Your', 'ten', 'thousand', 'promises', 'That'...</td>\n",
       "      <td>24</td>\n",
       "      <td>bsb</td>\n",
       "      <td>0.0</td>\n",
       "      <td>0.0</td>\n",
       "      <td>0</td>\n",
       "    </tr>\n",
       "    <tr>\n",
       "      <th>3</th>\n",
       "      <td>27</td>\n",
       "      <td>11</td>\n",
       "      <td>stress</td>\n",
       "      <td>stress</td>\n",
       "      <td>stress</td>\n",
       "      <td>unstress</td>\n",
       "      <td>stress</td>\n",
       "      <td>unstress</td>\n",
       "      <td>unstress</td>\n",
       "      <td>stress</td>\n",
       "      <td>stress</td>\n",
       "      <td>stress</td>\n",
       "      <td>stress</td>\n",
       "      <td>missing</td>\n",
       "      <td>['Your', 'ten', 'thousand', 'promises', 'That'...</td>\n",
       "      <td>27</td>\n",
       "      <td>bsb</td>\n",
       "      <td>0.0</td>\n",
       "      <td>0.0</td>\n",
       "      <td>0</td>\n",
       "    </tr>\n",
       "    <tr>\n",
       "      <th>4</th>\n",
       "      <td>28</td>\n",
       "      <td>11</td>\n",
       "      <td>stress</td>\n",
       "      <td>stress</td>\n",
       "      <td>stress</td>\n",
       "      <td>missing</td>\n",
       "      <td>stress</td>\n",
       "      <td>missing</td>\n",
       "      <td>stress</td>\n",
       "      <td>stress</td>\n",
       "      <td>stress</td>\n",
       "      <td>missing</td>\n",
       "      <td>stress</td>\n",
       "      <td>missing</td>\n",
       "      <td>['What', 'a', 'lie', '(what', 'a', 'lie)', 'Yo...</td>\n",
       "      <td>28</td>\n",
       "      <td>bsb</td>\n",
       "      <td>0.0</td>\n",
       "      <td>0.0</td>\n",
       "      <td>0</td>\n",
       "    </tr>\n",
       "  </tbody>\n",
       "</table>\n",
       "</div>"
      ],
      "text/plain": [
       "   sonnet_index  syllables      s1      s2        s3        s4      s5  \\\n",
       "0             0         11  stress  stress    stress  unstress  stress   \n",
       "1             8         11  stress  stress  unstress    stress  stress   \n",
       "2            24         11  stress  stress    stress  unstress  stress   \n",
       "3            27         11  stress  stress    stress  unstress  stress   \n",
       "4            28         11  stress  stress    stress   missing  stress   \n",
       "\n",
       "         s6        s7        s8      s9      s10     s11      s12  \\\n",
       "0  unstress  unstress    stress  stress   stress  stress  missing   \n",
       "1    stress    stress  unstress  stress   stress  stress  missing   \n",
       "2  unstress  unstress    stress  stress   stress  stress  missing   \n",
       "3  unstress  unstress    stress  stress   stress  stress  missing   \n",
       "4   missing    stress    stress  stress  missing  stress  missing   \n",
       "\n",
       "                                           word_list  sonnet_num author  \\\n",
       "0  ['Your', 'ten', 'thousand', 'promises', 'That'...           0    bsb   \n",
       "1  ['Who', 'wasted', 'my', 'time', 'and', 'money'...           8    bsb   \n",
       "2  ['Your', 'ten', 'thousand', 'promises', 'That'...          24    bsb   \n",
       "3  ['Your', 'ten', 'thousand', 'promises', 'That'...          27    bsb   \n",
       "4  ['What', 'a', 'lie', '(what', 'a', 'lie)', 'Yo...          28    bsb   \n",
       "\n",
       "   polarity  subjectivity  sonnet  \n",
       "0       0.0           0.0       0  \n",
       "1      -0.2           0.0       0  \n",
       "2       0.0           0.0       0  \n",
       "3       0.0           0.0       0  \n",
       "4       0.0           0.0       0  "
      ]
     },
     "execution_count": 181,
     "metadata": {},
     "output_type": "execute_result"
    }
   ],
   "source": [
    "# Create BSB Dataframe\n",
    "bsb_df = pd.read_csv('./bsb_IP.csv')\n",
    "bsb_df.columns = ['unnamed', 'sonnet_index', 'syllables', 's1', 's2', 's3',\n",
    "       's4', 's5', 's6', 's7', 's8', 's9', 's10', 's11', 's12',\n",
    "       'word_list', 'sonnet_num', 'author', 'polarity', 'subjectivity']\n",
    "\n",
    "bsb_df['sonnet'] = bsb_df.apply(lambda x: 0, axis=1)\n",
    "\n",
    "# unnecessary columns\n",
    "\n",
    "bsb_df = bsb_df.drop('unnamed', axis=1)\n",
    "\n",
    "bsb_df.head()"
   ]
  },
  {
   "cell_type": "code",
   "execution_count": 182,
   "metadata": {},
   "outputs": [
    {
     "name": "stdout",
     "output_type": "stream",
     "text": [
      "<class 'pandas.core.frame.DataFrame'>\n",
      "RangeIndex: 1235 entries, 0 to 1234\n",
      "Data columns (total 20 columns):\n",
      "sonnet_index    1235 non-null int64\n",
      "syllables       1235 non-null int64\n",
      "s1              1235 non-null object\n",
      "s2              1235 non-null object\n",
      "s3              1235 non-null object\n",
      "s4              1235 non-null object\n",
      "s5              1235 non-null object\n",
      "s6              1235 non-null object\n",
      "s7              1235 non-null object\n",
      "s8              1235 non-null object\n",
      "s9              1235 non-null object\n",
      "s10             1235 non-null object\n",
      "s11             1235 non-null object\n",
      "s12             1235 non-null object\n",
      "word_list       1235 non-null object\n",
      "sonnet_num      1235 non-null int64\n",
      "author          1235 non-null object\n",
      "polarity        1235 non-null float64\n",
      "subjectivity    1235 non-null float64\n",
      "sonnet          1235 non-null int64\n",
      "dtypes: float64(2), int64(4), object(14)\n",
      "memory usage: 193.0+ KB\n"
     ]
    }
   ],
   "source": [
    "bsb_df.info()"
   ]
  },
  {
   "cell_type": "code",
   "execution_count": 183,
   "metadata": {},
   "outputs": [
    {
     "data": {
      "text/html": [
       "<div>\n",
       "<style scoped>\n",
       "    .dataframe tbody tr th:only-of-type {\n",
       "        vertical-align: middle;\n",
       "    }\n",
       "\n",
       "    .dataframe tbody tr th {\n",
       "        vertical-align: top;\n",
       "    }\n",
       "\n",
       "    .dataframe thead th {\n",
       "        text-align: right;\n",
       "    }\n",
       "</style>\n",
       "<table border=\"1\" class=\"dataframe\">\n",
       "  <thead>\n",
       "    <tr style=\"text-align: right;\">\n",
       "      <th></th>\n",
       "      <th>sonnet_index</th>\n",
       "      <th>syllables</th>\n",
       "      <th>s1</th>\n",
       "      <th>s2</th>\n",
       "      <th>s3</th>\n",
       "      <th>s4</th>\n",
       "      <th>s5</th>\n",
       "      <th>s6</th>\n",
       "      <th>s7</th>\n",
       "      <th>s8</th>\n",
       "      <th>s9</th>\n",
       "      <th>s10</th>\n",
       "      <th>s11</th>\n",
       "      <th>s12</th>\n",
       "      <th>word_list</th>\n",
       "      <th>sonnet_num</th>\n",
       "      <th>author</th>\n",
       "      <th>polarity</th>\n",
       "      <th>subjectivity</th>\n",
       "      <th>sonnet</th>\n",
       "    </tr>\n",
       "  </thead>\n",
       "  <tbody>\n",
       "    <tr>\n",
       "      <th>0</th>\n",
       "      <td>2</td>\n",
       "      <td>10</td>\n",
       "      <td>unstress</td>\n",
       "      <td>stress</td>\n",
       "      <td>unstress</td>\n",
       "      <td>stress</td>\n",
       "      <td>unstress</td>\n",
       "      <td>stress</td>\n",
       "      <td>unstress</td>\n",
       "      <td>stress</td>\n",
       "      <td>unstress</td>\n",
       "      <td>stress</td>\n",
       "      <td>missing</td>\n",
       "      <td>missing</td>\n",
       "      <td>['From', 'fairest', 'creatures', 'we', 'desire...</td>\n",
       "      <td>1</td>\n",
       "      <td>Shakespeare</td>\n",
       "      <td>0.00</td>\n",
       "      <td>0.00</td>\n",
       "      <td>1</td>\n",
       "    </tr>\n",
       "    <tr>\n",
       "      <th>1</th>\n",
       "      <td>3</td>\n",
       "      <td>11</td>\n",
       "      <td>unstress</td>\n",
       "      <td>stress</td>\n",
       "      <td>stress</td>\n",
       "      <td>stress</td>\n",
       "      <td>unstress</td>\n",
       "      <td>stress</td>\n",
       "      <td>stress</td>\n",
       "      <td>stress</td>\n",
       "      <td>unstress</td>\n",
       "      <td>stress</td>\n",
       "      <td>missing</td>\n",
       "      <td>missing</td>\n",
       "      <td>['That', 'thereby', 'beauty', 'rose', 'might',...</td>\n",
       "      <td>1</td>\n",
       "      <td>Shakespeare</td>\n",
       "      <td>0.60</td>\n",
       "      <td>0.95</td>\n",
       "      <td>1</td>\n",
       "    </tr>\n",
       "    <tr>\n",
       "      <th>2</th>\n",
       "      <td>4</td>\n",
       "      <td>10</td>\n",
       "      <td>stress</td>\n",
       "      <td>stress</td>\n",
       "      <td>unstress</td>\n",
       "      <td>missing</td>\n",
       "      <td>missing</td>\n",
       "      <td>stress</td>\n",
       "      <td>stress</td>\n",
       "      <td>stress</td>\n",
       "      <td>unstress</td>\n",
       "      <td>stress</td>\n",
       "      <td>missing</td>\n",
       "      <td>missing</td>\n",
       "      <td>['But', 'as', 'the', 'riper', 'should', 'by', ...</td>\n",
       "      <td>1</td>\n",
       "      <td>Shakespeare</td>\n",
       "      <td>0.00</td>\n",
       "      <td>0.00</td>\n",
       "      <td>1</td>\n",
       "    </tr>\n",
       "    <tr>\n",
       "      <th>3</th>\n",
       "      <td>5</td>\n",
       "      <td>10</td>\n",
       "      <td>unstress</td>\n",
       "      <td>stress</td>\n",
       "      <td>unstress</td>\n",
       "      <td>stress</td>\n",
       "      <td>stress</td>\n",
       "      <td>stress</td>\n",
       "      <td>unstress</td>\n",
       "      <td>stress</td>\n",
       "      <td>unstress</td>\n",
       "      <td>unstress</td>\n",
       "      <td>missing</td>\n",
       "      <td>missing</td>\n",
       "      <td>['His', 'tender', 'heir', 'might', 'bear', 'hi...</td>\n",
       "      <td>1</td>\n",
       "      <td>Shakespeare</td>\n",
       "      <td>0.00</td>\n",
       "      <td>0.00</td>\n",
       "      <td>1</td>\n",
       "    </tr>\n",
       "    <tr>\n",
       "      <th>4</th>\n",
       "      <td>6</td>\n",
       "      <td>10</td>\n",
       "      <td>stress</td>\n",
       "      <td>stress</td>\n",
       "      <td>stress</td>\n",
       "      <td>unstress</td>\n",
       "      <td>unstress</td>\n",
       "      <td>stress</td>\n",
       "      <td>stress</td>\n",
       "      <td>stress</td>\n",
       "      <td>stress</td>\n",
       "      <td>stress</td>\n",
       "      <td>missing</td>\n",
       "      <td>missing</td>\n",
       "      <td>['But', 'thou', 'contracted', 'to', 'thine', '...</td>\n",
       "      <td>1</td>\n",
       "      <td>Shakespeare</td>\n",
       "      <td>0.65</td>\n",
       "      <td>0.90</td>\n",
       "      <td>1</td>\n",
       "    </tr>\n",
       "  </tbody>\n",
       "</table>\n",
       "</div>"
      ],
      "text/plain": [
       "   sonnet_index  syllables        s1      s2        s3        s4        s5  \\\n",
       "0             2         10  unstress  stress  unstress    stress  unstress   \n",
       "1             3         11  unstress  stress    stress    stress  unstress   \n",
       "2             4         10    stress  stress  unstress   missing   missing   \n",
       "3             5         10  unstress  stress  unstress    stress    stress   \n",
       "4             6         10    stress  stress    stress  unstress  unstress   \n",
       "\n",
       "       s6        s7      s8        s9       s10      s11      s12  \\\n",
       "0  stress  unstress  stress  unstress    stress  missing  missing   \n",
       "1  stress    stress  stress  unstress    stress  missing  missing   \n",
       "2  stress    stress  stress  unstress    stress  missing  missing   \n",
       "3  stress  unstress  stress  unstress  unstress  missing  missing   \n",
       "4  stress    stress  stress    stress    stress  missing  missing   \n",
       "\n",
       "                                           word_list  sonnet_num       author  \\\n",
       "0  ['From', 'fairest', 'creatures', 'we', 'desire...           1  Shakespeare   \n",
       "1  ['That', 'thereby', 'beauty', 'rose', 'might',...           1  Shakespeare   \n",
       "2  ['But', 'as', 'the', 'riper', 'should', 'by', ...           1  Shakespeare   \n",
       "3  ['His', 'tender', 'heir', 'might', 'bear', 'hi...           1  Shakespeare   \n",
       "4  ['But', 'thou', 'contracted', 'to', 'thine', '...           1  Shakespeare   \n",
       "\n",
       "   polarity  subjectivity  sonnet  \n",
       "0      0.00          0.00       1  \n",
       "1      0.60          0.95       1  \n",
       "2      0.00          0.00       1  \n",
       "3      0.00          0.00       1  \n",
       "4      0.65          0.90       1  "
      ]
     },
     "execution_count": 183,
     "metadata": {},
     "output_type": "execute_result"
    }
   ],
   "source": [
    "# Create full_sonnet Dataframe\n",
    "poems_df = pd.read_csv('./full_sonnet_df.csv')\n",
    "poems_df.head()\n",
    "poems_df.columns = ['unnamed0','unnamed1', 'sonnet_index', 'syllables', 's1', 's2', 's3',\n",
    "       's4', 's5', 's6', 's7', 's8', 's9', 's10', 's11', 's12',\n",
    "       'word_list', 'sonnet_num', 'author', 'polarity', 'subjectivity','sonnet']\n",
    "\n",
    "# drop unnecessary columns\n",
    "\n",
    "poems_df = poems_df.drop('unnamed0', axis=1)\n",
    "poems_df = poems_df.drop('unnamed1', axis=1)\n",
    "\n",
    "poems_df.head()"
   ]
  },
  {
   "cell_type": "code",
   "execution_count": 184,
   "metadata": {},
   "outputs": [],
   "source": [
    "# Randomly take subset of the full sonnets data\n",
    "poems_df = poems_df.drop(poems_df.sample(frac=.65).index)"
   ]
  },
  {
   "cell_type": "code",
   "execution_count": 185,
   "metadata": {},
   "outputs": [
    {
     "name": "stdout",
     "output_type": "stream",
     "text": [
      "<class 'pandas.core.frame.DataFrame'>\n",
<<<<<<< HEAD
      "Int64Index: 1792 entries, 1 to 5115\n",
=======
      "Int64Index: 1792 entries, 0 to 5118\n",
>>>>>>> 5c4869b65c125297c2d0ae50cc978d6c8ddc9bf6
      "Data columns (total 20 columns):\n",
      "sonnet_index    1792 non-null int64\n",
      "syllables       1792 non-null int64\n",
      "s1              1792 non-null object\n",
      "s2              1792 non-null object\n",
      "s3              1792 non-null object\n",
      "s4              1792 non-null object\n",
      "s5              1792 non-null object\n",
      "s6              1792 non-null object\n",
      "s7              1792 non-null object\n",
      "s8              1792 non-null object\n",
      "s9              1792 non-null object\n",
      "s10             1792 non-null object\n",
      "s11             1792 non-null object\n",
      "s12             1792 non-null object\n",
      "word_list       1792 non-null object\n",
      "sonnet_num      1792 non-null int64\n",
<<<<<<< HEAD
      "author          1768 non-null object\n",
=======
      "author          1762 non-null object\n",
>>>>>>> 5c4869b65c125297c2d0ae50cc978d6c8ddc9bf6
      "polarity        1792 non-null float64\n",
      "subjectivity    1792 non-null float64\n",
      "sonnet          1792 non-null int64\n",
      "dtypes: float64(2), int64(4), object(14)\n",
      "memory usage: 294.0+ KB\n"
     ]
    }
   ],
   "source": [
    "poems_df.info()"
   ]
  },
  {
   "cell_type": "code",
   "execution_count": 186,
   "metadata": {},
   "outputs": [],
   "source": [
    "# Stacking the Taylor Swift, BSB, and Poems dataframes\n",
    "\n",
    "final_df = pd.concat([taylor_df, bsb_df, poems_df])\n",
    "final_df.head()\n",
    "final_df.to_csv('final_df.csv')"
   ]
  },
  {
   "cell_type": "code",
   "execution_count": 187,
   "metadata": {},
   "outputs": [
    {
     "data": {
      "text/plain": [
       "(3497, 20)"
      ]
     },
     "execution_count": 187,
     "metadata": {},
     "output_type": "execute_result"
    }
   ],
   "source": [
    "final_df.shape"
   ]
  },
  {
   "cell_type": "markdown",
   "metadata": {},
   "source": [
    "# Check correlation"
   ]
  },
  {
   "cell_type": "code",
<<<<<<< HEAD
   "execution_count": 11,
=======
   "execution_count": 188,
>>>>>>> 5c4869b65c125297c2d0ae50cc978d6c8ddc9bf6
   "metadata": {},
   "outputs": [
    {
     "data": {
      "text/html": [
       "<div>\n",
       "<style scoped>\n",
       "    .dataframe tbody tr th:only-of-type {\n",
       "        vertical-align: middle;\n",
       "    }\n",
       "\n",
       "    .dataframe tbody tr th {\n",
       "        vertical-align: top;\n",
       "    }\n",
       "\n",
       "    .dataframe thead th {\n",
       "        text-align: right;\n",
       "    }\n",
       "</style>\n",
       "<table border=\"1\" class=\"dataframe\">\n",
       "  <thead>\n",
       "    <tr style=\"text-align: right;\">\n",
       "      <th></th>\n",
       "      <th>syllables</th>\n",
       "      <th>sonnet_num</th>\n",
       "      <th>polarity</th>\n",
       "      <th>subjectivity</th>\n",
       "      <th>sonnet</th>\n",
       "    </tr>\n",
       "  </thead>\n",
       "  <tbody>\n",
       "    <tr>\n",
       "      <th>syllables</th>\n",
       "      <td>1.000000</td>\n",
<<<<<<< HEAD
       "      <td>0.439825</td>\n",
       "      <td>-0.043094</td>\n",
       "      <td>-0.061983</td>\n",
       "      <td>-0.611566</td>\n",
       "    </tr>\n",
       "    <tr>\n",
       "      <th>sonnet_num</th>\n",
       "      <td>0.439825</td>\n",
       "      <td>1.000000</td>\n",
       "      <td>-0.077097</td>\n",
       "      <td>-0.064887</td>\n",
       "      <td>-0.727103</td>\n",
       "    </tr>\n",
       "    <tr>\n",
       "      <th>polarity</th>\n",
       "      <td>-0.043094</td>\n",
       "      <td>-0.077097</td>\n",
       "      <td>1.000000</td>\n",
       "      <td>0.218598</td>\n",
       "      <td>0.080197</td>\n",
       "    </tr>\n",
       "    <tr>\n",
       "      <th>subjectivity</th>\n",
       "      <td>-0.061983</td>\n",
       "      <td>-0.064887</td>\n",
       "      <td>0.218598</td>\n",
       "      <td>1.000000</td>\n",
       "      <td>0.103596</td>\n",
       "    </tr>\n",
       "    <tr>\n",
       "      <th>sonnet</th>\n",
       "      <td>-0.611566</td>\n",
       "      <td>-0.727103</td>\n",
       "      <td>0.080197</td>\n",
       "      <td>0.103596</td>\n",
=======
       "      <td>0.448321</td>\n",
       "      <td>-0.049101</td>\n",
       "      <td>-0.064106</td>\n",
       "      <td>-0.621846</td>\n",
       "    </tr>\n",
       "    <tr>\n",
       "      <th>sonnet_num</th>\n",
       "      <td>0.448321</td>\n",
       "      <td>1.000000</td>\n",
       "      <td>-0.066798</td>\n",
       "      <td>-0.073531</td>\n",
       "      <td>-0.727169</td>\n",
       "    </tr>\n",
       "    <tr>\n",
       "      <th>polarity</th>\n",
       "      <td>-0.049101</td>\n",
       "      <td>-0.066798</td>\n",
       "      <td>1.000000</td>\n",
       "      <td>0.202040</td>\n",
       "      <td>0.065399</td>\n",
       "    </tr>\n",
       "    <tr>\n",
       "      <th>subjectivity</th>\n",
       "      <td>-0.064106</td>\n",
       "      <td>-0.073531</td>\n",
       "      <td>0.202040</td>\n",
       "      <td>1.000000</td>\n",
       "      <td>0.113212</td>\n",
       "    </tr>\n",
       "    <tr>\n",
       "      <th>sonnet</th>\n",
       "      <td>-0.621846</td>\n",
       "      <td>-0.727169</td>\n",
       "      <td>0.065399</td>\n",
       "      <td>0.113212</td>\n",
>>>>>>> 5c4869b65c125297c2d0ae50cc978d6c8ddc9bf6
       "      <td>1.000000</td>\n",
       "    </tr>\n",
       "  </tbody>\n",
       "</table>\n",
       "</div>"
      ],
      "text/plain": [
       "              syllables  sonnet_num  polarity  subjectivity    sonnet\n",
<<<<<<< HEAD
       "syllables      1.000000    0.439825 -0.043094     -0.061983 -0.611566\n",
       "sonnet_num     0.439825    1.000000 -0.077097     -0.064887 -0.727103\n",
       "polarity      -0.043094   -0.077097  1.000000      0.218598  0.080197\n",
       "subjectivity  -0.061983   -0.064887  0.218598      1.000000  0.103596\n",
       "sonnet        -0.611566   -0.727103  0.080197      0.103596  1.000000"
      ]
     },
     "execution_count": 11,
=======
       "syllables      1.000000    0.448321 -0.049101     -0.064106 -0.621846\n",
       "sonnet_num     0.448321    1.000000 -0.066798     -0.073531 -0.727169\n",
       "polarity      -0.049101   -0.066798  1.000000      0.202040  0.065399\n",
       "subjectivity  -0.064106   -0.073531  0.202040      1.000000  0.113212\n",
       "sonnet        -0.621846   -0.727169  0.065399      0.113212  1.000000"
      ]
     },
     "execution_count": 188,
>>>>>>> 5c4869b65c125297c2d0ae50cc978d6c8ddc9bf6
     "metadata": {},
     "output_type": "execute_result"
    }
   ],
   "source": [
    "final_df.drop(\"sonnet_index\",axis=1).corr()"
   ]
  },
  {
   "cell_type": "markdown",
   "metadata": {},
   "source": [
    "# Baseline"
   ]
  },
  {
   "cell_type": "code",
<<<<<<< HEAD
   "execution_count": 12,
=======
   "execution_count": 189,
>>>>>>> 5c4869b65c125297c2d0ae50cc978d6c8ddc9bf6
   "metadata": {},
   "outputs": [
    {
     "name": "stdout",
     "output_type": "stream",
     "text": [
      "0.5124392336288247\n"
     ]
    }
   ],
   "source": [
    "print(np.mean(final_df.sonnet))"
   ]
  },
  {
   "cell_type": "markdown",
   "metadata": {},
   "source": [
    "# Logistic Regression"
   ]
  },
  {
   "cell_type": "code",
<<<<<<< HEAD
   "execution_count": 13,
=======
   "execution_count": 190,
>>>>>>> 5c4869b65c125297c2d0ae50cc978d6c8ddc9bf6
   "metadata": {},
   "outputs": [],
   "source": [
    "logreg = LogisticRegression()\n",
    "\n",
    "formula = 'sonnet ~ syllables + C(s1) + C(s2) + C(s3) + C(s4) + C(s5) + C(s6) + C(s7) + C(s8) + C(s9) + C(s10) + C(s11) + C(s12) + polarity + subjectivity -1'\n",
    "Y, X = dmatrices(formula, data=final_df)"
   ]
  },
  {
   "cell_type": "code",
<<<<<<< HEAD
   "execution_count": 14,
=======
   "execution_count": 191,
>>>>>>> 5c4869b65c125297c2d0ae50cc978d6c8ddc9bf6
   "metadata": {},
   "outputs": [],
   "source": [
    "#Prediction values\n",
    "# ypred = logreg.predict(X)\n",
    "# mistakes_df['algorithm'] = ypred"
   ]
  },
  {
   "cell_type": "code",
<<<<<<< HEAD
   "execution_count": 15,
=======
   "execution_count": 192,
>>>>>>> 5c4869b65c125297c2d0ae50cc978d6c8ddc9bf6
   "metadata": {},
   "outputs": [],
   "source": [
    "interaction_formula = ''' sonnet ~ syllables + (C(s1) + C(s2) + C(s3) + C(s4) + C(s5) + C(s6) + C(s7) + C(s8) + \n",
    "C(s9) + C(s10) + C(s11) + C(s12))**2 + polarity + subjectivity -1'''\n",
    "Yint, Xint = dmatrices(interaction_formula, data=final_df, return_type='dataframe')\n",
    "Xint = (Xint - Xint.mean()) / Xint.std()\n",
    "Xint.dropna(axis=1, inplace=True)"
   ]
  },
  {
   "cell_type": "code",
<<<<<<< HEAD
   "execution_count": 16,
=======
   "execution_count": 193,
>>>>>>> 5c4869b65c125297c2d0ae50cc978d6c8ddc9bf6
   "metadata": {},
   "outputs": [
    {
     "data": {
      "text/plain": [
       "((3497, 1), (3497, 280))"
      ]
     },
<<<<<<< HEAD
     "execution_count": 16,
=======
     "execution_count": 193,
>>>>>>> 5c4869b65c125297c2d0ae50cc978d6c8ddc9bf6
     "metadata": {},
     "output_type": "execute_result"
    }
   ],
   "source": [
    "Yint.shape, Xint.shape"
   ]
  },
  {
   "cell_type": "code",
<<<<<<< HEAD
   "execution_count": 17,
=======
   "execution_count": 194,
>>>>>>> 5c4869b65c125297c2d0ae50cc978d6c8ddc9bf6
   "metadata": {},
   "outputs": [
    {
     "data": {
      "text/plain": [
       "((3497, 1), (3497, 28))"
      ]
     },
<<<<<<< HEAD
     "execution_count": 17,
=======
     "execution_count": 194,
>>>>>>> 5c4869b65c125297c2d0ae50cc978d6c8ddc9bf6
     "metadata": {},
     "output_type": "execute_result"
    }
   ],
   "source": [
    "Y.shape, X.shape"
   ]
  },
  {
   "cell_type": "code",
<<<<<<< HEAD
   "execution_count": 18,
=======
   "execution_count": 195,
>>>>>>> 5c4869b65c125297c2d0ae50cc978d6c8ddc9bf6
   "metadata": {},
   "outputs": [
    {
     "data": {
      "text/plain": [
       "array(0.51243923)"
      ]
     },
<<<<<<< HEAD
     "execution_count": 18,
=======
     "execution_count": 195,
>>>>>>> 5c4869b65c125297c2d0ae50cc978d6c8ddc9bf6
     "metadata": {},
     "output_type": "execute_result"
    }
   ],
   "source": [
    "np.mean(Y)"
   ]
  },
  {
   "cell_type": "markdown",
   "metadata": {},
   "source": [
    "# Inspect Model 1"
   ]
  },
  {
   "cell_type": "markdown",
   "metadata": {},
   "source": [
    "## Summary"
   ]
  },
  {
   "cell_type": "code",
<<<<<<< HEAD
   "execution_count": 19,
=======
   "execution_count": 196,
>>>>>>> 5c4869b65c125297c2d0ae50cc978d6c8ddc9bf6
   "metadata": {},
   "outputs": [
    {
     "name": "stdout",
     "output_type": "stream",
     "text": [
      "Warning: Maximum number of iterations has been exceeded.\n",
<<<<<<< HEAD
      "         Current function value: 0.096847\n",
=======
      "         Current function value: 0.105862\n",
>>>>>>> 5c4869b65c125297c2d0ae50cc978d6c8ddc9bf6
      "         Iterations: 35\n",
      "                           Logit Regression Results                           \n",
      "==============================================================================\n",
      "Dep. Variable:                 sonnet   No. Observations:                 3497\n",
      "Model:                          Logit   Df Residuals:                     3469\n",
      "Method:                           MLE   Df Model:                           27\n",
<<<<<<< HEAD
      "Date:                Sat, 12 Oct 2019   Pseudo R-squ.:                  0.8602\n",
      "Time:                        12:27:07   Log-Likelihood:                -338.67\n",
=======
      "Date:                Sat, 12 Oct 2019   Pseudo R-squ.:                  0.8472\n",
      "Time:                        11:36:52   Log-Likelihood:                -370.20\n",
>>>>>>> 5c4869b65c125297c2d0ae50cc978d6c8ddc9bf6
      "converged:                      False   LL-Null:                       -2422.9\n",
      "Covariance Type:            nonrobust   LLR p-value:                     0.000\n",
      "======================================================================================\n",
      "                         coef    std err          z      P>|z|      [0.025      0.975]\n",
      "--------------------------------------------------------------------------------------\n",
<<<<<<< HEAD
      "C(s1)[missing]        31.0639      3.459      8.981      0.000      24.285      37.843\n",
      "C(s1)[stress]         30.3015      3.392      8.934      0.000      23.654      36.949\n",
      "C(s1)[unstress]       33.1038      3.424      9.668      0.000      26.393      39.815\n",
      "C(s2)[T.stress]       -2.2255      0.530     -4.202      0.000      -3.264      -1.187\n",
      "C(s2)[T.unstress]     -2.7619      0.656     -4.212      0.000      -4.047      -1.477\n",
      "C(s3)[T.stress]       -0.5121      0.542     -0.945      0.345      -1.575       0.551\n",
      "C(s3)[T.unstress]      2.1318      0.572      3.727      0.000       1.011       3.253\n",
      "C(s4)[T.stress]       -1.1952      0.530     -2.254      0.024      -2.235      -0.156\n",
      "C(s4)[T.unstress]     -2.3776      0.668     -3.560      0.000      -3.687      -1.068\n",
      "C(s5)[T.stress]       -2.7893      0.540     -5.170      0.000      -3.847      -1.732\n",
      "C(s5)[T.unstress]     -1.1299      0.553     -2.044      0.041      -2.213      -0.047\n",
      "C(s6)[T.stress]       -0.5516      0.487     -1.132      0.258      -1.507       0.403\n",
      "C(s6)[T.unstress]      0.2513      0.565      0.445      0.657      -0.856       1.359\n",
      "C(s7)[T.stress]       -1.4336      0.491     -2.922      0.003      -2.395      -0.472\n",
      "C(s7)[T.unstress]      0.5885      0.523      1.126      0.260      -0.436       1.613\n",
      "C(s8)[T.stress]       -1.2834      0.516     -2.487      0.013      -2.295      -0.272\n",
      "C(s8)[T.unstress]     -0.3177      0.587     -0.541      0.588      -1.468       0.833\n",
      "C(s9)[T.stress]       -1.4862      0.546     -2.724      0.006      -2.555      -0.417\n",
      "C(s9)[T.unstress]     -0.2265      0.571     -0.397      0.692      -1.345       0.892\n",
      "C(s10)[T.stress]      -1.0804      0.404     -2.674      0.007      -1.872      -0.289\n",
      "C(s10)[T.unstress]     0.0699      0.470      0.149      0.882      -0.851       0.991\n",
      "C(s11)[T.stress]      -5.3209      0.328    -16.216      0.000      -5.964      -4.678\n",
      "C(s11)[T.unstress]    -3.6940      0.375     -9.849      0.000      -4.429      -2.959\n",
      "C(s12)[T.stress]      23.6095    1.1e+04      0.002      0.998   -2.16e+04    2.16e+04\n",
      "C(s12)[T.unstress]    25.4158   9306.169      0.003      0.998   -1.82e+04    1.83e+04\n",
      "syllables             -1.7626      0.292     -6.043      0.000      -2.334      -1.191\n",
      "polarity               1.1221      0.402      2.791      0.005       0.334       1.910\n",
      "subjectivity           1.0576      0.326      3.247      0.001       0.419       1.696\n",
      "======================================================================================\n",
      "\n",
      "Possibly complete quasi-separation: A fraction 0.14 of observations can be\n",
=======
      "C(s1)[missing]        27.7628      3.087      8.993      0.000      21.712      33.814\n",
      "C(s1)[stress]         27.6406      3.075      8.988      0.000      21.613      33.668\n",
      "C(s1)[unstress]       30.6649      3.120      9.827      0.000      24.549      36.781\n",
      "C(s2)[T.stress]       -2.0924      0.523     -4.002      0.000      -3.117      -1.068\n",
      "C(s2)[T.unstress]     -2.0497      0.623     -3.288      0.001      -3.271      -0.828\n",
      "C(s3)[T.stress]       -0.3150      0.510     -0.617      0.537      -1.315       0.685\n",
      "C(s3)[T.unstress]      1.9631      0.541      3.631      0.000       0.903       3.023\n",
      "C(s4)[T.stress]       -1.0644      0.492     -2.163      0.031      -2.029      -0.100\n",
      "C(s4)[T.unstress]     -2.4119      0.636     -3.791      0.000      -3.659      -1.165\n",
      "C(s5)[T.stress]       -2.4048      0.509     -4.728      0.000      -3.402      -1.408\n",
      "C(s5)[T.unstress]     -1.1761      0.526     -2.237      0.025      -2.207      -0.146\n",
      "C(s6)[T.stress]       -0.8017      0.433     -1.851      0.064      -1.650       0.047\n",
      "C(s6)[T.unstress]     -0.1029      0.510     -0.202      0.840      -1.103       0.897\n",
      "C(s7)[T.stress]       -0.9358      0.475     -1.969      0.049      -1.867      -0.004\n",
      "C(s7)[T.unstress]      0.9851      0.507      1.945      0.052      -0.008       1.978\n",
      "C(s8)[T.stress]       -0.8596      0.541     -1.590      0.112      -1.919       0.200\n",
      "C(s8)[T.unstress]     -0.3817      0.614     -0.622      0.534      -1.585       0.822\n",
      "C(s9)[T.stress]       -1.6730      0.523     -3.199      0.001      -2.698      -0.648\n",
      "C(s9)[T.unstress]     -0.4324      0.542     -0.798      0.425      -1.494       0.629\n",
      "C(s10)[T.stress]      -0.5399      0.393     -1.373      0.170      -1.311       0.231\n",
      "C(s10)[T.unstress]     0.8561      0.462      1.853      0.064      -0.049       1.762\n",
      "C(s11)[T.stress]      -5.1948      0.302    -17.200      0.000      -5.787      -4.603\n",
      "C(s11)[T.unstress]    -3.6317      0.354    -10.270      0.000      -4.325      -2.939\n",
      "C(s12)[T.stress]      22.0323   3745.020      0.006      0.995   -7318.072    7362.137\n",
      "C(s12)[T.unstress]    25.3448   1.75e+04      0.001      0.999   -3.43e+04    3.43e+04\n",
      "syllables             -1.6462      0.263     -6.260      0.000      -2.162      -1.131\n",
      "polarity               0.4561      0.355      1.284      0.199      -0.240       1.152\n",
      "subjectivity           1.0813      0.295      3.662      0.000       0.503       1.660\n",
      "======================================================================================\n",
      "\n",
      "Possibly complete quasi-separation: A fraction 0.11 of observations can be\n",
>>>>>>> 5c4869b65c125297c2d0ae50cc978d6c8ddc9bf6
      "perfectly predicted. This might indicate that there is complete\n",
      "quasi-separation. In this case some parameters will not be identified.\n"
     ]
    },
    {
     "name": "stderr",
     "output_type": "stream",
     "text": [
<<<<<<< HEAD
      "/Users/mschulze/anaconda3/envs/dsi/lib/python3.7/site-packages/statsmodels/base/model.py:512: ConvergenceWarning: Maximum Likelihood optimization failed to converge. Check mle_retvals\n",
=======
      "/anaconda3/lib/python3.6/site-packages/statsmodels/base/model.py:508: ConvergenceWarning: Maximum Likelihood optimization failed to converge. Check mle_retvals\n",
>>>>>>> 5c4869b65c125297c2d0ae50cc978d6c8ddc9bf6
      "  \"Check mle_retvals\", ConvergenceWarning)\n"
     ]
    }
   ],
   "source": [
    "import statsmodels.api as sm\n",
    "\n",
    "logit_model1=sm.Logit(Y,X)\n",
    "result1=logit_model1.fit()\n",
    "print(result1.summary())"
   ]
  },
  {
   "cell_type": "code",
<<<<<<< HEAD
   "execution_count": 20,
=======
   "execution_count": 197,
>>>>>>> 5c4869b65c125297c2d0ae50cc978d6c8ddc9bf6
   "metadata": {},
   "outputs": [
    {
     "name": "stdout",
     "output_type": "stream",
     "text": [
      "                               Results: Logit\n",
      "============================================================================\n",
<<<<<<< HEAD
      "Model:                   Logit                Pseudo R-squared:     0.860   \n",
      "Dependent Variable:      sonnet               AIC:                  733.3447\n",
      "Date:                    2019-10-12 12:27     BIC:                  905.8152\n",
      "No. Observations:        3497                 Log-Likelihood:       -338.67 \n",
=======
      "Model:                   Logit                Pseudo R-squared:     0.847   \n",
      "Dependent Variable:      sonnet               AIC:                  796.3982\n",
      "Date:                    2019-10-12 11:36     BIC:                  968.8687\n",
      "No. Observations:        3497                 Log-Likelihood:       -370.20 \n",
>>>>>>> 5c4869b65c125297c2d0ae50cc978d6c8ddc9bf6
      "Df Model:                27                   LL-Null:              -2422.9 \n",
      "Df Residuals:            3469                 LLR p-value:          0.0000  \n",
      "Converged:               0.0000               Scale:                1.0000  \n",
      "No. Iterations:          35.0000                                            \n",
      "----------------------------------------------------------------------------\n",
      "                    Coef.   Std.Err.     z     P>|z|     [0.025     0.975]  \n",
      "----------------------------------------------------------------------------\n",
<<<<<<< HEAD
      "C(s1)[missing]     31.0639     3.4589   8.9808 0.0000     24.2845    37.8433\n",
      "C(s1)[stress]      30.3015     3.3917   8.9341 0.0000     23.6540    36.9491\n",
      "C(s1)[unstress]    33.1038     3.4239   9.6684 0.0000     26.3931    39.8146\n",
      "C(s2)[T.stress]    -2.2255     0.5297  -4.2018 0.0000     -3.2637    -1.1874\n",
      "C(s2)[T.unstress]  -2.7619     0.6557  -4.2124 0.0000     -4.0469    -1.4768\n",
      "C(s3)[T.stress]    -0.5121     0.5422  -0.9446 0.3449     -1.5747     0.5505\n",
      "C(s3)[T.unstress]   2.1318     0.5719   3.7274 0.0002      1.0109     3.2527\n",
      "C(s4)[T.stress]    -1.1952     0.5303  -2.2538 0.0242     -2.2345    -0.1558\n",
      "C(s4)[T.unstress]  -2.3776     0.6679  -3.5598 0.0004     -3.6866    -1.0685\n",
      "C(s5)[T.stress]    -2.7893     0.5396  -5.1696 0.0000     -3.8469    -1.7318\n",
      "C(s5)[T.unstress]  -1.1299     0.5527  -2.0443 0.0409     -2.2133    -0.0466\n",
      "C(s6)[T.stress]    -0.5516     0.4873  -1.1321 0.2576     -1.5067     0.4034\n",
      "C(s6)[T.unstress]   0.2513     0.5651   0.4446 0.6566     -0.8563     1.3589\n",
      "C(s7)[T.stress]    -1.4336     0.4906  -2.9222 0.0035     -2.3951    -0.4721\n",
      "C(s7)[T.unstress]   0.5885     0.5229   1.1256 0.2603     -0.4363     1.6133\n",
      "C(s8)[T.stress]    -1.2834     0.5161  -2.4868 0.0129     -2.2949    -0.2719\n",
      "C(s8)[T.unstress]  -0.3177     0.5869  -0.5414 0.5882     -1.4680     0.8325\n",
      "C(s9)[T.stress]    -1.4862     0.5455  -2.7242 0.0064     -2.5554    -0.4169\n",
      "C(s9)[T.unstress]  -0.2265     0.5709  -0.3967 0.6916     -1.3454     0.8925\n",
      "C(s10)[T.stress]   -1.0804     0.4040  -2.6743 0.0075     -1.8722    -0.2886\n",
      "C(s10)[T.unstress]  0.0699     0.4699   0.1488 0.8817     -0.8511     0.9909\n",
      "C(s11)[T.stress]   -5.3209     0.3281 -16.2156 0.0000     -5.9640    -4.6778\n",
      "C(s11)[T.unstress] -3.6940     0.3750  -9.8494 0.0000     -4.4291    -2.9589\n",
      "C(s12)[T.stress]   23.6095 11034.0254   0.0021 0.9983 -21602.6828 21649.9018\n",
      "C(s12)[T.unstress] 25.4158  9306.1688   0.0027 0.9978 -18214.3399 18265.1715\n",
      "syllables          -1.7626     0.2917  -6.0428 0.0000     -2.3342    -1.1909\n",
      "polarity            1.1221     0.4020   2.7913 0.0053      0.3342     1.9100\n",
      "subjectivity        1.0576     0.3257   3.2469 0.0012      0.4192     1.6960\n",
=======
      "C(s1)[missing]     27.7628     3.0871   8.9930 0.0000     21.7121    33.8135\n",
      "C(s1)[stress]      27.6406     3.0753   8.9878 0.0000     21.6131    33.6682\n",
      "C(s1)[unstress]    30.6649     3.1205   9.8269 0.0000     24.5489    36.7810\n",
      "C(s2)[T.stress]    -2.0924     0.5229  -4.0018 0.0001     -3.1172    -1.0676\n",
      "C(s2)[T.unstress]  -2.0497     0.6234  -3.2880 0.0010     -3.2715    -0.8279\n",
      "C(s3)[T.stress]    -0.3150     0.5103  -0.6173 0.5370     -1.3152     0.6852\n",
      "C(s3)[T.unstress]   1.9631     0.5406   3.6312 0.0003      0.9035     3.0226\n",
      "C(s4)[T.stress]    -1.0644     0.4922  -2.1626 0.0306     -2.0290    -0.0998\n",
      "C(s4)[T.unstress]  -2.4119     0.6363  -3.7907 0.0002     -3.6590    -1.1649\n",
      "C(s5)[T.stress]    -2.4048     0.5086  -4.7278 0.0000     -3.4017    -1.4079\n",
      "C(s5)[T.unstress]  -1.1761     0.5257  -2.2371 0.0253     -2.2066    -0.1457\n",
      "C(s6)[T.stress]    -0.8017     0.4330  -1.8514 0.0641     -1.6504     0.0470\n",
      "C(s6)[T.unstress]  -0.1029     0.5101  -0.2017 0.8402     -1.1027     0.8969\n",
      "C(s7)[T.stress]    -0.9358     0.4752  -1.9693 0.0489     -1.8671    -0.0044\n",
      "C(s7)[T.unstress]   0.9851     0.5065   1.9447 0.0518     -0.0077     1.9779\n",
      "C(s8)[T.stress]    -0.8596     0.5406  -1.5900 0.1118     -1.9191     0.2000\n",
      "C(s8)[T.unstress]  -0.3817     0.6142  -0.6216 0.5342     -1.5855     0.8220\n",
      "C(s9)[T.stress]    -1.6730     0.5230  -3.1990 0.0014     -2.6980    -0.6480\n",
      "C(s9)[T.unstress]  -0.4324     0.5415  -0.7985 0.4246     -1.4938     0.6290\n",
      "C(s10)[T.stress]   -0.5399     0.3932  -1.3730 0.1698     -1.3106     0.2308\n",
      "C(s10)[T.unstress]  0.8561     0.4620   1.8532 0.0639     -0.0493     1.7616\n",
      "C(s11)[T.stress]   -5.1948     0.3020 -17.2000 0.0000     -5.7867    -4.6028\n",
      "C(s11)[T.unstress] -3.6317     0.3536 -10.2699 0.0000     -4.3248    -2.9386\n",
      "C(s12)[T.stress]   22.0323  3745.0202   0.0059 0.9953  -7318.0724  7362.1370\n",
      "C(s12)[T.unstress] 25.3448 17496.7590   0.0014 0.9988 -34267.6727 34318.3623\n",
      "syllables          -1.6462     0.2630  -6.2597 0.0000     -2.1616    -1.1308\n",
      "polarity            0.4561     0.3552   1.2842 0.1991     -0.2400     1.1522\n",
      "subjectivity        1.0813     0.2953   3.6622 0.0003      0.5026     1.6601\n",
>>>>>>> 5c4869b65c125297c2d0ae50cc978d6c8ddc9bf6
      "============================================================================\n",
      "\n"
     ]
    }
   ],
   "source": [
    "print(result1.summary2())"
   ]
  },
  {
   "cell_type": "code",
<<<<<<< HEAD
   "execution_count": 21,
=======
   "execution_count": 198,
>>>>>>> 5c4869b65c125297c2d0ae50cc978d6c8ddc9bf6
   "metadata": {},
   "outputs": [
    {
     "name": "stdout",
     "output_type": "stream",
     "text": [
      "                 Generalized Linear Model Regression Results                  \n",
      "==============================================================================\n",
      "Dep. Variable:                 sonnet   No. Observations:                 3497\n",
      "Model:                            GLM   Df Residuals:                     3469\n",
      "Model Family:                Binomial   Df Model:                           27\n",
      "Link Function:                  logit   Scale:                          1.0000\n",
<<<<<<< HEAD
      "Method:                          IRLS   Log-Likelihood:                -338.67\n",
      "Date:                Sat, 12 Oct 2019   Deviance:                       677.34\n",
      "Time:                        12:27:07   Pearson chi2:                 6.57e+03\n",
      "No. Iterations:                    22                                         \n",
      "Covariance Type:            nonrobust                                         \n",
      "======================================================================================\n",
      "                         coef    std err          z      P>|z|      [0.025      0.975]\n",
      "--------------------------------------------------------------------------------------\n",
      "C(s1)[missing]        31.0639      3.459      8.981      0.000      24.285      37.843\n",
      "C(s1)[stress]         30.3015      3.392      8.934      0.000      23.654      36.949\n",
      "C(s1)[unstress]       33.1038      3.424      9.668      0.000      26.393      39.815\n",
      "C(s2)[T.stress]       -2.2255      0.530     -4.202      0.000      -3.264      -1.187\n",
      "C(s2)[T.unstress]     -2.7619      0.656     -4.212      0.000      -4.047      -1.477\n",
      "C(s3)[T.stress]       -0.5121      0.542     -0.945      0.345      -1.575       0.551\n",
      "C(s3)[T.unstress]      2.1318      0.572      3.727      0.000       1.011       3.253\n",
      "C(s4)[T.stress]       -1.1952      0.530     -2.254      0.024      -2.235      -0.156\n",
      "C(s4)[T.unstress]     -2.3776      0.668     -3.560      0.000      -3.687      -1.068\n",
      "C(s5)[T.stress]       -2.7893      0.540     -5.170      0.000      -3.847      -1.732\n",
      "C(s5)[T.unstress]     -1.1299      0.553     -2.044      0.041      -2.213      -0.047\n",
      "C(s6)[T.stress]       -0.5516      0.487     -1.132      0.258      -1.507       0.403\n",
      "C(s6)[T.unstress]      0.2513      0.565      0.445      0.657      -0.856       1.359\n",
      "C(s7)[T.stress]       -1.4336      0.491     -2.922      0.003      -2.395      -0.472\n",
      "C(s7)[T.unstress]      0.5885      0.523      1.126      0.260      -0.436       1.613\n",
      "C(s8)[T.stress]       -1.2834      0.516     -2.487      0.013      -2.295      -0.272\n",
      "C(s8)[T.unstress]     -0.3177      0.587     -0.541      0.588      -1.468       0.833\n",
      "C(s9)[T.stress]       -1.4862      0.546     -2.724      0.006      -2.555      -0.417\n",
      "C(s9)[T.unstress]     -0.2265      0.571     -0.397      0.692      -1.345       0.892\n",
      "C(s10)[T.stress]      -1.0804      0.404     -2.674      0.007      -1.872      -0.289\n",
      "C(s10)[T.unstress]     0.0699      0.470      0.149      0.882      -0.851       0.991\n",
      "C(s11)[T.stress]      -5.3209      0.328    -16.216      0.000      -5.964      -4.678\n",
      "C(s11)[T.unstress]    -3.6940      0.375     -9.849      0.000      -4.429      -2.959\n",
      "C(s12)[T.stress]      25.1195   1.42e+04      0.002      0.999   -2.79e+04    2.79e+04\n",
      "C(s12)[T.unstress]    30.7050   7.95e+04      0.000      1.000   -1.56e+05    1.56e+05\n",
      "syllables             -1.7626      0.292     -6.043      0.000      -2.334      -1.191\n",
      "polarity               1.1221      0.402      2.791      0.005       0.334       1.910\n",
      "subjectivity           1.0576      0.326      3.247      0.001       0.419       1.696\n",
=======
      "Method:                          IRLS   Log-Likelihood:                -370.20\n",
      "Date:                Sat, 12 Oct 2019   Deviance:                       740.40\n",
      "Time:                        11:36:52   Pearson chi2:                 5.07e+03\n",
      "No. Iterations:                    22   Covariance Type:             nonrobust\n",
      "======================================================================================\n",
      "                         coef    std err          z      P>|z|      [0.025      0.975]\n",
      "--------------------------------------------------------------------------------------\n",
      "C(s1)[missing]        27.7628      3.087      8.993      0.000      21.712      33.814\n",
      "C(s1)[stress]         27.6406      3.075      8.988      0.000      21.613      33.668\n",
      "C(s1)[unstress]       30.6649      3.120      9.827      0.000      24.549      36.781\n",
      "C(s2)[T.stress]       -2.0924      0.523     -4.002      0.000      -3.117      -1.068\n",
      "C(s2)[T.unstress]     -2.0497      0.623     -3.288      0.001      -3.271      -0.828\n",
      "C(s3)[T.stress]       -0.3150      0.510     -0.617      0.537      -1.315       0.685\n",
      "C(s3)[T.unstress]      1.9631      0.541      3.631      0.000       0.903       3.023\n",
      "C(s4)[T.stress]       -1.0644      0.492     -2.163      0.031      -2.029      -0.100\n",
      "C(s4)[T.unstress]     -2.4119      0.636     -3.791      0.000      -3.659      -1.165\n",
      "C(s5)[T.stress]       -2.4048      0.509     -4.728      0.000      -3.402      -1.408\n",
      "C(s5)[T.unstress]     -1.1761      0.526     -2.237      0.025      -2.207      -0.146\n",
      "C(s6)[T.stress]       -0.8017      0.433     -1.851      0.064      -1.650       0.047\n",
      "C(s6)[T.unstress]     -0.1029      0.510     -0.202      0.840      -1.103       0.897\n",
      "C(s7)[T.stress]       -0.9358      0.475     -1.969      0.049      -1.867      -0.004\n",
      "C(s7)[T.unstress]      0.9851      0.507      1.945      0.052      -0.008       1.978\n",
      "C(s8)[T.stress]       -0.8596      0.541     -1.590      0.112      -1.919       0.200\n",
      "C(s8)[T.unstress]     -0.3817      0.614     -0.622      0.534      -1.585       0.822\n",
      "C(s9)[T.stress]       -1.6730      0.523     -3.199      0.001      -2.698      -0.648\n",
      "C(s9)[T.unstress]     -0.4324      0.542     -0.798      0.425      -1.494       0.629\n",
      "C(s10)[T.stress]      -0.5399      0.393     -1.373      0.170      -1.311       0.231\n",
      "C(s10)[T.unstress]     0.8561      0.462      1.853      0.064      -0.049       1.762\n",
      "C(s11)[T.stress]      -5.1948      0.302    -17.200      0.000      -5.787      -4.603\n",
      "C(s11)[T.unstress]    -3.6317      0.354    -10.270      0.000      -4.325      -2.939\n",
      "C(s12)[T.stress]      25.7765   1.48e+04      0.002      0.999   -2.89e+04     2.9e+04\n",
      "C(s12)[T.unstress]    28.3609   4.79e+04      0.001      1.000   -9.39e+04     9.4e+04\n",
      "syllables             -1.6462      0.263     -6.260      0.000      -2.162      -1.131\n",
      "polarity               0.4561      0.355      1.284      0.199      -0.240       1.152\n",
      "subjectivity           1.0813      0.295      3.662      0.000       0.503       1.660\n",
>>>>>>> 5c4869b65c125297c2d0ae50cc978d6c8ddc9bf6
      "======================================================================================\n"
     ]
    }
   ],
   "source": [
    "import statsmodels.formula.api as smf\n",
    "\n",
    "model1 = smf.glm(formula = formula, data=final_df, family=sm.families.Binomial())\n",
    "my_model1 = model1.fit()\n",
    "print(my_model1.summary())"
   ]
  },
  {
   "cell_type": "markdown",
   "metadata": {},
   "source": [
    "## step-wise selection"
   ]
  },
  {
   "cell_type": "code",
<<<<<<< HEAD
   "execution_count": 22,
=======
   "execution_count": 199,
>>>>>>> 5c4869b65c125297c2d0ae50cc978d6c8ddc9bf6
   "metadata": {},
   "outputs": [],
   "source": [
    "def step_wise_forward_selected(data, predictors, response, AIC=True):\n",
    "    \"\"\"Logistic model designed by forward selection.\n",
    "    Parameters:\n",
    "    -----------\n",
    "    data : pandas DataFrame with all possible predictors and response\n",
    "    response: string, name of response column in data\n",
    "    Returns:\n",
    "    --------\n",
    "    model: an \"optimal\" fitted statsmodels linear model\n",
    "           with an intercept\n",
    "           selected by forward selection\n",
    "           evaluated by AIC\n",
    "\n",
    "    inspiration provided by https://planspace.org/20150423-forward_selection_with_statsmodels/\n",
    "    \"\"\"\n",
    "    print(\"remaining = \", predictors)\n",
    "    print(\"response = \", response)\n",
    "    selected = []\n",
    "    current_score, best_new_score = 99999, 99999  # set starting scores high so we get lower score\n",
    "    \n",
    "    while predictors and current_score == best_new_score:\n",
    "#         print(\"new round\")\n",
    "#         print(\"current_score = \", current_score)\n",
    "        scores_with_candidates = []\n",
    "#         print(\"scores with candidates = \", scores_with_candidates)\n",
    "        for candidate in predictors:\n",
    "#             print(\"candidate = \", candidate)\n",
    "            formula = \"{} ~ {} + 1\".format(response,' + '.join(selected + [candidate]))\n",
    "#             print(\"candidate formula = \", formula)\n",
    "            if AIC:\n",
    "                score = smf.glm(formula=formula, data=data, family=sm.families.Binomial()).fit().aic\n",
    "            else:\n",
    "                score = smf.glm(formula=formula, data=data, family=sm.families.Binomial()).fit().bic\n",
    "#             print(\"score = \", score)\n",
    "            scores_with_candidates.append((score, candidate))\n",
    "        scores_with_candidates.sort(reverse=True)\n",
    "#         print(\"scores with candidates = \", scores_with_candidates)\n",
    "        best_new_score, best_candidate = scores_with_candidates.pop()\n",
    "#         print(\"best new score = \", best_new_score)\n",
    "#         print(\"best candidate = \", best_candidate)\n",
    "        if current_score > best_new_score:\n",
    "            predictors.remove(best_candidate)\n",
    "            selected.append(best_candidate)\n",
    "#             print(\"selected = \", selected)\n",
    "            current_score = best_new_score\n",
    "    \n",
    "    formula = \"{} ~ {} + 1\".format(response,' + '.join(selected))\n",
    "    return formula"
   ]
  },
  {
   "cell_type": "markdown",
   "metadata": {},
   "source": [
    "### AIC"
   ]
  },
  {
   "cell_type": "code",
<<<<<<< HEAD
   "execution_count": 23,
=======
   "execution_count": 200,
>>>>>>> 5c4869b65c125297c2d0ae50cc978d6c8ddc9bf6
   "metadata": {},
   "outputs": [
    {
     "name": "stdout",
     "output_type": "stream",
     "text": [
      "remaining =  ['syllables', 'C(s1)', 'C(s2)', 'C(s3)', 'C(s4)', 'C(s5)', 'C(s6)', 'C(s7)', 'C(s8)', 'C(s9)', 'C(s10)', 'C(s11)', 'C(s12)', 'polarity', 'subjectivity']\n",
      "response =  sonnet\n",
<<<<<<< HEAD
      "sonnet ~ C(s11) + C(s1) + C(s3) + C(s5) + C(s7) + C(s9) + C(s10) + syllables + C(s12) + C(s2) + subjectivity + C(s8) + C(s4) + polarity + C(s6) + 1\n"
=======
      "sonnet ~ C(s11) + C(s1) + C(s7) + C(s3) + C(s5) + C(s9) + C(s12) + syllables + C(s10) + C(s2) + C(s4) + subjectivity + C(s6) + C(s8) + 1\n"
>>>>>>> 5c4869b65c125297c2d0ae50cc978d6c8ddc9bf6
     ]
    }
   ],
   "source": [
    "my_pred = [\"syllables\",\"C(s1)\",\"C(s2)\",\"C(s3)\",\"C(s4)\",\"C(s5)\",\"C(s6)\",\"C(s7)\",\"C(s8)\",\"C(s9)\",\"C(s10)\",\"C(s11)\",\"C(s12)\",\"polarity\",\"subjectivity\"]\n",
    "aic_step_formula = step_wise_forward_selected(final_df, my_pred, \"sonnet\", True)\n",
    "print(aic_step_formula)"
   ]
  },
  {
   "cell_type": "code",
<<<<<<< HEAD
   "execution_count": 24,
=======
   "execution_count": 201,
>>>>>>> 5c4869b65c125297c2d0ae50cc978d6c8ddc9bf6
   "metadata": {},
   "outputs": [],
   "source": [
    "Ya, Xa = dmatrices(aic_step_formula, data=final_df)"
   ]
  },
  {
   "cell_type": "code",
<<<<<<< HEAD
   "execution_count": 25,
=======
   "execution_count": 202,
>>>>>>> 5c4869b65c125297c2d0ae50cc978d6c8ddc9bf6
   "metadata": {},
   "outputs": [
    {
     "name": "stdout",
     "output_type": "stream",
     "text": [
      "                 Generalized Linear Model Regression Results                  \n",
      "==============================================================================\n",
      "Dep. Variable:                 sonnet   No. Observations:                 3497\n",
<<<<<<< HEAD
      "Model:                            GLM   Df Residuals:                     3469\n",
      "Model Family:                Binomial   Df Model:                           27\n",
      "Link Function:                  logit   Scale:                          1.0000\n",
      "Method:                          IRLS   Log-Likelihood:                -338.67\n",
      "Date:                Sat, 12 Oct 2019   Deviance:                       677.34\n",
      "Time:                        12:27:15   Pearson chi2:                 6.57e+03\n",
      "No. Iterations:                    22                                         \n",
      "Covariance Type:            nonrobust                                         \n",
      "======================================================================================\n",
      "                         coef    std err          z      P>|z|      [0.025      0.975]\n",
      "--------------------------------------------------------------------------------------\n",
      "Intercept             31.0639      3.459      8.981      0.000      24.285      37.843\n",
      "C(s11)[T.stress]      -5.3209      0.328    -16.216      0.000      -5.964      -4.678\n",
      "C(s11)[T.unstress]    -3.6940      0.375     -9.849      0.000      -4.429      -2.959\n",
      "C(s1)[T.stress]       -0.7624      0.550     -1.385      0.166      -1.841       0.316\n",
      "C(s1)[T.unstress]      2.0399      0.609      3.348      0.001       0.846       3.234\n",
      "C(s3)[T.stress]       -0.5121      0.542     -0.945      0.345      -1.575       0.551\n",
      "C(s3)[T.unstress]      2.1318      0.572      3.727      0.000       1.011       3.253\n",
      "C(s5)[T.stress]       -2.7893      0.540     -5.170      0.000      -3.847      -1.732\n",
      "C(s5)[T.unstress]     -1.1299      0.553     -2.044      0.041      -2.213      -0.047\n",
      "C(s7)[T.stress]       -1.4336      0.491     -2.922      0.003      -2.395      -0.472\n",
      "C(s7)[T.unstress]      0.5885      0.523      1.126      0.260      -0.436       1.613\n",
      "C(s9)[T.stress]       -1.4862      0.546     -2.724      0.006      -2.555      -0.417\n",
      "C(s9)[T.unstress]     -0.2265      0.571     -0.397      0.692      -1.345       0.892\n",
      "C(s10)[T.stress]      -1.0804      0.404     -2.674      0.007      -1.872      -0.289\n",
      "C(s10)[T.unstress]     0.0699      0.470      0.149      0.882      -0.851       0.991\n",
      "C(s12)[T.stress]      25.1195   1.42e+04      0.002      0.999   -2.79e+04    2.79e+04\n",
      "C(s12)[T.unstress]    30.7050   7.95e+04      0.000      1.000   -1.56e+05    1.56e+05\n",
      "C(s2)[T.stress]       -2.2255      0.530     -4.202      0.000      -3.264      -1.187\n",
      "C(s2)[T.unstress]     -2.7619      0.656     -4.212      0.000      -4.047      -1.477\n",
      "C(s8)[T.stress]       -1.2834      0.516     -2.487      0.013      -2.295      -0.272\n",
      "C(s8)[T.unstress]     -0.3177      0.587     -0.541      0.588      -1.468       0.833\n",
      "C(s4)[T.stress]       -1.1952      0.530     -2.254      0.024      -2.235      -0.156\n",
      "C(s4)[T.unstress]     -2.3776      0.668     -3.560      0.000      -3.687      -1.068\n",
      "C(s6)[T.stress]       -0.5516      0.487     -1.132      0.258      -1.507       0.403\n",
      "C(s6)[T.unstress]      0.2513      0.565      0.445      0.657      -0.856       1.359\n",
      "syllables             -1.7626      0.292     -6.043      0.000      -2.334      -1.191\n",
      "subjectivity           1.0576      0.326      3.247      0.001       0.419       1.696\n",
      "polarity               1.1221      0.402      2.791      0.005       0.334       1.910\n",
=======
      "Model:                            GLM   Df Residuals:                     3470\n",
      "Model Family:                Binomial   Df Model:                           26\n",
      "Link Function:                  logit   Scale:                          1.0000\n",
      "Method:                          IRLS   Log-Likelihood:                -371.02\n",
      "Date:                Sat, 12 Oct 2019   Deviance:                       742.04\n",
      "Time:                        11:37:04   Pearson chi2:                 4.91e+03\n",
      "No. Iterations:                    22   Covariance Type:             nonrobust\n",
      "======================================================================================\n",
      "                         coef    std err          z      P>|z|      [0.025      0.975]\n",
      "--------------------------------------------------------------------------------------\n",
      "Intercept             27.9275      3.113      8.972      0.000      21.826      34.028\n",
      "C(s11)[T.stress]      -5.1951      0.302    -17.224      0.000      -5.786      -4.604\n",
      "C(s11)[T.unstress]    -3.6616      0.353    -10.376      0.000      -4.353      -2.970\n",
      "C(s1)[T.stress]       -0.1069      0.552     -0.194      0.846      -1.189       0.976\n",
      "C(s1)[T.unstress]      2.8906      0.617      4.684      0.000       1.681       4.100\n",
      "C(s7)[T.stress]       -0.9144      0.475     -1.926      0.054      -1.845       0.016\n",
      "C(s7)[T.unstress]      0.9989      0.506      1.973      0.048       0.007       1.991\n",
      "C(s3)[T.stress]       -0.3487      0.507     -0.687      0.492      -1.343       0.645\n",
      "C(s3)[T.unstress]      1.9090      0.536      3.562      0.000       0.859       2.959\n",
      "C(s5)[T.stress]       -2.3898      0.506     -4.726      0.000      -3.381      -1.399\n",
      "C(s5)[T.unstress]     -1.1568      0.523     -2.212      0.027      -2.182      -0.132\n",
      "C(s9)[T.stress]       -1.6966      0.521     -3.257      0.001      -2.717      -0.676\n",
      "C(s9)[T.unstress]     -0.4461      0.540     -0.826      0.409      -1.505       0.612\n",
      "C(s12)[T.stress]      25.7554   1.49e+04      0.002      0.999   -2.92e+04    2.92e+04\n",
      "C(s12)[T.unstress]    28.4588   4.77e+04      0.001      1.000   -9.35e+04    9.36e+04\n",
      "C(s10)[T.stress]      -0.5432      0.394     -1.379      0.168      -1.315       0.229\n",
      "C(s10)[T.unstress]     0.8611      0.462      1.864      0.062      -0.044       1.766\n",
      "C(s2)[T.stress]       -2.0732      0.523     -3.967      0.000      -3.098      -1.049\n",
      "C(s2)[T.unstress]     -2.0204      0.622     -3.248      0.001      -3.240      -0.801\n",
      "C(s4)[T.stress]       -1.0313      0.491     -2.101      0.036      -1.993      -0.069\n",
      "C(s4)[T.unstress]     -2.3759      0.636     -3.738      0.000      -3.622      -1.130\n",
      "C(s6)[T.stress]       -0.8032      0.433     -1.853      0.064      -1.653       0.046\n",
      "C(s6)[T.unstress]     -0.1252      0.509     -0.246      0.806      -1.124       0.873\n",
      "C(s8)[T.stress]       -0.8478      0.539     -1.573      0.116      -1.904       0.209\n",
      "C(s8)[T.unstress]     -0.3717      0.613     -0.606      0.544      -1.574       0.830\n",
      "syllables             -1.6630      0.265     -6.271      0.000      -2.183      -1.143\n",
      "subjectivity           1.1132      0.293      3.804      0.000       0.540       1.687\n",
>>>>>>> 5c4869b65c125297c2d0ae50cc978d6c8ddc9bf6
      "======================================================================================\n"
     ]
    }
   ],
   "source": [
    "modela = smf.glm(formula = aic_step_formula, data=final_df, family=sm.families.Binomial())\n",
    "my_modela = modela.fit()\n",
    "print(my_modela.summary())"
   ]
  },
  {
   "cell_type": "markdown",
   "metadata": {},
   "source": [
    "### BIC"
   ]
  },
  {
   "cell_type": "code",
<<<<<<< HEAD
   "execution_count": 26,
=======
   "execution_count": 203,
>>>>>>> 5c4869b65c125297c2d0ae50cc978d6c8ddc9bf6
   "metadata": {},
   "outputs": [
    {
     "name": "stdout",
     "output_type": "stream",
     "text": [
      "remaining =  ['syllables', 'C(s1)', 'C(s2)', 'C(s3)', 'C(s4)', 'C(s5)', 'C(s6)', 'C(s7)', 'C(s8)', 'C(s9)', 'C(s10)', 'C(s11)', 'C(s12)', 'polarity', 'subjectivity']\n",
      "response =  sonnet\n",
<<<<<<< HEAD
      "sonnet ~ C(s11) + C(s1) + C(s3) + C(s5) + C(s7) + C(s9) + syllables + C(s12) + C(s2) + C(s10) + subjectivity + 1\n"
=======
      "sonnet ~ C(s11) + C(s1) + C(s7) + C(s3) + C(s5) + C(s9) + syllables + C(s12) + C(s10) + C(s2) + subjectivity + C(s4) + 1\n"
>>>>>>> 5c4869b65c125297c2d0ae50cc978d6c8ddc9bf6
     ]
    }
   ],
   "source": [
    "my_pred = [\"syllables\",\"C(s1)\",\"C(s2)\",\"C(s3)\",\"C(s4)\",\"C(s5)\",\"C(s6)\",\"C(s7)\",\"C(s8)\",\"C(s9)\",\"C(s10)\",\"C(s11)\",\"C(s12)\",\"polarity\",\"subjectivity\"]\n",
    "bic_step_formula = step_wise_forward_selected(final_df, my_pred, \"sonnet\", False)\n",
    "print(bic_step_formula)"
   ]
  },
  {
   "cell_type": "code",
<<<<<<< HEAD
   "execution_count": 27,
=======
   "execution_count": 204,
>>>>>>> 5c4869b65c125297c2d0ae50cc978d6c8ddc9bf6
   "metadata": {},
   "outputs": [],
   "source": [
    "Yb, Xb = dmatrices(bic_step_formula, data=final_df)"
   ]
  },
  {
   "cell_type": "code",
<<<<<<< HEAD
   "execution_count": 28,
=======
   "execution_count": 205,
>>>>>>> 5c4869b65c125297c2d0ae50cc978d6c8ddc9bf6
   "metadata": {},
   "outputs": [
    {
     "name": "stdout",
     "output_type": "stream",
     "text": [
      "                 Generalized Linear Model Regression Results                  \n",
      "==============================================================================\n",
      "Dep. Variable:                 sonnet   No. Observations:                 3497\n",
      "Model:                            GLM   Df Residuals:                     3474\n",
      "Model Family:                Binomial   Df Model:                           22\n",
      "Link Function:                  logit   Scale:                          1.0000\n",
<<<<<<< HEAD
      "Method:                          IRLS   Log-Likelihood:                -359.30\n",
      "Date:                Sat, 12 Oct 2019   Deviance:                       718.60\n",
      "Time:                        12:27:22   Pearson chi2:                 4.54e+03\n",
      "No. Iterations:                    22                                         \n",
      "Covariance Type:            nonrobust                                         \n",
      "======================================================================================\n",
      "                         coef    std err          z      P>|z|      [0.025      0.975]\n",
      "--------------------------------------------------------------------------------------\n",
      "Intercept             28.4441      3.293      8.639      0.000      21.991      34.898\n",
      "C(s11)[T.stress]      -5.4292      0.323    -16.791      0.000      -6.063      -4.795\n",
      "C(s11)[T.unstress]    -3.8408      0.358    -10.725      0.000      -4.543      -3.139\n",
      "C(s1)[T.stress]       -0.4556      0.509     -0.895      0.371      -1.453       0.542\n",
      "C(s1)[T.unstress]      2.4171      0.573      4.218      0.000       1.294       3.540\n",
      "C(s3)[T.stress]       -0.8039      0.466     -1.724      0.085      -1.718       0.110\n",
      "C(s3)[T.unstress]      1.8638      0.501      3.717      0.000       0.881       2.846\n",
      "C(s5)[T.stress]       -3.1063      0.474     -6.554      0.000      -4.035      -2.177\n",
      "C(s5)[T.unstress]     -1.4889      0.481     -3.095      0.002      -2.432      -0.546\n",
      "C(s7)[T.stress]       -1.5376      0.429     -3.585      0.000      -2.378      -0.697\n",
      "C(s7)[T.unstress]      0.3875      0.459      0.845      0.398      -0.511       1.286\n",
      "C(s9)[T.stress]       -1.9130      0.477     -4.010      0.000      -2.848      -0.978\n",
      "C(s9)[T.unstress]     -0.6874      0.499     -1.377      0.169      -1.666       0.291\n",
      "C(s12)[T.stress]      24.3353   1.48e+04      0.002      0.999   -2.89e+04    2.89e+04\n",
      "C(s12)[T.unstress]    30.3832   7.95e+04      0.000      1.000   -1.56e+05    1.56e+05\n",
      "C(s2)[T.stress]       -2.6527      0.466     -5.697      0.000      -3.565      -1.740\n",
      "C(s2)[T.unstress]     -3.0407      0.601     -5.056      0.000      -4.219      -1.862\n",
      "C(s10)[T.stress]      -1.1533      0.377     -3.056      0.002      -1.893      -0.414\n",
      "C(s10)[T.unstress]     0.1105      0.443      0.250      0.803      -0.758       0.979\n",
      "syllables             -1.6456      0.281     -5.858      0.000      -2.196      -1.095\n",
      "subjectivity           1.2033      0.301      4.000      0.000       0.614       1.793\n",
=======
      "Method:                          IRLS   Log-Likelihood:                -376.85\n",
      "Date:                Sat, 12 Oct 2019   Deviance:                       753.70\n",
      "Time:                        11:37:15   Pearson chi2:                 5.28e+03\n",
      "No. Iterations:                    22   Covariance Type:             nonrobust\n",
      "======================================================================================\n",
      "                         coef    std err          z      P>|z|      [0.025      0.975]\n",
      "--------------------------------------------------------------------------------------\n",
      "Intercept             26.5920      3.029      8.780      0.000      20.656      32.528\n",
      "C(s11)[T.stress]      -5.1830      0.299    -17.350      0.000      -5.769      -4.597\n",
      "C(s11)[T.unstress]    -3.6989      0.351    -10.552      0.000      -4.386      -3.012\n",
      "C(s1)[T.stress]       -0.0386      0.540     -0.071      0.943      -1.097       1.020\n",
      "C(s1)[T.unstress]      3.0398      0.604      5.030      0.000       1.855       4.224\n",
      "C(s7)[T.stress]       -1.2652      0.413     -3.065      0.002      -2.074      -0.456\n",
      "C(s7)[T.unstress]      0.6555      0.442      1.482      0.138      -0.211       1.522\n",
      "C(s3)[T.stress]       -0.2352      0.493     -0.478      0.633      -1.201       0.730\n",
      "C(s3)[T.unstress]      1.9826      0.525      3.780      0.000       0.955       3.011\n",
      "C(s5)[T.stress]       -2.4575      0.477     -5.155      0.000      -3.392      -1.523\n",
      "C(s5)[T.unstress]     -1.2332      0.493     -2.503      0.012      -2.199      -0.267\n",
      "C(s9)[T.stress]       -1.8723      0.465     -4.029      0.000      -2.783      -0.961\n",
      "C(s9)[T.unstress]     -0.6767      0.485     -1.395      0.163      -1.627       0.274\n",
      "C(s12)[T.stress]      25.8487   1.48e+04      0.002      0.999    -2.9e+04    2.91e+04\n",
      "C(s12)[T.unstress]    27.9796   4.87e+04      0.001      1.000   -9.54e+04    9.54e+04\n",
      "C(s10)[T.stress]      -0.6827      0.377     -1.812      0.070      -1.421       0.056\n",
      "C(s10)[T.unstress]     0.7650      0.445      1.721      0.085      -0.106       1.636\n",
      "C(s2)[T.stress]       -2.3478      0.488     -4.814      0.000      -3.304      -1.392\n",
      "C(s2)[T.unstress]     -2.0740      0.584     -3.550      0.000      -3.219      -0.929\n",
      "C(s4)[T.stress]       -1.1236      0.499     -2.251      0.024      -2.102      -0.145\n",
      "C(s4)[T.unstress]     -2.3715      0.627     -3.779      0.000      -3.601      -1.142\n",
      "syllables             -1.5922      0.261     -6.111      0.000      -2.103      -1.082\n",
      "subjectivity           1.1128      0.290      3.835      0.000       0.544       1.681\n",
>>>>>>> 5c4869b65c125297c2d0ae50cc978d6c8ddc9bf6
      "======================================================================================\n"
     ]
    }
   ],
   "source": [
    "modelb = smf.glm(formula = bic_step_formula, data=final_df, family=sm.families.Binomial())\n",
    "my_modelb = modelb.fit()\n",
    "print(my_modelb.summary())"
   ]
  },
  {
   "cell_type": "markdown",
   "metadata": {},
   "source": [
    "## Cross Val Scores"
   ]
  },
  {
   "cell_type": "code",
<<<<<<< HEAD
   "execution_count": 29,
=======
   "execution_count": 206,
>>>>>>> 5c4869b65c125297c2d0ae50cc978d6c8ddc9bf6
   "metadata": {},
   "outputs": [
    {
     "name": "stdout",
     "output_type": "stream",
     "text": [
<<<<<<< HEAD
      "[0.97571429 0.96       0.94849785 0.95135908 0.96709585]\n",
      "0.9605334150827712\n"
=======
      "[0.97428571 0.95571429 0.95565093 0.94706724 0.95135908]\n",
      "0.9568154506437768\n"
     ]
    },
    {
     "name": "stderr",
     "output_type": "stream",
     "text": [
      "/anaconda3/lib/python3.6/site-packages/sklearn/linear_model/logistic.py:432: FutureWarning: Default solver will be changed to 'lbfgs' in 0.22. Specify a solver to silence this warning.\n",
      "  FutureWarning)\n",
      "/anaconda3/lib/python3.6/site-packages/sklearn/linear_model/logistic.py:432: FutureWarning: Default solver will be changed to 'lbfgs' in 0.22. Specify a solver to silence this warning.\n",
      "  FutureWarning)\n",
      "/anaconda3/lib/python3.6/site-packages/sklearn/linear_model/logistic.py:432: FutureWarning: Default solver will be changed to 'lbfgs' in 0.22. Specify a solver to silence this warning.\n",
      "  FutureWarning)\n",
      "/anaconda3/lib/python3.6/site-packages/sklearn/linear_model/logistic.py:432: FutureWarning: Default solver will be changed to 'lbfgs' in 0.22. Specify a solver to silence this warning.\n",
      "  FutureWarning)\n",
      "/anaconda3/lib/python3.6/site-packages/sklearn/linear_model/logistic.py:432: FutureWarning: Default solver will be changed to 'lbfgs' in 0.22. Specify a solver to silence this warning.\n",
      "  FutureWarning)\n"
>>>>>>> 5c4869b65c125297c2d0ae50cc978d6c8ddc9bf6
     ]
    }
   ],
   "source": [
    "scores1 = cross_val_score(logreg, X, np.ravel(Y), cv=5)\n",
    "print(scores1)\n",
    "print(np.mean(scores1))"
   ]
  },
  {
   "cell_type": "code",
<<<<<<< HEAD
   "execution_count": 30,
=======
   "execution_count": 207,
>>>>>>> 5c4869b65c125297c2d0ae50cc978d6c8ddc9bf6
   "metadata": {},
   "outputs": [
    {
     "name": "stdout",
     "output_type": "stream",
     "text": [
<<<<<<< HEAD
      "[0.97428571 0.96428571 0.94849785 0.9527897  0.96852647]\n",
      "0.9616770897200082\n"
=======
      "[0.97571429 0.96       0.95565093 0.94420601 0.95708155]\n",
      "0.9585305538524423\n"
     ]
    },
    {
     "name": "stderr",
     "output_type": "stream",
     "text": [
      "/anaconda3/lib/python3.6/site-packages/sklearn/linear_model/logistic.py:432: FutureWarning: Default solver will be changed to 'lbfgs' in 0.22. Specify a solver to silence this warning.\n",
      "  FutureWarning)\n",
      "/anaconda3/lib/python3.6/site-packages/sklearn/linear_model/logistic.py:432: FutureWarning: Default solver will be changed to 'lbfgs' in 0.22. Specify a solver to silence this warning.\n",
      "  FutureWarning)\n",
      "/anaconda3/lib/python3.6/site-packages/sklearn/linear_model/logistic.py:432: FutureWarning: Default solver will be changed to 'lbfgs' in 0.22. Specify a solver to silence this warning.\n",
      "  FutureWarning)\n",
      "/anaconda3/lib/python3.6/site-packages/sklearn/linear_model/logistic.py:432: FutureWarning: Default solver will be changed to 'lbfgs' in 0.22. Specify a solver to silence this warning.\n",
      "  FutureWarning)\n",
      "/anaconda3/lib/python3.6/site-packages/sklearn/linear_model/logistic.py:432: FutureWarning: Default solver will be changed to 'lbfgs' in 0.22. Specify a solver to silence this warning.\n",
      "  FutureWarning)\n"
>>>>>>> 5c4869b65c125297c2d0ae50cc978d6c8ddc9bf6
     ]
    }
   ],
   "source": [
    "scoresa = cross_val_score(logreg, Xa, np.ravel(Ya), cv=5)\n",
    "print(scoresa)\n",
    "print(np.mean(scoresa))"
   ]
  },
  {
   "cell_type": "code",
<<<<<<< HEAD
   "execution_count": 31,
=======
   "execution_count": 208,
>>>>>>> 5c4869b65c125297c2d0ae50cc978d6c8ddc9bf6
   "metadata": {},
   "outputs": [
    {
     "name": "stderr",
     "output_type": "stream",
     "text": [
      "/anaconda3/lib/python3.6/site-packages/sklearn/linear_model/logistic.py:432: FutureWarning: Default solver will be changed to 'lbfgs' in 0.22. Specify a solver to silence this warning.\n",
      "  FutureWarning)\n",
      "/anaconda3/lib/python3.6/site-packages/sklearn/linear_model/logistic.py:432: FutureWarning: Default solver will be changed to 'lbfgs' in 0.22. Specify a solver to silence this warning.\n",
      "  FutureWarning)\n",
      "/anaconda3/lib/python3.6/site-packages/sklearn/linear_model/logistic.py:432: FutureWarning: Default solver will be changed to 'lbfgs' in 0.22. Specify a solver to silence this warning.\n",
      "  FutureWarning)\n"
     ]
    },
    {
     "name": "stdout",
     "output_type": "stream",
     "text": [
<<<<<<< HEAD
      "[0.97       0.96285714 0.94277539 0.95708155 0.96280401]\n",
      "0.9591036174126304\n"
=======
      "[0.97571429 0.95857143 0.95565093 0.94420601 0.94849785]\n",
      "0.9565281013693031\n"
     ]
    },
    {
     "name": "stderr",
     "output_type": "stream",
     "text": [
      "/anaconda3/lib/python3.6/site-packages/sklearn/linear_model/logistic.py:432: FutureWarning: Default solver will be changed to 'lbfgs' in 0.22. Specify a solver to silence this warning.\n",
      "  FutureWarning)\n",
      "/anaconda3/lib/python3.6/site-packages/sklearn/linear_model/logistic.py:432: FutureWarning: Default solver will be changed to 'lbfgs' in 0.22. Specify a solver to silence this warning.\n",
      "  FutureWarning)\n"
>>>>>>> 5c4869b65c125297c2d0ae50cc978d6c8ddc9bf6
     ]
    }
   ],
   "source": [
    "scoresb = cross_val_score(logreg, Xb, np.ravel(Yb), cv=5)\n",
    "print(scoresb)\n",
    "print(np.mean(scoresb))"
   ]
  },
  {
   "cell_type": "markdown",
   "metadata": {},
   "source": [
    "## Influencial Points"
   ]
  },
  {
   "cell_type": "code",
<<<<<<< HEAD
   "execution_count": 46,
   "metadata": {},
   "outputs": [
    {
     "name": "stdout",
     "output_type": "stream",
     "text": [
      "50\n",
      "242\n",
      "305\n"
     ]
    },
    {
     "name": "stderr",
     "output_type": "stream",
     "text": [
      "/Users/mschulze/anaconda3/envs/dsi/lib/python3.7/site-packages/statsmodels/stats/outliers_influence.py:1233: RuntimeWarning: invalid value encountered in sqrt\n",
      "  return self.resid / np.sqrt(self.scale * (1 - hii))\n",
      "/Users/mschulze/anaconda3/envs/dsi/lib/python3.7/site-packages/scipy/stats/_distn_infrastructure.py:879: RuntimeWarning: invalid value encountered in greater\n",
      "  return (self.a < x) & (x < self.b)\n",
      "/Users/mschulze/anaconda3/envs/dsi/lib/python3.7/site-packages/scipy/stats/_distn_infrastructure.py:879: RuntimeWarning: invalid value encountered in less\n",
      "  return (self.a < x) & (x < self.b)\n",
      "/Users/mschulze/anaconda3/envs/dsi/lib/python3.7/site-packages/scipy/stats/_distn_infrastructure.py:1821: RuntimeWarning: invalid value encountered in less_equal\n",
      "  cond2 = cond0 & (x <= self.a)\n",
      "/Users/mschulze/anaconda3/envs/dsi/lib/python3.7/site-packages/statsmodels/stats/outliers_influence.py:1215: RuntimeWarning: invalid value encountered in sqrt\n",
      "  beta_i /= np.sqrt(1 - self.hat_matrix_diag)\n"
     ]
    }
   ],
   "source": [
    "n=3497\n",
    "p_a=15\n",
    "influence_a = my_modela.get_influence()\n",
    "infl_df_a = influence_a.summary_frame()\n",
    "\n",
    "resid_df = infl_df_a.sort_values('standard_resid', ascending=False)\n",
    "resid_df_a = resid_df.loc[abs(resid_df.standard_resid) > 3]\n",
    "print(len(resid_df_a))\n",
    "\n",
    "cook_df = infl_df.sort_values('cooks_d', ascending=False)\n",
    "Di = 4/(n-p_a)\n",
    "cook_df_a = cook_df.loc[abs(cook_df.cooks_d) > Di]\n",
    "print(len(cook_df_a))\n",
    "\n",
    "dffit_df = infl_df.sort_values('dffits_internal', ascending=False)\n",
    "dff = 2*((p_a+1)/(n-p_a-1))**0.5\n",
    "dffit_df_a = dffit_df.loc[abs(dffit_df.dffits_internal) > dff]\n",
    "print(len(dffit_df_a))"
   ]
  },
  {
   "cell_type": "code",
   "execution_count": 47,
   "metadata": {},
   "outputs": [
    {
     "name": "stdout",
     "output_type": "stream",
     "text": [
      "54\n",
      "277\n",
      "320\n"
     ]
    }
   ],
   "source": [
    "n=3497\n",
    "p_b=12\n",
    "influence_b = my_modelb.get_influence()\n",
    "infl_df = influence_b.summary_frame()\n",
    "\n",
    "resid_df = infl_df.sort_values('standard_resid', ascending=False)\n",
    "resid_df_b = resid_df.loc[abs(resid_df.standard_resid) > 3]\n",
    "print(len(resid_df_b))\n",
    "\n",
    "cook_df = infl_df.sort_values('cooks_d', ascending=False)\n",
    "Di = 4/(n-p_b)\n",
    "cook_df_b = cook_df.loc[abs(cook_df.cooks_d) > Di]\n",
    "print(len(cook_df_b))\n",
    "\n",
    "dffit_df = infl_df.sort_values('dffits_internal', ascending=False)\n",
    "dff = 2*((p_b+1)/(n-p_b-1))**0.5\n",
    "dffit_df_b = dffit_df.loc[abs(dffit_df.dffits_internal) > dff]\n",
    "print(len(dffit_df_b))"
   ]
  },
  {
   "cell_type": "code",
   "execution_count": null,
   "metadata": {},
   "outputs": [],
   "source": []
  },
  {
   "cell_type": "code",
   "execution_count": 33,
=======
   "execution_count": 209,
>>>>>>> 5c4869b65c125297c2d0ae50cc978d6c8ddc9bf6
   "metadata": {},
   "outputs": [
    {
     "name": "stderr",
     "output_type": "stream",
     "text": [
      "/anaconda3/lib/python3.6/site-packages/sklearn/linear_model/logistic.py:432: FutureWarning: Default solver will be changed to 'lbfgs' in 0.22. Specify a solver to silence this warning.\n",
      "  FutureWarning)\n"
     ]
    },
    {
     "data": {
      "text/plain": [
       "(28, 28)"
      ]
     },
<<<<<<< HEAD
     "execution_count": 33,
=======
     "execution_count": 209,
>>>>>>> 5c4869b65c125297c2d0ae50cc978d6c8ddc9bf6
     "metadata": {},
     "output_type": "execute_result"
    }
   ],
   "source": [
    "logreg.fit(X,np.ravel(Y))\n",
    "pp = logreg.predict_proba(X)\n",
    "y_pred_50pct = logreg.predict(X)\n",
    "\n",
    "model_features = ['syllables', 's1', 's2', 's3', 's4', 's5', 's6', 's7', 's8', 's9', 's10', 's11', 's12', 'polarity', 'subjectivity']\n",
    "\n",
    "# zip(model_features, logreg.coef_)\n",
    "\n",
    "len(model_features), len(logreg.coef_[0])\n",
    "len(X.design_info.column_names), len(logreg.coef_[0])"
   ]
  },
  {
   "cell_type": "markdown",
   "metadata": {},
   "source": [
    "# ROC curve"
   ]
  },
  {
   "cell_type": "code",
<<<<<<< HEAD
   "execution_count": 34,
=======
   "execution_count": 210,
>>>>>>> 5c4869b65c125297c2d0ae50cc978d6c8ddc9bf6
   "metadata": {},
   "outputs": [
    {
     "data": {
<<<<<<< HEAD
      "image/png": "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\n",
=======
      "image/png": "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\n",
>>>>>>> 5c4869b65c125297c2d0ae50cc978d6c8ddc9bf6
      "text/plain": [
       "<Figure size 792x648 with 1 Axes>"
      ]
     },
     "metadata": {
      "needs_background": "light"
     },
     "output_type": "display_data"
    }
   ],
   "source": [
    "Ytrue = pd.Series(np.ravel(Y))\n",
    "Y_score = logreg.decision_function(X)\n",
    "\n",
    "FPR = dict()\n",
    "TPR = dict()\n",
    "ROC_AUC = dict()\n",
    "\n",
    "# For class 1, find the area under the curve\n",
    "FPR[1], TPR[1], _ = roc_curve(Ytrue, Y_score)\n",
    "ROC_AUC[1] = auc(FPR[1], TPR[1])\n",
    "\n",
    "# Plot of a ROC curve for class 1 (has_cancer)\n",
    "plt.figure(figsize=[11,9])\n",
    "plt.plot(FPR[1], TPR[1], label='ROC curve (area = %0.2f)' % ROC_AUC[1], linewidth=4)\n",
    "plt.plot([0, 1], [0, 1], 'k--', linewidth=4)\n",
    "plt.xlim([0.0, 1.0])\n",
    "plt.ylim([0.0, 1.05])\n",
    "plt.xlabel('False Positive Rate', fontsize=18)\n",
    "plt.ylabel('True Positive Rate', fontsize=18)\n",
    "plt.title('Identifying Iambic Pentameter: Logistic', fontsize=18)\n",
    "plt.legend(loc=\"lower right\")\n",
    "plt.show()"
   ]
  },
  {
   "cell_type": "markdown",
   "metadata": {},
   "source": [
    "# Confusion Matrix"
   ]
  },
  {
   "cell_type": "code",
<<<<<<< HEAD
   "execution_count": 35,
=======
   "execution_count": 211,
>>>>>>> 5c4869b65c125297c2d0ae50cc978d6c8ddc9bf6
   "metadata": {},
   "outputs": [
    {
     "data": {
      "text/html": [
       "<div>\n",
       "<style scoped>\n",
       "    .dataframe tbody tr th:only-of-type {\n",
       "        vertical-align: middle;\n",
       "    }\n",
       "\n",
       "    .dataframe tbody tr th {\n",
       "        vertical-align: top;\n",
       "    }\n",
       "\n",
       "    .dataframe thead th {\n",
       "        text-align: right;\n",
       "    }\n",
       "</style>\n",
       "<table border=\"1\" class=\"dataframe\">\n",
       "  <thead>\n",
       "    <tr style=\"text-align: right;\">\n",
       "      <th>Predicted</th>\n",
       "      <th>0.0</th>\n",
       "      <th>1.0</th>\n",
       "      <th>All</th>\n",
       "    </tr>\n",
       "    <tr>\n",
       "      <th>True</th>\n",
       "      <th></th>\n",
       "      <th></th>\n",
       "      <th></th>\n",
       "    </tr>\n",
       "  </thead>\n",
       "  <tbody>\n",
       "    <tr>\n",
       "      <th>0.0</th>\n",
<<<<<<< HEAD
       "      <td>1654</td>\n",
       "      <td>51</td>\n",
=======
       "      <td>1649</td>\n",
       "      <td>56</td>\n",
>>>>>>> 5c4869b65c125297c2d0ae50cc978d6c8ddc9bf6
       "      <td>1705</td>\n",
       "    </tr>\n",
       "    <tr>\n",
       "      <th>1.0</th>\n",
<<<<<<< HEAD
       "      <td>68</td>\n",
       "      <td>1724</td>\n",
=======
       "      <td>79</td>\n",
       "      <td>1713</td>\n",
>>>>>>> 5c4869b65c125297c2d0ae50cc978d6c8ddc9bf6
       "      <td>1792</td>\n",
       "    </tr>\n",
       "    <tr>\n",
       "      <th>All</th>\n",
<<<<<<< HEAD
       "      <td>1722</td>\n",
       "      <td>1775</td>\n",
=======
       "      <td>1728</td>\n",
       "      <td>1769</td>\n",
>>>>>>> 5c4869b65c125297c2d0ae50cc978d6c8ddc9bf6
       "      <td>3497</td>\n",
       "    </tr>\n",
       "  </tbody>\n",
       "</table>\n",
       "</div>"
      ],
      "text/plain": [
       "Predicted   0.0   1.0   All\n",
       "True                       \n",
<<<<<<< HEAD
       "0.0        1654    51  1705\n",
       "1.0          68  1724  1792\n",
       "All        1722  1775  3497"
      ]
     },
     "execution_count": 35,
=======
       "0.0        1649    56  1705\n",
       "1.0          79  1713  1792\n",
       "All        1728  1769  3497"
      ]
     },
     "execution_count": 211,
>>>>>>> 5c4869b65c125297c2d0ae50cc978d6c8ddc9bf6
     "metadata": {},
     "output_type": "execute_result"
    }
   ],
   "source": [
    "Ytrue = pd.Series(np.ravel(Y))\n",
    "Ypred50 = pd.Series(y_pred_50pct)\n",
    "pd.crosstab(Ytrue, Ypred50, rownames = ['True'], colnames = ['Predicted'], margins = True)"
   ]
  },
  {
   "cell_type": "markdown",
   "metadata": {},
   "source": [
    "# Model Evaluation:"
   ]
  },
  {
   "cell_type": "markdown",
   "metadata": {},
   "source": [
    "### Wald's Test"
   ]
  },
  {
   "cell_type": "code",
   "execution_count": 238,
   "metadata": {},
   "outputs": [
    {
     "name": "stdout",
     "output_type": "stream",
     "text": [
      "C(s1)[missing]         True\n",
      "C(s1)[stress]          True\n",
      "C(s1)[unstress]        True\n",
      "C(s2)[T.stress]        True\n",
      "C(s2)[T.unstress]      True\n",
      "C(s3)[T.stress]       False\n",
      "C(s3)[T.unstress]      True\n",
      "C(s4)[T.stress]       False\n",
      "C(s4)[T.unstress]      True\n",
      "C(s5)[T.stress]        True\n",
      "C(s5)[T.unstress]     False\n",
      "C(s6)[T.stress]       False\n",
      "C(s6)[T.unstress]     False\n",
      "C(s7)[T.stress]       False\n",
      "C(s7)[T.unstress]     False\n",
      "C(s8)[T.stress]       False\n",
      "C(s8)[T.unstress]     False\n",
      "C(s9)[T.stress]        True\n",
      "C(s9)[T.unstress]     False\n",
      "C(s10)[T.stress]      False\n",
      "C(s10)[T.unstress]    False\n",
      "C(s11)[T.stress]       True\n",
      "C(s11)[T.unstress]     True\n",
      "C(s12)[T.stress]      False\n",
      "C(s12)[T.unstress]    False\n",
      "syllables              True\n",
      "polarity              False\n",
      "subjectivity           True\n",
      "dtype: bool\n"
     ]
    }
   ],
   "source": [
    "# Testing for the significance of individual regression coefficients\n",
    "# Assume Ho: Bi=0 vs Ha: Bi!=0\n",
    "\n",
    "print(my_model1.pvalues < 0.025) # Use rejection rule Z_s > Z_a/2"
   ]
  },
  {
   "cell_type": "markdown",
   "metadata": {},
   "source": [
    "From the model1 summary above we can see that our significant predictors are S1, S2, S4, S11, and subjectivity. "
   ]
  },
  {
   "cell_type": "markdown",
   "metadata": {},
   "source": [
    "### Deviance Chi-Squared Test"
   ]
  },
  {
   "cell_type": "code",
   "execution_count": 235,
   "metadata": {},
   "outputs": [
    {
     "name": "stdout",
     "output_type": "stream",
     "text": [
      "13.301122101709439\n",
      "33.92443847144379\n"
     ]
    }
   ],
   "source": [
    "# Comparing Reduced vs. Full Model\n",
    "\n",
    "g_full_model = my_model1.deviance     # values from summary tables above\n",
    "g_reduced_model = my_modelb.deviance\n",
    "\n",
    "delta_G_squared = g_reduced_model - g_full_model\n",
    "print(delta_G_squared)\n",
    "\n",
    "chi_val = chi2.isf(0.05, 22, loc=0, scale=1) # where df=22 is from reduced model\n",
    "print(chi_val)"
   ]
  },
  {
   "cell_type": "markdown",
   "metadata": {},
   "source": [
    "Thus, since our delta G-squared value is smaller than our chi-squared value, we fail to reject the null hypothesis in favor of the alternative which is our reduced model."
   ]
  }
 ],
 "metadata": {
  "kernelspec": {
   "display_name": "Python 3",
   "language": "python",
   "name": "python3"
  },
  "language_info": {
   "codemirror_mode": {
    "name": "ipython",
    "version": 3
   },
   "file_extension": ".py",
   "mimetype": "text/x-python",
   "name": "python",
   "nbconvert_exporter": "python",
   "pygments_lexer": "ipython3",
   "version": "3.7.0"
  }
 },
 "nbformat": 4,
 "nbformat_minor": 2
}

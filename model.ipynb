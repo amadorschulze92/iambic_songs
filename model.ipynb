{
 "cells": [
  {
   "cell_type": "code",
   "execution_count": 1,
   "metadata": {},
   "outputs": [],
   "source": [
    "import string\n",
    "import numpy as np\n",
    "import pandas as pd\n",
    "\n",
    "from sklearn.linear_model import LogisticRegression\n",
    "from sklearn.model_selection import cross_val_score\n",
    "from sklearn import metrics\n",
    "from patsy import dmatrices\n",
    "import patsy\n",
    "\n",
    "from sklearn.metrics import roc_curve, auc, classification_report\n",
    "from sklearn.model_selection import train_test_split\n",
    "from sklearn.preprocessing import label_binarize\n",
    "\n",
    "from scipy import interp\n",
    "from scipy.stats import chi2_contingency, chi2\n",
    "\n",
    "import seaborn as sns\n",
    "import matplotlib.pyplot as plt\n",
    "\n",
    "%matplotlib inline"
   ]
  },
  {
   "cell_type": "markdown",
   "metadata": {},
   "source": [
    "# Import data"
   ]
  },
  {
   "cell_type": "code",
   "execution_count": 2,
   "metadata": {},
   "outputs": [
    {
     "data": {
      "text/html": [
       "<div>\n",
       "<style scoped>\n",
       "    .dataframe tbody tr th:only-of-type {\n",
       "        vertical-align: middle;\n",
       "    }\n",
       "\n",
       "    .dataframe tbody tr th {\n",
       "        vertical-align: top;\n",
       "    }\n",
       "\n",
       "    .dataframe thead th {\n",
       "        text-align: right;\n",
       "    }\n",
       "</style>\n",
       "<table border=\"1\" class=\"dataframe\">\n",
       "  <thead>\n",
       "    <tr style=\"text-align: right;\">\n",
       "      <th></th>\n",
       "      <th>sonnet_index</th>\n",
       "      <th>syllables</th>\n",
       "      <th>s1</th>\n",
       "      <th>s2</th>\n",
       "      <th>s3</th>\n",
       "      <th>s4</th>\n",
       "      <th>s5</th>\n",
       "      <th>s6</th>\n",
       "      <th>s7</th>\n",
       "      <th>s8</th>\n",
       "      <th>s9</th>\n",
       "      <th>s10</th>\n",
       "      <th>s11</th>\n",
       "      <th>s12</th>\n",
       "      <th>word_list</th>\n",
       "      <th>sonnet_num</th>\n",
       "      <th>author</th>\n",
       "      <th>polarity</th>\n",
       "      <th>subjectivity</th>\n",
       "      <th>sonnet</th>\n",
       "    </tr>\n",
       "  </thead>\n",
       "  <tbody>\n",
       "    <tr>\n",
       "      <th>0</th>\n",
       "      <td>1</td>\n",
       "      <td>11</td>\n",
       "      <td>stress</td>\n",
       "      <td>stress</td>\n",
       "      <td>stress</td>\n",
       "      <td>stress</td>\n",
       "      <td>stress</td>\n",
       "      <td>unstress</td>\n",
       "      <td>stress</td>\n",
       "      <td>stress</td>\n",
       "      <td>stress</td>\n",
       "      <td>stress</td>\n",
       "      <td>unstress</td>\n",
       "      <td>missing</td>\n",
       "      <td>['And', 'I', 'was', 'right', 'there', 'beside'...</td>\n",
       "      <td>1</td>\n",
       "      <td>taylor_swift</td>\n",
       "      <td>0.285714</td>\n",
       "      <td>0.535714</td>\n",
       "      <td>0</td>\n",
       "    </tr>\n",
       "    <tr>\n",
       "      <th>1</th>\n",
       "      <td>22</td>\n",
       "      <td>11</td>\n",
       "      <td>stress</td>\n",
       "      <td>stress</td>\n",
       "      <td>stress</td>\n",
       "      <td>stress</td>\n",
       "      <td>stress</td>\n",
       "      <td>stress</td>\n",
       "      <td>stress</td>\n",
       "      <td>stress</td>\n",
       "      <td>unstress</td>\n",
       "      <td>stress</td>\n",
       "      <td>unstress</td>\n",
       "      <td>missing</td>\n",
       "      <td>['So', 'go', 'and', 'tell', 'your', 'friends',...</td>\n",
       "      <td>22</td>\n",
       "      <td>taylor_swift</td>\n",
       "      <td>0.000000</td>\n",
       "      <td>0.000000</td>\n",
       "      <td>0</td>\n",
       "    </tr>\n",
       "    <tr>\n",
       "      <th>2</th>\n",
       "      <td>26</td>\n",
       "      <td>11</td>\n",
       "      <td>stress</td>\n",
       "      <td>stress</td>\n",
       "      <td>stress</td>\n",
       "      <td>stress</td>\n",
       "      <td>unstress</td>\n",
       "      <td>stress</td>\n",
       "      <td>stress</td>\n",
       "      <td>unstress</td>\n",
       "      <td>stress</td>\n",
       "      <td>unstress</td>\n",
       "      <td>stress</td>\n",
       "      <td>missing</td>\n",
       "      <td>['And', 'if', 'you', 'come', 'around', 'saying...</td>\n",
       "      <td>26</td>\n",
       "      <td>taylor_swift</td>\n",
       "      <td>-0.500000</td>\n",
       "      <td>1.000000</td>\n",
       "      <td>0</td>\n",
       "    </tr>\n",
       "    <tr>\n",
       "      <th>3</th>\n",
       "      <td>35</td>\n",
       "      <td>11</td>\n",
       "      <td>stress</td>\n",
       "      <td>stress</td>\n",
       "      <td>stress</td>\n",
       "      <td>stress</td>\n",
       "      <td>stress</td>\n",
       "      <td>stress</td>\n",
       "      <td>stress</td>\n",
       "      <td>stress</td>\n",
       "      <td>unstress</td>\n",
       "      <td>unstress</td>\n",
       "      <td>stress</td>\n",
       "      <td>missing</td>\n",
       "      <td>['He', 'says', 'he', 'so', 'in', 'love', 'he',...</td>\n",
       "      <td>35</td>\n",
       "      <td>taylor_swift</td>\n",
       "      <td>0.250000</td>\n",
       "      <td>0.800000</td>\n",
       "      <td>0</td>\n",
       "    </tr>\n",
       "    <tr>\n",
       "      <th>4</th>\n",
       "      <td>46</td>\n",
       "      <td>11</td>\n",
       "      <td>stress</td>\n",
       "      <td>stress</td>\n",
       "      <td>stress</td>\n",
       "      <td>stress</td>\n",
       "      <td>unstress</td>\n",
       "      <td>stress</td>\n",
       "      <td>stress</td>\n",
       "      <td>stress</td>\n",
       "      <td>stress</td>\n",
       "      <td>stress</td>\n",
       "      <td>stress</td>\n",
       "      <td>missing</td>\n",
       "      <td>['So', 'I', 'drive', 'home', 'alone', 'as', 'I...</td>\n",
       "      <td>46</td>\n",
       "      <td>taylor_swift</td>\n",
       "      <td>0.000000</td>\n",
       "      <td>0.000000</td>\n",
       "      <td>0</td>\n",
       "    </tr>\n",
       "  </tbody>\n",
       "</table>\n",
       "</div>"
      ],
      "text/plain": [
       "   sonnet_index  syllables      s1      s2      s3      s4        s5  \\\n",
       "0             1         11  stress  stress  stress  stress    stress   \n",
       "1            22         11  stress  stress  stress  stress    stress   \n",
       "2            26         11  stress  stress  stress  stress  unstress   \n",
       "3            35         11  stress  stress  stress  stress    stress   \n",
       "4            46         11  stress  stress  stress  stress  unstress   \n",
       "\n",
       "         s6      s7        s8        s9       s10       s11      s12  \\\n",
       "0  unstress  stress    stress    stress    stress  unstress  missing   \n",
       "1    stress  stress    stress  unstress    stress  unstress  missing   \n",
       "2    stress  stress  unstress    stress  unstress    stress  missing   \n",
       "3    stress  stress    stress  unstress  unstress    stress  missing   \n",
       "4    stress  stress    stress    stress    stress    stress  missing   \n",
       "\n",
       "                                           word_list  sonnet_num  \\\n",
       "0  ['And', 'I', 'was', 'right', 'there', 'beside'...           1   \n",
       "1  ['So', 'go', 'and', 'tell', 'your', 'friends',...          22   \n",
       "2  ['And', 'if', 'you', 'come', 'around', 'saying...          26   \n",
       "3  ['He', 'says', 'he', 'so', 'in', 'love', 'he',...          35   \n",
       "4  ['So', 'I', 'drive', 'home', 'alone', 'as', 'I...          46   \n",
       "\n",
       "         author  polarity  subjectivity  sonnet  \n",
       "0  taylor_swift  0.285714      0.535714       0  \n",
       "1  taylor_swift  0.000000      0.000000       0  \n",
       "2  taylor_swift -0.500000      1.000000       0  \n",
       "3  taylor_swift  0.250000      0.800000       0  \n",
       "4  taylor_swift  0.000000      0.000000       0  "
      ]
     },
     "execution_count": 2,
     "metadata": {},
     "output_type": "execute_result"
    }
   ],
   "source": [
    "# Create Taylor Swift Dataframe\n",
    "taylor_df = pd.read_csv('./taylor_swift_IP.csv')\n",
    "taylor_df.columns = ['unnamed', 'sonnet_index', 'syllables', 's1', 's2', 's3',\n",
    "       's4', 's5', 's6', 's7', 's8', 's9', 's10', 's11', 's12',\n",
    "       'word_list', 'sonnet_num', 'author', 'polarity', 'subjectivity']\n",
    "\n",
    "taylor_df['sonnet'] = taylor_df.apply(lambda x: 0, axis=1)\n",
    "\n",
    "# unnecessary columns\n",
    "\n",
    "taylor_df = taylor_df.drop('unnamed', axis=1)\n",
    "\n",
    "taylor_df.head()"
   ]
  },
  {
   "cell_type": "code",
   "execution_count": 3,
   "metadata": {},
   "outputs": [
    {
     "name": "stdout",
     "output_type": "stream",
     "text": [
      "<class 'pandas.core.frame.DataFrame'>\n",
      "RangeIndex: 470 entries, 0 to 469\n",
      "Data columns (total 20 columns):\n",
      "sonnet_index    470 non-null int64\n",
      "syllables       470 non-null int64\n",
      "s1              470 non-null object\n",
      "s2              470 non-null object\n",
      "s3              470 non-null object\n",
      "s4              470 non-null object\n",
      "s5              470 non-null object\n",
      "s6              470 non-null object\n",
      "s7              470 non-null object\n",
      "s8              470 non-null object\n",
      "s9              470 non-null object\n",
      "s10             470 non-null object\n",
      "s11             470 non-null object\n",
      "s12             470 non-null object\n",
      "word_list       470 non-null object\n",
      "sonnet_num      470 non-null int64\n",
      "author          470 non-null object\n",
      "polarity        470 non-null float64\n",
      "subjectivity    470 non-null float64\n",
      "sonnet          470 non-null int64\n",
      "dtypes: float64(2), int64(4), object(14)\n",
      "memory usage: 73.5+ KB\n"
     ]
    }
   ],
   "source": [
    "taylor_df.info()"
   ]
  },
  {
   "cell_type": "code",
   "execution_count": 4,
   "metadata": {},
   "outputs": [
    {
     "data": {
      "text/html": [
       "<div>\n",
       "<style scoped>\n",
       "    .dataframe tbody tr th:only-of-type {\n",
       "        vertical-align: middle;\n",
       "    }\n",
       "\n",
       "    .dataframe tbody tr th {\n",
       "        vertical-align: top;\n",
       "    }\n",
       "\n",
       "    .dataframe thead th {\n",
       "        text-align: right;\n",
       "    }\n",
       "</style>\n",
       "<table border=\"1\" class=\"dataframe\">\n",
       "  <thead>\n",
       "    <tr style=\"text-align: right;\">\n",
       "      <th></th>\n",
       "      <th>sonnet_index</th>\n",
       "      <th>syllables</th>\n",
       "      <th>s1</th>\n",
       "      <th>s2</th>\n",
       "      <th>s3</th>\n",
       "      <th>s4</th>\n",
       "      <th>s5</th>\n",
       "      <th>s6</th>\n",
       "      <th>s7</th>\n",
       "      <th>s8</th>\n",
       "      <th>s9</th>\n",
       "      <th>s10</th>\n",
       "      <th>s11</th>\n",
       "      <th>s12</th>\n",
       "      <th>word_list</th>\n",
       "      <th>sonnet_num</th>\n",
       "      <th>author</th>\n",
       "      <th>polarity</th>\n",
       "      <th>subjectivity</th>\n",
       "      <th>sonnet</th>\n",
       "    </tr>\n",
       "  </thead>\n",
       "  <tbody>\n",
       "    <tr>\n",
       "      <th>0</th>\n",
       "      <td>0</td>\n",
       "      <td>11</td>\n",
       "      <td>stress</td>\n",
       "      <td>stress</td>\n",
       "      <td>stress</td>\n",
       "      <td>unstress</td>\n",
       "      <td>stress</td>\n",
       "      <td>unstress</td>\n",
       "      <td>unstress</td>\n",
       "      <td>stress</td>\n",
       "      <td>stress</td>\n",
       "      <td>stress</td>\n",
       "      <td>stress</td>\n",
       "      <td>missing</td>\n",
       "      <td>['Your', 'ten', 'thousand', 'promises', 'That'...</td>\n",
       "      <td>0</td>\n",
       "      <td>bsb</td>\n",
       "      <td>0.0</td>\n",
       "      <td>0.0</td>\n",
       "      <td>0</td>\n",
       "    </tr>\n",
       "    <tr>\n",
       "      <th>1</th>\n",
       "      <td>8</td>\n",
       "      <td>11</td>\n",
       "      <td>stress</td>\n",
       "      <td>stress</td>\n",
       "      <td>unstress</td>\n",
       "      <td>stress</td>\n",
       "      <td>stress</td>\n",
       "      <td>stress</td>\n",
       "      <td>stress</td>\n",
       "      <td>unstress</td>\n",
       "      <td>stress</td>\n",
       "      <td>stress</td>\n",
       "      <td>stress</td>\n",
       "      <td>missing</td>\n",
       "      <td>['Who', 'wasted', 'my', 'time', 'and', 'money'...</td>\n",
       "      <td>8</td>\n",
       "      <td>bsb</td>\n",
       "      <td>-0.2</td>\n",
       "      <td>0.0</td>\n",
       "      <td>0</td>\n",
       "    </tr>\n",
       "    <tr>\n",
       "      <th>2</th>\n",
       "      <td>24</td>\n",
       "      <td>11</td>\n",
       "      <td>stress</td>\n",
       "      <td>stress</td>\n",
       "      <td>stress</td>\n",
       "      <td>unstress</td>\n",
       "      <td>stress</td>\n",
       "      <td>unstress</td>\n",
       "      <td>unstress</td>\n",
       "      <td>stress</td>\n",
       "      <td>stress</td>\n",
       "      <td>stress</td>\n",
       "      <td>stress</td>\n",
       "      <td>missing</td>\n",
       "      <td>['Your', 'ten', 'thousand', 'promises', 'That'...</td>\n",
       "      <td>24</td>\n",
       "      <td>bsb</td>\n",
       "      <td>0.0</td>\n",
       "      <td>0.0</td>\n",
       "      <td>0</td>\n",
       "    </tr>\n",
       "    <tr>\n",
       "      <th>3</th>\n",
       "      <td>27</td>\n",
       "      <td>11</td>\n",
       "      <td>stress</td>\n",
       "      <td>stress</td>\n",
       "      <td>stress</td>\n",
       "      <td>unstress</td>\n",
       "      <td>stress</td>\n",
       "      <td>unstress</td>\n",
       "      <td>unstress</td>\n",
       "      <td>stress</td>\n",
       "      <td>stress</td>\n",
       "      <td>stress</td>\n",
       "      <td>stress</td>\n",
       "      <td>missing</td>\n",
       "      <td>['Your', 'ten', 'thousand', 'promises', 'That'...</td>\n",
       "      <td>27</td>\n",
       "      <td>bsb</td>\n",
       "      <td>0.0</td>\n",
       "      <td>0.0</td>\n",
       "      <td>0</td>\n",
       "    </tr>\n",
       "    <tr>\n",
       "      <th>4</th>\n",
       "      <td>28</td>\n",
       "      <td>11</td>\n",
       "      <td>stress</td>\n",
       "      <td>stress</td>\n",
       "      <td>stress</td>\n",
       "      <td>missing</td>\n",
       "      <td>stress</td>\n",
       "      <td>missing</td>\n",
       "      <td>stress</td>\n",
       "      <td>stress</td>\n",
       "      <td>stress</td>\n",
       "      <td>missing</td>\n",
       "      <td>stress</td>\n",
       "      <td>missing</td>\n",
       "      <td>['What', 'a', 'lie', '(what', 'a', 'lie)', 'Yo...</td>\n",
       "      <td>28</td>\n",
       "      <td>bsb</td>\n",
       "      <td>0.0</td>\n",
       "      <td>0.0</td>\n",
       "      <td>0</td>\n",
       "    </tr>\n",
       "  </tbody>\n",
       "</table>\n",
       "</div>"
      ],
      "text/plain": [
       "   sonnet_index  syllables      s1      s2        s3        s4      s5  \\\n",
       "0             0         11  stress  stress    stress  unstress  stress   \n",
       "1             8         11  stress  stress  unstress    stress  stress   \n",
       "2            24         11  stress  stress    stress  unstress  stress   \n",
       "3            27         11  stress  stress    stress  unstress  stress   \n",
       "4            28         11  stress  stress    stress   missing  stress   \n",
       "\n",
       "         s6        s7        s8      s9      s10     s11      s12  \\\n",
       "0  unstress  unstress    stress  stress   stress  stress  missing   \n",
       "1    stress    stress  unstress  stress   stress  stress  missing   \n",
       "2  unstress  unstress    stress  stress   stress  stress  missing   \n",
       "3  unstress  unstress    stress  stress   stress  stress  missing   \n",
       "4   missing    stress    stress  stress  missing  stress  missing   \n",
       "\n",
       "                                           word_list  sonnet_num author  \\\n",
       "0  ['Your', 'ten', 'thousand', 'promises', 'That'...           0    bsb   \n",
       "1  ['Who', 'wasted', 'my', 'time', 'and', 'money'...           8    bsb   \n",
       "2  ['Your', 'ten', 'thousand', 'promises', 'That'...          24    bsb   \n",
       "3  ['Your', 'ten', 'thousand', 'promises', 'That'...          27    bsb   \n",
       "4  ['What', 'a', 'lie', '(what', 'a', 'lie)', 'Yo...          28    bsb   \n",
       "\n",
       "   polarity  subjectivity  sonnet  \n",
       "0       0.0           0.0       0  \n",
       "1      -0.2           0.0       0  \n",
       "2       0.0           0.0       0  \n",
       "3       0.0           0.0       0  \n",
       "4       0.0           0.0       0  "
      ]
     },
     "execution_count": 4,
     "metadata": {},
     "output_type": "execute_result"
    }
   ],
   "source": [
    "# Create BSB Dataframe\n",
    "bsb_df = pd.read_csv('./bsb_IP.csv')\n",
    "bsb_df.columns = ['unnamed', 'sonnet_index', 'syllables', 's1', 's2', 's3',\n",
    "       's4', 's5', 's6', 's7', 's8', 's9', 's10', 's11', 's12',\n",
    "       'word_list', 'sonnet_num', 'author', 'polarity', 'subjectivity']\n",
    "\n",
    "bsb_df['sonnet'] = bsb_df.apply(lambda x: 0, axis=1)\n",
    "\n",
    "# unnecessary columns\n",
    "\n",
    "bsb_df = bsb_df.drop('unnamed', axis=1)\n",
    "\n",
    "bsb_df.head()"
   ]
  },
  {
   "cell_type": "code",
   "execution_count": 5,
   "metadata": {},
   "outputs": [
    {
     "name": "stdout",
     "output_type": "stream",
     "text": [
      "<class 'pandas.core.frame.DataFrame'>\n",
      "RangeIndex: 1235 entries, 0 to 1234\n",
      "Data columns (total 20 columns):\n",
      "sonnet_index    1235 non-null int64\n",
      "syllables       1235 non-null int64\n",
      "s1              1235 non-null object\n",
      "s2              1235 non-null object\n",
      "s3              1235 non-null object\n",
      "s4              1235 non-null object\n",
      "s5              1235 non-null object\n",
      "s6              1235 non-null object\n",
      "s7              1235 non-null object\n",
      "s8              1235 non-null object\n",
      "s9              1235 non-null object\n",
      "s10             1235 non-null object\n",
      "s11             1235 non-null object\n",
      "s12             1235 non-null object\n",
      "word_list       1235 non-null object\n",
      "sonnet_num      1235 non-null int64\n",
      "author          1235 non-null object\n",
      "polarity        1235 non-null float64\n",
      "subjectivity    1235 non-null float64\n",
      "sonnet          1235 non-null int64\n",
      "dtypes: float64(2), int64(4), object(14)\n",
      "memory usage: 193.0+ KB\n"
     ]
    }
   ],
   "source": [
    "bsb_df.info()"
   ]
  },
  {
   "cell_type": "code",
   "execution_count": 6,
   "metadata": {},
   "outputs": [
    {
     "data": {
      "text/html": [
       "<div>\n",
       "<style scoped>\n",
       "    .dataframe tbody tr th:only-of-type {\n",
       "        vertical-align: middle;\n",
       "    }\n",
       "\n",
       "    .dataframe tbody tr th {\n",
       "        vertical-align: top;\n",
       "    }\n",
       "\n",
       "    .dataframe thead th {\n",
       "        text-align: right;\n",
       "    }\n",
       "</style>\n",
       "<table border=\"1\" class=\"dataframe\">\n",
       "  <thead>\n",
       "    <tr style=\"text-align: right;\">\n",
       "      <th></th>\n",
       "      <th>sonnet_index</th>\n",
       "      <th>syllables</th>\n",
       "      <th>s1</th>\n",
       "      <th>s2</th>\n",
       "      <th>s3</th>\n",
       "      <th>s4</th>\n",
       "      <th>s5</th>\n",
       "      <th>s6</th>\n",
       "      <th>s7</th>\n",
       "      <th>s8</th>\n",
       "      <th>s9</th>\n",
       "      <th>s10</th>\n",
       "      <th>s11</th>\n",
       "      <th>s12</th>\n",
       "      <th>word_list</th>\n",
       "      <th>sonnet_num</th>\n",
       "      <th>author</th>\n",
       "      <th>polarity</th>\n",
       "      <th>subjectivity</th>\n",
       "      <th>sonnet</th>\n",
       "    </tr>\n",
       "  </thead>\n",
       "  <tbody>\n",
       "    <tr>\n",
       "      <th>0</th>\n",
       "      <td>2</td>\n",
       "      <td>10</td>\n",
       "      <td>unstress</td>\n",
       "      <td>stress</td>\n",
       "      <td>unstress</td>\n",
       "      <td>stress</td>\n",
       "      <td>unstress</td>\n",
       "      <td>stress</td>\n",
       "      <td>unstress</td>\n",
       "      <td>stress</td>\n",
       "      <td>unstress</td>\n",
       "      <td>stress</td>\n",
       "      <td>missing</td>\n",
       "      <td>missing</td>\n",
       "      <td>['From', 'fairest', 'creatures', 'we', 'desire...</td>\n",
       "      <td>1</td>\n",
       "      <td>Shakespeare</td>\n",
       "      <td>0.00</td>\n",
       "      <td>0.00</td>\n",
       "      <td>1</td>\n",
       "    </tr>\n",
       "    <tr>\n",
       "      <th>1</th>\n",
       "      <td>3</td>\n",
       "      <td>11</td>\n",
       "      <td>unstress</td>\n",
       "      <td>stress</td>\n",
       "      <td>stress</td>\n",
       "      <td>stress</td>\n",
       "      <td>unstress</td>\n",
       "      <td>stress</td>\n",
       "      <td>stress</td>\n",
       "      <td>stress</td>\n",
       "      <td>unstress</td>\n",
       "      <td>stress</td>\n",
       "      <td>missing</td>\n",
       "      <td>missing</td>\n",
       "      <td>['That', 'thereby', 'beauty', 'rose', 'might',...</td>\n",
       "      <td>1</td>\n",
       "      <td>Shakespeare</td>\n",
       "      <td>0.60</td>\n",
       "      <td>0.95</td>\n",
       "      <td>1</td>\n",
       "    </tr>\n",
       "    <tr>\n",
       "      <th>2</th>\n",
       "      <td>4</td>\n",
       "      <td>10</td>\n",
       "      <td>stress</td>\n",
       "      <td>stress</td>\n",
       "      <td>unstress</td>\n",
       "      <td>missing</td>\n",
       "      <td>missing</td>\n",
       "      <td>stress</td>\n",
       "      <td>stress</td>\n",
       "      <td>stress</td>\n",
       "      <td>unstress</td>\n",
       "      <td>stress</td>\n",
       "      <td>missing</td>\n",
       "      <td>missing</td>\n",
       "      <td>['But', 'as', 'the', 'riper', 'should', 'by', ...</td>\n",
       "      <td>1</td>\n",
       "      <td>Shakespeare</td>\n",
       "      <td>0.00</td>\n",
       "      <td>0.00</td>\n",
       "      <td>1</td>\n",
       "    </tr>\n",
       "    <tr>\n",
       "      <th>3</th>\n",
       "      <td>5</td>\n",
       "      <td>10</td>\n",
       "      <td>unstress</td>\n",
       "      <td>stress</td>\n",
       "      <td>unstress</td>\n",
       "      <td>stress</td>\n",
       "      <td>stress</td>\n",
       "      <td>stress</td>\n",
       "      <td>unstress</td>\n",
       "      <td>stress</td>\n",
       "      <td>unstress</td>\n",
       "      <td>unstress</td>\n",
       "      <td>missing</td>\n",
       "      <td>missing</td>\n",
       "      <td>['His', 'tender', 'heir', 'might', 'bear', 'hi...</td>\n",
       "      <td>1</td>\n",
       "      <td>Shakespeare</td>\n",
       "      <td>0.00</td>\n",
       "      <td>0.00</td>\n",
       "      <td>1</td>\n",
       "    </tr>\n",
       "    <tr>\n",
       "      <th>4</th>\n",
       "      <td>6</td>\n",
       "      <td>10</td>\n",
       "      <td>stress</td>\n",
       "      <td>stress</td>\n",
       "      <td>stress</td>\n",
       "      <td>unstress</td>\n",
       "      <td>unstress</td>\n",
       "      <td>stress</td>\n",
       "      <td>stress</td>\n",
       "      <td>stress</td>\n",
       "      <td>stress</td>\n",
       "      <td>stress</td>\n",
       "      <td>missing</td>\n",
       "      <td>missing</td>\n",
       "      <td>['But', 'thou', 'contracted', 'to', 'thine', '...</td>\n",
       "      <td>1</td>\n",
       "      <td>Shakespeare</td>\n",
       "      <td>0.65</td>\n",
       "      <td>0.90</td>\n",
       "      <td>1</td>\n",
       "    </tr>\n",
       "  </tbody>\n",
       "</table>\n",
       "</div>"
      ],
      "text/plain": [
       "   sonnet_index  syllables        s1      s2        s3        s4        s5  \\\n",
       "0             2         10  unstress  stress  unstress    stress  unstress   \n",
       "1             3         11  unstress  stress    stress    stress  unstress   \n",
       "2             4         10    stress  stress  unstress   missing   missing   \n",
       "3             5         10  unstress  stress  unstress    stress    stress   \n",
       "4             6         10    stress  stress    stress  unstress  unstress   \n",
       "\n",
       "       s6        s7      s8        s9       s10      s11      s12  \\\n",
       "0  stress  unstress  stress  unstress    stress  missing  missing   \n",
       "1  stress    stress  stress  unstress    stress  missing  missing   \n",
       "2  stress    stress  stress  unstress    stress  missing  missing   \n",
       "3  stress  unstress  stress  unstress  unstress  missing  missing   \n",
       "4  stress    stress  stress    stress    stress  missing  missing   \n",
       "\n",
       "                                           word_list  sonnet_num       author  \\\n",
       "0  ['From', 'fairest', 'creatures', 'we', 'desire...           1  Shakespeare   \n",
       "1  ['That', 'thereby', 'beauty', 'rose', 'might',...           1  Shakespeare   \n",
       "2  ['But', 'as', 'the', 'riper', 'should', 'by', ...           1  Shakespeare   \n",
       "3  ['His', 'tender', 'heir', 'might', 'bear', 'hi...           1  Shakespeare   \n",
       "4  ['But', 'thou', 'contracted', 'to', 'thine', '...           1  Shakespeare   \n",
       "\n",
       "   polarity  subjectivity  sonnet  \n",
       "0      0.00          0.00       1  \n",
       "1      0.60          0.95       1  \n",
       "2      0.00          0.00       1  \n",
       "3      0.00          0.00       1  \n",
       "4      0.65          0.90       1  "
      ]
     },
     "execution_count": 6,
     "metadata": {},
     "output_type": "execute_result"
    }
   ],
   "source": [
    "# Create full_sonnet Dataframe\n",
    "poems_df = pd.read_csv('./full_sonnet_df.csv')\n",
    "poems_df.head()\n",
    "poems_df.columns = ['unnamed0','unnamed1', 'sonnet_index', 'syllables', 's1', 's2', 's3',\n",
    "       's4', 's5', 's6', 's7', 's8', 's9', 's10', 's11', 's12',\n",
    "       'word_list', 'sonnet_num', 'author', 'polarity', 'subjectivity','sonnet']\n",
    "\n",
    "# drop unnecessary columns\n",
    "\n",
    "poems_df = poems_df.drop('unnamed0', axis=1)\n",
    "poems_df = poems_df.drop('unnamed1', axis=1)\n",
    "\n",
    "poems_df.head()"
   ]
  },
  {
   "cell_type": "code",
   "execution_count": 7,
   "metadata": {},
   "outputs": [],
   "source": [
    "# Randomly take subset of the full sonnets data\n",
    "poems_df = poems_df.drop(poems_df.sample(frac=.65).index)"
   ]
  },
  {
   "cell_type": "code",
   "execution_count": 8,
   "metadata": {},
   "outputs": [
    {
     "name": "stdout",
     "output_type": "stream",
     "text": [
      "<class 'pandas.core.frame.DataFrame'>\n",
      "Int64Index: 1792 entries, 4 to 5115\n",
      "Data columns (total 20 columns):\n",
      "sonnet_index    1792 non-null int64\n",
      "syllables       1792 non-null int64\n",
      "s1              1792 non-null object\n",
      "s2              1792 non-null object\n",
      "s3              1792 non-null object\n",
      "s4              1792 non-null object\n",
      "s5              1792 non-null object\n",
      "s6              1792 non-null object\n",
      "s7              1792 non-null object\n",
      "s8              1792 non-null object\n",
      "s9              1792 non-null object\n",
      "s10             1792 non-null object\n",
      "s11             1792 non-null object\n",
      "s12             1792 non-null object\n",
      "word_list       1792 non-null object\n",
      "sonnet_num      1792 non-null int64\n",
      "author          1761 non-null object\n",
      "polarity        1792 non-null float64\n",
      "subjectivity    1792 non-null float64\n",
      "sonnet          1792 non-null int64\n",
      "dtypes: float64(2), int64(4), object(14)\n",
      "memory usage: 294.0+ KB\n"
     ]
    }
   ],
   "source": [
    "poems_df.info()"
   ]
  },
  {
   "cell_type": "code",
   "execution_count": 9,
   "metadata": {},
   "outputs": [],
   "source": [
    "# Stacking the Taylor Swift, BSB, and Poems dataframes\n",
    "\n",
    "final_df = pd.concat([taylor_df, bsb_df, poems_df])\n",
    "final_df.head()\n",
    "final_df.to_csv('final_df.csv')"
   ]
  },
  {
   "cell_type": "code",
   "execution_count": 10,
   "metadata": {},
   "outputs": [
    {
     "data": {
      "text/plain": [
       "(3497, 20)"
      ]
     },
     "execution_count": 10,
     "metadata": {},
     "output_type": "execute_result"
    }
   ],
   "source": [
    "final_df.shape"
   ]
  },
  {
   "cell_type": "markdown",
   "metadata": {},
   "source": [
    "# Baseline"
   ]
  },
  {
   "cell_type": "code",
   "execution_count": 11,
   "metadata": {},
   "outputs": [
    {
     "name": "stdout",
     "output_type": "stream",
     "text": [
      "0.5124392336288247\n"
     ]
    }
   ],
   "source": [
    "print(np.mean(final_df.sonnet))"
   ]
  },
  {
   "cell_type": "markdown",
   "metadata": {},
   "source": [
    "# Logistic Regression"
   ]
  },
  {
   "cell_type": "code",
   "execution_count": 12,
   "metadata": {},
   "outputs": [],
   "source": [
    "logreg = LogisticRegression()\n",
    "\n",
    "formula = 'sonnet ~ syllables + C(s1) + C(s2) + C(s3) + C(s4) + C(s5) + C(s6) + C(s7) + C(s8) + C(s9) + C(s10) + C(s11) + C(s12) + polarity + subjectivity -1'\n",
    "Y, X = dmatrices(formula, data=final_df)"
   ]
  },
  {
   "cell_type": "code",
   "execution_count": 13,
   "metadata": {},
   "outputs": [],
   "source": [
    "#Prediction values\n",
    "# ypred = logreg.predict(X)\n",
    "# mistakes_df['algorithm'] = ypred"
   ]
  },
  {
   "cell_type": "code",
   "execution_count": 14,
   "metadata": {},
   "outputs": [],
   "source": [
    "interaction_formula = ''' sonnet ~ syllables + (C(s1) + C(s2) + C(s3) + C(s4) + C(s5) + C(s6) + C(s7) + C(s8) + \n",
    "C(s9) + C(s10) + C(s11) + C(s12))**2 + polarity + subjectivity -1'''\n",
    "Yint, Xint = dmatrices(interaction_formula, data=final_df, return_type='dataframe')\n",
    "Xint = (Xint - Xint.mean()) / Xint.std()\n",
    "Xint.dropna(axis=1, inplace=True)"
   ]
  },
  {
   "cell_type": "code",
   "execution_count": 15,
   "metadata": {},
   "outputs": [
    {
     "data": {
      "text/plain": [
       "((3497, 1), (3497, 286))"
      ]
     },
     "execution_count": 15,
     "metadata": {},
     "output_type": "execute_result"
    }
   ],
   "source": [
    "Yint.shape, Xint.shape"
   ]
  },
  {
   "cell_type": "code",
   "execution_count": 16,
   "metadata": {},
   "outputs": [
    {
     "data": {
      "text/plain": [
       "((3497, 1), (3497, 28))"
      ]
     },
     "execution_count": 16,
     "metadata": {},
     "output_type": "execute_result"
    }
   ],
   "source": [
    "Y.shape, X.shape"
   ]
  },
  {
   "cell_type": "code",
   "execution_count": 17,
   "metadata": {},
   "outputs": [
    {
     "data": {
      "text/plain": [
       "array(0.51243923)"
      ]
     },
     "execution_count": 17,
     "metadata": {},
     "output_type": "execute_result"
    }
   ],
   "source": [
    "np.mean(Y)"
   ]
  },
  {
   "cell_type": "markdown",
   "metadata": {},
   "source": [
    "# Inspect Model 1"
   ]
  },
  {
   "cell_type": "markdown",
   "metadata": {},
   "source": [
    "## Summary"
   ]
  },
  {
   "cell_type": "code",
   "execution_count": 18,
   "metadata": {},
   "outputs": [
    {
     "name": "stdout",
     "output_type": "stream",
     "text": [
      "                 Generalized Linear Model Regression Results                  \n",
      "==============================================================================\n",
      "Dep. Variable:                 sonnet   No. Observations:                 3497\n",
      "Model:                            GLM   Df Residuals:                     3469\n",
      "Model Family:                Binomial   Df Model:                           27\n",
      "Link Function:                  logit   Scale:                          1.0000\n",
      "Method:                          IRLS   Log-Likelihood:                -322.65\n",
      "Date:                Sat, 12 Oct 2019   Deviance:                       645.30\n",
      "Time:                        15:12:52   Pearson chi2:                 6.30e+03\n",
      "No. Iterations:                    22                                         \n",
      "Covariance Type:            nonrobust                                         \n",
      "======================================================================================\n",
      "                         coef    std err          z      P>|z|      [0.025      0.975]\n",
      "--------------------------------------------------------------------------------------\n",
      "C(s1)[missing]        29.9743      3.459      8.666      0.000      23.195      36.754\n",
      "C(s1)[stress]         29.5291      3.402      8.679      0.000      22.861      36.198\n",
      "C(s1)[unstress]       32.8035      3.439      9.538      0.000      26.062      39.545\n",
      "C(s2)[T.stress]       -2.2243      0.538     -4.133      0.000      -3.279      -1.170\n",
      "C(s2)[T.unstress]     -2.5230      0.668     -3.778      0.000      -3.832      -1.214\n",
      "C(s3)[T.stress]       -0.9034      0.520     -1.736      0.083      -1.923       0.117\n",
      "C(s3)[T.unstress]      1.5107      0.549      2.752      0.006       0.435       2.587\n",
      "C(s4)[T.stress]       -1.2973      0.528     -2.457      0.014      -2.332      -0.263\n",
      "C(s4)[T.unstress]     -2.9266      0.700     -4.183      0.000      -4.298      -1.555\n",
      "C(s5)[T.stress]       -2.9324      0.517     -5.677      0.000      -3.945      -1.920\n",
      "C(s5)[T.unstress]     -1.3457      0.533     -2.526      0.012      -2.390      -0.301\n",
      "C(s6)[T.stress]       -0.5260      0.509     -1.034      0.301      -1.523       0.471\n",
      "C(s6)[T.unstress]     -0.1216      0.597     -0.204      0.839      -1.291       1.048\n",
      "C(s7)[T.stress]       -1.1924      0.508     -2.347      0.019      -2.188      -0.196\n",
      "C(s7)[T.unstress]      1.0511      0.544      1.932      0.053      -0.015       2.117\n",
      "C(s8)[T.stress]       -0.2917      0.572     -0.510      0.610      -1.414       0.830\n",
      "C(s8)[T.unstress]     -0.1754      0.656     -0.267      0.789      -1.461       1.110\n",
      "C(s9)[T.stress]       -2.3121      0.516     -4.482      0.000      -3.323      -1.301\n",
      "C(s9)[T.unstress]     -1.0450      0.537     -1.946      0.052      -2.098       0.007\n",
      "C(s10)[T.stress]      -1.1656      0.396     -2.947      0.003      -1.941      -0.390\n",
      "C(s10)[T.unstress]     0.4440      0.460      0.966      0.334      -0.457       1.345\n",
      "C(s11)[T.stress]      -5.5140      0.334    -16.492      0.000      -6.169      -4.859\n",
      "C(s11)[T.unstress]    -3.8762      0.381    -10.167      0.000      -4.623      -3.129\n",
      "C(s12)[T.stress]      26.6539   1.26e+04      0.002      0.998   -2.47e+04    2.47e+04\n",
      "C(s12)[T.unstress]    32.2612   3.88e+04      0.001      0.999   -7.61e+04    7.61e+04\n",
      "syllables             -1.6395      0.284     -5.780      0.000      -2.195      -1.084\n",
      "polarity               0.5833      0.391      1.493      0.135      -0.182       1.349\n",
      "subjectivity           0.8168      0.321      2.545      0.011       0.188       1.446\n",
      "======================================================================================\n"
     ]
    }
   ],
   "source": [
    "import statsmodels.formula.api as smf\n",
    "import statsmodels.api as sm\n",
    "\n",
    "model1 = smf.glm(formula = formula, data=final_df, family=sm.families.Binomial())\n",
    "my_model1 = model1.fit()\n",
    "print(my_model1.summary())"
   ]
  },
  {
   "cell_type": "markdown",
   "metadata": {},
   "source": [
    "## step-wise selection"
   ]
  },
  {
   "cell_type": "code",
   "execution_count": 19,
   "metadata": {},
   "outputs": [],
   "source": [
    "def step_wise_forward_selected(data, predictors, response, AIC=True):\n",
    "    \"\"\"Logistic model designed by forward selection.\n",
    "    Parameters:\n",
    "    -----------\n",
    "    data : pandas DataFrame with all possible predictors and response\n",
    "    response: string, name of response column in data\n",
    "    Returns:\n",
    "    --------\n",
    "    model: an \"optimal\" fitted statsmodels linear model\n",
    "           with an intercept\n",
    "           selected by forward selection\n",
    "           evaluated by AIC\n",
    "\n",
    "    inspiration provided by https://planspace.org/20150423-forward_selection_with_statsmodels/\n",
    "    \"\"\"\n",
    "    print(\"remaining = \", predictors)\n",
    "    print(\"response = \", response)\n",
    "    selected = []\n",
    "    current_score, best_new_score = 99999, 99999  # set starting scores high so we get lower score\n",
    "    \n",
    "    while predictors and current_score == best_new_score:\n",
    "#         print(\"new round\")\n",
    "#         print(\"current_score = \", current_score)\n",
    "        scores_with_candidates = []\n",
    "#         print(\"scores with candidates = \", scores_with_candidates)\n",
    "        for candidate in predictors:\n",
    "#             print(\"candidate = \", candidate)\n",
    "            formula = \"{} ~ {} + 1\".format(response,' + '.join(selected + [candidate]))\n",
    "#             print(\"candidate formula = \", formula)\n",
    "            if AIC:\n",
    "                score = smf.glm(formula=formula, data=data, family=sm.families.Binomial()).fit().aic\n",
    "            else:\n",
    "                score = smf.glm(formula=formula, data=data, family=sm.families.Binomial()).fit().bic\n",
    "#             print(\"score = \", score)\n",
    "            scores_with_candidates.append((score, candidate))\n",
    "        scores_with_candidates.sort(reverse=True)\n",
    "#         print(\"scores with candidates = \", scores_with_candidates)\n",
    "        best_new_score, best_candidate = scores_with_candidates.pop()\n",
    "#         print(\"best new score = \", best_new_score)\n",
    "#         print(\"best candidate = \", best_candidate)\n",
    "        if current_score > best_new_score:\n",
    "            predictors.remove(best_candidate)\n",
    "            selected.append(best_candidate)\n",
    "#             print(\"selected = \", selected)\n",
    "            current_score = best_new_score\n",
    "    \n",
    "    formula = \"{} ~ {} + 1\".format(response,' + '.join(selected))\n",
    "    return formula"
   ]
  },
  {
   "cell_type": "markdown",
   "metadata": {},
   "source": [
    "### AIC"
   ]
  },
  {
   "cell_type": "code",
   "execution_count": 20,
   "metadata": {},
   "outputs": [
    {
     "name": "stdout",
     "output_type": "stream",
     "text": [
      "remaining =  ['syllables', 'C(s1)', 'C(s2)', 'C(s3)', 'C(s4)', 'C(s5)', 'C(s6)', 'C(s7)', 'C(s8)', 'C(s9)', 'C(s10)', 'C(s11)', 'C(s12)', 'polarity', 'subjectivity']\n",
      "response =  sonnet\n",
      "sonnet ~ C(s11) + C(s1) + C(s3) + C(s5) + C(s7) + C(s12) + C(s9) + syllables + C(s10) + C(s4) + C(s2) + subjectivity + polarity + 1\n"
     ]
    }
   ],
   "source": [
    "my_pred = [\"syllables\",\"C(s1)\",\"C(s2)\",\"C(s3)\",\"C(s4)\",\"C(s5)\",\"C(s6)\",\"C(s7)\",\"C(s8)\",\"C(s9)\",\"C(s10)\",\"C(s11)\",\"C(s12)\",\"polarity\",\"subjectivity\"]\n",
    "aic_step_formula = step_wise_forward_selected(final_df, my_pred, \"sonnet\", True)\n",
    "print(aic_step_formula)"
   ]
  },
  {
   "cell_type": "code",
   "execution_count": 21,
   "metadata": {},
   "outputs": [],
   "source": [
    "Ya, Xa = dmatrices(aic_step_formula, data=final_df)"
   ]
  },
  {
   "cell_type": "code",
   "execution_count": 22,
   "metadata": {},
   "outputs": [
    {
     "name": "stdout",
     "output_type": "stream",
     "text": [
      "                 Generalized Linear Model Regression Results                  \n",
      "==============================================================================\n",
      "Dep. Variable:                 sonnet   No. Observations:                 3497\n",
      "Model:                            GLM   Df Residuals:                     3473\n",
      "Model Family:                Binomial   Df Model:                           23\n",
      "Link Function:                  logit   Scale:                          1.0000\n",
      "Method:                          IRLS   Log-Likelihood:                -323.85\n",
      "Date:                Sat, 12 Oct 2019   Deviance:                       647.70\n",
      "Time:                        15:13:00   Pearson chi2:                 7.36e+03\n",
      "No. Iterations:                    22                                         \n",
      "Covariance Type:            nonrobust                                         \n",
      "======================================================================================\n",
      "                         coef    std err          z      P>|z|      [0.025      0.975]\n",
      "--------------------------------------------------------------------------------------\n",
      "Intercept             29.1520      3.368      8.655      0.000      22.551      35.754\n",
      "C(s11)[T.stress]      -5.5318      0.333    -16.593      0.000      -6.185      -4.878\n",
      "C(s11)[T.unstress]    -3.9127      0.378    -10.342      0.000      -4.654      -3.171\n",
      "C(s1)[T.stress]       -0.3957      0.559     -0.708      0.479      -1.492       0.701\n",
      "C(s1)[T.unstress]      2.9244      0.624      4.684      0.000       1.701       4.148\n",
      "C(s3)[T.stress]       -0.8357      0.515     -1.622      0.105      -1.846       0.174\n",
      "C(s3)[T.unstress]      1.5765      0.544      2.895      0.004       0.509       2.644\n",
      "C(s5)[T.stress]       -2.9657      0.505     -5.870      0.000      -3.956      -1.975\n",
      "C(s5)[T.unstress]     -1.3981      0.521     -2.681      0.007      -2.420      -0.376\n",
      "C(s7)[T.stress]       -1.3312      0.464     -2.869      0.004      -2.241      -0.422\n",
      "C(s7)[T.unstress]      0.9096      0.497      1.829      0.067      -0.065       1.884\n",
      "C(s12)[T.stress]      26.6922   1.26e+04      0.002      0.998   -2.46e+04    2.47e+04\n",
      "C(s12)[T.unstress]    32.0477   3.89e+04      0.001      0.999   -7.62e+04    7.63e+04\n",
      "C(s9)[T.stress]       -2.3915      0.478     -5.001      0.000      -3.329      -1.454\n",
      "C(s9)[T.unstress]     -1.1331      0.499     -2.270      0.023      -2.112      -0.155\n",
      "C(s10)[T.stress]      -1.1831      0.388     -3.046      0.002      -1.944      -0.422\n",
      "C(s10)[T.unstress]     0.4729      0.455      1.040      0.298      -0.418       1.364\n",
      "C(s4)[T.stress]       -1.2119      0.527     -2.299      0.021      -2.245      -0.179\n",
      "C(s4)[T.unstress]     -2.7920      0.685     -4.078      0.000      -4.134      -1.450\n",
      "C(s2)[T.stress]       -2.3861      0.521     -4.582      0.000      -3.407      -1.365\n",
      "C(s2)[T.unstress]     -2.6088      0.649     -4.020      0.000      -3.881      -1.337\n",
      "syllables             -1.6106      0.278     -5.794      0.000      -2.155      -1.066\n",
      "subjectivity           0.8312      0.321      2.591      0.010       0.202       1.460\n",
      "polarity               0.5511      0.387      1.425      0.154      -0.207       1.309\n",
      "======================================================================================\n"
     ]
    }
   ],
   "source": [
    "modela = smf.glm(formula = aic_step_formula, data=final_df, family=sm.families.Binomial())\n",
    "my_modela = modela.fit()\n",
    "print(my_modela.summary())"
   ]
  },
  {
   "cell_type": "markdown",
   "metadata": {},
   "source": [
    "### BIC"
   ]
  },
  {
   "cell_type": "code",
   "execution_count": 23,
   "metadata": {},
   "outputs": [
    {
     "name": "stdout",
     "output_type": "stream",
     "text": [
      "remaining =  ['syllables', 'C(s1)', 'C(s2)', 'C(s3)', 'C(s4)', 'C(s5)', 'C(s6)', 'C(s7)', 'C(s8)', 'C(s9)', 'C(s10)', 'C(s11)', 'C(s12)', 'polarity', 'subjectivity']\n",
      "response =  sonnet\n",
      "sonnet ~ C(s11) + C(s1) + C(s3) + C(s5) + C(s7) + C(s12) + C(s9) + syllables + C(s10) + C(s4) + C(s2) + 1\n"
     ]
    }
   ],
   "source": [
    "my_pred = [\"syllables\",\"C(s1)\",\"C(s2)\",\"C(s3)\",\"C(s4)\",\"C(s5)\",\"C(s6)\",\"C(s7)\",\"C(s8)\",\"C(s9)\",\"C(s10)\",\"C(s11)\",\"C(s12)\",\"polarity\",\"subjectivity\"]\n",
    "bic_step_formula = step_wise_forward_selected(final_df, my_pred, \"sonnet\", False)\n",
    "print(bic_step_formula)"
   ]
  },
  {
   "cell_type": "code",
   "execution_count": 24,
   "metadata": {},
   "outputs": [],
   "source": [
    "Yb, Xb = dmatrices(bic_step_formula, data=final_df)"
   ]
  },
  {
   "cell_type": "code",
   "execution_count": 25,
   "metadata": {},
   "outputs": [
    {
     "name": "stdout",
     "output_type": "stream",
     "text": [
      "                 Generalized Linear Model Regression Results                  \n",
      "==============================================================================\n",
      "Dep. Variable:                 sonnet   No. Observations:                 3497\n",
      "Model:                            GLM   Df Residuals:                     3475\n",
      "Model Family:                Binomial   Df Model:                           21\n",
      "Link Function:                  logit   Scale:                          1.0000\n",
      "Method:                          IRLS   Log-Likelihood:                -328.72\n",
      "Date:                Sat, 12 Oct 2019   Deviance:                       657.44\n",
      "Time:                        15:13:07   Pearson chi2:                 6.24e+03\n",
      "No. Iterations:                    22                                         \n",
      "Covariance Type:            nonrobust                                         \n",
      "======================================================================================\n",
      "                         coef    std err          z      P>|z|      [0.025      0.975]\n",
      "--------------------------------------------------------------------------------------\n",
      "Intercept             29.8588      3.366      8.870      0.000      23.261      36.456\n",
      "C(s11)[T.stress]      -5.5056      0.328    -16.776      0.000      -6.149      -4.862\n",
      "C(s11)[T.unstress]    -3.9320      0.374    -10.524      0.000      -4.664      -3.200\n",
      "C(s1)[T.stress]       -0.3737      0.541     -0.691      0.489      -1.433       0.686\n",
      "C(s1)[T.unstress]      2.9047      0.605      4.798      0.000       1.718       4.091\n",
      "C(s3)[T.stress]       -1.0069      0.496     -2.029      0.042      -1.980      -0.034\n",
      "C(s3)[T.unstress]      1.3594      0.522      2.605      0.009       0.337       2.382\n",
      "C(s5)[T.stress]       -2.9773      0.500     -5.954      0.000      -3.957      -1.997\n",
      "C(s5)[T.unstress]     -1.3907      0.516     -2.695      0.007      -2.402      -0.379\n",
      "C(s7)[T.stress]       -1.3100      0.459     -2.855      0.004      -2.209      -0.411\n",
      "C(s7)[T.unstress]      0.9401      0.492      1.909      0.056      -0.025       1.905\n",
      "C(s12)[T.stress]      26.6903   1.26e+04      0.002      0.998   -2.47e+04    2.47e+04\n",
      "C(s12)[T.unstress]    32.2323    3.9e+04      0.001      0.999   -7.63e+04    7.64e+04\n",
      "C(s9)[T.stress]       -2.4518      0.473     -5.181      0.000      -3.379      -1.524\n",
      "C(s9)[T.unstress]     -1.2063      0.494     -2.444      0.015      -2.174      -0.239\n",
      "C(s10)[T.stress]      -1.1425      0.381     -3.002      0.003      -1.888      -0.396\n",
      "C(s10)[T.unstress]     0.4824      0.449      1.074      0.283      -0.398       1.362\n",
      "C(s4)[T.stress]       -1.0796      0.513     -2.103      0.035      -2.086      -0.074\n",
      "C(s4)[T.unstress]     -2.7078      0.676     -4.005      0.000      -4.033      -1.383\n",
      "C(s2)[T.stress]       -2.2247      0.511     -4.350      0.000      -3.227      -1.222\n",
      "C(s2)[T.unstress]     -2.4733      0.640     -3.863      0.000      -3.728      -1.218\n",
      "syllables             -1.6609      0.278     -5.985      0.000      -2.205      -1.117\n",
      "======================================================================================\n"
     ]
    }
   ],
   "source": [
    "modelb = smf.glm(formula = bic_step_formula, data=final_df, family=sm.families.Binomial())\n",
    "my_modelb = modelb.fit()\n",
    "print(my_modelb.summary())"
   ]
  },
  {
   "cell_type": "markdown",
   "metadata": {},
   "source": [
    "## Cross Val Scores"
   ]
  },
  {
   "cell_type": "code",
   "execution_count": 26,
   "metadata": {},
   "outputs": [
    {
     "name": "stdout",
     "output_type": "stream",
     "text": [
      "[0.97571429 0.95571429 0.95135908 0.94706724 0.96280401]\n",
      "0.9585317800940117\n"
     ]
    }
   ],
   "source": [
    "scores1 = cross_val_score(logreg, X, np.ravel(Y), cv=5)\n",
    "print(scores1)\n",
    "print(np.mean(scores1))"
   ]
  },
  {
   "cell_type": "code",
   "execution_count": 27,
   "metadata": {},
   "outputs": [
    {
     "name": "stdout",
     "output_type": "stream",
     "text": [
      "[0.97714286 0.95571429 0.95135908 0.94992847 0.9713877 ]\n",
      "0.9611064786429594\n"
     ]
    }
   ],
   "source": [
    "scoresa = cross_val_score(logreg, Xa, np.ravel(Ya), cv=5)\n",
    "print(scoresa)\n",
    "print(np.mean(scoresa))"
   ]
  },
  {
   "cell_type": "code",
   "execution_count": 28,
   "metadata": {},
   "outputs": [
    {
     "name": "stdout",
     "output_type": "stream",
     "text": [
      "[0.97142857 0.95571429 0.94992847 0.94706724 0.96280401]\n",
      "0.9573885142039649\n"
     ]
    }
   ],
   "source": [
    "scoresb = cross_val_score(logreg, Xb, np.ravel(Yb), cv=5)\n",
    "print(scoresb)\n",
    "print(np.mean(scoresb))"
   ]
  },
  {
   "cell_type": "code",
   "execution_count": 30,
   "metadata": {},
   "outputs": [],
   "source": [
    "model_features = ['syllables', 's1', 's2', 's3', 's4', 's5', 's6', 's7', 's8', 's9', 's10', 's11', 's12', 'polarity', 'subjectivity']\n",
    "\n",
    "# zip(model_features, logreg.coef_)\n",
    "\n",
    "# len(model_features), len(logreg.coef_[0])\n",
    "# len(X.design_info.column_names), len(logreg.coef_[0])"
   ]
  },
  {
   "cell_type": "markdown",
   "metadata": {},
   "source": [
    "## Influencial Points"
   ]
  },
  {
   "cell_type": "code",
   "execution_count": 31,
   "metadata": {},
   "outputs": [
    {
     "name": "stdout",
     "output_type": "stream",
     "text": [
      "46\n",
      "242\n",
      "270\n"
     ]
    }
   ],
   "source": [
    "n=3497\n",
    "p_a=15\n",
    "influence_a = my_modela.get_influence()\n",
    "infl_df_a = influence_a.summary_frame()\n",
    "\n",
    "resid_df = infl_df_a.sort_values('standard_resid', ascending=False)\n",
    "resid_df_a = resid_df.loc[abs(resid_df.standard_resid) > 3]\n",
    "print(len(resid_df_a))\n",
    "\n",
    "cook_df = infl_df_a.sort_values('cooks_d', ascending=False)\n",
    "Di = 4/(n-p_a)\n",
    "cook_df_a = cook_df.loc[abs(cook_df.cooks_d) > Di]\n",
    "print(len(cook_df_a))\n",
    "\n",
    "dffit_df = infl_df_a.sort_values('dffits_internal', ascending=False)\n",
    "dff = 2*((p_a+1)/(n-p_a-1))**0.5\n",
    "dffit_df_a = dffit_df.loc[abs(dffit_df.dffits_internal) > dff]\n",
    "print(len(dffit_df_a))"
   ]
  },
  {
   "cell_type": "code",
   "execution_count": 32,
   "metadata": {},
   "outputs": [
    {
     "name": "stdout",
     "output_type": "stream",
     "text": [
      "44\n",
      "243\n",
      "278\n"
     ]
    }
   ],
   "source": [
    "n=3497\n",
    "p_b=12\n",
    "influence_b = my_modelb.get_influence()\n",
    "infl_df_b = influence_b.summary_frame()\n",
    "\n",
    "resid_df = infl_df_b.sort_values('standard_resid', ascending=False)\n",
    "resid_df_b = resid_df.loc[abs(resid_df.standard_resid) > 3]\n",
    "print(len(resid_df_b))\n",
    "\n",
    "cook_df = infl_df_b.sort_values('cooks_d', ascending=False)\n",
    "Di = 4/(n-p_b)\n",
    "cook_df_b = cook_df.loc[abs(cook_df.cooks_d) > Di]\n",
    "print(len(cook_df_b))\n",
    "\n",
    "dffit_df = infl_df_b.sort_values('dffits_internal', ascending=False)\n",
    "dff = 2*((p_b+1)/(n-p_b-1))**0.5\n",
    "dffit_df_b = dffit_df.loc[abs(dffit_df.dffits_internal) > dff]\n",
    "print(len(dffit_df_b))"
   ]
  },
  {
   "cell_type": "markdown",
   "metadata": {},
   "source": [
    "# Predict"
   ]
  },
  {
   "cell_type": "code",
   "execution_count": 34,
   "metadata": {},
   "outputs": [],
   "source": [
    "logreg.fit(X,np.ravel(Y))\n",
    "pp = logreg.predict_proba(X)\n",
    "y_pred_50pct = logreg.predict(X)"
   ]
  },
  {
   "cell_type": "markdown",
   "metadata": {},
   "source": [
    "# ROC curve"
   ]
  },
  {
   "cell_type": "code",
   "execution_count": 35,
   "metadata": {},
   "outputs": [
    {
     "data": {
      "image/png": "[encoded data removed]",
      "text/plain": [
       "<Figure size 792x648 with 1 Axes>"
      ]
     },
     "metadata": {
      "needs_background": "light"
     },
     "output_type": "display_data"
    }
   ],
   "source": [
    "Ytrue = pd.Series(np.ravel(Y))\n",
    "Y_score = logreg.decision_function(X)\n",
    "\n",
    "FPR = dict()\n",
    "TPR = dict()\n",
    "ROC_AUC = dict()\n",
    "\n",
    "# For class 1, find the area under the curve\n",
    "FPR[1], TPR[1], _ = roc_curve(Ytrue, Y_score)\n",
    "ROC_AUC[1] = auc(FPR[1], TPR[1])\n",
    "\n",
    "# Plot of a ROC curve for class 1 (has_cancer)\n",
    "plt.figure(figsize=[11,9])\n",
    "plt.plot(FPR[1], TPR[1], label='ROC curve (area = %0.2f)' % ROC_AUC[1], linewidth=4)\n",
    "plt.plot([0, 1], [0, 1], 'k--', linewidth=4)\n",
    "plt.xlim([0.0, 1.0])\n",
    "plt.ylim([0.0, 1.05])\n",
    "plt.xlabel('False Positive Rate', fontsize=18)\n",
    "plt.ylabel('True Positive Rate', fontsize=18)\n",
    "plt.title('Identifying Iambic Pentameter: Logistic', fontsize=18)\n",
    "plt.legend(loc=\"lower right\")\n",
    "plt.show()"
   ]
  },
  {
   "cell_type": "markdown",
   "metadata": {},
   "source": [
    "# Confusion Matrix"
   ]
  },
  {
   "cell_type": "code",
   "execution_count": 36,
   "metadata": {},
   "outputs": [
    {
     "data": {
      "text/html": [
       "<div>\n",
       "<style scoped>\n",
       "    .dataframe tbody tr th:only-of-type {\n",
       "        vertical-align: middle;\n",
       "    }\n",
       "\n",
       "    .dataframe tbody tr th {\n",
       "        vertical-align: top;\n",
       "    }\n",
       "\n",
       "    .dataframe thead th {\n",
       "        text-align: right;\n",
       "    }\n",
       "</style>\n",
       "<table border=\"1\" class=\"dataframe\">\n",
       "  <thead>\n",
       "    <tr style=\"text-align: right;\">\n",
       "      <th>Predicted</th>\n",
       "      <th>0.0</th>\n",
       "      <th>1.0</th>\n",
       "      <th>All</th>\n",
       "    </tr>\n",
       "    <tr>\n",
       "      <th>True</th>\n",
       "      <th></th>\n",
       "      <th></th>\n",
       "      <th></th>\n",
       "    </tr>\n",
       "  </thead>\n",
       "  <tbody>\n",
       "    <tr>\n",
       "      <th>0.0</th>\n",
       "      <td>1649</td>\n",
       "      <td>56</td>\n",
       "      <td>1705</td>\n",
       "    </tr>\n",
       "    <tr>\n",
       "      <th>1.0</th>\n",
       "      <td>73</td>\n",
       "      <td>1719</td>\n",
       "      <td>1792</td>\n",
       "    </tr>\n",
       "    <tr>\n",
       "      <th>All</th>\n",
       "      <td>1722</td>\n",
       "      <td>1775</td>\n",
       "      <td>3497</td>\n",
       "    </tr>\n",
       "  </tbody>\n",
       "</table>\n",
       "</div>"
      ],
      "text/plain": [
       "Predicted   0.0   1.0   All\n",
       "True                       \n",
       "0.0        1649    56  1705\n",
       "1.0          73  1719  1792\n",
       "All        1722  1775  3497"
      ]
     },
     "execution_count": 36,
     "metadata": {},
     "output_type": "execute_result"
    }
   ],
   "source": [
    "Ytrue = pd.Series(np.ravel(Y))\n",
    "Ypred50 = pd.Series(y_pred_50pct)\n",
    "pd.crosstab(Ytrue, Ypred50, rownames = ['True'], colnames = ['Predicted'], margins = True)"
   ]
  },
  {
   "cell_type": "markdown",
   "metadata": {},
   "source": [
    "# Model Evaluation:"
   ]
  },
  {
   "cell_type": "markdown",
   "metadata": {},
   "source": [
    "### Wald's Test"
   ]
  },
  {
   "cell_type": "code",
   "execution_count": 37,
   "metadata": {},
   "outputs": [
    {
     "name": "stdout",
     "output_type": "stream",
     "text": [
      "C(s1)[missing]         True\n",
      "C(s1)[stress]          True\n",
      "C(s1)[unstress]        True\n",
      "C(s2)[T.stress]        True\n",
      "C(s2)[T.unstress]      True\n",
      "C(s3)[T.stress]       False\n",
      "C(s3)[T.unstress]      True\n",
      "C(s4)[T.stress]        True\n",
      "C(s4)[T.unstress]      True\n",
      "C(s5)[T.stress]        True\n",
      "C(s5)[T.unstress]      True\n",
      "C(s6)[T.stress]       False\n",
      "C(s6)[T.unstress]     False\n",
      "C(s7)[T.stress]        True\n",
      "C(s7)[T.unstress]     False\n",
      "C(s8)[T.stress]       False\n",
      "C(s8)[T.unstress]     False\n",
      "C(s9)[T.stress]        True\n",
      "C(s9)[T.unstress]     False\n",
      "C(s10)[T.stress]       True\n",
      "C(s10)[T.unstress]    False\n",
      "C(s11)[T.stress]       True\n",
      "C(s11)[T.unstress]     True\n",
      "C(s12)[T.stress]      False\n",
      "C(s12)[T.unstress]    False\n",
      "syllables              True\n",
      "polarity              False\n",
      "subjectivity           True\n",
      "dtype: bool\n"
     ]
    }
   ],
   "source": [
    "# Testing for the significance of individual regression coefficients\n",
    "# Assume Ho: Bi=0 vs Ha: Bi!=0\n",
    "\n",
    "print(my_model1.pvalues < 0.025) # Use rejection rule Z_s > Z_a/2"
   ]
  },
  {
   "cell_type": "markdown",
   "metadata": {},
   "source": [
    "From the model1 summary above we can see that our significant predictors are S1, S2, S4, S11, and subjectivity. "
   ]
  },
  {
   "cell_type": "markdown",
   "metadata": {},
   "source": [
    "### Deviance Chi-Squared Test"
   ]
  },
  {
   "cell_type": "code",
   "execution_count": 38,
   "metadata": {},
   "outputs": [
    {
     "name": "stdout",
     "output_type": "stream",
     "text": [
      "Deviance of Full Model: 645.2993417991851\n",
      "Deviance of Reduced Model: 657.4356048772447\n",
      "Delta G-Squared: 12.136263078059642\n",
      "Chi-Squared Value: 33.92443847144379\n"
     ]
    }
   ],
   "source": [
    "# Comparing Reduced vs. Full Model\n",
    "\n",
    "g_full_model = my_model1.deviance     # values from summary tables above\n",
    "g_reduced_model = my_modelb.deviance\n",
    "print(f'Deviance of Full Model: {g_full_model}')\n",
    "print(f'Deviance of Reduced Model: {g_reduced_model}')\n",
    "\n",
    "delta_G_squared = g_reduced_model - g_full_model\n",
    "print(f'Delta G-Squared: {delta_G_squared}')\n",
    "\n",
    "chi_val = chi2.isf(0.05, 22, loc=0, scale=1) # where df=22 is from reduced model\n",
    "print(f'Chi-Squared Value: {chi_val}')"
   ]
  },
  {
   "cell_type": "markdown",
   "metadata": {},
   "source": [
    "Thus, since our delta G-squared value is smaller than our chi-squared value, we fail to reject the null hypothesis in favor of the alternative which is our reduced model."
   ]
  },
  {
   "cell_type": "markdown",
   "metadata": {},
   "source": [
    "### Pseudo-R-Squared"
   ]
  },
  {
   "cell_type": "code",
   "execution_count": 39,
   "metadata": {},
   "outputs": [
    {
     "name": "stdout",
     "output_type": "stream",
     "text": [
      "Optimization terminated successfully.\n",
      "         Current function value: 0.114317\n",
      "         Iterations 9\n",
      "                           Logit Regression Results                           \n",
      "==============================================================================\n",
      "Dep. Variable:                 sonnet   No. Observations:                 3497\n",
      "Model:                          Logit   Df Residuals:                     3481\n",
      "Method:                           MLE   Df Model:                           15\n",
      "Date:                Sat, 12 Oct 2019   Pseudo R-squ.:                  0.8350\n",
      "Time:                        15:18:45   Log-Likelihood:                -399.77\n",
      "converged:                       True   LL-Null:                       -2422.9\n",
      "Covariance Type:            nonrobust   LLR p-value:                     0.000\n",
      "======================================================================================\n",
      "                         coef    std err          z      P>|z|      [0.025      0.975]\n",
      "--------------------------------------------------------------------------------------\n",
      "Intercept             18.6739      2.668      6.999      0.000      13.444      23.904\n",
      "C(s11)[T.stress]      -5.4653      0.301    -18.150      0.000      -6.055      -4.875\n",
      "C(s11)[T.unstress]    -4.0307      0.346    -11.645      0.000      -4.709      -3.352\n",
      "C(s1)[T.stress]       -0.5890      0.472     -1.249      0.212      -1.513       0.335\n",
      "C(s1)[T.unstress]      2.4113      0.535      4.503      0.000       1.362       3.461\n",
      "C(s7)[T.stress]       -1.2464      0.411     -3.034      0.002      -2.052      -0.441\n",
      "C(s7)[T.unstress]      0.8062      0.441      1.828      0.068      -0.058       1.671\n",
      "C(s3)[T.stress]       -1.8775      0.395     -4.752      0.000      -2.652      -1.103\n",
      "C(s3)[T.unstress]      0.2921      0.409      0.714      0.475      -0.510       1.094\n",
      "C(s5)[T.stress]       -3.2895      0.429     -7.676      0.000      -4.129      -2.450\n",
      "C(s5)[T.unstress]     -1.7260      0.436     -3.962      0.000      -2.580      -0.872\n",
      "C(s9)[T.stress]       -2.0096      0.431     -4.658      0.000      -2.855      -1.164\n",
      "C(s9)[T.unstress]     -0.7768      0.454     -1.710      0.087      -1.667       0.114\n",
      "C(s10)[T.stress]      -0.9870      0.343     -2.881      0.004      -1.658      -0.316\n",
      "C(s10)[T.unstress]     0.5969      0.412      1.448      0.148      -0.211       1.405\n",
      "syllables             -0.8434      0.230     -3.674      0.000      -1.293      -0.393\n",
      "======================================================================================\n"
     ]
    },
    {
     "ename": "TypeError",
     "evalue": "'numpy.float64' object is not callable",
     "output_type": "error",
     "traceback": [
      "\u001b[0;31m---------------------------------------------------------------------------\u001b[0m",
      "\u001b[0;31mTypeError\u001b[0m                                 Traceback (most recent call last)",
      "\u001b[0;32m<ipython-input-39-37699ed12295>\u001b[0m in \u001b[0;36m<module>\u001b[0;34m()\u001b[0m\n\u001b[1;32m      9\u001b[0m \u001b[0mprint\u001b[0m\u001b[0;34m(\u001b[0m\u001b[0mresult\u001b[0m\u001b[0;34m.\u001b[0m\u001b[0msummary\u001b[0m\u001b[0;34m(\u001b[0m\u001b[0;34m)\u001b[0m\u001b[0;34m)\u001b[0m\u001b[0;34m\u001b[0m\u001b[0m\n\u001b[1;32m     10\u001b[0m \u001b[0;34m\u001b[0m\u001b[0m\n\u001b[0;32m---> 11\u001b[0;31m \u001b[0mpseudo_r_squared\u001b[0m \u001b[0;34m=\u001b[0m \u001b[0mresult\u001b[0m\u001b[0;34m.\u001b[0m\u001b[0mprsquared\u001b[0m\u001b[0;34m(\u001b[0m\u001b[0;34m)\u001b[0m\u001b[0;34m\u001b[0m\u001b[0m\n\u001b[0m",
      "\u001b[0;31mTypeError\u001b[0m: 'numpy.float64' object is not callable"
     ]
    }
   ],
   "source": [
    "# Goodness-of-Fit\n",
    "import statsmodels.api as sm\n",
    "\n",
    "new_bic = \"sonnet ~ C(s11) + C(s1) + C(s7) + C(s3) + C(s5) + syllables + C(s9) + C(s10) + 1\"\n",
    "Y, X = patsy.dmatrices(new_bic, data=final_df)\n",
    "\n",
    "logit_model=sm.Logit(Y,X)\n",
    "result=logit_model.fit()\n",
    "print(result.summary())\n",
    "\n",
    "pseudo_r_squared = result.prsquared()"
   ]
  },
  {
   "cell_type": "code",
   "execution_count": 40,
   "metadata": {},
   "outputs": [
    {
     "name": "stdout",
     "output_type": "stream",
     "text": [
      "Optimization terminated successfully.\n",
      "         Current function value: 0.106415\n",
      "         Iterations 10\n",
      "                           Logit Regression Results                           \n",
      "==============================================================================\n",
      "Dep. Variable:                 sonnet   No. Observations:                 3497\n",
      "Model:                          Logit   Df Residuals:                     3472\n",
      "Method:                           MLE   Df Model:                           24\n",
      "Date:                Sat, 12 Oct 2019   Pseudo R-squ.:                  0.8464\n",
      "Time:                        15:18:50   Log-Likelihood:                -372.13\n",
      "converged:                       True   LL-Null:                       -2422.9\n",
      "Covariance Type:            nonrobust   LLR p-value:                     0.000\n",
      "======================================================================================\n",
      "                         coef    std err          z      P>|z|      [0.025      0.975]\n",
      "--------------------------------------------------------------------------------------\n",
      "Intercept             19.8955      2.775      7.169      0.000      14.456      25.335\n",
      "C(s11)[T.stress]      -5.6636      0.321    -17.642      0.000      -6.293      -5.034\n",
      "C(s11)[T.unstress]    -4.0382      0.363    -11.127      0.000      -4.750      -3.327\n",
      "C(s1)[T.stress]       -0.2657      0.519     -0.512      0.609      -1.283       0.751\n",
      "C(s1)[T.unstress]      2.7913      0.586      4.764      0.000       1.643       3.940\n",
      "C(s7)[T.stress]       -1.0614      0.461     -2.305      0.021      -1.964      -0.159\n",
      "C(s7)[T.unstress]      1.0886      0.497      2.190      0.029       0.114       2.063\n",
      "C(s3)[T.stress]       -0.6815      0.495     -1.376      0.169      -1.652       0.289\n",
      "C(s3)[T.unstress]      1.6288      0.523      3.114      0.002       0.604       2.654\n",
      "C(s5)[T.stress]       -2.8308      0.480     -5.900      0.000      -3.771      -1.890\n",
      "C(s5)[T.unstress]     -1.2761      0.496     -2.573      0.010      -2.248      -0.304\n",
      "C(s9)[T.stress]       -1.7868      0.485     -3.682      0.000      -2.738      -0.836\n",
      "C(s9)[T.unstress]     -0.5829      0.511     -1.141      0.254      -1.585       0.419\n",
      "C(s10)[T.stress]      -1.1143      0.362     -3.081      0.002      -1.823      -0.406\n",
      "C(s10)[T.unstress]     0.5045      0.425      1.187      0.235      -0.329       1.338\n",
      "C(s2)[T.stress]       -2.1025      0.511     -4.118      0.000      -3.103      -1.102\n",
      "C(s2)[T.unstress]     -2.0385      0.617     -3.306      0.001      -3.247      -0.830\n",
      "C(s4)[T.stress]       -1.2660      0.489     -2.590      0.010      -2.224      -0.308\n",
      "C(s4)[T.unstress]     -2.5002      0.618     -4.044      0.000      -3.712      -1.288\n",
      "C(s8)[T.stress]       -0.4421      0.523     -0.846      0.398      -1.466       0.582\n",
      "C(s8)[T.unstress]     -0.6106      0.600     -1.017      0.309      -1.787       0.566\n",
      "C(s6)[T.stress]       -0.7559      0.473     -1.600      0.110      -1.682       0.170\n",
      "C(s6)[T.unstress]     -0.4801      0.559     -0.859      0.390      -1.575       0.615\n",
      "syllables             -0.7664      0.232     -3.303      0.001      -1.221      -0.312\n",
      "subjectivity           0.9540      0.296      3.222      0.001       0.374       1.534\n",
      "======================================================================================\n"
     ]
    },
    {
     "ename": "TypeError",
     "evalue": "'numpy.float64' object is not callable",
     "output_type": "error",
     "traceback": [
      "\u001b[0;31m---------------------------------------------------------------------------\u001b[0m",
      "\u001b[0;31mTypeError\u001b[0m                                 Traceback (most recent call last)",
      "\u001b[0;32m<ipython-input-40-9e26bb8a1d0a>\u001b[0m in \u001b[0;36m<module>\u001b[0;34m()\u001b[0m\n\u001b[1;32m      7\u001b[0m \u001b[0mprint\u001b[0m\u001b[0;34m(\u001b[0m\u001b[0mresult\u001b[0m\u001b[0;34m.\u001b[0m\u001b[0msummary\u001b[0m\u001b[0;34m(\u001b[0m\u001b[0;34m)\u001b[0m\u001b[0;34m)\u001b[0m\u001b[0;34m\u001b[0m\u001b[0m\n\u001b[1;32m      8\u001b[0m \u001b[0;34m\u001b[0m\u001b[0m\n\u001b[0;32m----> 9\u001b[0;31m \u001b[0mpseudo_r_squared\u001b[0m \u001b[0;34m=\u001b[0m \u001b[0mresult\u001b[0m\u001b[0;34m.\u001b[0m\u001b[0mprsquared\u001b[0m\u001b[0;34m(\u001b[0m\u001b[0;34m)\u001b[0m\u001b[0;34m\u001b[0m\u001b[0m\n\u001b[0m",
      "\u001b[0;31mTypeError\u001b[0m: 'numpy.float64' object is not callable"
     ]
    }
   ],
   "source": [
    "new_aic = \"sonnet ~ C(s11) + C(s1) + C(s7) + C(s3) + C(s5) + C(s9) + syllables + C(s10) + C(s2) + subjectivity + C(s4) + C(s8) + C(s6) + 1\"\n",
    "\n",
    "Y, X = patsy.dmatrices(new_aic, data=final_df)\n",
    "\n",
    "logit_model=sm.Logit(Y,X)\n",
    "result=logit_model.fit()\n",
    "print(result.summary())\n",
    "\n",
    "pseudo_r_squared = result.prsquared()"
   ]
  },
  {
   "cell_type": "markdown",
   "metadata": {},
   "source": [
    "## Multicolinearity"
   ]
  },
  {
   "cell_type": "code",
   "execution_count": 41,
   "metadata": {},
   "outputs": [],
   "source": [
    "from statsmodels.stats.outliers_influence import variance_inflation_factor\n",
    "\n",
    "vif = pd.DataFrame()\n",
    "vif[\"VIF Factor\"] = [variance_inflation_factor(X, i) for i in range(X.shape[1])]\n",
    "vif[\"coefficients\"] = result.params\n",
    "vif[\"features\"] = [\"Intercept\",\"C(s11)[T.stress]\",\"C(s11)[T.unstress]\",\"C(s1)[T.stress]\",\"C(s1)[T.unstress]\",\"C(s7)[T.stress]\",\n",
    "                    \"C(s7)[T.unstress]\",\"C(s3)[T.stress]\",\"C(s3)[T.unstress]\",\"C(s5)[T.stress]\",\"C(s5)[T.unstress]\",\"C(s9)[T.stress]\",\n",
    "                    \"C(s9)[T.unstress]\",\"C(s10)[T.stress]\",\"C(s10)[T.unstress]\",\"C(s2)[T.stress]\",\"C(s2)[T.unstress]\",\"C(s4)[T.stress]\",\n",
    "                    \"C(s4)[T.unstress]\",\"C(s8)[T.stress]\",\"C(s8)[T.unstress]\",\"C(s6)[T.stress]\",\"C(s6)[T.unstress]\",\"syllables\",\"subjectivity\"]"
   ]
  },
  {
   "cell_type": "code",
   "execution_count": 42,
   "metadata": {},
   "outputs": [
    {
     "name": "stdout",
     "output_type": "stream",
     "text": [
      "    VIF Factor  coefficients            features\n",
      "0   382.751999     19.895532           Intercept\n",
      "1     2.990072     -5.663567    C(s11)[T.stress]\n",
      "2     1.545313     -4.038240  C(s11)[T.unstress]\n",
      "3     5.843346     -0.265656     C(s1)[T.stress]\n",
      "4     6.131800      2.791288   C(s1)[T.unstress]\n",
      "5     5.851810     -1.061373     C(s7)[T.stress]\n",
      "6     5.827488      1.088606   C(s7)[T.unstress]\n",
      "7     7.787509     -0.681515     C(s3)[T.stress]\n",
      "8     7.748618      1.628768   C(s3)[T.unstress]\n",
      "9     7.561388     -2.830825     C(s5)[T.stress]\n",
      "10    7.595994     -1.276078   C(s5)[T.unstress]\n",
      "11    4.467312     -1.786815     C(s9)[T.stress]\n",
      "12    4.600663     -0.582874   C(s9)[T.unstress]\n",
      "13    2.231064     -1.114312    C(s10)[T.stress]\n",
      "14    1.868308      0.504495  C(s10)[T.unstress]\n",
      "15    3.285858     -2.102535     C(s2)[T.stress]\n",
      "16    3.089458     -2.038476   C(s2)[T.unstress]\n",
      "17    3.763259     -1.266049     C(s4)[T.stress]\n",
      "18    3.622923     -2.500231   C(s4)[T.unstress]\n",
      "19    3.162870     -0.442105     C(s8)[T.stress]\n",
      "20    2.872325     -0.610625   C(s8)[T.unstress]\n",
      "21    3.074897     -0.755873     C(s6)[T.stress]\n",
      "22    2.916718     -0.480055   C(s6)[T.unstress]\n",
      "23    2.207021     -0.766436           syllables\n",
      "24    1.022069      0.954015        subjectivity\n"
     ]
    }
   ],
   "source": [
    "print(vif)"
   ]
  },
  {
   "cell_type": "code",
   "execution_count": null,
   "metadata": {},
   "outputs": [],
   "source": []
  }
 ],
 "metadata": {
  "kernelspec": {
   "display_name": "Python 3",
   "language": "python",
   "name": "python3"
  },
  "language_info": {
   "codemirror_mode": {
    "name": "ipython",
    "version": 3
   },
   "file_extension": ".py",
   "mimetype": "text/x-python",
   "name": "python",
   "nbconvert_exporter": "python",
   "pygments_lexer": "ipython3",
   "version": "3.7.0"
  }
 },
 "nbformat": 4,
 "nbformat_minor": 2
}
